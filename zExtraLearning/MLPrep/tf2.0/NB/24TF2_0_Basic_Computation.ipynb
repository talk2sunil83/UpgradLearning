{
  "nbformat": 4,
  "nbformat_minor": 0,
  "metadata": {
    "colab": {
      "name": "TF2.0 Basic Computation.ipynb",
      "provenance": [],
      "collapsed_sections": []
    },
    "kernelspec": {
      "name": "python3",
      "display_name": "Python 3"
    },
    "accelerator": "GPU"
  },
  "cells": [
    {
      "cell_type": "code",
      "metadata": {
        "id": "ybu7vVRZUSCf",
        "outputId": "46be1272-2fb0-4d61-b0f4-1eae7e62ca7b",
        "colab": {
          "base_uri": "https://localhost:8080/",
          "height": 119
        }
      },
      "source": [
        "import tensorflow as tf\n",
        "print(tf.__version__)"
      ],
      "execution_count": null,
      "outputs": [
        {
          "output_type": "stream",
          "text": [
            "`%tensorflow_version` only switches the major version: 1.x or 2.x.\n",
            "You set: `2.x  # Colab only.`. This will be interpreted as: `2.x`.\n",
            "\n",
            "\n",
            "TensorFlow 2.x selected.\n",
            "2.2.0-rc2\n"
          ],
          "name": "stdout"
        }
      ]
    },
    {
      "cell_type": "code",
      "metadata": {
        "id": "rFzIU7_AUXUC",
        "outputId": "c94b774c-6956-4ef5-9ff0-8a4073ff9aac",
        "colab": {
          "base_uri": "https://localhost:8080/",
          "height": 51
        }
      },
      "source": [
        "a = tf.constant(3.0)\n",
        "b = tf.constant(4.0)\n",
        "c = tf.sqrt(a**2 + b**2)\n",
        "print(\"c:\", c)\n",
        "\n",
        "# if you use Python 3 f-strings it will print\n",
        "# the tensor as a float\n",
        "print(f\"c: {c}\") "
      ],
      "execution_count": null,
      "outputs": [
        {
          "output_type": "stream",
          "text": [
            "c: tf.Tensor(5.0, shape=(), dtype=float32)\n",
            "c: 5.0\n"
          ],
          "name": "stdout"
        }
      ]
    },
    {
      "cell_type": "code",
      "metadata": {
        "id": "4bBRby9DNNa7",
        "outputId": "0c61359b-7851-44bb-ef44-e460c57ba776",
        "colab": {
          "base_uri": "https://localhost:8080/",
          "height": 34
        }
      },
      "source": [
        "# Get the Numpy version of a Tensor\n",
        "c.numpy()"
      ],
      "execution_count": null,
      "outputs": [
        {
          "output_type": "execute_result",
          "data": {
            "text/plain": [
              "5.0"
            ]
          },
          "metadata": {
            "tags": []
          },
          "execution_count": 8
        }
      ]
    },
    {
      "cell_type": "code",
      "metadata": {
        "id": "K785ssSq-BS1",
        "outputId": "bc2156c6-721b-4a8e-9b5e-e876dfc5d93d",
        "colab": {
          "base_uri": "https://localhost:8080/",
          "height": 34
        }
      },
      "source": [
        "type(c.numpy())"
      ],
      "execution_count": null,
      "outputs": [
        {
          "output_type": "execute_result",
          "data": {
            "text/plain": [
              "numpy.float32"
            ]
          },
          "metadata": {
            "tags": []
          },
          "execution_count": 9
        }
      ]
    },
    {
      "cell_type": "code",
      "metadata": {
        "id": "748FGZXLVbVs",
        "outputId": "be7c3a81-78cb-4919-916b-cb83c9c5578f",
        "colab": {
          "base_uri": "https://localhost:8080/",
          "height": 51
        }
      },
      "source": [
        "a = tf.constant([1, 2, 3])\n",
        "b = tf.constant([4, 5, 6])\n",
        "print(f\"b: {b}\")\n",
        "c = tf.tensordot(a, b, axes=[0,0])\n",
        "print(f\"c: {c}\")"
      ],
      "execution_count": null,
      "outputs": [
        {
          "output_type": "stream",
          "text": [
            "b: [4 5 6]\n",
            "c: 32\n"
          ],
          "name": "stdout"
        }
      ]
    },
    {
      "cell_type": "code",
      "metadata": {
        "id": "9HODyoDw8u0Z"
      },
      "source": [
        "a.numpy().dot(b.numpy())"
      ],
      "execution_count": null,
      "outputs": []
    },
    {
      "cell_type": "code",
      "metadata": {
        "id": "6-zVUa5GXfpK",
        "outputId": "32f78100-9ef0-4071-d791-e6c4c486d419",
        "colab": {
          "base_uri": "https://localhost:8080/",
          "height": 119
        }
      },
      "source": [
        "import numpy as np\n",
        "A0 = np.random.randn(3, 3)\n",
        "b0 = np.random.randn(3, 1)\n",
        "c0 = A0.dot(b0)\n",
        "print(f\"c0: {c0}\")\n",
        "\n",
        "A = tf.constant(A0)\n",
        "b = tf.constant(b0)\n",
        "c = tf.matmul(A, b)\n",
        "print(f\"c: {c}\")"
      ],
      "execution_count": null,
      "outputs": [
        {
          "output_type": "stream",
          "text": [
            "c0: [[ 1.13966116]\n",
            " [-0.31443995]\n",
            " [-0.78649886]]\n",
            "c: [[ 1.13966116]\n",
            " [-0.31443995]\n",
            " [-0.78649886]]\n"
          ],
          "name": "stdout"
        }
      ]
    },
    {
      "cell_type": "code",
      "metadata": {
        "id": "FMYYAXiSNmQY",
        "outputId": "dd9a31e3-1dce-4e7c-d99d-c134101f0f1d",
        "colab": {
          "base_uri": "https://localhost:8080/",
          "height": 51
        }
      },
      "source": [
        "# Broadcasting\n",
        "A = tf.constant([[1,2],[3,4]])\n",
        "b = tf.constant(1)\n",
        "C = A + b\n",
        "print(f\"C: {C}\")"
      ],
      "execution_count": null,
      "outputs": [
        {
          "output_type": "stream",
          "text": [
            "C: [[2 3]\n",
            " [4 5]]\n"
          ],
          "name": "stdout"
        }
      ]
    },
    {
      "cell_type": "code",
      "metadata": {
        "id": "He4AoIkySocu",
        "outputId": "0e9ac5b7-33de-487b-be2e-de673c8a0671",
        "colab": {
          "base_uri": "https://localhost:8080/",
          "height": 51
        }
      },
      "source": [
        "# Element-wise multiplication\n",
        "A = tf.constant([[1,2],[3,4]])\n",
        "B = tf.constant([[2,3],[4,5]])\n",
        "C = A * B\n",
        "print(f\"C: {C}\")"
      ],
      "execution_count": null,
      "outputs": [
        {
          "output_type": "stream",
          "text": [
            "C: [[ 2  6]\n",
            " [12 20]]\n"
          ],
          "name": "stdout"
        }
      ]
    }
  ]
}