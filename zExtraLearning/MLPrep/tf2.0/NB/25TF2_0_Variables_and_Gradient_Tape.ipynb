{
  "nbformat": 4,
  "nbformat_minor": 0,
  "metadata": {
    "colab": {
      "name": "TF2.0 Variables and Gradient Tape.ipynb",
      "provenance": []
    },
    "kernelspec": {
      "name": "python3",
      "display_name": "Python 3"
    }
  },
  "cells": [
    {
      "cell_type": "markdown",
      "metadata": {
        "id": "MOaH6G7DaFo5"
      },
      "source": [
        "# Tensorflow 2.0 Variables\n",
        "\n",
        "This notebook will teach you about variables and how to build a basic computation graph.\n",
        "\n",
        "We will perform gradient descent manually to optimize a simple function.\n",
        "\n",
        "If you're familiar with Tensorflow 1.x, you will find this useful as an example to demonstrate how we can do the same operations, but without sessions, initializers, etc."
      ]
    },
    {
      "cell_type": "code",
      "metadata": {
        "id": "gKeDt4VDaBgf",
        "outputId": "acb25b96-d838-4f25-945a-9df8a70dc35e",
        "colab": {
          "base_uri": "https://localhost:8080/",
          "height": 119
        }
      },
      "source": [
        "import tensorflow as tf\n",
        "print(tf.__version__)"
      ],
      "execution_count": null,
      "outputs": [
        {
          "output_type": "stream",
          "text": [
            "`%tensorflow_version` only switches the major version: `1.x` or `2.x`.\n",
            "You set: `2.x  # Colab only.`. This will be interpreted as: `2.x`.\n",
            "\n",
            "\n",
            "TensorFlow 2.x selected.\n",
            "2.0.0-beta1\n"
          ],
          "name": "stdout"
        }
      ]
    },
    {
      "cell_type": "code",
      "metadata": {
        "id": "ldCtMHqAacLv",
        "outputId": "a32c315a-b2bd-43d4-a9d5-1632919b285d",
        "colab": {
          "base_uri": "https://localhost:8080/",
          "height": 181
        }
      },
      "source": [
        "# First, what is the difference between mutable and immutable?\n",
        "\n",
        "# A tuple is immutable\n",
        "# This should result in an error\n",
        "a = (1,2,3)\n",
        "a[0] = 5"
      ],
      "execution_count": null,
      "outputs": [
        {
          "output_type": "error",
          "ename": "TypeError",
          "evalue": "ignored",
          "traceback": [
            "\u001b[0;31m---------------------------------------------------------------------------\u001b[0m",
            "\u001b[0;31mTypeError\u001b[0m                                 Traceback (most recent call last)",
            "\u001b[0;32m<ipython-input-2-0e96911569be>\u001b[0m in \u001b[0;36m<module>\u001b[0;34m()\u001b[0m\n\u001b[1;32m      1\u001b[0m \u001b[0ma\u001b[0m \u001b[0;34m=\u001b[0m \u001b[0;34m(\u001b[0m\u001b[0;36m1\u001b[0m\u001b[0;34m,\u001b[0m\u001b[0;36m2\u001b[0m\u001b[0;34m,\u001b[0m\u001b[0;36m3\u001b[0m\u001b[0;34m)\u001b[0m\u001b[0;34m\u001b[0m\u001b[0;34m\u001b[0m\u001b[0m\n\u001b[0;32m----> 2\u001b[0;31m \u001b[0ma\u001b[0m\u001b[0;34m[\u001b[0m\u001b[0;36m0\u001b[0m\u001b[0;34m]\u001b[0m \u001b[0;34m=\u001b[0m \u001b[0;36m5\u001b[0m\u001b[0;34m\u001b[0m\u001b[0;34m\u001b[0m\u001b[0m\n\u001b[0m",
            "\u001b[0;31mTypeError\u001b[0m: 'tuple' object does not support item assignment"
          ]
        }
      ]
    },
    {
      "cell_type": "code",
      "metadata": {
        "id": "A1MsOufHbwX2",
        "outputId": "86644c8f-4f81-42c8-bbb1-9ebc4044819d",
        "colab": {
          "base_uri": "https://localhost:8080/",
          "height": 34
        }
      },
      "source": [
        "# A list is mutable\n",
        "a = [1,2,3]\n",
        "a[0] = 5\n",
        "print(a)"
      ],
      "execution_count": null,
      "outputs": [
        {
          "output_type": "stream",
          "text": [
            "[5, 2, 3]\n"
          ],
          "name": "stdout"
        }
      ]
    },
    {
      "cell_type": "code",
      "metadata": {
        "id": "bXKpscE2el_G",
        "outputId": "e61d3b08-834a-4f51-d71d-3951b134ae16",
        "colab": {
          "base_uri": "https://localhost:8080/",
          "height": 34
        }
      },
      "source": [
        "# Now Tensorflow variables\n",
        "a = tf.Variable(5.)\n",
        "b = tf.Variable(3.)\n",
        "print(a * b)\n",
        "\n",
        "# Eager execution! No need for session.run() or variable initializer"
      ],
      "execution_count": null,
      "outputs": [
        {
          "output_type": "stream",
          "text": [
            "tf.Tensor(15.0, shape=(), dtype=float32)\n"
          ],
          "name": "stdout"
        }
      ]
    },
    {
      "cell_type": "code",
      "metadata": {
        "id": "cGQMA3UsIQtd",
        "outputId": "fdbce4d6-57c5-4397-9573-268f0b0c88c0",
        "colab": {
          "base_uri": "https://localhost:8080/",
          "height": 34
        }
      },
      "source": [
        "# Because it's a variable, it can be updated\n",
        "a = a + 1\n",
        "print(a)"
      ],
      "execution_count": null,
      "outputs": [
        {
          "output_type": "stream",
          "text": [
            "tf.Tensor(6.0, shape=(), dtype=float32)\n"
          ],
          "name": "stdout"
        }
      ]
    },
    {
      "cell_type": "code",
      "metadata": {
        "id": "KzmBNHdjhSkw",
        "outputId": "b82242f1-d693-45ca-fcb6-f2006e44c177",
        "colab": {
          "base_uri": "https://localhost:8080/",
          "height": 34
        }
      },
      "source": [
        "# Variables and constants\n",
        "c = tf.constant(4.)\n",
        "print(a * b + c)"
      ],
      "execution_count": null,
      "outputs": [
        {
          "output_type": "stream",
          "text": [
            "tf.Tensor(22.0, shape=(), dtype=float32)\n"
          ],
          "name": "stdout"
        }
      ]
    },
    {
      "cell_type": "code",
      "metadata": {
        "id": "h2HSuSIYe-be",
        "outputId": "00fdf492-7dda-4b6f-d756-0f1dca2503c1",
        "colab": {
          "base_uri": "https://localhost:8080/",
          "height": 105
        }
      },
      "source": [
        "# Let's demonstrate a simple optimization problem\n",
        "# L(w) = w**2\n",
        "\n",
        "w = tf.Variable(5.)\n",
        "\n",
        "# Now, let us define a loss function\n",
        "def get_loss(w):\n",
        "  return w ** 2\n",
        "\n",
        "# Use \"gradient tape\" to record the gradients\n",
        "def get_grad(w):\n",
        "  with tf.GradientTape() as tape:\n",
        "    L = get_loss(w)\n",
        "\n",
        "  # Get the gradient\n",
        "  g = tape.gradient(L, w)\n",
        "  return g\n",
        "  \n",
        "\n",
        "# Define an optimizer\n",
        "optimizer = tf.keras.optimizers.SGD(learning_rate=0.1)\n",
        "\n",
        "\n",
        "# Store the losses\n",
        "losses = []\n",
        "\n",
        "# Perform gradient descent\n",
        "for i in range(50):\n",
        "  g = get_grad(w)\n",
        "  optimizer.apply_gradients(zip([g], [w]))\n",
        "  losses.append(get_loss(w))\n"
      ],
      "execution_count": null,
      "outputs": [
        {
          "output_type": "stream",
          "text": [
            "WARNING: Logging before flag parsing goes to stderr.\n",
            "W0812 20:20:03.417810 140436135712640 deprecation.py:323] From /tensorflow-2.0.0b1/python3.6/tensorflow/python/ops/math_grad.py:1205: add_dispatch_support.<locals>.wrapper (from tensorflow.python.ops.array_ops) is deprecated and will be removed in a future version.\n",
            "Instructions for updating:\n",
            "Use tf.where in 2.0, which has the same broadcast rule as np.where\n"
          ],
          "name": "stderr"
        }
      ]
    },
    {
      "cell_type": "code",
      "metadata": {
        "id": "lpVANuzVgaFc",
        "outputId": "3ab02527-9bd2-427f-8478-0ac7e412bfaf",
        "colab": {
          "base_uri": "https://localhost:8080/",
          "height": 286
        }
      },
      "source": [
        "import matplotlib.pyplot as plt\n",
        "plt.plot(losses)\n",
        "print(f\"Final loss: {get_loss(w)}\")"
      ],
      "execution_count": null,
      "outputs": [
        {
          "output_type": "stream",
          "text": [
            "Final loss: 5.0925916816879635e-09\n"
          ],
          "name": "stdout"
        },
        {
          "output_type": "display_data",
          "data": {
            "image/png": "[encoded data removed]",
            "text/plain": [
              "<Figure size 432x288 with 1 Axes>"
            ]
          },
          "metadata": {
            "tags": []
          }
        }
      ]
    },
    {
      "cell_type": "code",
      "metadata": {
        "id": "kl0Qquh2Htqe"
      },
      "source": [
        "# Let's do the same thing again, but manually\n",
        "\n",
        "w = tf.Variable(5.)\n",
        "\n",
        "# Store the losses\n",
        "losses2 = []\n",
        "\n",
        "# Perform gradient descent\n",
        "for i in range(50):\n",
        "  # This is doing: w = w - 0.1 * 2 * w\n",
        "  # But we don't want to create a new Tensor\n",
        "  w.assign(w - 0.1 * 2 * w)\n",
        "  losses2.append(w ** 2)"
      ],
      "execution_count": null,
      "outputs": []
    },
    {
      "cell_type": "code",
      "metadata": {
        "id": "-UvdPe0kIDVb",
        "outputId": "624add3b-33fa-4473-e053-961a67f914f8",
        "colab": {
          "base_uri": "https://localhost:8080/",
          "height": 286
        }
      },
      "source": [
        "plt.plot(losses, label=\"losses tf\")\n",
        "plt.plot(losses2, label=\"losses manual\")\n",
        "plt.legend()"
      ],
      "execution_count": null,
      "outputs": [
        {
          "output_type": "execute_result",
          "data": {
            "text/plain": [
              "<matplotlib.legend.Legend at 0x7fb994fd99e8>"
            ]
          },
          "metadata": {
            "tags": []
          },
          "execution_count": 10
        },
        {
          "output_type": "display_data",
          "data": {
            "image/png": "[encoded data removed]",
            "text/plain": [
              "<Figure size 432x288 with 1 Axes>"
            ]
          },
          "metadata": {
            "tags": []
          }
        }
      ]
    }
  ]
}