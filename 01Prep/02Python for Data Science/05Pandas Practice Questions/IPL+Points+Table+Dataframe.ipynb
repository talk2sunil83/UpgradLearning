{
 "cells": [
  {
   "cell_type": "code",
   "execution_count": 35,
   "metadata": {},
   "outputs": [],
   "source": [
    "import numpy as np\n",
    "import pandas as pd"
   ]
  },
  {
   "cell_type": "code",
   "execution_count": 36,
   "metadata": {},
   "outputs": [
    {
     "output_type": "execute_result",
     "data": {
      "text/plain": "   Team  Matches  Won  Lost  Tied  N/R  Points    NRR   For  Against\n1   SRH       14    9     5     0    0      18  0.284  2230     2193\n2   CSK       14    9     5     0    0      18  0.253  2488     2433\n3   KKR       14    8     6     0    0      16 -0.070  2363     2425\n4    RR       14    7     7     0    0      14 -0.250  2130     2141\n5    MI       14    6     8     0    0      12  0.317  2380     2282\n6   RCB       14    6     8     0    0      12  0.129  2322     2383\n7  KXIP       14    6     8     0    0      12 -0.502  2210     2259\n8    DD       14    5     9     0    0      10 -0.222  2297     2304",
      "text/html": "<div>\n<style scoped>\n    .dataframe tbody tr th:only-of-type {\n        vertical-align: middle;\n    }\n\n    .dataframe tbody tr th {\n        vertical-align: top;\n    }\n\n    .dataframe thead th {\n        text-align: right;\n    }\n</style>\n<table border=\"1\" class=\"dataframe\">\n  <thead>\n    <tr style=\"text-align: right;\">\n      <th></th>\n      <th>Team</th>\n      <th>Matches</th>\n      <th>Won</th>\n      <th>Lost</th>\n      <th>Tied</th>\n      <th>N/R</th>\n      <th>Points</th>\n      <th>NRR</th>\n      <th>For</th>\n      <th>Against</th>\n    </tr>\n  </thead>\n  <tbody>\n    <tr>\n      <th>1</th>\n      <td>SRH</td>\n      <td>14</td>\n      <td>9</td>\n      <td>5</td>\n      <td>0</td>\n      <td>0</td>\n      <td>18</td>\n      <td>0.284</td>\n      <td>2230</td>\n      <td>2193</td>\n    </tr>\n    <tr>\n      <th>2</th>\n      <td>CSK</td>\n      <td>14</td>\n      <td>9</td>\n      <td>5</td>\n      <td>0</td>\n      <td>0</td>\n      <td>18</td>\n      <td>0.253</td>\n      <td>2488</td>\n      <td>2433</td>\n    </tr>\n    <tr>\n      <th>3</th>\n      <td>KKR</td>\n      <td>14</td>\n      <td>8</td>\n      <td>6</td>\n      <td>0</td>\n      <td>0</td>\n      <td>16</td>\n      <td>-0.070</td>\n      <td>2363</td>\n      <td>2425</td>\n    </tr>\n    <tr>\n      <th>4</th>\n      <td>RR</td>\n      <td>14</td>\n      <td>7</td>\n      <td>7</td>\n      <td>0</td>\n      <td>0</td>\n      <td>14</td>\n      <td>-0.250</td>\n      <td>2130</td>\n      <td>2141</td>\n    </tr>\n    <tr>\n      <th>5</th>\n      <td>MI</td>\n      <td>14</td>\n      <td>6</td>\n      <td>8</td>\n      <td>0</td>\n      <td>0</td>\n      <td>12</td>\n      <td>0.317</td>\n      <td>2380</td>\n      <td>2282</td>\n    </tr>\n    <tr>\n      <th>6</th>\n      <td>RCB</td>\n      <td>14</td>\n      <td>6</td>\n      <td>8</td>\n      <td>0</td>\n      <td>0</td>\n      <td>12</td>\n      <td>0.129</td>\n      <td>2322</td>\n      <td>2383</td>\n    </tr>\n    <tr>\n      <th>7</th>\n      <td>KXIP</td>\n      <td>14</td>\n      <td>6</td>\n      <td>8</td>\n      <td>0</td>\n      <td>0</td>\n      <td>12</td>\n      <td>-0.502</td>\n      <td>2210</td>\n      <td>2259</td>\n    </tr>\n    <tr>\n      <th>8</th>\n      <td>DD</td>\n      <td>14</td>\n      <td>5</td>\n      <td>9</td>\n      <td>0</td>\n      <td>0</td>\n      <td>10</td>\n      <td>-0.222</td>\n      <td>2297</td>\n      <td>2304</td>\n    </tr>\n  </tbody>\n</table>\n</div>"
     },
     "metadata": {},
     "execution_count": 36
    }
   ],
   "source": [
    "ipl18 = pd.DataFrame({'Team': ['SRH', 'CSK', 'KKR', 'RR', 'MI', 'RCB', 'KXIP', 'DD'],\n",
    "                         'Matches': [14, 14, 14, 14, 14, 14, 14, 14],\n",
    "                         'Won': [9, 9, 8, 7, 6, 6, 6, 5],\n",
    "                         'Lost': [5, 5, 6, 7, 8, 8, 8, 9],\n",
    "                         'Tied': [0, 0, 0, 0, 0, 0, 0, 0],\n",
    "                         'N/R': [0, 0, 0, 0, 0, 0, 0, 0],\n",
    "                         'Points': [18, 18, 16, 14, 12, 12, 12, 10],\n",
    "                         'NRR': [0.284, 0.253, -0.070, -0.250, 0.317, 0.129, -0.502, -0.222],\n",
    "                         'For': [2230, 2488, 2363, 2130, 2380, 2322, 2210, 2297],\n",
    "                         'Against': [2193, 2433, 2425, 2141, 2282, 2383, 2259, 2304]},\n",
    "                         index = range(1,9)\n",
    "                    )\n",
    "\n",
    "ipl18"
   ]
  },
  {
   "cell_type": "code",
   "execution_count": 37,
   "metadata": {},
   "outputs": [
    {
     "output_type": "execute_result",
     "data": {
      "text/plain": "  Team  Matches  Won  Lost  Tied  N/R  Points    NRR   For  Against\n1  SRH       14    9     5     0    0      18  0.284  2230     2193\n2  CSK       14    9     5     0    0      18  0.253  2488     2433\n5   MI       14    6     8     0    0      12  0.317  2380     2282",
      "text/html": "<div>\n<style scoped>\n    .dataframe tbody tr th:only-of-type {\n        vertical-align: middle;\n    }\n\n    .dataframe tbody tr th {\n        vertical-align: top;\n    }\n\n    .dataframe thead th {\n        text-align: right;\n    }\n</style>\n<table border=\"1\" class=\"dataframe\">\n  <thead>\n    <tr style=\"text-align: right;\">\n      <th></th>\n      <th>Team</th>\n      <th>Matches</th>\n      <th>Won</th>\n      <th>Lost</th>\n      <th>Tied</th>\n      <th>N/R</th>\n      <th>Points</th>\n      <th>NRR</th>\n      <th>For</th>\n      <th>Against</th>\n    </tr>\n  </thead>\n  <tbody>\n    <tr>\n      <th>1</th>\n      <td>SRH</td>\n      <td>14</td>\n      <td>9</td>\n      <td>5</td>\n      <td>0</td>\n      <td>0</td>\n      <td>18</td>\n      <td>0.284</td>\n      <td>2230</td>\n      <td>2193</td>\n    </tr>\n    <tr>\n      <th>2</th>\n      <td>CSK</td>\n      <td>14</td>\n      <td>9</td>\n      <td>5</td>\n      <td>0</td>\n      <td>0</td>\n      <td>18</td>\n      <td>0.253</td>\n      <td>2488</td>\n      <td>2433</td>\n    </tr>\n    <tr>\n      <th>5</th>\n      <td>MI</td>\n      <td>14</td>\n      <td>6</td>\n      <td>8</td>\n      <td>0</td>\n      <td>0</td>\n      <td>12</td>\n      <td>0.317</td>\n      <td>2380</td>\n      <td>2282</td>\n    </tr>\n  </tbody>\n</table>\n</div>"
     },
     "metadata": {},
     "execution_count": 37
    }
   ],
   "source": [
    "ipl18[((ipl18['NRR'] >0) & (ipl18['For'] > ipl18['Against']))]"
   ]
  },
  {
   "cell_type": "code",
   "execution_count": 38,
   "metadata": {},
   "outputs": [
    {
     "output_type": "execute_result",
     "data": {
      "text/plain": "  Team  Points\n1  SRH      18\n2  CSK      18\n3  KKR      16\n4   RR      14",
      "text/html": "<div>\n<style scoped>\n    .dataframe tbody tr th:only-of-type {\n        vertical-align: middle;\n    }\n\n    .dataframe tbody tr th {\n        vertical-align: top;\n    }\n\n    .dataframe thead th {\n        text-align: right;\n    }\n</style>\n<table border=\"1\" class=\"dataframe\">\n  <thead>\n    <tr style=\"text-align: right;\">\n      <th></th>\n      <th>Team</th>\n      <th>Points</th>\n    </tr>\n  </thead>\n  <tbody>\n    <tr>\n      <th>1</th>\n      <td>SRH</td>\n      <td>18</td>\n    </tr>\n    <tr>\n      <th>2</th>\n      <td>CSK</td>\n      <td>18</td>\n    </tr>\n    <tr>\n      <th>3</th>\n      <td>KKR</td>\n      <td>16</td>\n    </tr>\n    <tr>\n      <th>4</th>\n      <td>RR</td>\n      <td>14</td>\n    </tr>\n  </tbody>\n</table>\n</div>"
     },
     "metadata": {},
     "execution_count": 38
    }
   ],
   "source": [
    "ipl18.iloc [0:4, [0, 6]]"
   ]
  },
  {
   "cell_type": "code",
   "execution_count": 39,
   "metadata": {},
   "outputs": [
    {
     "output_type": "execute_result",
     "data": {
      "text/plain": "  Team  Points\n1  SRH      18\n2  CSK      18\n3  KKR      16\n4   RR      14",
      "text/html": "<div>\n<style scoped>\n    .dataframe tbody tr th:only-of-type {\n        vertical-align: middle;\n    }\n\n    .dataframe tbody tr th {\n        vertical-align: top;\n    }\n\n    .dataframe thead th {\n        text-align: right;\n    }\n</style>\n<table border=\"1\" class=\"dataframe\">\n  <thead>\n    <tr style=\"text-align: right;\">\n      <th></th>\n      <th>Team</th>\n      <th>Points</th>\n    </tr>\n  </thead>\n  <tbody>\n    <tr>\n      <th>1</th>\n      <td>SRH</td>\n      <td>18</td>\n    </tr>\n    <tr>\n      <th>2</th>\n      <td>CSK</td>\n      <td>18</td>\n    </tr>\n    <tr>\n      <th>3</th>\n      <td>KKR</td>\n      <td>16</td>\n    </tr>\n    <tr>\n      <th>4</th>\n      <td>RR</td>\n      <td>14</td>\n    </tr>\n  </tbody>\n</table>\n</div>"
     },
     "metadata": {},
     "execution_count": 39
    }
   ],
   "source": [
    "ipl18.loc [1:4, ['Team', 'Points']]"
   ]
  },
  {
   "cell_type": "code",
   "execution_count": 40,
   "metadata": {},
   "outputs": [
    {
     "output_type": "execute_result",
     "data": {
      "text/plain": "   Team  Matches  Won  Lost  Tied  N/R  Points    NRR   For  Against\n1    MI       14   10     4     0    0      20  0.784  2407     2242\n2   RPS       14    9     5     0    0      18  0.176  2180     2165\n3   SRH       14    8     5     0    1      17  0.469  2221     2118\n4   KKR       14    8     6     0    0      16  0.641  2329     2300\n5  KXIP       14    7     7     0    0      14  0.123  2207     2229\n6    DD       14    6     8     0    0      12 -0.512  2219     2255\n7    GL       14    4    10     0    0       8 -0.412  2406     2472\n8   RCB       14    3    10     0    1       7 -1.299  1845     2033",
      "text/html": "<div>\n<style scoped>\n    .dataframe tbody tr th:only-of-type {\n        vertical-align: middle;\n    }\n\n    .dataframe tbody tr th {\n        vertical-align: top;\n    }\n\n    .dataframe thead th {\n        text-align: right;\n    }\n</style>\n<table border=\"1\" class=\"dataframe\">\n  <thead>\n    <tr style=\"text-align: right;\">\n      <th></th>\n      <th>Team</th>\n      <th>Matches</th>\n      <th>Won</th>\n      <th>Lost</th>\n      <th>Tied</th>\n      <th>N/R</th>\n      <th>Points</th>\n      <th>NRR</th>\n      <th>For</th>\n      <th>Against</th>\n    </tr>\n  </thead>\n  <tbody>\n    <tr>\n      <th>1</th>\n      <td>MI</td>\n      <td>14</td>\n      <td>10</td>\n      <td>4</td>\n      <td>0</td>\n      <td>0</td>\n      <td>20</td>\n      <td>0.784</td>\n      <td>2407</td>\n      <td>2242</td>\n    </tr>\n    <tr>\n      <th>2</th>\n      <td>RPS</td>\n      <td>14</td>\n      <td>9</td>\n      <td>5</td>\n      <td>0</td>\n      <td>0</td>\n      <td>18</td>\n      <td>0.176</td>\n      <td>2180</td>\n      <td>2165</td>\n    </tr>\n    <tr>\n      <th>3</th>\n      <td>SRH</td>\n      <td>14</td>\n      <td>8</td>\n      <td>5</td>\n      <td>0</td>\n      <td>1</td>\n      <td>17</td>\n      <td>0.469</td>\n      <td>2221</td>\n      <td>2118</td>\n    </tr>\n    <tr>\n      <th>4</th>\n      <td>KKR</td>\n      <td>14</td>\n      <td>8</td>\n      <td>6</td>\n      <td>0</td>\n      <td>0</td>\n      <td>16</td>\n      <td>0.641</td>\n      <td>2329</td>\n      <td>2300</td>\n    </tr>\n    <tr>\n      <th>5</th>\n      <td>KXIP</td>\n      <td>14</td>\n      <td>7</td>\n      <td>7</td>\n      <td>0</td>\n      <td>0</td>\n      <td>14</td>\n      <td>0.123</td>\n      <td>2207</td>\n      <td>2229</td>\n    </tr>\n    <tr>\n      <th>6</th>\n      <td>DD</td>\n      <td>14</td>\n      <td>6</td>\n      <td>8</td>\n      <td>0</td>\n      <td>0</td>\n      <td>12</td>\n      <td>-0.512</td>\n      <td>2219</td>\n      <td>2255</td>\n    </tr>\n    <tr>\n      <th>7</th>\n      <td>GL</td>\n      <td>14</td>\n      <td>4</td>\n      <td>10</td>\n      <td>0</td>\n      <td>0</td>\n      <td>8</td>\n      <td>-0.412</td>\n      <td>2406</td>\n      <td>2472</td>\n    </tr>\n    <tr>\n      <th>8</th>\n      <td>RCB</td>\n      <td>14</td>\n      <td>3</td>\n      <td>10</td>\n      <td>0</td>\n      <td>1</td>\n      <td>7</td>\n      <td>-1.299</td>\n      <td>1845</td>\n      <td>2033</td>\n    </tr>\n  </tbody>\n</table>\n</div>"
     },
     "metadata": {},
     "execution_count": 40
    }
   ],
   "source": [
    "ipl17 = pd.DataFrame({'Team': ['MI', 'RPS', 'SRH', 'KKR', 'KXIP', 'DD', 'GL', 'RCB'],\n",
    "                         'Matches': [14, 14, 14, 14, 14, 14, 14, 14],\n",
    "                         'Won': [10, 9, 8, 8, 7, 6, 4, 3],\n",
    "                         'Lost': [4, 5, 5, 6, 7, 8, 10, 10],\n",
    "                         'Tied': [0, 0, 0, 0, 0, 0, 0, 0],\n",
    "                         'N/R': [0, 0, 1, 0, 0, 0, 0, 1],\n",
    "                         'Points': [20, 18, 17, 16, 14, 12, 8, 7],\n",
    "                         'NRR': [0.784, 0.176, 0.469, 0.641, 0.123, -0.512, -0.412, -1.299],\n",
    "                         'For': [2407, 2180, 2221, 2329, 2207, 2219, 2406, 1845],\n",
    "                         'Against': [2242, 2165, 2118, 2300, 2229, 2255, 2472, 2033]},\n",
    "                         index = range(1,9)\n",
    "                    )\n",
    "\n",
    "ipl17"
   ]
  },
  {
   "cell_type": "code",
   "execution_count": 41,
   "metadata": {},
   "outputs": [],
   "source": [
    "# ipl17.set_index('Team', inplace=True)\n",
    "# ipl18.set_index('Team', inplace=True)\n",
    "\n",
    "# ipl17.sort_index(inplace=True)\n",
    "# ipl18.sort_index(inplace=True)"
   ]
  },
  {
   "cell_type": "code",
   "execution_count": 42,
   "metadata": {},
   "outputs": [
    {
     "output_type": "execute_result",
     "data": {
      "text/plain": "   Team  Matches  Won  Lost  Tied  N/R  Points    NRR   For  Against\n1   SRH       14    9     5     0    0      18  0.284  2230     2193\n2   CSK       14    9     5     0    0      18  0.253  2488     2433\n3   KKR       14    8     6     0    0      16 -0.070  2363     2425\n4    RR       14    7     7     0    0      14 -0.250  2130     2141\n5    MI       14    6     8     0    0      12  0.317  2380     2282\n6   RCB       14    6     8     0    0      12  0.129  2322     2383\n7  KXIP       14    6     8     0    0      12 -0.502  2210     2259\n8    DD       14    5     9     0    0      10 -0.222  2297     2304",
      "text/html": "<div>\n<style scoped>\n    .dataframe tbody tr th:only-of-type {\n        vertical-align: middle;\n    }\n\n    .dataframe tbody tr th {\n        vertical-align: top;\n    }\n\n    .dataframe thead th {\n        text-align: right;\n    }\n</style>\n<table border=\"1\" class=\"dataframe\">\n  <thead>\n    <tr style=\"text-align: right;\">\n      <th></th>\n      <th>Team</th>\n      <th>Matches</th>\n      <th>Won</th>\n      <th>Lost</th>\n      <th>Tied</th>\n      <th>N/R</th>\n      <th>Points</th>\n      <th>NRR</th>\n      <th>For</th>\n      <th>Against</th>\n    </tr>\n  </thead>\n  <tbody>\n    <tr>\n      <th>1</th>\n      <td>SRH</td>\n      <td>14</td>\n      <td>9</td>\n      <td>5</td>\n      <td>0</td>\n      <td>0</td>\n      <td>18</td>\n      <td>0.284</td>\n      <td>2230</td>\n      <td>2193</td>\n    </tr>\n    <tr>\n      <th>2</th>\n      <td>CSK</td>\n      <td>14</td>\n      <td>9</td>\n      <td>5</td>\n      <td>0</td>\n      <td>0</td>\n      <td>18</td>\n      <td>0.253</td>\n      <td>2488</td>\n      <td>2433</td>\n    </tr>\n    <tr>\n      <th>3</th>\n      <td>KKR</td>\n      <td>14</td>\n      <td>8</td>\n      <td>6</td>\n      <td>0</td>\n      <td>0</td>\n      <td>16</td>\n      <td>-0.070</td>\n      <td>2363</td>\n      <td>2425</td>\n    </tr>\n    <tr>\n      <th>4</th>\n      <td>RR</td>\n      <td>14</td>\n      <td>7</td>\n      <td>7</td>\n      <td>0</td>\n      <td>0</td>\n      <td>14</td>\n      <td>-0.250</td>\n      <td>2130</td>\n      <td>2141</td>\n    </tr>\n    <tr>\n      <th>5</th>\n      <td>MI</td>\n      <td>14</td>\n      <td>6</td>\n      <td>8</td>\n      <td>0</td>\n      <td>0</td>\n      <td>12</td>\n      <td>0.317</td>\n      <td>2380</td>\n      <td>2282</td>\n    </tr>\n    <tr>\n      <th>6</th>\n      <td>RCB</td>\n      <td>14</td>\n      <td>6</td>\n      <td>8</td>\n      <td>0</td>\n      <td>0</td>\n      <td>12</td>\n      <td>0.129</td>\n      <td>2322</td>\n      <td>2383</td>\n    </tr>\n    <tr>\n      <th>7</th>\n      <td>KXIP</td>\n      <td>14</td>\n      <td>6</td>\n      <td>8</td>\n      <td>0</td>\n      <td>0</td>\n      <td>12</td>\n      <td>-0.502</td>\n      <td>2210</td>\n      <td>2259</td>\n    </tr>\n    <tr>\n      <th>8</th>\n      <td>DD</td>\n      <td>14</td>\n      <td>5</td>\n      <td>9</td>\n      <td>0</td>\n      <td>0</td>\n      <td>10</td>\n      <td>-0.222</td>\n      <td>2297</td>\n      <td>2304</td>\n    </tr>\n  </tbody>\n</table>\n</div>"
     },
     "metadata": {},
     "execution_count": 42
    }
   ],
   "source": [
    "ipl18"
   ]
  },
  {
   "cell_type": "code",
   "execution_count": 43,
   "metadata": {},
   "outputs": [
    {
     "output_type": "execute_result",
     "data": {
      "text/plain": "   Team  Matches  Won  Lost  Tied  N/R  Points    NRR   For  Against\n1    MI       14   10     4     0    0      20  0.784  2407     2242\n2   RPS       14    9     5     0    0      18  0.176  2180     2165\n3   SRH       14    8     5     0    1      17  0.469  2221     2118\n4   KKR       14    8     6     0    0      16  0.641  2329     2300\n5  KXIP       14    7     7     0    0      14  0.123  2207     2229\n6    DD       14    6     8     0    0      12 -0.512  2219     2255\n7    GL       14    4    10     0    0       8 -0.412  2406     2472\n8   RCB       14    3    10     0    1       7 -1.299  1845     2033",
      "text/html": "<div>\n<style scoped>\n    .dataframe tbody tr th:only-of-type {\n        vertical-align: middle;\n    }\n\n    .dataframe tbody tr th {\n        vertical-align: top;\n    }\n\n    .dataframe thead th {\n        text-align: right;\n    }\n</style>\n<table border=\"1\" class=\"dataframe\">\n  <thead>\n    <tr style=\"text-align: right;\">\n      <th></th>\n      <th>Team</th>\n      <th>Matches</th>\n      <th>Won</th>\n      <th>Lost</th>\n      <th>Tied</th>\n      <th>N/R</th>\n      <th>Points</th>\n      <th>NRR</th>\n      <th>For</th>\n      <th>Against</th>\n    </tr>\n  </thead>\n  <tbody>\n    <tr>\n      <th>1</th>\n      <td>MI</td>\n      <td>14</td>\n      <td>10</td>\n      <td>4</td>\n      <td>0</td>\n      <td>0</td>\n      <td>20</td>\n      <td>0.784</td>\n      <td>2407</td>\n      <td>2242</td>\n    </tr>\n    <tr>\n      <th>2</th>\n      <td>RPS</td>\n      <td>14</td>\n      <td>9</td>\n      <td>5</td>\n      <td>0</td>\n      <td>0</td>\n      <td>18</td>\n      <td>0.176</td>\n      <td>2180</td>\n      <td>2165</td>\n    </tr>\n    <tr>\n      <th>3</th>\n      <td>SRH</td>\n      <td>14</td>\n      <td>8</td>\n      <td>5</td>\n      <td>0</td>\n      <td>1</td>\n      <td>17</td>\n      <td>0.469</td>\n      <td>2221</td>\n      <td>2118</td>\n    </tr>\n    <tr>\n      <th>4</th>\n      <td>KKR</td>\n      <td>14</td>\n      <td>8</td>\n      <td>6</td>\n      <td>0</td>\n      <td>0</td>\n      <td>16</td>\n      <td>0.641</td>\n      <td>2329</td>\n      <td>2300</td>\n    </tr>\n    <tr>\n      <th>5</th>\n      <td>KXIP</td>\n      <td>14</td>\n      <td>7</td>\n      <td>7</td>\n      <td>0</td>\n      <td>0</td>\n      <td>14</td>\n      <td>0.123</td>\n      <td>2207</td>\n      <td>2229</td>\n    </tr>\n    <tr>\n      <th>6</th>\n      <td>DD</td>\n      <td>14</td>\n      <td>6</td>\n      <td>8</td>\n      <td>0</td>\n      <td>0</td>\n      <td>12</td>\n      <td>-0.512</td>\n      <td>2219</td>\n      <td>2255</td>\n    </tr>\n    <tr>\n      <th>7</th>\n      <td>GL</td>\n      <td>14</td>\n      <td>4</td>\n      <td>10</td>\n      <td>0</td>\n      <td>0</td>\n      <td>8</td>\n      <td>-0.412</td>\n      <td>2406</td>\n      <td>2472</td>\n    </tr>\n    <tr>\n      <th>8</th>\n      <td>RCB</td>\n      <td>14</td>\n      <td>3</td>\n      <td>10</td>\n      <td>0</td>\n      <td>1</td>\n      <td>7</td>\n      <td>-1.299</td>\n      <td>1845</td>\n      <td>2033</td>\n    </tr>\n  </tbody>\n</table>\n</div>"
     },
     "metadata": {},
     "execution_count": 43
    }
   ],
   "source": [
    "ipl17"
   ]
  },
  {
   "cell_type": "code",
   "execution_count": 46,
   "metadata": {},
   "outputs": [
    {
     "output_type": "execute_result",
     "data": {
      "text/plain": "   Team  Matches_x  Won_x  Lost_x  Tied_x  N/R_x  Points_x  NRR_x   For_x  \\\n0    MI       14.0   10.0     4.0     0.0    0.0      20.0  0.784  2407.0   \n1   RPS       14.0    9.0     5.0     0.0    0.0      18.0  0.176  2180.0   \n2   SRH       14.0    8.0     5.0     0.0    1.0      17.0  0.469  2221.0   \n3   KKR       14.0    8.0     6.0     0.0    0.0      16.0  0.641  2329.0   \n4  KXIP       14.0    7.0     7.0     0.0    0.0      14.0  0.123  2207.0   \n5    DD       14.0    6.0     8.0     0.0    0.0      12.0 -0.512  2219.0   \n6    GL       14.0    4.0    10.0     0.0    0.0       8.0 -0.412  2406.0   \n7   RCB       14.0    3.0    10.0     0.0    1.0       7.0 -1.299  1845.0   \n8   CSK        0.0    0.0     0.0     0.0    0.0       0.0  0.000     0.0   \n9    RR        0.0    0.0     0.0     0.0    0.0       0.0  0.000     0.0   \n\n   Against_x  Matches_y  Won_y  Lost_y  Tied_y  N/R_y  Points_y  NRR_y  \\\n0     2242.0       14.0    6.0     8.0     0.0    0.0      12.0  0.317   \n1     2165.0        0.0    0.0     0.0     0.0    0.0       0.0  0.000   \n2     2118.0       14.0    9.0     5.0     0.0    0.0      18.0  0.284   \n3     2300.0       14.0    8.0     6.0     0.0    0.0      16.0 -0.070   \n4     2229.0       14.0    6.0     8.0     0.0    0.0      12.0 -0.502   \n5     2255.0       14.0    5.0     9.0     0.0    0.0      10.0 -0.222   \n6     2472.0        0.0    0.0     0.0     0.0    0.0       0.0  0.000   \n7     2033.0       14.0    6.0     8.0     0.0    0.0      12.0  0.129   \n8        0.0       14.0    9.0     5.0     0.0    0.0      18.0  0.253   \n9        0.0       14.0    7.0     7.0     0.0    0.0      14.0 -0.250   \n\n    For_y  Against_y  \n0  2380.0     2282.0  \n1     0.0        0.0  \n2  2230.0     2193.0  \n3  2363.0     2425.0  \n4  2210.0     2259.0  \n5  2297.0     2304.0  \n6     0.0        0.0  \n7  2322.0     2383.0  \n8  2488.0     2433.0  \n9  2130.0     2141.0  ",
      "text/html": "<div>\n<style scoped>\n    .dataframe tbody tr th:only-of-type {\n        vertical-align: middle;\n    }\n\n    .dataframe tbody tr th {\n        vertical-align: top;\n    }\n\n    .dataframe thead th {\n        text-align: right;\n    }\n</style>\n<table border=\"1\" class=\"dataframe\">\n  <thead>\n    <tr style=\"text-align: right;\">\n      <th></th>\n      <th>Team</th>\n      <th>Matches_x</th>\n      <th>Won_x</th>\n      <th>Lost_x</th>\n      <th>Tied_x</th>\n      <th>N/R_x</th>\n      <th>Points_x</th>\n      <th>NRR_x</th>\n      <th>For_x</th>\n      <th>Against_x</th>\n      <th>Matches_y</th>\n      <th>Won_y</th>\n      <th>Lost_y</th>\n      <th>Tied_y</th>\n      <th>N/R_y</th>\n      <th>Points_y</th>\n      <th>NRR_y</th>\n      <th>For_y</th>\n      <th>Against_y</th>\n    </tr>\n  </thead>\n  <tbody>\n    <tr>\n      <th>0</th>\n      <td>MI</td>\n      <td>14.0</td>\n      <td>10.0</td>\n      <td>4.0</td>\n      <td>0.0</td>\n      <td>0.0</td>\n      <td>20.0</td>\n      <td>0.784</td>\n      <td>2407.0</td>\n      <td>2242.0</td>\n      <td>14.0</td>\n      <td>6.0</td>\n      <td>8.0</td>\n      <td>0.0</td>\n      <td>0.0</td>\n      <td>12.0</td>\n      <td>0.317</td>\n      <td>2380.0</td>\n      <td>2282.0</td>\n    </tr>\n    <tr>\n      <th>1</th>\n      <td>RPS</td>\n      <td>14.0</td>\n      <td>9.0</td>\n      <td>5.0</td>\n      <td>0.0</td>\n      <td>0.0</td>\n      <td>18.0</td>\n      <td>0.176</td>\n      <td>2180.0</td>\n      <td>2165.0</td>\n      <td>0.0</td>\n      <td>0.0</td>\n      <td>0.0</td>\n      <td>0.0</td>\n      <td>0.0</td>\n      <td>0.0</td>\n      <td>0.000</td>\n      <td>0.0</td>\n      <td>0.0</td>\n    </tr>\n    <tr>\n      <th>2</th>\n      <td>SRH</td>\n      <td>14.0</td>\n      <td>8.0</td>\n      <td>5.0</td>\n      <td>0.0</td>\n      <td>1.0</td>\n      <td>17.0</td>\n      <td>0.469</td>\n      <td>2221.0</td>\n      <td>2118.0</td>\n      <td>14.0</td>\n      <td>9.0</td>\n      <td>5.0</td>\n      <td>0.0</td>\n      <td>0.0</td>\n      <td>18.0</td>\n      <td>0.284</td>\n      <td>2230.0</td>\n      <td>2193.0</td>\n    </tr>\n    <tr>\n      <th>3</th>\n      <td>KKR</td>\n      <td>14.0</td>\n      <td>8.0</td>\n      <td>6.0</td>\n      <td>0.0</td>\n      <td>0.0</td>\n      <td>16.0</td>\n      <td>0.641</td>\n      <td>2329.0</td>\n      <td>2300.0</td>\n      <td>14.0</td>\n      <td>8.0</td>\n      <td>6.0</td>\n      <td>0.0</td>\n      <td>0.0</td>\n      <td>16.0</td>\n      <td>-0.070</td>\n      <td>2363.0</td>\n      <td>2425.0</td>\n    </tr>\n    <tr>\n      <th>4</th>\n      <td>KXIP</td>\n      <td>14.0</td>\n      <td>7.0</td>\n      <td>7.0</td>\n      <td>0.0</td>\n      <td>0.0</td>\n      <td>14.0</td>\n      <td>0.123</td>\n      <td>2207.0</td>\n      <td>2229.0</td>\n      <td>14.0</td>\n      <td>6.0</td>\n      <td>8.0</td>\n      <td>0.0</td>\n      <td>0.0</td>\n      <td>12.0</td>\n      <td>-0.502</td>\n      <td>2210.0</td>\n      <td>2259.0</td>\n    </tr>\n    <tr>\n      <th>5</th>\n      <td>DD</td>\n      <td>14.0</td>\n      <td>6.0</td>\n      <td>8.0</td>\n      <td>0.0</td>\n      <td>0.0</td>\n      <td>12.0</td>\n      <td>-0.512</td>\n      <td>2219.0</td>\n      <td>2255.0</td>\n      <td>14.0</td>\n      <td>5.0</td>\n      <td>9.0</td>\n      <td>0.0</td>\n      <td>0.0</td>\n      <td>10.0</td>\n      <td>-0.222</td>\n      <td>2297.0</td>\n      <td>2304.0</td>\n    </tr>\n    <tr>\n      <th>6</th>\n      <td>GL</td>\n      <td>14.0</td>\n      <td>4.0</td>\n      <td>10.0</td>\n      <td>0.0</td>\n      <td>0.0</td>\n      <td>8.0</td>\n      <td>-0.412</td>\n      <td>2406.0</td>\n      <td>2472.0</td>\n      <td>0.0</td>\n      <td>0.0</td>\n      <td>0.0</td>\n      <td>0.0</td>\n      <td>0.0</td>\n      <td>0.0</td>\n      <td>0.000</td>\n      <td>0.0</td>\n      <td>0.0</td>\n    </tr>\n    <tr>\n      <th>7</th>\n      <td>RCB</td>\n      <td>14.0</td>\n      <td>3.0</td>\n      <td>10.0</td>\n      <td>0.0</td>\n      <td>1.0</td>\n      <td>7.0</td>\n      <td>-1.299</td>\n      <td>1845.0</td>\n      <td>2033.0</td>\n      <td>14.0</td>\n      <td>6.0</td>\n      <td>8.0</td>\n      <td>0.0</td>\n      <td>0.0</td>\n      <td>12.0</td>\n      <td>0.129</td>\n      <td>2322.0</td>\n      <td>2383.0</td>\n    </tr>\n    <tr>\n      <th>8</th>\n      <td>CSK</td>\n      <td>0.0</td>\n      <td>0.0</td>\n      <td>0.0</td>\n      <td>0.0</td>\n      <td>0.0</td>\n      <td>0.0</td>\n      <td>0.000</td>\n      <td>0.0</td>\n      <td>0.0</td>\n      <td>14.0</td>\n      <td>9.0</td>\n      <td>5.0</td>\n      <td>0.0</td>\n      <td>0.0</td>\n      <td>18.0</td>\n      <td>0.253</td>\n      <td>2488.0</td>\n      <td>2433.0</td>\n    </tr>\n    <tr>\n      <th>9</th>\n      <td>RR</td>\n      <td>0.0</td>\n      <td>0.0</td>\n      <td>0.0</td>\n      <td>0.0</td>\n      <td>0.0</td>\n      <td>0.0</td>\n      <td>0.000</td>\n      <td>0.0</td>\n      <td>0.0</td>\n      <td>14.0</td>\n      <td>7.0</td>\n      <td>7.0</td>\n      <td>0.0</td>\n      <td>0.0</td>\n      <td>14.0</td>\n      <td>-0.250</td>\n      <td>2130.0</td>\n      <td>2141.0</td>\n    </tr>\n  </tbody>\n</table>\n</div>"
     },
     "metadata": {},
     "execution_count": 46
    }
   ],
   "source": [
    "merged = ipl17.merge(ipl18, how='outer', left_on='Team', right_on='Team')\n",
    "merged.fillna(0, inplace=True)\n",
    "merged"
   ]
  },
  {
   "cell_type": "code",
   "execution_count": 47,
   "metadata": {},
   "outputs": [
    {
     "output_type": "execute_result",
     "data": {
      "text/plain": "   Team  Matches   Won  Lost  Tied  N/R  Points    NRR     For  Against\n0    MI     28.0  16.0  12.0   0.0  0.0    32.0  1.101  4787.0   4524.0\n1   RPS     14.0   9.0   5.0   0.0  0.0    18.0  0.176  2180.0   2165.0\n2   SRH     28.0  17.0  10.0   0.0  1.0    35.0  0.753  4451.0   4311.0\n3   KKR     28.0  16.0  12.0   0.0  0.0    32.0  0.571  4692.0   4725.0\n4  KXIP     28.0  13.0  15.0   0.0  0.0    26.0 -0.379  4417.0   4488.0\n5    DD     28.0  11.0  17.0   0.0  0.0    22.0 -0.734  4516.0   4559.0\n6    GL     14.0   4.0  10.0   0.0  0.0     8.0 -0.412  2406.0   2472.0\n7   RCB     28.0   9.0  18.0   0.0  1.0    19.0 -1.170  4167.0   4416.0\n8   CSK     14.0   9.0   5.0   0.0  0.0    18.0  0.253  2488.0   2433.0\n9    RR     14.0   7.0   7.0   0.0  0.0    14.0 -0.250  2130.0   2141.0",
      "text/html": "<div>\n<style scoped>\n    .dataframe tbody tr th:only-of-type {\n        vertical-align: middle;\n    }\n\n    .dataframe tbody tr th {\n        vertical-align: top;\n    }\n\n    .dataframe thead th {\n        text-align: right;\n    }\n</style>\n<table border=\"1\" class=\"dataframe\">\n  <thead>\n    <tr style=\"text-align: right;\">\n      <th></th>\n      <th>Team</th>\n      <th>Matches</th>\n      <th>Won</th>\n      <th>Lost</th>\n      <th>Tied</th>\n      <th>N/R</th>\n      <th>Points</th>\n      <th>NRR</th>\n      <th>For</th>\n      <th>Against</th>\n    </tr>\n  </thead>\n  <tbody>\n    <tr>\n      <th>0</th>\n      <td>MI</td>\n      <td>28.0</td>\n      <td>16.0</td>\n      <td>12.0</td>\n      <td>0.0</td>\n      <td>0.0</td>\n      <td>32.0</td>\n      <td>1.101</td>\n      <td>4787.0</td>\n      <td>4524.0</td>\n    </tr>\n    <tr>\n      <th>1</th>\n      <td>RPS</td>\n      <td>14.0</td>\n      <td>9.0</td>\n      <td>5.0</td>\n      <td>0.0</td>\n      <td>0.0</td>\n      <td>18.0</td>\n      <td>0.176</td>\n      <td>2180.0</td>\n      <td>2165.0</td>\n    </tr>\n    <tr>\n      <th>2</th>\n      <td>SRH</td>\n      <td>28.0</td>\n      <td>17.0</td>\n      <td>10.0</td>\n      <td>0.0</td>\n      <td>1.0</td>\n      <td>35.0</td>\n      <td>0.753</td>\n      <td>4451.0</td>\n      <td>4311.0</td>\n    </tr>\n    <tr>\n      <th>3</th>\n      <td>KKR</td>\n      <td>28.0</td>\n      <td>16.0</td>\n      <td>12.0</td>\n      <td>0.0</td>\n      <td>0.0</td>\n      <td>32.0</td>\n      <td>0.571</td>\n      <td>4692.0</td>\n      <td>4725.0</td>\n    </tr>\n    <tr>\n      <th>4</th>\n      <td>KXIP</td>\n      <td>28.0</td>\n      <td>13.0</td>\n      <td>15.0</td>\n      <td>0.0</td>\n      <td>0.0</td>\n      <td>26.0</td>\n      <td>-0.379</td>\n      <td>4417.0</td>\n      <td>4488.0</td>\n    </tr>\n    <tr>\n      <th>5</th>\n      <td>DD</td>\n      <td>28.0</td>\n      <td>11.0</td>\n      <td>17.0</td>\n      <td>0.0</td>\n      <td>0.0</td>\n      <td>22.0</td>\n      <td>-0.734</td>\n      <td>4516.0</td>\n      <td>4559.0</td>\n    </tr>\n    <tr>\n      <th>6</th>\n      <td>GL</td>\n      <td>14.0</td>\n      <td>4.0</td>\n      <td>10.0</td>\n      <td>0.0</td>\n      <td>0.0</td>\n      <td>8.0</td>\n      <td>-0.412</td>\n      <td>2406.0</td>\n      <td>2472.0</td>\n    </tr>\n    <tr>\n      <th>7</th>\n      <td>RCB</td>\n      <td>28.0</td>\n      <td>9.0</td>\n      <td>18.0</td>\n      <td>0.0</td>\n      <td>1.0</td>\n      <td>19.0</td>\n      <td>-1.170</td>\n      <td>4167.0</td>\n      <td>4416.0</td>\n    </tr>\n    <tr>\n      <th>8</th>\n      <td>CSK</td>\n      <td>14.0</td>\n      <td>9.0</td>\n      <td>5.0</td>\n      <td>0.0</td>\n      <td>0.0</td>\n      <td>18.0</td>\n      <td>0.253</td>\n      <td>2488.0</td>\n      <td>2433.0</td>\n    </tr>\n    <tr>\n      <th>9</th>\n      <td>RR</td>\n      <td>14.0</td>\n      <td>7.0</td>\n      <td>7.0</td>\n      <td>0.0</td>\n      <td>0.0</td>\n      <td>14.0</td>\n      <td>-0.250</td>\n      <td>2130.0</td>\n      <td>2141.0</td>\n    </tr>\n  </tbody>\n</table>\n</div>"
     },
     "metadata": {},
     "execution_count": 47
    }
   ],
   "source": [
    "final_df = merged[['Team']]\n",
    "for c in [c for c in ipl17.columns if c!= 'Team']:\n",
    "    x = f\"{c}_x\"\n",
    "    y = f\"{c}_y\"\n",
    "    final_df[c] = merged[x]+merged[y]\n",
    "\n",
    "final_df"
   ]
  },
  {
   "cell_type": "code",
   "execution_count": 49,
   "metadata": {},
   "outputs": [
    {
     "output_type": "execute_result",
     "data": {
      "text/plain": "   Team  Matches   Won  Lost  Tied  N/R  Points    NRR     For  Against  \\\n0    MI     28.0  16.0  12.0   0.0  0.0    32.0  1.101  4787.0   4524.0   \n1   RPS     14.0   9.0   5.0   0.0  0.0    18.0  0.176  2180.0   2165.0   \n2   SRH     28.0  17.0  10.0   0.0  1.0    35.0  0.753  4451.0   4311.0   \n3   KKR     28.0  16.0  12.0   0.0  0.0    32.0  0.571  4692.0   4725.0   \n4  KXIP     28.0  13.0  15.0   0.0  0.0    26.0 -0.379  4417.0   4488.0   \n5    DD     28.0  11.0  17.0   0.0  0.0    22.0 -0.734  4516.0   4559.0   \n6    GL     14.0   4.0  10.0   0.0  0.0     8.0 -0.412  2406.0   2472.0   \n7   RCB     28.0   9.0  18.0   0.0  1.0    19.0 -1.170  4167.0   4416.0   \n8   CSK     14.0   9.0   5.0   0.0  0.0    18.0  0.253  2488.0   2433.0   \n9    RR     14.0   7.0   7.0   0.0  0.0    14.0 -0.250  2130.0   2141.0   \n\n     Win_Per  \n0  57.142857  \n1  64.285714  \n2  60.714286  \n3  57.142857  \n4  46.428571  \n5  39.285714  \n6  28.571429  \n7  32.142857  \n8  64.285714  \n9  50.000000  ",
      "text/html": "<div>\n<style scoped>\n    .dataframe tbody tr th:only-of-type {\n        vertical-align: middle;\n    }\n\n    .dataframe tbody tr th {\n        vertical-align: top;\n    }\n\n    .dataframe thead th {\n        text-align: right;\n    }\n</style>\n<table border=\"1\" class=\"dataframe\">\n  <thead>\n    <tr style=\"text-align: right;\">\n      <th></th>\n      <th>Team</th>\n      <th>Matches</th>\n      <th>Won</th>\n      <th>Lost</th>\n      <th>Tied</th>\n      <th>N/R</th>\n      <th>Points</th>\n      <th>NRR</th>\n      <th>For</th>\n      <th>Against</th>\n      <th>Win_Per</th>\n    </tr>\n  </thead>\n  <tbody>\n    <tr>\n      <th>0</th>\n      <td>MI</td>\n      <td>28.0</td>\n      <td>16.0</td>\n      <td>12.0</td>\n      <td>0.0</td>\n      <td>0.0</td>\n      <td>32.0</td>\n      <td>1.101</td>\n      <td>4787.0</td>\n      <td>4524.0</td>\n      <td>57.142857</td>\n    </tr>\n    <tr>\n      <th>1</th>\n      <td>RPS</td>\n      <td>14.0</td>\n      <td>9.0</td>\n      <td>5.0</td>\n      <td>0.0</td>\n      <td>0.0</td>\n      <td>18.0</td>\n      <td>0.176</td>\n      <td>2180.0</td>\n      <td>2165.0</td>\n      <td>64.285714</td>\n    </tr>\n    <tr>\n      <th>2</th>\n      <td>SRH</td>\n      <td>28.0</td>\n      <td>17.0</td>\n      <td>10.0</td>\n      <td>0.0</td>\n      <td>1.0</td>\n      <td>35.0</td>\n      <td>0.753</td>\n      <td>4451.0</td>\n      <td>4311.0</td>\n      <td>60.714286</td>\n    </tr>\n    <tr>\n      <th>3</th>\n      <td>KKR</td>\n      <td>28.0</td>\n      <td>16.0</td>\n      <td>12.0</td>\n      <td>0.0</td>\n      <td>0.0</td>\n      <td>32.0</td>\n      <td>0.571</td>\n      <td>4692.0</td>\n      <td>4725.0</td>\n      <td>57.142857</td>\n    </tr>\n    <tr>\n      <th>4</th>\n      <td>KXIP</td>\n      <td>28.0</td>\n      <td>13.0</td>\n      <td>15.0</td>\n      <td>0.0</td>\n      <td>0.0</td>\n      <td>26.0</td>\n      <td>-0.379</td>\n      <td>4417.0</td>\n      <td>4488.0</td>\n      <td>46.428571</td>\n    </tr>\n    <tr>\n      <th>5</th>\n      <td>DD</td>\n      <td>28.0</td>\n      <td>11.0</td>\n      <td>17.0</td>\n      <td>0.0</td>\n      <td>0.0</td>\n      <td>22.0</td>\n      <td>-0.734</td>\n      <td>4516.0</td>\n      <td>4559.0</td>\n      <td>39.285714</td>\n    </tr>\n    <tr>\n      <th>6</th>\n      <td>GL</td>\n      <td>14.0</td>\n      <td>4.0</td>\n      <td>10.0</td>\n      <td>0.0</td>\n      <td>0.0</td>\n      <td>8.0</td>\n      <td>-0.412</td>\n      <td>2406.0</td>\n      <td>2472.0</td>\n      <td>28.571429</td>\n    </tr>\n    <tr>\n      <th>7</th>\n      <td>RCB</td>\n      <td>28.0</td>\n      <td>9.0</td>\n      <td>18.0</td>\n      <td>0.0</td>\n      <td>1.0</td>\n      <td>19.0</td>\n      <td>-1.170</td>\n      <td>4167.0</td>\n      <td>4416.0</td>\n      <td>32.142857</td>\n    </tr>\n    <tr>\n      <th>8</th>\n      <td>CSK</td>\n      <td>14.0</td>\n      <td>9.0</td>\n      <td>5.0</td>\n      <td>0.0</td>\n      <td>0.0</td>\n      <td>18.0</td>\n      <td>0.253</td>\n      <td>2488.0</td>\n      <td>2433.0</td>\n      <td>64.285714</td>\n    </tr>\n    <tr>\n      <th>9</th>\n      <td>RR</td>\n      <td>14.0</td>\n      <td>7.0</td>\n      <td>7.0</td>\n      <td>0.0</td>\n      <td>0.0</td>\n      <td>14.0</td>\n      <td>-0.250</td>\n      <td>2130.0</td>\n      <td>2141.0</td>\n      <td>50.000000</td>\n    </tr>\n  </tbody>\n</table>\n</div>"
     },
     "metadata": {},
     "execution_count": 49
    }
   ],
   "source": [
    "final_df[\"Win_Per\"]  = 100*(final_df['Won']/final_df['Matches'])\n",
    "final_df"
   ]
  },
  {
   "cell_type": "code",
   "execution_count": 51,
   "metadata": {},
   "outputs": [
    {
     "output_type": "execute_result",
     "data": {
      "text/plain": "60.71428571428571"
     },
     "metadata": {},
     "execution_count": 51
    }
   ],
   "source": [
    "final_df[final_df[\"Points\"] >= 25]['Win_Per'].max()"
   ]
  },
  {
   "cell_type": "code",
   "execution_count": null,
   "metadata": {},
   "outputs": [],
   "source": []
  }
 ],
 "metadata": {
  "kernelspec": {
   "display_name": "Python 3",
   "language": "python",
   "name": "python3"
  },
  "language_info": {
   "codemirror_mode": {
    "name": "ipython",
    "version": 3
   },
   "file_extension": ".py",
   "mimetype": "text/x-python",
   "name": "python",
   "nbconvert_exporter": "python",
   "pygments_lexer": "ipython3",
   "version": "3.6.5"
  }
 },
 "nbformat": 4,
 "nbformat_minor": 2
}