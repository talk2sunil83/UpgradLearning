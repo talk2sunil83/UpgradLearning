{
 "cells": [
  {
   "cell_type": "code",
   "execution_count": 1,
   "metadata": {},
   "outputs": [
    {
     "name": "stdout",
     "output_type": "stream",
     "text": [
      "Requirement already satisfied: nltk in d:\\users\\syadavconda\\anaconda3\\envs\\e38\\lib\\site-packages (3.5)\n",
      "Requirement already satisfied: click in d:\\users\\syadavconda\\anaconda3\\envs\\e38\\lib\\site-packages (from nltk) (7.1.2)\n",
      "Requirement already satisfied: regex in d:\\users\\syadavconda\\anaconda3\\envs\\e38\\lib\\site-packages (from nltk) (2020.10.15)\n",
      "Requirement already satisfied: joblib in d:\\users\\syadavconda\\anaconda3\\envs\\e38\\lib\\site-packages (from nltk) (0.17.0)\n",
      "Requirement already satisfied: tqdm in d:\\users\\syadavconda\\anaconda3\\envs\\e38\\lib\\site-packages (from nltk) (4.50.2)\n",
      "Collecting keras\n",
      "  Downloading Keras-2.4.3-py2.py3-none-any.whl (36 kB)\n",
      "Requirement already satisfied: pyyaml in d:\\users\\syadavconda\\anaconda3\\envs\\e38\\lib\\site-packages (from keras) (5.3.1)\n",
      "Requirement already satisfied: scipy>=0.14 in d:\\users\\syadavconda\\anaconda3\\envs\\e38\\lib\\site-packages (from keras) (1.6.1)\n",
      "Requirement already satisfied: numpy>=1.9.1 in d:\\users\\syadavconda\\anaconda3\\envs\\e38\\lib\\site-packages (from keras) (1.19.3)\n",
      "Requirement already satisfied: h5py in d:\\users\\syadavconda\\anaconda3\\envs\\e38\\lib\\site-packages (from keras) (2.10.0)\n",
      "Requirement already satisfied: six in d:\\users\\syadavconda\\anaconda3\\envs\\e38\\lib\\site-packages (from h5py->keras) (1.15.0)\n",
      "Installing collected packages: keras\n",
      "Successfully installed keras-2.4.3\n",
      "Requirement already satisfied: gensim in d:\\users\\syadavconda\\anaconda3\\envs\\e38\\lib\\site-packages (3.8.3)\n",
      "Requirement already satisfied: numpy>=1.11.3 in d:\\users\\syadavconda\\anaconda3\\envs\\e38\\lib\\site-packages (from gensim) (1.19.3)\n",
      "Requirement already satisfied: six>=1.5.0 in d:\\users\\syadavconda\\anaconda3\\envs\\e38\\lib\\site-packages (from gensim) (1.15.0)\n",
      "Requirement already satisfied: smart-open>=1.8.1 in d:\\users\\syadavconda\\anaconda3\\envs\\e38\\lib\\site-packages (from gensim) (3.0.0)\n",
      "Requirement already satisfied: scipy>=0.18.1 in d:\\users\\syadavconda\\anaconda3\\envs\\e38\\lib\\site-packages (from gensim) (1.6.1)\n",
      "Requirement already satisfied: requests in d:\\users\\syadavconda\\anaconda3\\envs\\e38\\lib\\site-packages (from smart-open>=1.8.1->gensim) (2.24.0)\n",
      "Requirement already satisfied: certifi>=2017.4.17 in d:\\users\\syadavconda\\anaconda3\\envs\\e38\\lib\\site-packages (from requests->smart-open>=1.8.1->gensim) (2020.6.20)\n",
      "Requirement already satisfied: chardet<4,>=3.0.2 in d:\\users\\syadavconda\\anaconda3\\envs\\e38\\lib\\site-packages (from requests->smart-open>=1.8.1->gensim) (3.0.4)\n",
      "Requirement already satisfied: urllib3!=1.25.0,!=1.25.1,<1.26,>=1.21.1 in d:\\users\\syadavconda\\anaconda3\\envs\\e38\\lib\\site-packages (from requests->smart-open>=1.8.1->gensim) (1.25.11)\n",
      "Requirement already satisfied: idna<3,>=2.5 in d:\\users\\syadavconda\\anaconda3\\envs\\e38\\lib\\site-packages (from requests->smart-open>=1.8.1->gensim) (2.10)\n",
      "Requirement already satisfied: seaborn in d:\\users\\syadavconda\\anaconda3\\envs\\e38\\lib\\site-packages (0.11.0)\n",
      "Requirement already satisfied: pandas>=0.23 in d:\\users\\syadavconda\\anaconda3\\envs\\e38\\lib\\site-packages (from seaborn) (1.1.3)\n",
      "Requirement already satisfied: matplotlib>=2.2 in d:\\users\\syadavconda\\anaconda3\\envs\\e38\\lib\\site-packages (from seaborn) (3.3.1)\n",
      "Requirement already satisfied: numpy>=1.15 in d:\\users\\syadavconda\\anaconda3\\envs\\e38\\lib\\site-packages (from seaborn) (1.19.3)\n",
      "Requirement already satisfied: scipy>=1.0 in d:\\users\\syadavconda\\anaconda3\\envs\\e38\\lib\\site-packages (from seaborn) (1.6.1)\n",
      "Requirement already satisfied: cycler>=0.10 in d:\\users\\syadavconda\\anaconda3\\envs\\e38\\lib\\site-packages (from matplotlib>=2.2->seaborn) (0.10.0)\n",
      "Requirement already satisfied: pillow>=6.2.0 in d:\\users\\syadavconda\\anaconda3\\envs\\e38\\lib\\site-packages (from matplotlib>=2.2->seaborn) (8.0.0)\n",
      "Requirement already satisfied: python-dateutil>=2.1 in d:\\users\\syadavconda\\anaconda3\\envs\\e38\\lib\\site-packages (from matplotlib>=2.2->seaborn) (2.8.1)\n",
      "Requirement already satisfied: certifi>=2020.06.20 in d:\\users\\syadavconda\\anaconda3\\envs\\e38\\lib\\site-packages (from matplotlib>=2.2->seaborn) (2020.6.20)\n",
      "Requirement already satisfied: pyparsing!=2.0.4,!=2.1.2,!=2.1.6,>=2.0.3 in d:\\users\\syadavconda\\anaconda3\\envs\\e38\\lib\\site-packages (from matplotlib>=2.2->seaborn) (2.4.7)\n",
      "Requirement already satisfied: kiwisolver>=1.0.1 in d:\\users\\syadavconda\\anaconda3\\envs\\e38\\lib\\site-packages (from matplotlib>=2.2->seaborn) (1.2.0)\n",
      "Requirement already satisfied: six in d:\\users\\syadavconda\\anaconda3\\envs\\e38\\lib\\site-packages (from cycler>=0.10->matplotlib>=2.2->seaborn) (1.15.0)\n",
      "Requirement already satisfied: pytz>=2017.2 in d:\\users\\syadavconda\\anaconda3\\envs\\e38\\lib\\site-packages (from pandas>=0.23->seaborn) (2020.1)\n"
     ]
    }
   ],
   "source": [
    "!pip install nltk\r\n",
    "!pip install keras\r\n",
    "!pip install gensim\r\n",
    "!pip install seaborn"
   ]
  },
  {
   "cell_type": "code",
   "execution_count": 2,
   "metadata": {},
   "outputs": [
    {
     "name": "stderr",
     "output_type": "stream",
     "text": [
      "[nltk_data] Downloading package brown to C:\\Users\\Sunil\n",
      "[nltk_data]     Yadav\\AppData\\Roaming\\nltk_data...\n",
      "[nltk_data]   Package brown is already up-to-date!\n",
      "[nltk_data] Downloading package treebank to C:\\Users\\Sunil\n",
      "[nltk_data]     Yadav\\AppData\\Roaming\\nltk_data...\n",
      "[nltk_data]   Package treebank is already up-to-date!\n",
      "[nltk_data] Downloading package conll2000 to C:\\Users\\Sunil\n",
      "[nltk_data]     Yadav\\AppData\\Roaming\\nltk_data...\n",
      "[nltk_data]   Package conll2000 is already up-to-date!\n",
      "[nltk_data] Downloading package punkt to C:\\Users\\Sunil\n",
      "[nltk_data]     Yadav\\AppData\\Roaming\\nltk_data...\n",
      "[nltk_data]   Package punkt is already up-to-date!\n",
      "[nltk_data] Downloading package universal_tagset to C:\\Users\\Sunil\n",
      "[nltk_data]     Yadav\\AppData\\Roaming\\nltk_data...\n",
      "[nltk_data]   Package universal_tagset is already up-to-date!\n"
     ]
    },
    {
     "data": {
      "text/plain": "True"
     },
     "execution_count": 2,
     "metadata": {},
     "output_type": "execute_result"
    }
   ],
   "source": [
    "import nltk\r\n",
    "nltk.download('brown')\r\n",
    "nltk.download('treebank')\r\n",
    "nltk.download('conll2000')\r\n",
    "nltk.download('punkt')\r\n",
    "nltk.download('universal_tagset')"
   ]
  }
 ],
 "metadata": {
  "kernelspec": {
   "display_name": "Python 3.8.5 64-bit ('e38': conda)",
   "name": "python385jvsc74a57bd0f8148039ad5c73407e53b4effc262e5c1aed3689b4cbea6f44c78b3b531d64d8"
  },
  "language_info": {
   "codemirror_mode": {
    "name": "ipython",
    "version": 3
   },
   "file_extension": ".py",
   "mimetype": "text/x-python",
   "name": "python",
   "nbconvert_exporter": "python",
   "pygments_lexer": "ipython3",
   "version": "3.8.5"
  },
  "orig_nbformat": 2
 },
 "nbformat": 4,
 "nbformat_minor": 2
}