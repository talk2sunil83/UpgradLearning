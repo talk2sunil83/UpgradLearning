{
 "cells": [
  {
   "cell_type": "markdown",
   "metadata": {},
   "source": [
    "# Auto Neural Network Tuning: Boston Housing Regression\n"
   ]
  },
  {
   "cell_type": "markdown",
   "metadata": {},
   "source": [
    "## Libreary Imoprts"
   ]
  },
  {
   "cell_type": "code",
   "execution_count": 1,
   "metadata": {
    "ExecuteTime": {
     "end_time": "2021-03-22T15:03:02.954717Z",
     "start_time": "2021-03-22T15:02:59.186690Z"
    }
   },
   "outputs": [
    {
     "name": "stdout",
     "output_type": "stream",
     "text": [
      "2.3.1\n",
      "1.0.2\n"
     ]
    }
   ],
   "source": [
    "from tensorflow.keras import models, layers\n",
    "from sklearn.preprocessing import StandardScaler\n",
    "import tensorflow\n",
    "from numpy.random import seed\n",
    "from kerastuner import HyperModel, RandomSearch, Hyperband, BayesianOptimization\n",
    "from tensorflow.keras.datasets import boston_housing\n",
    "import os\n",
    "import tensorflow as tf  # TF > 2.0\n",
    "import kerastuner as kt\n",
    "\n",
    "print(tf.__version__)\n",
    "print(kt.__version__)\n",
    "\n",
    "seed(42)\n",
    "tensorflow.random.set_seed(42)\n"
   ]
  },
  {
   "cell_type": "markdown",
   "metadata": {},
   "source": [
    "## Loading and preparing the data"
   ]
  },
  {
   "cell_type": "code",
   "execution_count": 2,
   "metadata": {
    "ExecuteTime": {
     "end_time": "2021-03-22T15:03:12.519084Z",
     "start_time": "2021-03-22T15:03:12.505953Z"
    }
   },
   "outputs": [],
   "source": [
    "(x_train, y_train), (x_test, y_test) = boston_housing.load_data()\n",
    "\n",
    "scaler = StandardScaler()\n",
    "scaler.fit(x_train)\n",
    "x_train_scaled = scaler.transform(x_train)\n",
    "x_test_scaled = scaler.transform(x_test)\n"
   ]
  },
  {
   "cell_type": "markdown",
   "metadata": {},
   "source": [
    "## NN Model without HPT"
   ]
  },
  {
   "cell_type": "code",
   "execution_count": 3,
   "metadata": {
    "ExecuteTime": {
     "end_time": "2021-03-22T15:03:23.864161Z",
     "start_time": "2021-03-22T15:03:22.368026Z"
    }
   },
   "outputs": [
    {
     "name": "stdout",
     "output_type": "stream",
     "text": [
      "Epoch 1/15\n",
      "11/11 [==============================] - ETA: 0s - loss: 520.1207 - mse: 520.120 - 0s 14ms/step - loss: 570.3118 - mse: 570.3118 - val_loss: 639.6743 - val_mse: 639.6743\n",
      "Epoch 2/15\n",
      "11/11 [==============================] - ETA: 0s - loss: 583.2085 - mse: 583.208 - 0s 3ms/step - loss: 566.9042 - mse: 566.9042 - val_loss: 635.9645 - val_mse: 635.9645\n",
      "Epoch 3/15\n",
      "11/11 [==============================] - ETA: 0s - loss: 634.7383 - mse: 634.738 - 0s 2ms/step - loss: 563.0008 - mse: 563.0008 - val_loss: 631.5813 - val_mse: 631.5813\n",
      "Epoch 4/15\n",
      "11/11 [==============================] - ETA: 0s - loss: 595.9271 - mse: 595.927 - 0s 3ms/step - loss: 558.3314 - mse: 558.3314 - val_loss: 625.6187 - val_mse: 625.6187\n",
      "Epoch 5/15\n",
      "11/11 [==============================] - ETA: 0s - loss: 578.6592 - mse: 578.659 - 0s 3ms/step - loss: 552.7308 - mse: 552.7308 - val_loss: 619.0966 - val_mse: 619.0966\n",
      "Epoch 6/15\n",
      "11/11 [==============================] - ETA: 0s - loss: 560.5142 - mse: 560.514 - 0s 3ms/step - loss: 545.7599 - mse: 545.7599 - val_loss: 611.0032 - val_mse: 611.0032\n",
      "Epoch 7/15\n",
      "11/11 [==============================] - ETA: 0s - loss: 534.6196 - mse: 534.619 - 0s 2ms/step - loss: 537.2849 - mse: 537.2849 - val_loss: 601.7495 - val_mse: 601.7495\n",
      "Epoch 8/15\n",
      "11/11 [==============================] - ETA: 0s - loss: 389.2746 - mse: 389.274 - 0s 2ms/step - loss: 528.2014 - mse: 528.2014 - val_loss: 590.6928 - val_mse: 590.6928\n",
      "Epoch 9/15\n",
      "11/11 [==============================] - ETA: 0s - loss: 696.0402 - mse: 696.040 - 0s 2ms/step - loss: 517.5443 - mse: 517.5443 - val_loss: 579.4479 - val_mse: 579.4479\n",
      "Epoch 10/15\n",
      "11/11 [==============================] - ETA: 0s - loss: 473.7844 - mse: 473.784 - 0s 2ms/step - loss: 505.9346 - mse: 505.9346 - val_loss: 567.4852 - val_mse: 567.4852\n",
      "Epoch 11/15\n",
      "11/11 [==============================] - ETA: 0s - loss: 523.7683 - mse: 523.768 - 0s 3ms/step - loss: 492.8487 - mse: 492.8487 - val_loss: 552.0883 - val_mse: 552.0883\n",
      "Epoch 12/15\n",
      "11/11 [==============================] - ETA: 0s - loss: 489.8077 - mse: 489.807 - 0s 2ms/step - loss: 477.9872 - mse: 477.9872 - val_loss: 537.8782 - val_mse: 537.8782\n",
      "Epoch 13/15\n",
      "11/11 [==============================] - ETA: 0s - loss: 429.6074 - mse: 429.607 - 0s 2ms/step - loss: 463.9436 - mse: 463.9436 - val_loss: 520.9137 - val_mse: 520.9137\n",
      "Epoch 14/15\n",
      "11/11 [==============================] - ETA: 0s - loss: 475.7143 - mse: 475.714 - 0s 2ms/step - loss: 448.7695 - mse: 448.7695 - val_loss: 505.1228 - val_mse: 505.1228\n",
      "Epoch 15/15\n",
      "11/11 [==============================] - ETA: 0s - loss: 488.7474 - mse: 488.747 - 0s 2ms/step - loss: 431.5538 - mse: 431.5538 - val_loss: 485.0654 - val_mse: 485.0654\n",
      "4/4 [==============================] - ETA: 0s - loss: 374.1135 - mse: 374.113 - 0s 2ms/step - loss: 458.2523 - mse: 458.2523\n",
      "MSE without tuning: 458.2522888183594\n"
     ]
    }
   ],
   "source": [
    "model = models.Sequential()\n",
    "\n",
    "model.add(layers.Dense(8, activation='relu', input_shape=(x_train.shape[1],),\n",
    "                       kernel_initializer='random_normal', bias_initializer='zeros'))\n",
    "\n",
    "model.add(layers.Dense(16, activation='relu', kernel_initializer='random_normal',\n",
    "                       bias_initializer='zeros'))\n",
    "\n",
    "model.add(layers.Dropout(0.1))\n",
    "\n",
    "model.add(layers.Dense(1))\n",
    "\n",
    "model.compile(optimizer='rmsprop', loss='mse', metrics=['mse'])\n",
    "\n",
    "history = model.fit(x_train_scaled, y_train, validation_split=0.2, epochs=15)\n",
    "mse = model.evaluate(x_test_scaled, y_test)[1]\n",
    "print('MSE without tuning: {}'.format(mse))\n"
   ]
  },
  {
   "cell_type": "markdown",
   "metadata": {},
   "source": [
    "## Model with HPT"
   ]
  },
  {
   "cell_type": "markdown",
   "metadata": {},
   "source": [
    "#### Building the Hypermodel"
   ]
  },
  {
   "cell_type": "code",
   "execution_count": 4,
   "metadata": {
    "ExecuteTime": {
     "end_time": "2021-03-22T15:03:33.628969Z",
     "start_time": "2021-03-22T15:03:33.608966Z"
    }
   },
   "outputs": [],
   "source": [
    "class RegressionHyperModel(HyperModel):\r\n",
    "    def __init__(self, input_shape):\r\n",
    "        self.input_shape = input_shape\r\n",
    "\r\n",
    "    def build(self, hp):\r\n",
    "        model = models.Sequential()\r\n",
    "        model.add(\r\n",
    "            layers.Dense(\r\n",
    "                units=hp.Int('units', 8, 64, 4, default=8),\r\n",
    "                activation=hp.Choice(\r\n",
    "                    'dense_activation',\r\n",
    "                    values=['relu', 'tanh', 'sigmoid'],\r\n",
    "                    default='relu'),\r\n",
    "                input_shape=self.input_shape,\r\n",
    "                kernel_initializer='random_normal', bias_initializer='zeros'\r\n",
    "            )\r\n",
    "        )\r\n",
    "\r\n",
    "        model.add(\r\n",
    "            layers.Dense(\r\n",
    "                units=hp.Int('units', 16, 64, 4, default=16),\r\n",
    "                activation=hp.Choice(\r\n",
    "                    'dense_activation',\r\n",
    "                    values=['relu', 'tanh', 'sigmoid'],\r\n",
    "                    default='relu'),\r\n",
    "                kernel_initializer='random_normal', bias_initializer='zeros'\r\n",
    "            )\r\n",
    "        )\r\n",
    "\r\n",
    "        model.add(\r\n",
    "            layers.Dropout(\r\n",
    "                hp.Float(\r\n",
    "                    'dropout',\r\n",
    "                    min_value=0.0,\r\n",
    "                    max_value=0.1,\r\n",
    "                    default=0.005,\r\n",
    "                    step=0.01)\r\n",
    "            )\r\n",
    "        )\r\n",
    "\r\n",
    "        model.add(layers.Dense(1, kernel_initializer='random_normal', bias_initializer='zeros'))\r\n",
    "\r\n",
    "        model.compile(optimizer='rmsprop', loss='mse', metrics=['mse'])\r\n",
    "\r\n",
    "        return model"
   ]
  },
  {
   "cell_type": "markdown",
   "metadata": {},
   "source": [
    "#### Initialize hypermodel"
   ]
  },
  {
   "cell_type": "code",
   "execution_count": 5,
   "metadata": {
    "ExecuteTime": {
     "end_time": "2021-03-22T15:03:43.467600Z",
     "start_time": "2021-03-22T15:03:43.453605Z"
    }
   },
   "outputs": [],
   "source": [
    "input_shape = (x_train.shape[1],)\n",
    "hypermodel = RegressionHyperModel(input_shape)"
   ]
  },
  {
   "cell_type": "markdown",
   "metadata": {},
   "source": [
    "#### Build, Run and Evaluate Random Search Tuner"
   ]
  },
  {
   "cell_type": "code",
   "execution_count": 6,
   "metadata": {
    "ExecuteTime": {
     "end_time": "2021-03-22T15:04:46.715611Z",
     "start_time": "2021-03-22T15:03:58.093830Z"
    }
   },
   "outputs": [
    {
     "name": "stdout",
     "output_type": "stream",
     "text": [
      "WARNING:tensorflow:Callbacks method `on_train_batch_end` is slow compared to the batch time (batch time: 0.0000s vs `on_train_batch_end` time: 0.0010s). Check your callbacks.\n",
      "INFO:tensorflow:Oracle triggered exit\n",
      "4/4 [==============================] - ETA: 0s - loss: 67.2817 - mse: 67.281 - 0s 2ms/step - loss: 82.8706 - mse: 82.8706\n",
      "Random search MSE:  82.87055969238281\n"
     ]
    }
   ],
   "source": [
    "tuner_rs = RandomSearch(\n",
    "    hypermodel,\n",
    "    objective='mse',\n",
    "    seed=42,\n",
    "    max_trials=20,\n",
    "    executions_per_trial=2, overwrite=True, directory=os.path.normpath('D:\\\\KerasTuner\\\\Random')\n",
    ")\n",
    "\n",
    "tuner_rs.search(x_train_scaled, y_train, epochs=10, validation_split=0.2, verbose=0)\n",
    "\n",
    "best_model_rs = tuner_rs.get_best_models(num_models=1)[0]\n",
    "mse_rs = best_model_rs.evaluate(x_test_scaled, y_test)[1]\n",
    "print('Random search MSE: ', mse_rs)"
   ]
  },
  {
   "cell_type": "markdown",
   "metadata": {},
   "source": [
    "#### Build, Run and Evaluate Hyperband Tuner"
   ]
  },
  {
   "cell_type": "code",
   "execution_count": 7,
   "metadata": {
    "ExecuteTime": {
     "end_time": "2021-03-22T15:04:57.256166Z",
     "start_time": "2021-03-22T15:04:56.719163Z"
    },
    "scrolled": true
   },
   "outputs": [
    {
     "name": "stdout",
     "output_type": "stream",
     "text": [
      "INFO:tensorflow:Reloading Oracle from existing project D:\\KerasTuner\\Hyperband\\untitled_project\\oracle.json\n",
      "INFO:tensorflow:Reloading Tuner from D:\\KerasTuner\\Hyperband\\untitled_project\\tuner0.json\n",
      "INFO:tensorflow:Oracle triggered exit\n",
      "4/4 [==============================] - ETA: 0s - loss: 416.2702 - mse: 416.270 - 0s 2ms/step - loss: 509.7245 - mse: 509.7245\n",
      "Hyperband MSE:  509.7244873046875\n"
     ]
    }
   ],
   "source": [
    "tuner_hb = Hyperband(\n",
    "    hypermodel,\n",
    "    max_epochs=5,\n",
    "    objective='mse',\n",
    "    seed=42,\n",
    "    executions_per_trial=2, directory=os.path.normpath('D:\\\\KerasTuner\\\\Hyperband')\n",
    ")\n",
    "\n",
    "tuner_hb.search(x_train_scaled, y_train, epochs=10, validation_split=0.2, verbose=0)\n",
    "\n",
    "best_model_hb = tuner_hb.get_best_models(num_models=1)[0]\n",
    "mse_hb = best_model_hb.evaluate(x_test_scaled, y_test)[1]\n",
    "print('Hyperband MSE: ', mse_hb)"
   ]
  },
  {
   "cell_type": "markdown",
   "metadata": {},
   "source": [
    "#### Build, Run and Evaluate Bayesian Optimization Tuner"
   ]
  },
  {
   "cell_type": "code",
   "execution_count": 8,
   "metadata": {
    "ExecuteTime": {
     "end_time": "2021-03-22T15:05:07.665206Z",
     "start_time": "2021-03-22T15:05:07.098165Z"
    }
   },
   "outputs": [
    {
     "name": "stdout",
     "output_type": "stream",
     "text": [
      "INFO:tensorflow:Reloading Oracle from existing project D:\\KerasTuner\\Bayesian\\untitled_project\\oracle.json\n",
      "INFO:tensorflow:Reloading Tuner from D:\\KerasTuner\\Bayesian\\untitled_project\\tuner0.json\n",
      "INFO:tensorflow:Oracle triggered exit\n",
      "4/4 [==============================] - ETA: 0s - loss: 65.1297 - mse: 65.129 - 0s 1ms/step - loss: 83.1789 - mse: 83.1789\n",
      "Bayesian Optimization MSE:  83.17890167236328\n"
     ]
    }
   ],
   "source": [
    "tuner_bo = BayesianOptimization(\n",
    "    hypermodel,\n",
    "    objective='mse',\n",
    "    max_trials=10,\n",
    "    seed=42,\n",
    "    executions_per_trial=2,\n",
    "    directory=os.path.normpath('D:\\\\KerasTuner\\\\Bayesian')\n",
    ")\n",
    "\n",
    "tuner_bo.search(x_train_scaled, y_train, epochs=10, validation_split=0.2, verbose=1)\n",
    "\n",
    "best_model_bo = tuner_bo.get_best_models(num_models=1)[0]\n",
    "mse_bo = best_model_bo.evaluate(x_test_scaled, y_test)[1]\n",
    "print('Bayesian Optimization MSE: ', mse_bo)"
   ]
  },
  {
   "cell_type": "markdown",
   "metadata": {},
   "source": [
    "#### Model Summary Comparision"
   ]
  },
  {
   "cell_type": "code",
   "execution_count": 9,
   "metadata": {
    "ExecuteTime": {
     "end_time": "2021-03-22T15:05:17.749164Z",
     "start_time": "2021-03-22T15:05:17.703172Z"
    }
   },
   "outputs": [
    {
     "name": "stdout",
     "output_type": "stream",
     "text": [
      "Model: \"sequential\"\n",
      "_________________________________________________________________\n",
      "Layer (type)                 Output Shape              Param #   \n",
      "=================================================================\n",
      "dense (Dense)                (None, 8)                 112       \n",
      "_________________________________________________________________\n",
      "dense_1 (Dense)              (None, 16)                144       \n",
      "_________________________________________________________________\n",
      "dropout (Dropout)            (None, 16)                0         \n",
      "_________________________________________________________________\n",
      "dense_2 (Dense)              (None, 1)                 17        \n",
      "=================================================================\n",
      "Total params: 273\n",
      "Trainable params: 273\n",
      "Non-trainable params: 0\n",
      "_________________________________________________________________\n"
     ]
    }
   ],
   "source": [
    "# Old model summary\n",
    "model.summary()"
   ]
  },
  {
   "cell_type": "code",
   "execution_count": 10,
   "metadata": {
    "ExecuteTime": {
     "end_time": "2021-03-22T15:05:27.721651Z",
     "start_time": "2021-03-22T15:05:27.690655Z"
    }
   },
   "outputs": [
    {
     "name": "stdout",
     "output_type": "stream",
     "text": [
      "Model: \"sequential\"\n",
      "_________________________________________________________________\n",
      "Layer (type)                 Output Shape              Param #   \n",
      "=================================================================\n",
      "dense (Dense)                (None, 60)                840       \n",
      "_________________________________________________________________\n",
      "dense_1 (Dense)              (None, 60)                3660      \n",
      "_________________________________________________________________\n",
      "dropout (Dropout)            (None, 60)                0         \n",
      "_________________________________________________________________\n",
      "dense_2 (Dense)              (None, 1)                 61        \n",
      "=================================================================\n",
      "Total params: 4,561\n",
      "Trainable params: 4,561\n",
      "Non-trainable params: 0\n",
      "_________________________________________________________________\n"
     ]
    }
   ],
   "source": [
    "# New Model Summary - Random Search\n",
    "best_model_rs.summary()\n"
   ]
  },
  {
   "cell_type": "code",
   "execution_count": 11,
   "metadata": {
    "ExecuteTime": {
     "end_time": "2021-03-22T15:05:37.693653Z",
     "start_time": "2021-03-22T15:05:37.648653Z"
    }
   },
   "outputs": [
    {
     "name": "stdout",
     "output_type": "stream",
     "text": [
      "Model: \"sequential\"\n",
      "_________________________________________________________________\n",
      "Layer (type)                 Output Shape              Param #   \n",
      "=================================================================\n",
      "dense (Dense)                (None, 60)                840       \n",
      "_________________________________________________________________\n",
      "dense_1 (Dense)              (None, 60)                3660      \n",
      "_________________________________________________________________\n",
      "dropout (Dropout)            (None, 60)                0         \n",
      "_________________________________________________________________\n",
      "dense_2 (Dense)              (None, 1)                 61        \n",
      "=================================================================\n",
      "Total params: 4,561\n",
      "Trainable params: 4,561\n",
      "Non-trainable params: 0\n",
      "_________________________________________________________________\n"
     ]
    }
   ],
   "source": [
    "# New Model Summary - Hyperband\n",
    "best_model_hb.summary()"
   ]
  },
  {
   "cell_type": "code",
   "execution_count": 12,
   "metadata": {
    "ExecuteTime": {
     "end_time": "2021-03-22T15:05:47.842652Z",
     "start_time": "2021-03-22T15:05:47.797652Z"
    }
   },
   "outputs": [
    {
     "name": "stdout",
     "output_type": "stream",
     "text": [
      "Model: \"sequential\"\n",
      "_________________________________________________________________\n",
      "Layer (type)                 Output Shape              Param #   \n",
      "=================================================================\n",
      "dense (Dense)                (None, 64)                896       \n",
      "_________________________________________________________________\n",
      "dense_1 (Dense)              (None, 64)                4160      \n",
      "_________________________________________________________________\n",
      "dropout (Dropout)            (None, 64)                0         \n",
      "_________________________________________________________________\n",
      "dense_2 (Dense)              (None, 1)                 65        \n",
      "=================================================================\n",
      "Total params: 5,121\n",
      "Trainable params: 5,121\n",
      "Non-trainable params: 0\n",
      "_________________________________________________________________\n"
     ]
    }
   ],
   "source": [
    "# New Model Summary - BayesianOptimization\n",
    "best_model_bo.summary()"
   ]
  },
  {
   "cell_type": "markdown",
   "metadata": {},
   "source": [
    "## References"
   ]
  },
  {
   "cell_type": "markdown",
   "metadata": {},
   "source": [
    "\n",
    "[HyperParameters](https://keras-team.github.io/keras-tuner/documentation/hyperparameters/)  \n",
    "[Tuners](https://keras-team.github.io/keras-tuner/documentation/tuners/)  \n",
    "[Layer weight initializers](https://keras.io/api/layers/initializers/#randomnormal)"
   ]
  }
 ],
 "metadata": {
  "kernelspec": {
   "display_name": "Python [conda env:e38] *",
   "language": "python",
   "name": "conda-env-e38-py"
  },
  "language_info": {
   "codemirror_mode": {
    "name": "ipython",
    "version": 3
   },
   "file_extension": ".py",
   "mimetype": "text/x-python",
   "name": "python",
   "nbconvert_exporter": "python",
   "pygments_lexer": "ipython3",
   "version": "3.8.5"
  },
  "notify_time": "5",
  "toc": {
   "base_numbering": 1,
   "nav_menu": {},
   "number_sections": true,
   "sideBar": true,
   "skip_h1_title": false,
   "title_cell": "Table of Contents",
   "title_sidebar": "Contents",
   "toc_cell": false,
   "toc_position": {
    "height": "calc(100% - 180px)",
    "left": "10px",
    "top": "150px",
    "width": "421.854px"
   },
   "toc_section_display": true,
   "toc_window_display": false
  },
  "varInspector": {
   "cols": {
    "lenName": 16,
    "lenType": 16,
    "lenVar": 40
   },
   "kernels_config": {
    "python": {
     "delete_cmd_postfix": "",
     "delete_cmd_prefix": "del ",
     "library": "var_list.py",
     "varRefreshCmd": "print(var_dic_list())"
    },
    "r": {
     "delete_cmd_postfix": ") ",
     "delete_cmd_prefix": "rm(",
     "library": "var_list.r",
     "varRefreshCmd": "cat(var_dic_list()) "
    }
   },
   "types_to_exclude": [
    "module",
    "function",
    "builtin_function_or_method",
    "instance",
    "_Feature"
   ],
   "window_display": false
  }
 },
 "nbformat": 4,
 "nbformat_minor": 2
}