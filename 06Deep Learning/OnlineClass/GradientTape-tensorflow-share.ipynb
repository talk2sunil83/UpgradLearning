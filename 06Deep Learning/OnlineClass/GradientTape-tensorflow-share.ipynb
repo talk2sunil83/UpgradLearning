{
 "cells": [
  {
   "cell_type": "code",
   "execution_count": 3,
   "metadata": {},
   "outputs": [],
   "source": [
    "# y = x^3\n",
    "\n",
    "# dy/dx \n",
    "\n",
    "# and caluclat the value of this dy/dx at x = 5\n",
    "\n",
    "\n",
    "\n",
    "# y = X^3   - 3*X^2 -- 3*5^2 - 3*25 - 75 \n",
    "\n",
    "# Find dy/dx at x =5 "
   ]
  },
  {
   "cell_type": "code",
   "execution_count": 4,
   "metadata": {},
   "outputs": [
    {
     "name": "stderr",
     "output_type": "stream",
     "text": [
      "c:\\users\\user\\anaconda2\\envs\\mypersonal_mentor\\lib\\site-packages\\numpy\\_distributor_init.py:32: UserWarning: loaded more than 1 DLL from .libs:\n",
      "c:\\users\\user\\anaconda2\\envs\\mypersonal_mentor\\lib\\site-packages\\numpy\\.libs\\libopenblas.NOIJJG62EMASZI6NYURL6JBKM4EVBGM7.gfortran-win_amd64.dll\n",
      "c:\\users\\user\\anaconda2\\envs\\mypersonal_mentor\\lib\\site-packages\\numpy\\.libs\\libopenblas.PYQHXLVVQ7VESDPUVUADXEVJOBGHJPAY.gfortran-win_amd64.dll\n",
      "  stacklevel=1)\n"
     ]
    },
    {
     "name": "stdout",
     "output_type": "stream",
     "text": [
      "19531250.0\n"
     ]
    }
   ],
   "source": [
    "import tensorflow as tf\n",
    "\n",
    "x = tf.constant(5.0)\n",
    "\n",
    "\n",
    "with tf.GradientTape() as tape:\n",
    "    tape.watch(x)  # This is only needed when your variable x is constant \n",
    "    y = x**10\n",
    "    \n",
    "print(tape.gradient(y, x).numpy()) # -> 75.0\n",
    "\n",
    "\n",
    "\n",
    "#tape.gradient(y, x) ##  calculat for y with respect to x \n"
   ]
  },
  {
   "cell_type": "code",
   "execution_count": 3,
   "metadata": {},
   "outputs": [],
   "source": [
    "#By default, GradientTape doesn’t track constants, so we must instruct it to with: tape.watch(variable)\n",
    "\n",
    "#We calculate gradients of a calculation w.r.t. a variable with tape.gradient(target, sources). Note, tape.gradient returns an EagerTensor that you can convert to ndarray format with .numpy()"
   ]
  },
  {
   "cell_type": "code",
   "execution_count": 5,
   "metadata": {},
   "outputs": [],
   "source": [
    "import tensorflow as tf\n",
    "\n",
    "\n",
    "## Gradient Tape()  \n",
    "\n",
    "# Helps us in caclualting different gradients in NN "
   ]
  },
  {
   "cell_type": "code",
   "execution_count": 6,
   "metadata": {},
   "outputs": [],
   "source": [
    "x = tf.Variable(5.0, trainable=True)\n",
    "\n",
    "\n",
    "# tf.Variable ## to defined variable in Tensorflow \n"
   ]
  },
  {
   "cell_type": "code",
   "execution_count": 8,
   "metadata": {},
   "outputs": [
    {
     "name": "stdout",
     "output_type": "stream",
     "text": [
      "510.0\n"
     ]
    }
   ],
   "source": [
    "\n",
    "with tf.GradientTape() as tape:\n",
    "    y = x**2 + x**4 \n",
    "\n",
    "print(tape.gradient(y, x).numpy())\n",
    "\n",
    "# 1st order deriavative \n",
    "\n",
    "# dy/dx  \n",
    "\n",
    "# gradient(y,x) - dy/dx"
   ]
  },
  {
   "cell_type": "code",
   "execution_count": 9,
   "metadata": {},
   "outputs": [
    {
     "name": "stdout",
     "output_type": "stream",
     "text": [
      "30.0\n"
     ]
    }
   ],
   "source": [
    "# Double order differentiative \n",
    "\n",
    "# y = x^3\n",
    "# Dy/dx = 3x^2\n",
    "# d2y/d2 = 6x\n",
    "\n",
    "\n",
    "x = tf.Variable(5.0, trainable=True)\n",
    "\n",
    "\n",
    "with tf.GradientTape() as tape1:\n",
    "    with tf.GradientTape() as tape2:\n",
    "        y = x ** 3\n",
    "    order_1 = tape2.gradient(y, x)  # dy/dx\n",
    "order_2 = tape1.gradient(order_1, x)  # d(order_1)/dx  -->>  d(dy/dx)/dx->> Second order derivative \n",
    "\n",
    "print(order_2.numpy()) "
   ]
  }
 ],
 "metadata": {
  "kernelspec": {
   "display_name": "Python 3",
   "language": "python",
   "name": "python3"
  },
  "language_info": {
   "codemirror_mode": {
    "name": "ipython",
    "version": 3
   },
   "file_extension": ".py",
   "mimetype": "text/x-python",
   "name": "python",
   "nbconvert_exporter": "python",
   "pygments_lexer": "ipython3",
   "version": "3.7.7"
  }
 },
 "nbformat": 4,
 "nbformat_minor": 4
}
