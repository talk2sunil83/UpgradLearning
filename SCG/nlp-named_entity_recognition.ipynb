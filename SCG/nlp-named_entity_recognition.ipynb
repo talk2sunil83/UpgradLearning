{
 "cells": [
  {
   "cell_type": "markdown",
   "metadata": {},
   "source": [
    "![Named Entity Recognition](https://cdn-images-1.medium.com/max/800/0*6qNBX5v1XFr1pMvr.jpg)\n",
    "Source: https://hackernoon.com/named-entity-recognition-applications-and-use-cases-c2ef0904e9fe"
   ]
  },
  {
   "cell_type": "code",
   "execution_count": 37,
   "metadata": {},
   "outputs": [],
   "source": [
    "ner_dir = '/stanford/ner/'"
   ]
  },
  {
   "cell_type": "code",
   "execution_count": 38,
   "metadata": {},
   "outputs": [],
   "source": [
    "# Copy from https://en.wikipedia.org/wiki/Stanford_University\n",
    "\n",
    "article = \"The university was founded in 1885 by Leland and Jane Stanford in memory of \\\n",
    "their only child, Leland Stanford Jr., who had died of typhoid fever at age 15 the previous \\\n",
    "year. Stanford was a former Governor of California and U.S. Senator; he made his fortune as a railroad tycoon. \\\n",
    "The school admitted its first students on October 1, 1891,[2][3] as a coeducational and non-denominational institution.\""
   ]
  },
  {
   "cell_type": "code",
   "execution_count": 39,
   "metadata": {},
   "outputs": [],
   "source": [
    "article2 = 'New York, New York , NY N.Y. new york'"
   ]
  },
  {
   "cell_type": "markdown",
   "metadata": {},
   "source": [
    "# Stanford NER"
   ]
  },
  {
   "cell_type": "code",
   "execution_count": 40,
   "metadata": {},
   "outputs": [
    {
     "name": "stdout",
     "output_type": "stream",
     "text": [
      "NTLK Version: 3.4.4\n"
     ]
    }
   ],
   "source": [
    "import nltk\r\n",
    "import os\r\n",
    "java_path = \"C:/Program Files/Java/jdk1.8.0_261/jre/bin/java.exe\"\r\n",
    "os.environ['JAVAHOME'] = java_path\r\n",
    "print('NTLK Version: %s' % nltk.__version__)\r\n",
    "\r\n",
    "from nltk.tag import StanfordNERTagger\r\n",
    "\r\n",
    "stanford_ner_tagger = StanfordNERTagger('english.all.3class.distsim.crf.ser.gz', 'stanford-ner.jar')"
   ]
  },
  {
   "cell_type": "code",
   "execution_count": 41,
   "metadata": {},
   "outputs": [],
   "source": [
    "results = stanford_ner_tagger.tag(article.split())"
   ]
  },
  {
   "cell_type": "code",
   "execution_count": 42,
   "metadata": {},
   "outputs": [
    {
     "name": "stdout",
     "output_type": "stream",
     "text": [
      "Original Sentence: The university was founded in 1885 by Leland and Jane Stanford in memory of their only child, Leland Stanford Jr., who had died of typhoid fever at age 15 the previous year. Stanford was a former Governor of California and U.S. Senator; he made his fortune as a railroad tycoon. The school admitted its first students on October 1, 1891,[2][3] as a coeducational and non-denominational institution.\n",
      "\n",
      "Type: PERSON, Value: Leland\n",
      "Type: PERSON, Value: Jane\n",
      "Type: PERSON, Value: Stanford\n",
      "Type: PERSON, Value: Leland\n",
      "Type: PERSON, Value: Stanford\n",
      "Type: PERSON, Value: Jr.\n",
      "Type: ORGANIZATION, Value: Stanford\n",
      "Type: LOCATION, Value: California\n",
      "Type: LOCATION, Value: U.S.\n"
     ]
    }
   ],
   "source": [
    "print('Original Sentence: %s' % (article))\n",
    "print()\n",
    "for result in results:\n",
    "    tag_value = result[0]\n",
    "    tag_type = result[1]\n",
    "    if tag_type != 'O':\n",
    "        print('Type: %s, Value: %s' % (tag_type, tag_value))"
   ]
  },
  {
   "cell_type": "code",
   "execution_count": 43,
   "metadata": {},
   "outputs": [],
   "source": [
    "results = stanford_ner_tagger.tag(article2.split())"
   ]
  },
  {
   "cell_type": "code",
   "execution_count": 44,
   "metadata": {},
   "outputs": [
    {
     "name": "stdout",
     "output_type": "stream",
     "text": [
      "Original Sentence: New York, New York , NY N.Y. new york\n",
      "\n",
      "Type: LOCATION, Value: New\n",
      "Type: LOCATION, Value: York\n",
      "Type: LOCATION, Value: New\n",
      "Type: LOCATION, Value: York\n",
      "Type: LOCATION, Value: NY\n",
      "Type: LOCATION, Value: N.Y.\n",
      "Type: LOCATION, Value: new\n"
     ]
    }
   ],
   "source": [
    "print('Original Sentence: %s' % (article2))\n",
    "print()\n",
    "for result in results:\n",
    "    tag_value = result[0]\n",
    "    tag_type = result[1]\n",
    "    if tag_type != 'O':\n",
    "        print('Type: %s, Value: %s' % (tag_type, tag_value))"
   ]
  },
  {
   "cell_type": "markdown",
   "metadata": {},
   "source": [
    "# NLTK NE"
   ]
  },
  {
   "cell_type": "code",
   "execution_count": 45,
   "metadata": {},
   "outputs": [
    {
     "name": "stdout",
     "output_type": "stream",
     "text": [
      "NTLK version: 3.4.4\n"
     ]
    },
    {
     "name": "stderr",
     "output_type": "stream",
     "text": [
      "[nltk_data] Downloading package words to\n",
      "[nltk_data]     C:\\Users\\mukjain\\AppData\\Roaming\\nltk_data...\n",
      "[nltk_data]   Package words is already up-to-date!\n",
      "[nltk_data] Downloading package averaged_perceptron_tagger to\n",
      "[nltk_data]     C:\\Users\\mukjain\\AppData\\Roaming\\nltk_data...\n",
      "[nltk_data]   Package averaged_perceptron_tagger is already up-to-\n",
      "[nltk_data]       date!\n",
      "[nltk_data] Downloading package punkt to\n",
      "[nltk_data]     C:\\Users\\mukjain\\AppData\\Roaming\\nltk_data...\n",
      "[nltk_data]   Package punkt is already up-to-date!\n",
      "[nltk_data] Downloading package maxent_ne_chunker to\n",
      "[nltk_data]     C:\\Users\\mukjain\\AppData\\Roaming\\nltk_data...\n",
      "[nltk_data]   Package maxent_ne_chunker is already up-to-date!\n"
     ]
    },
    {
     "data": {
      "text/plain": [
       "True"
      ]
     },
     "execution_count": 45,
     "metadata": {},
     "output_type": "execute_result"
    }
   ],
   "source": [
    "import nltk\n",
    "\n",
    "print('NTLK version: %s' % (nltk.__version__))\n",
    "\n",
    "from nltk import word_tokenize, pos_tag, ne_chunk\n",
    "\n",
    "nltk.download('words')\n",
    "nltk.download('averaged_perceptron_tagger')\n",
    "nltk.download('punkt')\n",
    "nltk.download('maxent_ne_chunker')"
   ]
  },
  {
   "cell_type": "code",
   "execution_count": 46,
   "metadata": {},
   "outputs": [],
   "source": [
    "results = ne_chunk(pos_tag(word_tokenize(article)))"
   ]
  },
  {
   "cell_type": "code",
   "execution_count": 47,
   "metadata": {},
   "outputs": [
    {
     "name": "stdout",
     "output_type": "stream",
     "text": [
      "Original Sentence: The university was founded in 1885 by Leland and Jane Stanford in memory of their only child, Leland Stanford Jr., who had died of typhoid fever at age 15 the previous year. Stanford was a former Governor of California and U.S. Senator; he made his fortune as a railroad tycoon. The school admitted its first students on October 1, 1891,[2][3] as a coeducational and non-denominational institution.\n",
      "\n",
      "  (GPE Leland/NNP)\n",
      "  (PERSON Jane/NNP Stanford/NNP)\n",
      "  (GPE Leland/NNP)\n",
      "  Stanford/NNP\n",
      "  Jr./NNP\n",
      "  (PERSON Stanford/NNP)\n",
      "  Governor/NNP\n",
      "  (GPE California/NNP)\n",
      "  (GPE U.S/NNP)\n",
      "  Senator/NNP\n",
      "  October/NNP\n",
      "  ]/NNP\n"
     ]
    }
   ],
   "source": [
    "print('Original Sentence: %s' % (article))\n",
    "print()\n",
    "for x in str(results).split('\\n'):\n",
    "    if '/NNP' in x:\n",
    "        print(x)"
   ]
  },
  {
   "cell_type": "code",
   "execution_count": 48,
   "metadata": {},
   "outputs": [],
   "source": [
    "results = ne_chunk(pos_tag(word_tokenize(article2)))"
   ]
  },
  {
   "cell_type": "code",
   "execution_count": 49,
   "metadata": {},
   "outputs": [
    {
     "name": "stdout",
     "output_type": "stream",
     "text": [
      "Original Sentence: New York, New York , NY N.Y. new york\n",
      "\n",
      "  (GPE New/NNP York/NNP)\n",
      "  (GPE New/NNP York/NNP)\n",
      "  (ORGANIZATION NY/NNP)\n",
      "  N.Y./NNP\n"
     ]
    }
   ],
   "source": [
    "print('Original Sentence: %s' % (article2))\n",
    "print()\n",
    "for x in str(results).split('\\n'):\n",
    "    if '/NNP' in x:\n",
    "        print(x)"
   ]
  },
  {
   "cell_type": "markdown",
   "metadata": {},
   "source": [
    "# Spacy"
   ]
  },
  {
   "cell_type": "code",
   "execution_count": 50,
   "metadata": {},
   "outputs": [
    {
     "name": "stdout",
     "output_type": "stream",
     "text": [
      "spaCy: 2.3.5\n"
     ]
    }
   ],
   "source": [
    "import spacy\n",
    "\n",
    "print('spaCy: %s' % (spacy.__version__))"
   ]
  },
  {
   "cell_type": "code",
   "execution_count": 51,
   "metadata": {},
   "outputs": [],
   "source": [
    "#spacy_nlp = spacy.load('en')\n",
    "spacy_nlp = spacy.load('en_core_web_sm')"
   ]
  },
  {
   "cell_type": "code",
   "execution_count": 52,
   "metadata": {},
   "outputs": [
    {
     "name": "stdout",
     "output_type": "stream",
     "text": [
      "Original Sentence: The university was founded in 1885 by Leland and Jane Stanford in memory of their only child, Leland Stanford Jr., who had died of typhoid fever at age 15 the previous year. Stanford was a former Governor of California and U.S. Senator; he made his fortune as a railroad tycoon. The school admitted its first students on October 1, 1891,[2][3] as a coeducational and non-denominational institution.\n",
      "\n",
      "Type: DATE, Value: 1885\n",
      "Type: PERSON, Value: Leland\n",
      "Type: PERSON, Value: Jane Stanford\n",
      "Type: PERSON, Value: Leland Stanford Jr.\n",
      "Type: DATE, Value: the previous year\n",
      "Type: ORG, Value: Stanford\n",
      "Type: GPE, Value: California\n",
      "Type: GPE, Value: U.S.\n",
      "Type: ORDINAL, Value: first\n",
      "Type: DATE, Value: October 1\n"
     ]
    }
   ],
   "source": [
    "document = spacy_nlp(article)\n",
    "\n",
    "print('Original Sentence: %s' % (article))\n",
    "print()\n",
    "for element in document.ents:\n",
    "    print('Type: %s, Value: %s' % (element.label_, element))"
   ]
  },
  {
   "cell_type": "code",
   "execution_count": 53,
   "metadata": {},
   "outputs": [
    {
     "name": "stdout",
     "output_type": "stream",
     "text": [
      "Original Sentence: New York, New York , NY N.Y. new york\n",
      "\n",
      "Type: GPE, Value: New York\n",
      "Type: GPE, Value: New York\n",
      "Type: GPE, Value: NY N.Y.\n",
      "Type: GPE, Value: new york\n"
     ]
    }
   ],
   "source": [
    "document = spacy_nlp(article2)\n",
    "\n",
    "print('Original Sentence: %s' % (article2))\n",
    "print()\n",
    "for element in document.ents:\n",
    "    print('Type: %s, Value: %s' % (element.label_, element))"
   ]
  }
 ],
 "metadata": {
  "kernelspec": {
   "display_name": "Python 3",
   "language": "python",
   "name": "python3"
  },
  "language_info": {
   "codemirror_mode": {
    "name": "ipython",
    "version": 3
   },
   "file_extension": ".py",
   "mimetype": "text/x-python",
   "name": "python",
   "nbconvert_exporter": "python",
   "pygments_lexer": "ipython3",
   "version": "3.7.3"
  }
 },
 "nbformat": 4,
 "nbformat_minor": 2
}