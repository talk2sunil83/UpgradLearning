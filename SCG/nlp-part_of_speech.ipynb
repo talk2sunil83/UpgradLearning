{
 "cells": [
  {
   "cell_type": "markdown",
   "metadata": {},
   "source": [
    "![Part of Speech](https://dailygenius.com/wp-content/uploads/2014/09/handwriting1.jpg)\n",
    "\n",
    "Source: https://dailygenius.com/handwriting-helps-learn-graphic/\n",
    "\n",
    "https://www.ling.upenn.edu/courses/Fall_2003/ling001/penn_treebank_pos.html"
   ]
  },
  {
   "cell_type": "markdown",
   "metadata": {},
   "source": [
    "# Part of Speech\n",
    "\n",
    "Part of Speech, aka POS, is referring to category of words. Same category of words can represent similar behavior. For example, \"Word\" is a noun while \"Run\" is a verb. To have a better understanding on article, we have to know the POS. \n",
    "\n",
    "In NLP, POS is an important part but we may not always deal with it directly. Lemmanization and Stemming process relies on POS but some libraries (e.g. spaCy) is very nice that helped us to tackle it.\n",
    "\n",
    "In English, we have noun, adjective, conjunction etc. Sometimes, same word can have both verb and noun. In Chinese, two major categories are Content Word and Function words which including noun, adverb, conjunction as well. \n",
    "This article includes how we can do it for English (via spaCy) and Chinese (via jieba)."
   ]
  },
  {
   "cell_type": "code",
   "execution_count": 12,
   "metadata": {},
   "outputs": [],
   "source": [
    "# Catpure from https://en.wikipedia.org/wiki/Part_of_speech\n",
    "\n",
    "article = 'In traditional grammar, a part of speech (abbreviated form: PoS or POS) is \\\n",
    "a category of words (or, more generally, of lexical items) which have similar grammatical properties. '"
   ]
  },
  {
   "cell_type": "code",
   "execution_count": 13,
   "metadata": {},
   "outputs": [],
   "source": [
    "# Catpure from https://zh.wikipedia.org/wiki/%E8%A9%9E%E9%A1%9E\n",
    "\n",
    "article2 = '詞類是一個語言學術語，是一種語言中詞的語法分類，是以語法特徵\\\n",
    "（包括句法功能和形態變化）為主要依據、兼顧詞彙意義對詞進行劃分的結果。'"
   ]
  },
  {
   "cell_type": "markdown",
   "metadata": {},
   "source": [
    "### spaCy"
   ]
  },
  {
   "cell_type": "code",
   "execution_count": 14,
   "metadata": {},
   "outputs": [
    {
     "name": "stdout",
     "output_type": "stream",
     "text": [
      "spaCy Version: 2.3.5\n"
     ]
    }
   ],
   "source": [
    "import spacy\n",
    "print('spaCy Version: %s' % (spacy.__version__))\n",
    "spacy_nlp = spacy.load('en_core_web_sm')"
   ]
  },
  {
   "cell_type": "markdown",
   "metadata": {},
   "source": [
    "\"a\" is DT which means deteminer. \"part\" is NN which is noun while \"of\" is IN which is preposition."
   ]
  },
  {
   "cell_type": "code",
   "execution_count": 15,
   "metadata": {
    "scrolled": true
   },
   "outputs": [
    {
     "name": "stdout",
     "output_type": "stream",
     "text": [
      "Original Article: In traditional grammar, a part of speech (abbreviated form: PoS or POS) is a category of words (or, more generally, of lexical items) which have similar grammatical properties. \n",
      "\n",
      "Word: In, POS: IN\n",
      "Word: traditional, POS: JJ\n",
      "Word: grammar, POS: NN\n",
      "Word: ,, POS: ,\n",
      "Word: a, POS: DT\n",
      "Word: part, POS: NN\n",
      "Word: of, POS: IN\n",
      "Word: speech, POS: NN\n",
      "Word: (, POS: -LRB-\n",
      "Word: abbreviated, POS: VBN\n",
      "Word: form, POS: NN\n",
      "Word: :, POS: :\n",
      "Word: PoS, POS: NNP\n",
      "Word: or, POS: CC\n",
      "Word: POS, POS: NNP\n",
      "Word: ), POS: -RRB-\n",
      "Word: is, POS: VBZ\n",
      "Word: a, POS: DT\n",
      "Word: category, POS: NN\n",
      "Word: of, POS: IN\n",
      "Word: words, POS: NNS\n",
      "Word: (, POS: -LRB-\n",
      "Word: or, POS: CC\n",
      "Word: ,, POS: ,\n",
      "Word: more, POS: RBR\n",
      "Word: generally, POS: RB\n",
      "Word: ,, POS: ,\n",
      "Word: of, POS: IN\n",
      "Word: lexical, POS: JJ\n",
      "Word: items, POS: NNS\n",
      "Word: ), POS: -RRB-\n",
      "Word: which, POS: WDT\n",
      "Word: have, POS: VBP\n",
      "Word: similar, POS: JJ\n",
      "Word: grammatical, POS: JJ\n",
      "Word: properties, POS: NNS\n",
      "Word: ., POS: .\n"
     ]
    }
   ],
   "source": [
    "doc = spacy_nlp(article)\n",
    "tokens = [token.text for token in doc if not token.is_stop]\n",
    "\n",
    "print('Original Article: %s' % (article))\n",
    "print()\n",
    "for token in doc:\n",
    "    print('Word: %s, POS: %s' % (token.text, token.tag_))"
   ]
  },
  {
   "cell_type": "markdown",
   "metadata": {},
   "source": [
    "### jieba"
   ]
  },
  {
   "cell_type": "code",
   "execution_count": 11,
   "metadata": {},
   "outputs": [
    {
     "name": "stdout",
     "output_type": "stream",
     "text": [
      "jieba Version: 0.42.1\n"
     ]
    }
   ],
   "source": [
    "import jieba\n",
    "print('jieba Version: %s' % jieba.__version__)\n",
    "\n",
    "import jieba.posseg as jieba_pos_tagger"
   ]
  },
  {
   "cell_type": "markdown",
   "metadata": {},
   "source": [
    "\"詞類\" is noun while \"是\" is verb."
   ]
  },
  {
   "cell_type": "code",
   "execution_count": 6,
   "metadata": {
    "scrolled": true
   },
   "outputs": [
    {
     "name": "stderr",
     "output_type": "stream",
     "text": [
      "Building prefix dict from the default dictionary ...\n",
      "Loading model from cache C:\\Users\\mukjain\\AppData\\Local\\Temp\\jieba.cache\n"
     ]
    },
    {
     "name": "stdout",
     "output_type": "stream",
     "text": [
      "Original Article: 詞類是一個語言學術語，是一種語言中詞的語法分類，是以語法特徵（包括句法功能和形態變化）為主要依據、兼顧詞彙意義對詞進行劃分的結果。\n",
      "\n"
     ]
    },
    {
     "name": "stderr",
     "output_type": "stream",
     "text": [
      "Loading model cost 0.957 seconds.\n",
      "Prefix dict has been built successfully.\n"
     ]
    },
    {
     "name": "stdout",
     "output_type": "stream",
     "text": [
      "Word: 詞類, POS: n\n",
      "Word: 是, POS: v\n",
      "Word: 一個, POS: m\n",
      "Word: 語言, POS: n\n",
      "Word: 學術, POS: n\n",
      "Word: 語, POS: n\n",
      "Word: ，, POS: x\n",
      "Word: 是, POS: v\n",
      "Word: 一種, POS: m\n",
      "Word: 語, POS: n\n",
      "Word: 言中, POS: nr\n",
      "Word: 詞, POS: n\n",
      "Word: 的, POS: uj\n",
      "Word: 語法, POS: n\n",
      "Word: 分類, POS: vn\n",
      "Word: ，, POS: x\n",
      "Word: 是, POS: v\n",
      "Word: 以, POS: p\n",
      "Word: 語, POS: n\n",
      "Word: 法特, POS: ns\n",
      "Word: 徵, POS: zg\n",
      "Word: （, POS: x\n",
      "Word: 包括, POS: v\n",
      "Word: 句法, POS: n\n",
      "Word: 功能, POS: n\n",
      "Word: 和, POS: c\n",
      "Word: 形態, POS: n\n",
      "Word: 變化, POS: vn\n",
      "Word: ）, POS: x\n",
      "Word: 為, POS: zg\n",
      "Word: 主要, POS: b\n",
      "Word: 依據, POS: p\n",
      "Word: 、, POS: x\n",
      "Word: 兼顧, POS: v\n",
      "Word: 詞, POS: n\n",
      "Word: 彙, POS: zg\n",
      "Word: 意, POS: ng\n",
      "Word: 義, POS: nt\n",
      "Word: 對, POS: p\n",
      "Word: 詞, POS: n\n",
      "Word: 進, POS: v\n",
      "Word: 行, POS: v\n",
      "Word: 劃, POS: v\n",
      "Word: 分, POS: q\n",
      "Word: 的, POS: uj\n",
      "Word: 結, POS: v\n",
      "Word: 果, POS: ng\n",
      "Word: 。, POS: x\n"
     ]
    }
   ],
   "source": [
    "print('Original Article: %s' % (article2))\n",
    "print()\n",
    "\n",
    "words = jieba_pos_tagger.cut(article2)\n",
    "\n",
    "for word in words:\n",
    "    print('Word: %s, POS: %s' % (word.word, word.flag))"
   ]
  },
  {
   "cell_type": "markdown",
   "metadata": {},
   "source": [
    "# Conclusion\n",
    "\n",
    "POS helps a lot on text pre-processing. For example, we have to know the POS of word in order to perform lemmanization, stemming and stop word removal. These three pre-processing will be discussed in later article. Stay tuned."
   ]
  },
  {
   "cell_type": "markdown",
   "metadata": {},
   "source": [
    "# Reference\n",
    "\n",
    "Standard Syntactic Categories: https://cs.nyu.edu/grishman/jet/guide/PennPOS.html"
   ]
  }
 ],
 "metadata": {
  "kernelspec": {
   "display_name": "Python 3",
   "language": "python",
   "name": "python3"
  },
  "language_info": {
   "codemirror_mode": {
    "name": "ipython",
    "version": 3
   },
   "file_extension": ".py",
   "mimetype": "text/x-python",
   "name": "python",
   "nbconvert_exporter": "python",
   "pygments_lexer": "ipython3",
   "version": "3.7.3"
  }
 },
 "nbformat": 4,
 "nbformat_minor": 2
}
