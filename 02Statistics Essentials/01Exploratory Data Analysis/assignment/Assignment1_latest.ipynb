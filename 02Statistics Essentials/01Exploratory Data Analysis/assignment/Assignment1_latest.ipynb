{
 "cells": [
  {
   "cell_type": "markdown",
   "metadata": {},
   "source": [
    "## Spark Funds Data Analysis\n",
    "Spark Funds wants to make investments in a few companies. The CEO of Spark Funds wants to understand the global trends in investments so that she can take the investment decisions effectively.\n",
    "### Constraints for investments\n",
    "- 5 to 15 million USD\n",
    "- English-speaking countries\n",
    "- Invest where most other investors are investing. This pattern is often observed among early stage startup investors\n",
    "### The objective is to identify the best(where most investors are investing):\n",
    "- sectors : eight 'main sectors'\n",
    "- countries : most heavily invested\n",
    "- a suitable investment type for making investments : investment amounts in the venture, seed, angel, private equity etc\n",
    "### Investment amount increasing order\n",
    "Seed/angel (Startup) ==> venture ==> Private equity\n",
    "\n",
    "*Spark Funds wants to choose one of these four investment types for each potential investment they will make.*"
   ]
  },
  {
   "cell_type": "markdown",
   "metadata": {},
   "source": [
    "###  Imports"
   ]
  },
  {
   "cell_type": "code",
   "execution_count": 1,
   "metadata": {},
   "outputs": [],
   "source": [
    "import csv\n",
    "import functools\n",
    "import operator\n",
    "import string\n",
    "from typing import Collection, Iterable, List, Sequence, Tuple\n",
    "import enchant\n",
    "import matplotlib\n",
    "import matplotlib.pyplot as plt\n",
    "import nltk\n",
    "import numpy as np\n",
    "import pandas as pd\n",
    "import seaborn as sns\n",
    "from colorama import Back, Fore, Style\n",
    "from fuzzywuzzy import fuzz\n",
    "from IPython.display import display\n",
    "from matplotlib.pyplot import title\n",
    "from nltk.corpus import words\n",
    "from numpy.lib.arraysetops import isin, unique\n",
    "from tqdm import tqdm\n",
    "\n",
    "sns.set(style=\"whitegrid\")\n",
    "%matplotlib inline\n",
    "\n"
   ]
  },
  {
   "cell_type": "markdown",
   "metadata": {},
   "source": [
    "### Constant Variable"
   ]
  },
  {
   "cell_type": "code",
   "execution_count": 2,
   "metadata": {},
   "outputs": [],
   "source": [
    "\n",
    "default_ecoding = 'iso-8859-1'\n",
    "dollar_formatting = '${0:,.2f}'\n",
    "float_formatting = '{0:,.2f}'\n",
    "int_formatting = '{0:,.0f}'\n",
    "\n",
    "# Ref: https://www.kaggle.com/maunish/osic-super-cool-eda-and-pytorch-baseline/notebook\n",
    "# used for changing color of text in print statement\n",
    "y_ = Fore.YELLOW\n",
    "r_ = Fore.RED\n",
    "g_ = Fore.GREEN\n",
    "b_ = Fore.BLUE\n",
    "m_ = Fore.MAGENTA\n",
    "sr_ = Style.RESET_ALL\n",
    "\n",
    "\n",
    "# column names\n",
    "name_c = 'name'\n",
    "name_c_clean = 'name_clean'\n",
    "permalink = 'permalink'\n",
    "permalink_clean = 'permalink_clean'\n",
    "homepage_url = 'homepage_url'\n",
    "category_list = 'category_list'\n",
    "category_list_clean = 'category_list_clean'\n",
    "status_c = 'status'\n",
    "country_code_c = 'country_code'\n",
    "country_code_c_clean = 'country_code_clean'\n",
    "primary_sector = 'primary_sector'\n",
    "main_sector = 'main_sector'\n",
    "\n",
    "\n",
    "company_permalink = 'company_permalink'\n",
    "company_permalink_clean = 'company_permalink_clean'\n",
    "funding_round_type = 'funding_round_type'\n",
    "raised_amount_usd = 'raised_amount_usd'"
   ]
  },
  {
   "cell_type": "code",
   "execution_count": 3,
   "metadata": {},
   "outputs": [],
   "source": [
    "def read_nonutf8_encoded_file(file_name, encoding='iso-8859-1'):\n",
    "    return pd.read_csv(file_name, encoding=encoding)"
   ]
  },
  {
   "cell_type": "code",
   "execution_count": 4,
   "metadata": {},
   "outputs": [],
   "source": [
    "companies_raw = read_nonutf8_encoded_file(\"companies.csv\")"
   ]
  },
  {
   "cell_type": "code",
   "execution_count": 5,
   "metadata": {},
   "outputs": [
    {
     "data": {
      "text/plain": [
       "(66368, 10)"
      ]
     },
     "execution_count": 5,
     "metadata": {},
     "output_type": "execute_result"
    }
   ],
   "source": [
    "companies_raw.shape"
   ]
  },
  {
   "cell_type": "code",
   "execution_count": 6,
   "metadata": {},
   "outputs": [
    {
     "data": {
      "text/html": [
       "<div>\n",
       "<style scoped>\n",
       "    .dataframe tbody tr th:only-of-type {\n",
       "        vertical-align: middle;\n",
       "    }\n",
       "\n",
       "    .dataframe tbody tr th {\n",
       "        vertical-align: top;\n",
       "    }\n",
       "\n",
       "    .dataframe thead th {\n",
       "        text-align: right;\n",
       "    }\n",
       "</style>\n",
       "<table border=\"1\" class=\"dataframe\">\n",
       "  <thead>\n",
       "    <tr style=\"text-align: right;\">\n",
       "      <th></th>\n",
       "      <th>permalink</th>\n",
       "      <th>name</th>\n",
       "      <th>homepage_url</th>\n",
       "      <th>category_list</th>\n",
       "      <th>status</th>\n",
       "      <th>country_code</th>\n",
       "      <th>state_code</th>\n",
       "      <th>region</th>\n",
       "      <th>city</th>\n",
       "      <th>founded_at</th>\n",
       "    </tr>\n",
       "  </thead>\n",
       "  <tbody>\n",
       "    <tr>\n",
       "      <th>0</th>\n",
       "      <td>/Organization/-Fame</td>\n",
       "      <td>#fame</td>\n",
       "      <td>http://livfame.com</td>\n",
       "      <td>Media</td>\n",
       "      <td>operating</td>\n",
       "      <td>IND</td>\n",
       "      <td>16</td>\n",
       "      <td>Mumbai</td>\n",
       "      <td>Mumbai</td>\n",
       "      <td>NaN</td>\n",
       "    </tr>\n",
       "    <tr>\n",
       "      <th>1</th>\n",
       "      <td>/Organization/-Qounter</td>\n",
       "      <td>:Qounter</td>\n",
       "      <td>http://www.qounter.com</td>\n",
       "      <td>Application Platforms|Real Time|Social Network...</td>\n",
       "      <td>operating</td>\n",
       "      <td>USA</td>\n",
       "      <td>DE</td>\n",
       "      <td>DE - Other</td>\n",
       "      <td>Delaware City</td>\n",
       "      <td>04-09-2014</td>\n",
       "    </tr>\n",
       "    <tr>\n",
       "      <th>2</th>\n",
       "      <td>/Organization/-The-One-Of-Them-Inc-</td>\n",
       "      <td>(THE) ONE of THEM,Inc.</td>\n",
       "      <td>http://oneofthem.jp</td>\n",
       "      <td>Apps|Games|Mobile</td>\n",
       "      <td>operating</td>\n",
       "      <td>NaN</td>\n",
       "      <td>NaN</td>\n",
       "      <td>NaN</td>\n",
       "      <td>NaN</td>\n",
       "      <td>NaN</td>\n",
       "    </tr>\n",
       "    <tr>\n",
       "      <th>3</th>\n",
       "      <td>/Organization/0-6-Com</td>\n",
       "      <td>0-6.com</td>\n",
       "      <td>http://www.0-6.com</td>\n",
       "      <td>Curated Web</td>\n",
       "      <td>operating</td>\n",
       "      <td>CHN</td>\n",
       "      <td>22</td>\n",
       "      <td>Beijing</td>\n",
       "      <td>Beijing</td>\n",
       "      <td>01-01-2007</td>\n",
       "    </tr>\n",
       "    <tr>\n",
       "      <th>4</th>\n",
       "      <td>/Organization/004-Technologies</td>\n",
       "      <td>004 Technologies</td>\n",
       "      <td>http://004gmbh.de/en/004-interact</td>\n",
       "      <td>Software</td>\n",
       "      <td>operating</td>\n",
       "      <td>USA</td>\n",
       "      <td>IL</td>\n",
       "      <td>Springfield, Illinois</td>\n",
       "      <td>Champaign</td>\n",
       "      <td>01-01-2010</td>\n",
       "    </tr>\n",
       "  </tbody>\n",
       "</table>\n",
       "</div>"
      ],
      "text/plain": [
       "                             permalink                    name  \\\n",
       "0                  /Organization/-Fame                   #fame   \n",
       "1               /Organization/-Qounter                :Qounter   \n",
       "2  /Organization/-The-One-Of-Them-Inc-  (THE) ONE of THEM,Inc.   \n",
       "3                /Organization/0-6-Com                 0-6.com   \n",
       "4       /Organization/004-Technologies        004 Technologies   \n",
       "\n",
       "                        homepage_url  \\\n",
       "0                 http://livfame.com   \n",
       "1             http://www.qounter.com   \n",
       "2                http://oneofthem.jp   \n",
       "3                 http://www.0-6.com   \n",
       "4  http://004gmbh.de/en/004-interact   \n",
       "\n",
       "                                       category_list     status country_code  \\\n",
       "0                                              Media  operating          IND   \n",
       "1  Application Platforms|Real Time|Social Network...  operating          USA   \n",
       "2                                  Apps|Games|Mobile  operating          NaN   \n",
       "3                                        Curated Web  operating          CHN   \n",
       "4                                           Software  operating          USA   \n",
       "\n",
       "  state_code                 region           city  founded_at  \n",
       "0         16                 Mumbai         Mumbai         NaN  \n",
       "1         DE             DE - Other  Delaware City  04-09-2014  \n",
       "2        NaN                    NaN            NaN         NaN  \n",
       "3         22                Beijing        Beijing  01-01-2007  \n",
       "4         IL  Springfield, Illinois      Champaign  01-01-2010  "
      ]
     },
     "execution_count": 6,
     "metadata": {},
     "output_type": "execute_result"
    }
   ],
   "source": [
    "companies_raw.head()"
   ]
  },
  {
   "cell_type": "code",
   "execution_count": 7,
   "metadata": {},
   "outputs": [
    {
     "data": {
      "text/plain": [
       "permalink                             /Organization/51Intern-Com-2\n",
       "name                            51intern.com Ã¨â¹Â±Ã¨â¦Â¾Ã§Â½â\n",
       "homepage_url                               http://www.51intern.com\n",
       "category_list    Career Management|Human Resources|Search|SNS|S...\n",
       "status                                                   operating\n",
       "country_code                                                   CHN\n",
       "state_code                                                      23\n",
       "region                                                    Shanghai\n",
       "city                                                      Shanghai\n",
       "founded_at                                              18-05-2010\n",
       "Name: 422, dtype: object"
      ]
     },
     "execution_count": 7,
     "metadata": {},
     "output_type": "execute_result"
    }
   ],
   "source": [
    "companies_raw.iloc[422]"
   ]
  },
  {
   "cell_type": "markdown",
   "metadata": {},
   "source": [
    "**We need to remove special chars**"
   ]
  },
  {
   "cell_type": "code",
   "execution_count": 8,
   "metadata": {},
   "outputs": [
    {
     "data": {
      "text/plain": [
       "permalink        False\n",
       "name              True\n",
       "homepage_url      True\n",
       "category_list     True\n",
       "status           False\n",
       "country_code      True\n",
       "state_code        True\n",
       "region            True\n",
       "city              True\n",
       "founded_at        True\n",
       "dtype: bool"
      ]
     },
     "execution_count": 8,
     "metadata": {},
     "output_type": "execute_result"
    }
   ],
   "source": [
    "companies_raw.isnull().any()"
   ]
  },
  {
   "cell_type": "code",
   "execution_count": 9,
   "metadata": {},
   "outputs": [
    {
     "data": {
      "text/plain": [
       "54991"
      ]
     },
     "execution_count": 9,
     "metadata": {},
     "output_type": "execute_result"
    }
   ],
   "source": [
    "companies_raw.isnull().sum().sum()\n"
   ]
  },
  {
   "cell_type": "markdown",
   "metadata": {},
   "source": [
    "**Column wise nulls**"
   ]
  },
  {
   "cell_type": "code",
   "execution_count": 10,
   "metadata": {},
   "outputs": [
    {
     "data": {
      "text/plain": [
       "permalink            0\n",
       "name                 1\n",
       "homepage_url      5058\n",
       "category_list     3148\n",
       "status               0\n",
       "country_code      6958\n",
       "state_code        8547\n",
       "region            8030\n",
       "city              8028\n",
       "founded_at       15221\n",
       "dtype: int64"
      ]
     },
     "execution_count": 10,
     "metadata": {},
     "output_type": "execute_result"
    }
   ],
   "source": [
    "companies_raw.isnull().sum()"
   ]
  },
  {
   "cell_type": "markdown",
   "metadata": {},
   "source": [
    "**Nulls percentage**"
   ]
  },
  {
   "cell_type": "code",
   "execution_count": 11,
   "metadata": {},
   "outputs": [
    {
     "data": {
      "text/plain": [
       "permalink         0.000000\n",
       "name              0.001507\n",
       "homepage_url      7.621143\n",
       "category_list     4.743250\n",
       "status            0.000000\n",
       "country_code     10.483968\n",
       "state_code       12.878194\n",
       "region           12.099204\n",
       "city             12.096191\n",
       "founded_at       22.934245\n",
       "dtype: float64"
      ]
     },
     "execution_count": 11,
     "metadata": {},
     "output_type": "execute_result"
    }
   ],
   "source": [
    "((companies_raw.isnull().sum()*100)/companies_raw.shape[0])"
   ]
  },
  {
   "cell_type": "markdown",
   "metadata": {},
   "source": [
    " - founded_at is column with highest missing percentage which is ~23%\n",
    " - state_code,region and city are in ~12-13%\n",
    " - country_code,homepage_url, category_list and name as well have missing values\n",
    " - We will remove founded at, state code, region and country columns\n",
    " - We will remove the rows with missing values in name, category list and home URL columns because they have around 10% missing values\n"
   ]
  },
  {
   "cell_type": "code",
   "execution_count": 12,
   "metadata": {
    "tags": []
   },
   "outputs": [
    {
     "name": "stdout",
     "output_type": "stream",
     "text": [
      "<class 'pandas.core.frame.DataFrame'>\n",
      "RangeIndex: 66368 entries, 0 to 66367\n",
      "Data columns (total 10 columns):\n",
      " #   Column         Non-Null Count  Dtype \n",
      "---  ------         --------------  ----- \n",
      " 0   permalink      66368 non-null  object\n",
      " 1   name           66367 non-null  object\n",
      " 2   homepage_url   61310 non-null  object\n",
      " 3   category_list  63220 non-null  object\n",
      " 4   status         66368 non-null  object\n",
      " 5   country_code   59410 non-null  object\n",
      " 6   state_code     57821 non-null  object\n",
      " 7   region         58338 non-null  object\n",
      " 8   city           58340 non-null  object\n",
      " 9   founded_at     51147 non-null  object\n",
      "dtypes: object(10)\n",
      "memory usage: 5.1+ MB\n"
     ]
    }
   ],
   "source": [
    "companies_raw.info()\n"
   ]
  },
  {
   "cell_type": "code",
   "execution_count": 13,
   "metadata": {},
   "outputs": [
    {
     "data": {
      "text/plain": [
       "#NAME?               4\n",
       "Karma                4\n",
       "Roost                4\n",
       "Spire                4\n",
       "Blink                4\n",
       "                    ..\n",
       "The Richman Group    1\n",
       "24 Quan              1\n",
       "Peeky                1\n",
       "ShortPoint           1\n",
       "Bioheart             1\n",
       "Name: name, Length: 66099, dtype: int64"
      ]
     },
     "execution_count": 13,
     "metadata": {},
     "output_type": "execute_result"
    }
   ],
   "source": [
    "companies_raw[name_c].value_counts()"
   ]
  },
  {
   "cell_type": "code",
   "execution_count": 14,
   "metadata": {},
   "outputs": [
    {
     "data": {
      "text/plain": [
       "/Organization/Mortgagebite-Com              1\n",
       "/Organization/Alignent-Software             1\n",
       "/Organization/Sniffsnout-Com                1\n",
       "/Organization/Silicon-Storage-Technology    1\n",
       "/Organization/Plurogen-Therapeutics         1\n",
       "                                           ..\n",
       "/Organization/Omnino-Llp                    1\n",
       "/Organization/Farm-At-Hand                  1\n",
       "/Organization/Walkbase                      1\n",
       "/Organization/Groupay                       1\n",
       "/Organization/Snowflake-Youth-Foundation    1\n",
       "Name: permalink, Length: 66368, dtype: int64"
      ]
     },
     "execution_count": 14,
     "metadata": {},
     "output_type": "execute_result"
    }
   ],
   "source": [
    "companies_raw[permalink].value_counts()"
   ]
  },
  {
   "cell_type": "code",
   "execution_count": 15,
   "metadata": {},
   "outputs": [
    {
     "data": {
      "text/plain": [
       "array(['Organization'], dtype=object)"
      ]
     },
     "execution_count": 15,
     "metadata": {},
     "output_type": "execute_result"
    }
   ],
   "source": [
    "companies_raw[permalink].apply(lambda x: str(x).split(\"/\")[1]).unique()"
   ]
  },
  {
   "cell_type": "markdown",
   "metadata": {},
   "source": [
    "**As we can see that we have only one prefix \"Organization\" we can remove it if required**"
   ]
  },
  {
   "cell_type": "code",
   "execution_count": 16,
   "metadata": {},
   "outputs": [
    {
     "data": {
      "text/plain": [
       "array(['operating', 'acquired', 'closed', 'ipo'], dtype=object)"
      ]
     },
     "execution_count": 16,
     "metadata": {},
     "output_type": "execute_result"
    }
   ],
   "source": [
    "companies_raw[status_c].unique()\n"
   ]
  },
  {
   "cell_type": "markdown",
   "metadata": {},
   "source": [
    "**We need to remove closed and acquired companies as we can not invest into them**"
   ]
  },
  {
   "cell_type": "code",
   "execution_count": 17,
   "metadata": {},
   "outputs": [],
   "source": [
    "rounds2_raw = read_nonutf8_encoded_file(\"rounds2.csv\")\n"
   ]
  },
  {
   "cell_type": "code",
   "execution_count": 18,
   "metadata": {},
   "outputs": [
    {
     "data": {
      "text/html": [
       "<div>\n",
       "<style scoped>\n",
       "    .dataframe tbody tr th:only-of-type {\n",
       "        vertical-align: middle;\n",
       "    }\n",
       "\n",
       "    .dataframe tbody tr th {\n",
       "        vertical-align: top;\n",
       "    }\n",
       "\n",
       "    .dataframe thead th {\n",
       "        text-align: right;\n",
       "    }\n",
       "</style>\n",
       "<table border=\"1\" class=\"dataframe\">\n",
       "  <thead>\n",
       "    <tr style=\"text-align: right;\">\n",
       "      <th></th>\n",
       "      <th>company_permalink</th>\n",
       "      <th>funding_round_permalink</th>\n",
       "      <th>funding_round_type</th>\n",
       "      <th>funding_round_code</th>\n",
       "      <th>funded_at</th>\n",
       "      <th>raised_amount_usd</th>\n",
       "    </tr>\n",
       "  </thead>\n",
       "  <tbody>\n",
       "    <tr>\n",
       "      <th>0</th>\n",
       "      <td>/organization/-fame</td>\n",
       "      <td>/funding-round/9a01d05418af9f794eebff7ace91f638</td>\n",
       "      <td>venture</td>\n",
       "      <td>B</td>\n",
       "      <td>05-01-2015</td>\n",
       "      <td>10000000.0</td>\n",
       "    </tr>\n",
       "    <tr>\n",
       "      <th>1</th>\n",
       "      <td>/ORGANIZATION/-QOUNTER</td>\n",
       "      <td>/funding-round/22dacff496eb7acb2b901dec1dfe5633</td>\n",
       "      <td>venture</td>\n",
       "      <td>A</td>\n",
       "      <td>14-10-2014</td>\n",
       "      <td>NaN</td>\n",
       "    </tr>\n",
       "    <tr>\n",
       "      <th>2</th>\n",
       "      <td>/organization/-qounter</td>\n",
       "      <td>/funding-round/b44fbb94153f6cdef13083530bb48030</td>\n",
       "      <td>seed</td>\n",
       "      <td>NaN</td>\n",
       "      <td>01-03-2014</td>\n",
       "      <td>700000.0</td>\n",
       "    </tr>\n",
       "    <tr>\n",
       "      <th>3</th>\n",
       "      <td>/ORGANIZATION/-THE-ONE-OF-THEM-INC-</td>\n",
       "      <td>/funding-round/650b8f704416801069bb178a1418776b</td>\n",
       "      <td>venture</td>\n",
       "      <td>B</td>\n",
       "      <td>30-01-2014</td>\n",
       "      <td>3406878.0</td>\n",
       "    </tr>\n",
       "    <tr>\n",
       "      <th>4</th>\n",
       "      <td>/organization/0-6-com</td>\n",
       "      <td>/funding-round/5727accaeaa57461bd22a9bdd945382d</td>\n",
       "      <td>venture</td>\n",
       "      <td>A</td>\n",
       "      <td>19-03-2008</td>\n",
       "      <td>2000000.0</td>\n",
       "    </tr>\n",
       "  </tbody>\n",
       "</table>\n",
       "</div>"
      ],
      "text/plain": [
       "                     company_permalink  \\\n",
       "0                  /organization/-fame   \n",
       "1               /ORGANIZATION/-QOUNTER   \n",
       "2               /organization/-qounter   \n",
       "3  /ORGANIZATION/-THE-ONE-OF-THEM-INC-   \n",
       "4                /organization/0-6-com   \n",
       "\n",
       "                           funding_round_permalink funding_round_type  \\\n",
       "0  /funding-round/9a01d05418af9f794eebff7ace91f638            venture   \n",
       "1  /funding-round/22dacff496eb7acb2b901dec1dfe5633            venture   \n",
       "2  /funding-round/b44fbb94153f6cdef13083530bb48030               seed   \n",
       "3  /funding-round/650b8f704416801069bb178a1418776b            venture   \n",
       "4  /funding-round/5727accaeaa57461bd22a9bdd945382d            venture   \n",
       "\n",
       "  funding_round_code   funded_at  raised_amount_usd  \n",
       "0                  B  05-01-2015         10000000.0  \n",
       "1                  A  14-10-2014                NaN  \n",
       "2                NaN  01-03-2014           700000.0  \n",
       "3                  B  30-01-2014          3406878.0  \n",
       "4                  A  19-03-2008          2000000.0  "
      ]
     },
     "execution_count": 18,
     "metadata": {},
     "output_type": "execute_result"
    }
   ],
   "source": [
    "rounds2_raw.head()"
   ]
  },
  {
   "cell_type": "markdown",
   "metadata": {},
   "source": [
    "**We'll keep only company_permalink, funding_round_type, raised_amount_usd and drop funding_round_permalink, funding_round_code, funded_at as these are not required in our analysis**"
   ]
  },
  {
   "cell_type": "code",
   "execution_count": 19,
   "metadata": {
    "tags": []
   },
   "outputs": [
    {
     "name": "stdout",
     "output_type": "stream",
     "text": [
      "<class 'pandas.core.frame.DataFrame'>\n",
      "RangeIndex: 114949 entries, 0 to 114948\n",
      "Data columns (total 6 columns):\n",
      " #   Column                   Non-Null Count   Dtype  \n",
      "---  ------                   --------------   -----  \n",
      " 0   company_permalink        114949 non-null  object \n",
      " 1   funding_round_permalink  114949 non-null  object \n",
      " 2   funding_round_type       114949 non-null  object \n",
      " 3   funding_round_code       31140 non-null   object \n",
      " 4   funded_at                114949 non-null  object \n",
      " 5   raised_amount_usd        94959 non-null   float64\n",
      "dtypes: float64(1), object(5)\n",
      "memory usage: 5.3+ MB\n"
     ]
    }
   ],
   "source": [
    "rounds2_raw.info()"
   ]
  },
  {
   "cell_type": "code",
   "execution_count": 20,
   "metadata": {},
   "outputs": [
    {
     "data": {
      "text/plain": [
       "(114949, 6)"
      ]
     },
     "execution_count": 20,
     "metadata": {},
     "output_type": "execute_result"
    }
   ],
   "source": [
    "rounds2_raw.shape"
   ]
  },
  {
   "cell_type": "code",
   "execution_count": 21,
   "metadata": {},
   "outputs": [
    {
     "data": {
      "text/plain": [
       "103799"
      ]
     },
     "execution_count": 21,
     "metadata": {},
     "output_type": "execute_result"
    }
   ],
   "source": [
    "rounds2_raw.isnull().sum().sum()"
   ]
  },
  {
   "cell_type": "markdown",
   "metadata": {},
   "source": [
    "Column wise nulls"
   ]
  },
  {
   "cell_type": "code",
   "execution_count": 22,
   "metadata": {},
   "outputs": [
    {
     "data": {
      "text/plain": [
       "company_permalink              0\n",
       "funding_round_permalink        0\n",
       "funding_round_type             0\n",
       "funding_round_code         83809\n",
       "funded_at                      0\n",
       "raised_amount_usd          19990\n",
       "dtype: int64"
      ]
     },
     "execution_count": 22,
     "metadata": {},
     "output_type": "execute_result"
    }
   ],
   "source": [
    "rounds2_raw.isnull().sum()"
   ]
  },
  {
   "cell_type": "markdown",
   "metadata": {},
   "source": [
    "Nulls percentage"
   ]
  },
  {
   "cell_type": "code",
   "execution_count": 23,
   "metadata": {},
   "outputs": [
    {
     "data": {
      "text/plain": [
       "company_permalink           0.000000\n",
       "funding_round_permalink     0.000000\n",
       "funding_round_type          0.000000\n",
       "funding_round_code         72.909725\n",
       "funded_at                   0.000000\n",
       "raised_amount_usd          17.390321\n",
       "dtype: float64"
      ]
     },
     "execution_count": 23,
     "metadata": {},
     "output_type": "execute_result"
    }
   ],
   "source": [
    "((rounds2_raw.isnull().sum()*100)/rounds2_raw.shape[0])"
   ]
  },
  {
   "cell_type": "markdown",
   "metadata": {},
   "source": [
    " - **funding_round_code column should be removed and the rows with null values in raised_amount_usd column**"
   ]
  },
  {
   "cell_type": "code",
   "execution_count": 24,
   "metadata": {},
   "outputs": [
    {
     "data": {
      "text/plain": [
       "company_permalink           object\n",
       "funding_round_permalink     object\n",
       "funding_round_type          object\n",
       "funding_round_code          object\n",
       "funded_at                   object\n",
       "raised_amount_usd          float64\n",
       "dtype: object"
      ]
     },
     "execution_count": 24,
     "metadata": {},
     "output_type": "execute_result"
    }
   ],
   "source": [
    "rounds2_raw.dtypes"
   ]
  },
  {
   "cell_type": "code",
   "execution_count": 25,
   "metadata": {},
   "outputs": [
    {
     "data": {
      "text/plain": [
       "count    9.495900e+04\n",
       "mean     1.042687e+07\n",
       "std      1.148212e+08\n",
       "min      0.000000e+00\n",
       "25%      3.225000e+05\n",
       "50%      1.680511e+06\n",
       "75%      7.000000e+06\n",
       "max      2.127194e+10\n",
       "Name: raised_amount_usd, dtype: float64"
      ]
     },
     "execution_count": 25,
     "metadata": {},
     "output_type": "execute_result"
    }
   ],
   "source": [
    "rounds2_raw[raised_amount_usd].describe()"
   ]
  },
  {
   "cell_type": "markdown",
   "metadata": {},
   "source": [
    " - We can see that all values are positive"
   ]
  },
  {
   "cell_type": "code",
   "execution_count": 26,
   "metadata": {},
   "outputs": [
    {
     "data": {
      "text/plain": [
       "<AxesSubplot:>"
      ]
     },
     "execution_count": 26,
     "metadata": {},
     "output_type": "execute_result"
    },
    {
     "data": {
      "image/png": "[encoded data removed]",
      "text/plain": [
       "<Figure size 432x288 with 1 Axes>"
      ]
     },
     "metadata": {
      "needs_background": "light"
     },
     "output_type": "display_data"
    }
   ],
   "source": [
    "rounds2_raw[raised_amount_usd].plot(kind='box')"
   ]
  },
  {
   "cell_type": "markdown",
   "metadata": {},
   "source": [
    "- **Values are extremely skewed**"
   ]
  },
  {
   "cell_type": "markdown",
   "metadata": {},
   "source": [
    " ## Checkpoint 1: Data Cleaning 1"
   ]
  },
  {
   "cell_type": "markdown",
   "metadata": {},
   "source": [
    "Cleaning the compamies dataframes"
   ]
  },
  {
   "cell_type": "code",
   "execution_count": 27,
   "metadata": {},
   "outputs": [],
   "source": [
    "alphanumeric = string.ascii_letters + string.digits\n",
    "\n",
    "\n",
    "def clean_permalink(permalink: str) -> str:\n",
    "    \"\"\"cleans and standardize the permalink\n",
    "    Args:\n",
    "        permalink (str): raw permalink\n",
    "\n",
    "    Returns:\n",
    "        str: cleaned and lowercase permalink\n",
    "    \"\"\"\n",
    "    valid_chars = alphanumeric+\"/-\"\n",
    "    return (''.join([ch for ch in permalink if ch in valid_chars])).lower()\n",
    "    # return permalink.encode('utf-8').decode('ascii', 'ignore').lower()\n",
    "\n",
    "\n",
    "def clean_company_name(company_name: str) -> str:\n",
    "    \"\"\"cleans and standardize the company name\n",
    "\n",
    "    Args:\n",
    "        permalink (str): raw company name\n",
    "\n",
    "    Returns:\n",
    "        str: cleaned and lowercase company name\n",
    "    \"\"\"\n",
    "    # Ref: https://companieshouse.blog.gov.uk/2019/02/14/symbols-and-characters-in-a-company-name/\n",
    "    valid_chars = alphanumeric+\".-(),&@£$€¥#♥;: \"\n",
    "    return (''.join([ch for ch in company_name if ch in valid_chars])).lower()\n",
    "\n",
    "\n",
    "def clean_category_list(category_list: str) -> List[str]:\n",
    "    \"\"\"separates, cleans and standardize the category list\n",
    "\n",
    "    Args:\n",
    "        permalink (str): raw category list\n",
    "\n",
    "    Returns:\n",
    "        str: separated, cleaned and lowercase category list\n",
    "    \"\"\"\n",
    "    # strip and split\n",
    "    category_list = [c.strip() for c in str(category_list).strip().split(\"|\")]\n",
    "    # Remove unwanted characters\n",
    "    category_list = list(map(lambda cn: ''.join(\n",
    "        [ch for ch in cn.lower() if ch in string.ascii_letters]), category_list))\n",
    "    return category_list\n",
    "\n",
    "\n",
    "def clean_companies_data(df: pd.DataFrame) -> pd.DataFrame:\n",
    "    \"\"\"Cleans companies dataframe\n",
    "\n",
    "    Args:\n",
    "        df (pd.DataFrame): Raw companies dataframe\n",
    "\n",
    "    Returns:\n",
    "        pd.DataFrame: Cleaned companies dataframe\n",
    "    \"\"\"\n",
    "    # Fix columns\n",
    "    # dropping homepage_url as I don't see significance\n",
    "    df = df[[\n",
    "        permalink, name_c, category_list, status_c, country_code_c]]\n",
    "\n",
    "    # Fix rows with missing values\n",
    "    df = df[df[name_c].notnull()]\n",
    "    df = df[df[category_list].notnull()]\n",
    "    df = df[df[country_code_c].notnull()]\n",
    "    df = df[df[status_c].isin(['operating', 'ipo'])]\n",
    "\n",
    "    # Standardize and invalid values\n",
    "    df[permalink_clean] = df[permalink].apply(clean_permalink)\n",
    "    df[name_c_clean] = df[name_c].apply(clean_company_name)\n",
    "    # Lets make country list a clean list\n",
    "    df[category_list_clean] = df[category_list].apply(\n",
    "        clean_category_list)\n",
    "    return df\n",
    "\n"
   ]
  },
  {
   "cell_type": "code",
   "execution_count": 28,
   "metadata": {},
   "outputs": [],
   "source": [
    "companies = clean_companies_data(companies_raw)\n",
    "# companies_frame.to_csv(\"companies_frame.csv\", encoding=default_ecoding, quoting=csv.QUOTE_ALL, index=False)\n",
    "\n",
    "# How many unique companies are present in companies?"
   ]
  },
  {
   "cell_type": "code",
   "execution_count": 29,
   "metadata": {
    "tags": []
   },
   "outputs": [
    {
     "name": "stdout",
     "output_type": "stream",
     "text": [
      "Companies:Unique companies before cleaning:66368\n",
      "Companies:Unique companies after cleaning:48353\n"
     ]
    }
   ],
   "source": [
    "unique_companies = companies[permalink_clean].unique()\n",
    "print(\n",
    "    f\"Companies:Unique companies before cleaning:{len(companies_raw[permalink].unique())}\")\n",
    "print(f\"Companies:Unique companies after cleaning:{len(unique_companies)}\")\n"
   ]
  },
  {
   "cell_type": "code",
   "execution_count": 30,
   "metadata": {
    "tags": []
   },
   "outputs": [
    {
     "name": "stdout",
     "output_type": "stream",
     "text": [
      "<class 'pandas.core.frame.DataFrame'>\n",
      "Int64Index: 48353 entries, 0 to 66366\n",
      "Data columns (total 8 columns):\n",
      " #   Column               Non-Null Count  Dtype \n",
      "---  ------               --------------  ----- \n",
      " 0   permalink            48353 non-null  object\n",
      " 1   name                 48353 non-null  object\n",
      " 2   category_list        48353 non-null  object\n",
      " 3   status               48353 non-null  object\n",
      " 4   country_code         48353 non-null  object\n",
      " 5   permalink_clean      48353 non-null  object\n",
      " 6   name_clean           48353 non-null  object\n",
      " 7   category_list_clean  48353 non-null  object\n",
      "dtypes: object(8)\n",
      "memory usage: 3.3+ MB\n"
     ]
    }
   ],
   "source": [
    "companies.info()"
   ]
  },
  {
   "cell_type": "markdown",
   "metadata": {},
   "source": [
    "Cleaning the rounds2 dataframe"
   ]
  },
  {
   "cell_type": "code",
   "execution_count": 31,
   "metadata": {},
   "outputs": [],
   "source": [
    "\n",
    "\n",
    "def clean_rounds2_frame(df: pd.DataFrame) -> pd.DataFrame:\n",
    "    \"\"\" Cleans Rounds2 dataframe\n",
    "\n",
    "    Args:\n",
    "        df (pd.DataFrame): Raw Rounds2 dataframe\n",
    "\n",
    "    Returns:\n",
    "        pd.DataFrame: Cleaned Rounds2 dataframe\n",
    "    \"\"\"\n",
    "    df = df[[company_permalink, funding_round_type, raised_amount_usd]]\n",
    "    df[company_permalink_clean] = df[company_permalink].apply(clean_permalink)\n",
    "    # Filtering\n",
    "    df = df[df[raised_amount_usd].notnull()]\n",
    "    # pick only compamies which are present in cleaned compamies frame\n",
    "    df = df[df[company_permalink_clean].isin(unique_companies)]\n",
    "    return df"
   ]
  },
  {
   "cell_type": "code",
   "execution_count": 32,
   "metadata": {},
   "outputs": [
    {
     "name": "stderr",
     "output_type": "stream",
     "text": [
      "<ipython-input-31-10ca24ce291f>:11: SettingWithCopyWarning: \n",
      "A value is trying to be set on a copy of a slice from a DataFrame.\n",
      "Try using .loc[row_indexer,col_indexer] = value instead\n",
      "\n",
      "See the caveats in the documentation: https://pandas.pydata.org/pandas-docs/stable/user_guide/indexing.html#returning-a-view-versus-a-copy\n",
      "  df[company_permalink_clean] = df[company_permalink].apply(clean_permalink)\n"
     ]
    }
   ],
   "source": [
    "rounds2 = clean_rounds2_frame(rounds2_raw)\n",
    "# rounds2.to_csv(\"rounds2_frame.csv\", encoding=default_ecoding,quoting=csv.QUOTE_ALL, index=False)"
   ]
  },
  {
   "cell_type": "code",
   "execution_count": 33,
   "metadata": {},
   "outputs": [],
   "source": [
    "def print_information() -> None:\n",
    "    \"\"\"Prints answer to few basic questions\"\"\"\n",
    "    print(\n",
    "        f\"Rounds2:Unique companies before cleaning:{len(rounds2_raw[company_permalink].unique())}\")\n",
    "    print(\n",
    "        f\"Rounds2:Unique companies after cleaning:{len(rounds2[company_permalink_clean].unique())}\")\n",
    "    t1 = companies_raw[permalink].str.lower().unique().shape[0]\n",
    "    t2 = rounds2_raw[company_permalink].str.lower().unique().shape[0]\n",
    "    print(f\"Total companies in original companies file: {t1}\")\n",
    "    print(f\"Total companies in original rounds2 file: {t2}\")\n",
    "    print(f\"Compamies count comparision before cleaning: {abs(t1-t2)}\")\n",
    "    t1 = companies[permalink_clean].str.lower().unique().shape[0]\n",
    "    t2 = rounds2[company_permalink_clean].str.lower().unique().shape[0]\n",
    "    print(f\"Total companies in cleaned companies data: {t1}\")\n",
    "    print(f\"Total companies in cleaned rounds2 data: {t2}\")\n",
    "    print(f\"Compamies count comparision after cleaning: {abs(t1-t2)}\")\n",
    "    print(\n",
    "        f\"companies count diff in companies frame but not in rounds2 frame: {len(set(companies[permalink_clean]) - set(rounds2[company_permalink_clean]))}\")\n",
    "    print(\n",
    "        f\"companies count diff in rounds2 frame but not in companies frame: {len(set(rounds2[company_permalink_clean])-set(companies[permalink_clean]))}\")\n"
   ]
  },
  {
   "cell_type": "code",
   "execution_count": 34,
   "metadata": {
    "tags": []
   },
   "outputs": [
    {
     "name": "stdout",
     "output_type": "stream",
     "text": [
      "Rounds2:Unique companies before cleaning:90247\n",
      "Rounds2:Unique companies after cleaning:40470\n",
      "Total companies in original companies file: 66368\n",
      "Total companies in original rounds2 file: 66370\n",
      "Compamies count comparision before cleaning: 2\n",
      "Total companies in cleaned companies data: 48353\n",
      "Total companies in cleaned rounds2 data: 40470\n",
      "Compamies count comparision after cleaning: 7883\n",
      "companies count diff in companies frame but not in rounds2 frame: 7883\n",
      "companies count diff in rounds2 frame but not in companies frame: 0\n"
     ]
    }
   ],
   "source": [
    "print_information()"
   ]
  },
  {
   "cell_type": "markdown",
   "metadata": {},
   "source": [
    "- We can see that all the companies which are present in rounds2 are also present in companies frame\n",
    "- In the companies data frame, which column can be used as the unique key for each company? Write the name of the column.\n",
    "  - **permalink**\n",
    "- How many unique companies are present in rounds2?\n",
    "  - **Unique companies before cleaning:90247**\n",
    "  - **Unique companies after cleaning:40470**\n",
    "- Are there any companies in the rounds2 file which are not present in companies? Answer yes or no: Y/N\n",
    "  - **Y**"
   ]
  },
  {
   "cell_type": "code",
   "execution_count": 35,
   "metadata": {},
   "outputs": [],
   "source": [
    "def flat_2d_list(lst: Iterable[Iterable]) -> Iterable:\n",
    "    return functools.reduce(operator.iconcat, lst, [])\n",
    "\n",
    "\n",
    "def plot_series(series: pd.Series, title: str, xlabel: str, ylabel: str, display_format: str = '{0:,.0f}', x_rotation=0, y_rotation=0) -> None:\n",
    "    \"\"\"Bar plots a interger series\n",
    "\n",
    "    Args:\n",
    "        series (pd.Series): interger series\n",
    "    \"\"\"\n",
    "    ax = sns.barplot(x=series.index, y=series)\n",
    "    ax.set(xlabel=xlabel, ylabel=ylabel, title=title)\n",
    "    plt.xticks(rotation=x_rotation)\n",
    "    plt.yticks(rotation=y_rotation)\n",
    "    \n",
    "    # Ref: https://github.com/mwaskom/seaborn/issues/1582\n",
    "    for i, p in enumerate(ax.patches):\n",
    "        ax.annotate(display_format.format(series.iloc[i]), (p.get_x() + p.get_width() / 2., p.get_height()),\n",
    "                    ha='center', va='center', xytext=(0, 4), textcoords='offset points')\n",
    "    plt.show()\n",
    "\n",
    "\n",
    "def plot_and_print_companies_information():\n",
    "    company_duplication_count_by_name = companies[name_c_clean].value_counts(\n",
    "    ).value_counts()\n",
    "    display(company_duplication_count_by_name)\n",
    "    plot_series(company_duplication_count_by_name, \"Company duplicate count by name\",\n",
    "                \"Duplicate Count\", \"Company Count\")\n",
    "    flattened_categories = pd.Series(flat_2d_list(\n",
    "        companies[category_list_clean])).value_counts().nlargest(5)\n",
    "    display(flattened_categories)\n",
    "    plot_series(flattened_categories, \"Top 5 categories\", \"Category\", \"Count\")\n",
    "    top10_countries_forcompany_count = companies[country_code_c].value_counts(\n",
    "    ).nlargest(10)\n",
    "    display(top10_countries_forcompany_count)\n",
    "    plot_series(top10_countries_forcompany_count,\n",
    "                \"Top 10 countries with most companies\", \"Country\", \"Company Count\")\n",
    "\n"
   ]
  },
  {
   "cell_type": "code",
   "execution_count": 36,
   "metadata": {},
   "outputs": [
    {
     "data": {
      "text/plain": [
       "1    48034\n",
       "2      143\n",
       "3        7\n",
       "4        3\n",
       "Name: name_clean, dtype: int64"
      ]
     },
     "metadata": {},
     "output_type": "display_data"
    },
    {
     "data": {
      "image/png": "[encoded data removed]",
      "text/plain": [
       "<Figure size 432x288 with 1 Axes>"
      ]
     },
     "metadata": {
      "needs_background": "light"
     },
     "output_type": "display_data"
    },
    {
     "data": {
      "text/plain": [
       "software         6635\n",
       "mobile           4126\n",
       "biotechnology    3784\n",
       "ecommerce        3284\n",
       "socialmedia      2040\n",
       "dtype: int64"
      ]
     },
     "metadata": {},
     "output_type": "display_data"
    },
    {
     "data": {
      "image/png": "[encoded data removed]",
      "text/plain": [
       "<Figure size 432x288 with 1 Axes>"
      ]
     },
     "metadata": {
      "needs_background": "light"
     },
     "output_type": "display_data"
    },
    {
     "data": {
      "text/plain": [
       "USA    29845\n",
       "GBR     3109\n",
       "CAN     1567\n",
       "IND     1440\n",
       "CHN     1413\n",
       "FRA      952\n",
       "DEU      878\n",
       "ISR      789\n",
       "ESP      646\n",
       "AUS      428\n",
       "Name: country_code, dtype: int64"
      ]
     },
     "metadata": {},
     "output_type": "display_data"
    },
    {
     "data": {
      "image/png": "[encoded data removed]",
      "text/plain": [
       "<Figure size 432x288 with 1 Axes>"
      ]
     },
     "metadata": {
      "needs_background": "light"
     },
     "output_type": "display_data"
    }
   ],
   "source": [
    "plot_and_print_companies_information()"
   ]
  },
  {
   "cell_type": "markdown",
   "metadata": {},
   "source": [
    "### In above results and plots we can see that\n",
    " - in companies file (for name field)\n",
    "   - 48034 companies have single entry\n",
    "   - 143 companies are duplicated once\n",
    "   - 7 companies are duplicated thrice\n",
    "   - 3 companies are duplicated four times\n",
    "     - Note: We can analyse why and which companies are duplicated names\n",
    " - software(6635), mobile(4126), biotechnology(3784), ecommerce(3284), socialmedia(2040) are the top fields where companies are working now a days\n",
    " - USA(29845), GBR(3109), CAN(1567), IND(1440), CHN(1413), FRA(952), DEU(878), ISR(789), ESP(646), AUS(428) are top 10 contries with highest companies"
   ]
  },
  {
   "cell_type": "markdown",
   "metadata": {},
   "source": [
    "#### Company name duplication investigation"
   ]
  },
  {
   "cell_type": "code",
   "execution_count": 37,
   "metadata": {},
   "outputs": [],
   "source": [
    "company_names_with_duplicated_entries = (\n",
    "    companies[name_c_clean].value_counts() > 1).index\n",
    "duplicated_companies = companies[companies[name_c_clean].isin(\n",
    "    company_names_with_duplicated_entries)]\n",
    "duplicated_companies.to_csv(\n",
    "    \"duplicated_companies.csv\", index=False, quoting=csv.QUOTE_ALL)\n"
   ]
  },
  {
   "cell_type": "markdown",
   "metadata": {},
   "source": [
    "- **It turns out those are really different companies**"
   ]
  },
  {
   "cell_type": "code",
   "execution_count": 38,
   "metadata": {},
   "outputs": [
    {
     "data": {
      "text/plain": [
       "Index(['company_permalink', 'funding_round_type', 'raised_amount_usd',\n",
       "       'company_permalink_clean'],\n",
       "      dtype='object')"
      ]
     },
     "execution_count": 38,
     "metadata": {},
     "output_type": "execute_result"
    }
   ],
   "source": [
    "rounds2.columns"
   ]
  },
  {
   "cell_type": "code",
   "execution_count": 39,
   "metadata": {},
   "outputs": [],
   "source": [
    "def print_stats(ser_data: pd.Series) -> None:\n",
    "    # https://www.kaggle.com/maunish/osic-super-cool-eda-and-pytorch-baseline/notebook\n",
    "    print(f\"{y_}Max value: {ser_data.max()} \\n{r_}Min value: {ser_data.min()}\\n{g_}Mean: {round(ser_data.mean(),2)}\\n{b_}Standard Deviation: {round(ser_data.std(),2)}\")\n",
    "\n",
    "\n",
    "def plot_investmet_count_distribution(ser_data: pd.Series, color: str, title: str, xlabel: str, ylabel: str, show_stats=True) -> None:\n",
    "    plt.figure(dpi=100)\n",
    "    ax = sns.distplot(ser_data, color=color)\n",
    "    ax.set(xlabel=xlabel, ylabel=ylabel, title=title)\n",
    "    # https://html.developreference.com/article/13223515/Matplotlib+float+values+on+the+axis+instead+of+integers\n",
    "    locator = matplotlib.ticker.MultipleLocator(2)\n",
    "    plt.gca().xaxis.set_major_locator(locator)\n",
    "    formatter = matplotlib.ticker.StrMethodFormatter(\"{x:.0f}\")\n",
    "    plt.gca().xaxis.set_major_formatter(formatter)\n",
    "    if show_stats:\n",
    "        print_stats(ser_data)\n",
    "    plt.show()"
   ]
  },
  {
   "cell_type": "code",
   "execution_count": 40,
   "metadata": {
    "tags": []
   },
   "outputs": [
    {
     "name": "stdout",
     "output_type": "stream",
     "text": [
      "\u001b[33mMax value: 19 \n",
      "\u001b[31mMin value: 1\n",
      "\u001b[32mMean: 1.8\n",
      "\u001b[34mStandard Deviation: 1.41\n"
     ]
    },
    {
     "data": {
      "image/png": "[encoded data removed]",
      "text/plain": [
       "<Figure size 600x400 with 1 Axes>"
      ]
     },
     "metadata": {
      "needs_background": "light"
     },
     "output_type": "display_data"
    }
   ],
   "source": [
    "plot_investmet_count_distribution(\n",
    "    rounds2[company_permalink_clean].value_counts(),\n",
    "    'blue',\n",
    "    \"Investmet count distribution\",\n",
    "    \"Investment counts\",\n",
    "    \"\"\n",
    ")"
   ]
  },
  {
   "cell_type": "code",
   "execution_count": 41,
   "metadata": {},
   "outputs": [],
   "source": [
    "def plot_investmet_distribution(ser_data: pd.Series, color: str, title: str, xlabel: str, ylabel: str, show_stats=True) -> None:\n",
    "    plt.figure(dpi=100)\n",
    "    ax = sns.distplot(ser_data, color=color)\n",
    "    ax.set(xlabel=xlabel, ylabel=ylabel, title=title)\n",
    "    if show_stats:\n",
    "        print_stats(ser_data)\n",
    "    plt.show()"
   ]
  },
  {
   "cell_type": "code",
   "execution_count": 42,
   "metadata": {
    "tags": []
   },
   "outputs": [
    {
     "name": "stdout",
     "output_type": "stream",
     "text": [
      "\u001b[33mMax value: 23.780654435222438 \n",
      "\u001b[31mMin value: 0.0\n",
      "\u001b[32mMean: 14.11\n",
      "\u001b[34mStandard Deviation: 2.15\n"
     ]
    },
    {
     "data": {
      "image/png": "[encoded data removed]",
      "text/plain": [
       "<Figure size 600x400 with 1 Axes>"
      ]
     },
     "metadata": {
      "needs_background": "light"
     },
     "output_type": "display_data"
    }
   ],
   "source": [
    "plot_investmet_distribution(\n",
    "    np.log(rounds2[rounds2[raised_amount_usd] > 0][raised_amount_usd]),\n",
    "    'red',\n",
    "    \"Raised amount distribution\",\n",
    "    \"Raised amount\",\n",
    "    \"\"\n",
    ")"
   ]
  },
  {
   "cell_type": "markdown",
   "metadata": {},
   "source": [
    "- **We can see that data is highly skewed**"
   ]
  },
  {
   "cell_type": "code",
   "execution_count": 43,
   "metadata": {
    "tags": []
   },
   "outputs": [
    {
     "name": "stdout",
     "output_type": "stream",
     "text": [
      "\u001b[33mMax value: 23.780654435222438 \n",
      "\u001b[31mMin value: 0.0\n",
      "\u001b[32mMean: 14.11\n",
      "\u001b[34mStandard Deviation: 2.15\n"
     ]
    },
    {
     "data": {
      "image/png": "[encoded data removed]",
      "text/plain": [
       "<Figure size 600x400 with 1 Axes>"
      ]
     },
     "metadata": {
      "needs_background": "light"
     },
     "output_type": "display_data"
    }
   ],
   "source": [
    "plot_investmet_distribution(\n",
    "    np.log(rounds2[rounds2[raised_amount_usd] > 0][raised_amount_usd]),\n",
    "    'red',\n",
    "    \"Raised amount distribution on log scale\",\n",
    "    \"Raised amount(log scale)\",\n",
    "    \"\"\n",
    ")\n"
   ]
  },
  {
   "cell_type": "markdown",
   "metadata": {},
   "source": [
    "- **On log scale it looks like normal distribution, ie original distribution is power distribution**"
   ]
  },
  {
   "cell_type": "markdown",
   "metadata": {},
   "source": [
    "### Lets do box and boxen plot "
   ]
  },
  {
   "cell_type": "code",
   "execution_count": 44,
   "metadata": {},
   "outputs": [],
   "source": [
    "def plot_investmet_boxplot(ser_data: pd.Series, color: str, title: str, xlabel: str, ylabel: str, show_stats=True, is_boxen=False) -> None:\n",
    "    plt.figure(dpi=100)\n",
    "    if is_boxen:\n",
    "        ax = sns.boxenplot(ser_data, color=color)\n",
    "    else:\n",
    "        ax = sns.boxplot(ser_data, color=color)\n",
    "    ax.set(xlabel=xlabel, ylabel=ylabel, title=title)\n",
    "    if show_stats:\n",
    "        print_stats(ser_data)\n",
    "    plt.show()"
   ]
  },
  {
   "cell_type": "code",
   "execution_count": 45,
   "metadata": {
    "tags": []
   },
   "outputs": [
    {
     "name": "stdout",
     "output_type": "stream",
     "text": [
      "\u001b[33mMax value: 21271935000.0 \n",
      "\u001b[31mMin value: 1.0\n",
      "\u001b[32mMean: 10367569.21\n",
      "\u001b[34mStandard Deviation: 120298248.78\n"
     ]
    },
    {
     "data": {
      "image/png": "[encoded data removed]",
      "text/plain": [
       "<Figure size 600x400 with 1 Axes>"
      ]
     },
     "metadata": {
      "needs_background": "light"
     },
     "output_type": "display_data"
    }
   ],
   "source": [
    "plot_investmet_boxplot(\n",
    "    rounds2[rounds2[raised_amount_usd] > 0][raised_amount_usd],\n",
    "    'red',\n",
    "    \"Raised amount distribution\",\n",
    "    \"Raised amount\",\n",
    "    \"\"\n",
    ")"
   ]
  },
  {
   "cell_type": "code",
   "execution_count": 46,
   "metadata": {
    "tags": []
   },
   "outputs": [
    {
     "name": "stdout",
     "output_type": "stream",
     "text": [
      "\u001b[33mMax value: 23.780654435222438 \n",
      "\u001b[31mMin value: 0.0\n",
      "\u001b[32mMean: 14.11\n",
      "\u001b[34mStandard Deviation: 2.15\n"
     ]
    },
    {
     "data": {
      "image/png": "[encoded data removed]",
      "text/plain": [
       "<Figure size 600x400 with 1 Axes>"
      ]
     },
     "metadata": {
      "needs_background": "light"
     },
     "output_type": "display_data"
    }
   ],
   "source": [
    "plot_investmet_boxplot(\n",
    "    np.log(rounds2[rounds2[raised_amount_usd] > 0][raised_amount_usd]),\n",
    "    'red',\n",
    "    \"Raised amount distribution on log scale\",\n",
    "    \"Raised amount(log scale)\",\n",
    "    \"\"\n",
    ")"
   ]
  },
  {
   "cell_type": "code",
   "execution_count": 47,
   "metadata": {
    "tags": []
   },
   "outputs": [
    {
     "name": "stdout",
     "output_type": "stream",
     "text": [
      "\u001b[33mMax value: 21271935000.0 \n",
      "\u001b[31mMin value: 1.0\n",
      "\u001b[32mMean: 10367569.21\n",
      "\u001b[34mStandard Deviation: 120298248.78\n"
     ]
    },
    {
     "data": {
      "image/png": "[encoded data removed]",
      "text/plain": [
       "<Figure size 600x400 with 1 Axes>"
      ]
     },
     "metadata": {
      "needs_background": "light"
     },
     "output_type": "display_data"
    }
   ],
   "source": [
    "plot_investmet_boxplot(\n",
    "    rounds2[rounds2[raised_amount_usd] > 0][raised_amount_usd],\n",
    "    'red',\n",
    "    \"Raised amount distribution\",\n",
    "    \"Raised amount\",\n",
    "    \"\",\n",
    "    is_boxen=True\n",
    ")"
   ]
  },
  {
   "cell_type": "code",
   "execution_count": 48,
   "metadata": {
    "tags": []
   },
   "outputs": [
    {
     "name": "stdout",
     "output_type": "stream",
     "text": [
      "\u001b[33mMax value: 23.780654435222438 \n",
      "\u001b[31mMin value: 0.0\n",
      "\u001b[32mMean: 14.11\n",
      "\u001b[34mStandard Deviation: 2.15\n"
     ]
    },
    {
     "data": {
      "image/png": "[encoded data removed]",
      "text/plain": [
       "<Figure size 600x400 with 1 Axes>"
      ]
     },
     "metadata": {
      "needs_background": "light"
     },
     "output_type": "display_data"
    }
   ],
   "source": [
    "plot_investmet_boxplot(\n",
    "    np.log(rounds2[rounds2[raised_amount_usd] > 0][raised_amount_usd]),\n",
    "    'red',\n",
    "    \"Raised amount distribution on log scale\",\n",
    "    \"Raised amount(log scale)\",\n",
    "    \"\",\n",
    "    is_boxen=True\n",
    ")"
   ]
  },
  {
   "cell_type": "markdown",
   "metadata": {},
   "source": [
    "- **We can see that investments count is externally skewed to right**"
   ]
  },
  {
   "cell_type": "code",
   "execution_count": 49,
   "metadata": {},
   "outputs": [],
   "source": [
    "def print_and_display_funding_types_data() -> None:\n",
    "    funding_type_value_counts = rounds2[funding_round_type].value_counts()\n",
    "    display(funding_type_value_counts)\n",
    "    plt.figure(figsize=(15, 7))\n",
    "    plot_series(funding_type_value_counts, title=\"Funding Type Distribution\",\n",
    "                xlabel=\"Funding Type\", ylabel=\"Investment Count\", x_rotation=45)\n"
   ]
  },
  {
   "cell_type": "code",
   "execution_count": 50,
   "metadata": {},
   "outputs": [
    {
     "data": {
      "text/plain": [
       "venture                  37420\n",
       "seed                     18708\n",
       "debt_financing            5384\n",
       "angel                     3691\n",
       "grant                     1756\n",
       "private_equity            1524\n",
       "convertible_note          1216\n",
       "undisclosed               1183\n",
       "equity_crowdfunding       1113\n",
       "post_ipo_equity            517\n",
       "product_crowdfunding       316\n",
       "post_ipo_debt              130\n",
       "non_equity_assistance       56\n",
       "secondary_market            21\n",
       "Name: funding_round_type, dtype: int64"
      ]
     },
     "metadata": {},
     "output_type": "display_data"
    },
    {
     "data": {
      "image/png": "[encoded data removed]",
      "text/plain": [
       "<Figure size 1080x504 with 1 Axes>"
      ]
     },
     "metadata": {
      "needs_background": "light"
     },
     "output_type": "display_data"
    }
   ],
   "source": [
    "print_and_display_funding_types_data()"
   ]
  },
  {
   "cell_type": "markdown",
   "metadata": {},
   "source": [
    "#### Merge the two data frames so that all variables (columns) in the companies frame are added to the rounds2 data frame. Name the merged frame master_frame. How many observations are present in master_frame?"
   ]
  },
  {
   "cell_type": "code",
   "execution_count": 51,
   "metadata": {},
   "outputs": [
    {
     "data": {
      "text/plain": [
       "73035"
      ]
     },
     "execution_count": 51,
     "metadata": {},
     "output_type": "execute_result"
    }
   ],
   "source": [
    "master_frame = companies.merge(\n",
    "    rounds2,\n",
    "    left_on=permalink_clean,\n",
    "    right_on=company_permalink_clean,\n",
    "    how=\"inner\"\n",
    ")\n",
    "master_frame.shape[0]\n"
   ]
  },
  {
   "cell_type": "markdown",
   "metadata": {},
   "source": [
    "Lets check for nulls now"
   ]
  },
  {
   "cell_type": "code",
   "execution_count": 52,
   "metadata": {},
   "outputs": [
    {
     "data": {
      "text/plain": [
       "permalink                  0\n",
       "name                       0\n",
       "category_list              0\n",
       "status                     0\n",
       "country_code               0\n",
       "permalink_clean            0\n",
       "name_clean                 0\n",
       "category_list_clean        0\n",
       "company_permalink          0\n",
       "funding_round_type         0\n",
       "raised_amount_usd          0\n",
       "company_permalink_clean    0\n",
       "dtype: int64"
      ]
     },
     "execution_count": 52,
     "metadata": {},
     "output_type": "execute_result"
    }
   ],
   "source": [
    "master_frame.isnull().sum()\n"
   ]
  },
  {
   "cell_type": "markdown",
   "metadata": {},
   "source": [
    "As we can see that now we have clean data, we can proceed further"
   ]
  },
  {
   "cell_type": "code",
   "execution_count": 53,
   "metadata": {},
   "outputs": [],
   "source": [
    "# master_frame.to_csv('master_frame.csv', index=False, quoting=csv.QUOTE_ALL)"
   ]
  },
  {
   "cell_type": "markdown",
   "metadata": {},
   "source": [
    "### Checkpoint 2: Funding Type Analysis\n",
    "- 1. Calculate the most representative value of the investment amount for each of the four funding types (venture, angel, seed, and private equity) and report the answers in Table 2.1\n",
    "- 2. Based on the most representative investment amount calculated above, which investment type do you think is the most suitable for Spark Funds?\n",
    "**Considering that Spark Funds wants to invest between 5 to 15 million USD per  investment round, which investment type is the most suitable for them?**"
   ]
  },
  {
   "cell_type": "code",
   "execution_count": 54,
   "metadata": {},
   "outputs": [],
   "source": [
    "def get_average_invested_amounts_funding_round_type() -> pd.DataFrame:\n",
    "    return master_frame[[funding_round_type, raised_amount_usd]].groupby(by=funding_round_type).mean(\n",
    "    ).reset_index().sort_values(by=raised_amount_usd, ascending=False)\n",
    "\n",
    "\n",
    "def print_mean_of_and_most_suited_investment_type() -> None:\n",
    "    average_invested_amounts = get_average_invested_amounts_funding_round_type()\n",
    "    # Ref : https://pbpython.com/styling-pandas.html\n",
    "    format_dict = {raised_amount_usd: '${0:,.2f}'}\n",
    "    display(average_invested_amounts.style.format(format_dict).hide_index())\n",
    "    display(average_invested_amounts[((5000000 <= average_invested_amounts[raised_amount_usd]) & (average_invested_amounts[raised_amount_usd]\n",
    "                                                                                                  <= 15000000))].style.format(format_dict).hide_index())"
   ]
  },
  {
   "cell_type": "code",
   "execution_count": 55,
   "metadata": {},
   "outputs": [
    {
     "data": {
      "text/html": [
       "<style  type=\"text/css\" >\n",
       "</style><table id=\"T_d0657d5e_eac4_11ea_82d6_d4258b08dbe3\" ><thead>    <tr>        <th class=\"col_heading level0 col0\" >funding_round_type</th>        <th class=\"col_heading level0 col1\" >raised_amount_usd</th>    </tr></thead><tbody>\n",
       "                <tr>\n",
       "                                <td id=\"T_d0657d5e_eac4_11ea_82d6_d4258b08dbe3row0_col0\" class=\"data row0 col0\" >post_ipo_debt</td>\n",
       "                        <td id=\"T_d0657d5e_eac4_11ea_82d6_d4258b08dbe3row0_col1\" class=\"data row0 col1\" >$176,579,783.90</td>\n",
       "            </tr>\n",
       "            <tr>\n",
       "                                <td id=\"T_d0657d5e_eac4_11ea_82d6_d4258b08dbe3row1_col0\" class=\"data row1 col0\" >secondary_market</td>\n",
       "                        <td id=\"T_d0657d5e_eac4_11ea_82d6_d4258b08dbe3row1_col1\" class=\"data row1 col1\" >$111,600,186.86</td>\n",
       "            </tr>\n",
       "            <tr>\n",
       "                                <td id=\"T_d0657d5e_eac4_11ea_82d6_d4258b08dbe3row2_col0\" class=\"data row2 col0\" >private_equity</td>\n",
       "                        <td id=\"T_d0657d5e_eac4_11ea_82d6_d4258b08dbe3row2_col1\" class=\"data row2 col1\" >$75,828,605.36</td>\n",
       "            </tr>\n",
       "            <tr>\n",
       "                                <td id=\"T_d0657d5e_eac4_11ea_82d6_d4258b08dbe3row3_col0\" class=\"data row3 col0\" >post_ipo_equity</td>\n",
       "                        <td id=\"T_d0657d5e_eac4_11ea_82d6_d4258b08dbe3row3_col1\" class=\"data row3 col1\" >$52,657,221.49</td>\n",
       "            </tr>\n",
       "            <tr>\n",
       "                                <td id=\"T_d0657d5e_eac4_11ea_82d6_d4258b08dbe3row4_col0\" class=\"data row4 col0\" >debt_financing</td>\n",
       "                        <td id=\"T_d0657d5e_eac4_11ea_82d6_d4258b08dbe3row4_col1\" class=\"data row4 col1\" >$18,312,762.99</td>\n",
       "            </tr>\n",
       "            <tr>\n",
       "                                <td id=\"T_d0657d5e_eac4_11ea_82d6_d4258b08dbe3row5_col0\" class=\"data row5 col0\" >undisclosed</td>\n",
       "                        <td id=\"T_d0657d5e_eac4_11ea_82d6_d4258b08dbe3row5_col1\" class=\"data row5 col1\" >$15,857,723.68</td>\n",
       "            </tr>\n",
       "            <tr>\n",
       "                                <td id=\"T_d0657d5e_eac4_11ea_82d6_d4258b08dbe3row6_col0\" class=\"data row6 col0\" >venture</td>\n",
       "                        <td id=\"T_d0657d5e_eac4_11ea_82d6_d4258b08dbe3row6_col1\" class=\"data row6 col1\" >$11,758,410.32</td>\n",
       "            </tr>\n",
       "            <tr>\n",
       "                                <td id=\"T_d0657d5e_eac4_11ea_82d6_d4258b08dbe3row7_col0\" class=\"data row7 col0\" >grant</td>\n",
       "                        <td id=\"T_d0657d5e_eac4_11ea_82d6_d4258b08dbe3row7_col1\" class=\"data row7 col1\" >$4,347,015.40</td>\n",
       "            </tr>\n",
       "            <tr>\n",
       "                                <td id=\"T_d0657d5e_eac4_11ea_82d6_d4258b08dbe3row8_col0\" class=\"data row8 col0\" >product_crowdfunding</td>\n",
       "                        <td id=\"T_d0657d5e_eac4_11ea_82d6_d4258b08dbe3row8_col1\" class=\"data row8 col1\" >$1,357,521.55</td>\n",
       "            </tr>\n",
       "            <tr>\n",
       "                                <td id=\"T_d0657d5e_eac4_11ea_82d6_d4258b08dbe3row9_col0\" class=\"data row9 col0\" >convertible_note</td>\n",
       "                        <td id=\"T_d0657d5e_eac4_11ea_82d6_d4258b08dbe3row9_col1\" class=\"data row9 col1\" >$1,355,254.19</td>\n",
       "            </tr>\n",
       "            <tr>\n",
       "                                <td id=\"T_d0657d5e_eac4_11ea_82d6_d4258b08dbe3row10_col0\" class=\"data row10 col0\" >angel</td>\n",
       "                        <td id=\"T_d0657d5e_eac4_11ea_82d6_d4258b08dbe3row10_col1\" class=\"data row10 col1\" >$991,179.42</td>\n",
       "            </tr>\n",
       "            <tr>\n",
       "                                <td id=\"T_d0657d5e_eac4_11ea_82d6_d4258b08dbe3row11_col0\" class=\"data row11 col0\" >seed</td>\n",
       "                        <td id=\"T_d0657d5e_eac4_11ea_82d6_d4258b08dbe3row11_col1\" class=\"data row11 col1\" >$753,560.10</td>\n",
       "            </tr>\n",
       "            <tr>\n",
       "                                <td id=\"T_d0657d5e_eac4_11ea_82d6_d4258b08dbe3row12_col0\" class=\"data row12 col0\" >equity_crowdfunding</td>\n",
       "                        <td id=\"T_d0657d5e_eac4_11ea_82d6_d4258b08dbe3row12_col1\" class=\"data row12 col1\" >$503,715.00</td>\n",
       "            </tr>\n",
       "            <tr>\n",
       "                                <td id=\"T_d0657d5e_eac4_11ea_82d6_d4258b08dbe3row13_col0\" class=\"data row13 col0\" >non_equity_assistance</td>\n",
       "                        <td id=\"T_d0657d5e_eac4_11ea_82d6_d4258b08dbe3row13_col1\" class=\"data row13 col1\" >$469,979.75</td>\n",
       "            </tr>\n",
       "    </tbody></table>"
      ],
      "text/plain": [
       "<pandas.io.formats.style.Styler at 0x2a84e802910>"
      ]
     },
     "metadata": {},
     "output_type": "display_data"
    },
    {
     "data": {
      "text/html": [
       "<style  type=\"text/css\" >\n",
       "</style><table id=\"T_d066cb9e_eac4_11ea_bcf9_d4258b08dbe3\" ><thead>    <tr>        <th class=\"col_heading level0 col0\" >funding_round_type</th>        <th class=\"col_heading level0 col1\" >raised_amount_usd</th>    </tr></thead><tbody>\n",
       "                <tr>\n",
       "                                <td id=\"T_d066cb9e_eac4_11ea_bcf9_d4258b08dbe3row0_col0\" class=\"data row0 col0\" >venture</td>\n",
       "                        <td id=\"T_d066cb9e_eac4_11ea_bcf9_d4258b08dbe3row0_col1\" class=\"data row0 col1\" >$11,758,410.32</td>\n",
       "            </tr>\n",
       "    </tbody></table>"
      ],
      "text/plain": [
       "<pandas.io.formats.style.Styler at 0x2a84ec54c40>"
      ]
     },
     "metadata": {},
     "output_type": "display_data"
    }
   ],
   "source": [
    "print_mean_of_and_most_suited_investment_type()"
   ]
  },
  {
   "cell_type": "markdown",
   "metadata": {},
   "source": [
    "### The best investments type will be : venture"
   ]
  },
  {
   "cell_type": "code",
   "execution_count": 56,
   "metadata": {},
   "outputs": [],
   "source": [
    "\n",
    "unfiltered_master_frame = master_frame.copy()\n"
   ]
  },
  {
   "cell_type": "markdown",
   "metadata": {},
   "source": [
    "Identify the investment type and, for further analysis, filter the data so it only contains the chosen investment type."
   ]
  },
  {
   "cell_type": "code",
   "execution_count": 57,
   "metadata": {},
   "outputs": [
    {
     "data": {
      "text/plain": [
       "(73035, 12)"
      ]
     },
     "execution_count": 57,
     "metadata": {},
     "output_type": "execute_result"
    }
   ],
   "source": [
    "master_frame.shape"
   ]
  },
  {
   "cell_type": "code",
   "execution_count": 58,
   "metadata": {},
   "outputs": [],
   "source": [
    "master_frame = master_frame[master_frame[funding_round_type] == 'venture']\n"
   ]
  },
  {
   "cell_type": "code",
   "execution_count": 59,
   "metadata": {},
   "outputs": [
    {
     "data": {
      "text/plain": [
       "(37420, 12)"
      ]
     },
     "execution_count": 59,
     "metadata": {},
     "output_type": "execute_result"
    }
   ],
   "source": [
    "master_frame.shape"
   ]
  },
  {
   "cell_type": "markdown",
   "metadata": {},
   "source": [
    "Ref\n",
    " - https://worldpopulationreview.com/country-rankings/english-speaking-countries\n",
    " - https://raw.githubusercontent.com/stefangabos/world_countries/master/data/en/countries.csv\n",
    " - https://github.com/stefangabos/world_countries"
   ]
  },
  {
   "cell_type": "code",
   "execution_count": 60,
   "metadata": {},
   "outputs": [],
   "source": [
    "\n",
    "\n",
    "def read_english_speaking_country_data() -> None:\n",
    "    countries = pd.read_csv(\"countries.csv\")\n",
    "    countries['name_l'] = countries['name'].str.lower()\n",
    "    eng_countries = pd.read_csv(\"EnglishSpeakingCountries.csv\")\n",
    "    eng_countries = eng_countries['country'].str.lower()\n",
    "    return countries, eng_countries\n",
    "\n",
    "\n",
    "def map_eng_rank_to_ccode(country_to_match, match_series):\n",
    "    res = list(filter(lambda t: fuzz.token_set_ratio(\n",
    "        country_to_match, t) > 90, match_series))\n",
    "    return True if res else False\n",
    "\n",
    "\n",
    "def add_english_speaking_flag_master_frame() -> None:\n",
    "    countries, eng_countries = read_english_speaking_country_data()\n",
    "    countries['IsEnglish'] = countries['name_l'].apply(\n",
    "        lambda n: map_eng_rank_to_ccode(n, eng_countries))\n",
    "    countries['alpha3_u'] = countries['alpha3'].str.upper()\n",
    "    eng_countries_filtered = list(\n",
    "        countries[countries['IsEnglish']]['alpha3_u'])\n",
    "    master_frame['IsEnglish'] = master_frame['country_code'].apply(\n",
    "        lambda cc: cc in eng_countries_filtered)\n",
    "\n"
   ]
  },
  {
   "cell_type": "code",
   "execution_count": 61,
   "metadata": {},
   "outputs": [],
   "source": [
    "add_english_speaking_flag_master_frame()\n",
    "\n"
   ]
  },
  {
   "cell_type": "markdown",
   "metadata": {},
   "source": [
    "## Checkpoint 3: Country Analysis"
   ]
  },
  {
   "cell_type": "code",
   "execution_count": 62,
   "metadata": {},
   "outputs": [],
   "source": [
    "\n",
    "\n",
    "def get_top_n_highest_invested_countries(top_n: int) -> pd.DataFrame:\n",
    "    return master_frame[master_frame['IsEnglish'] == True].groupby(country_code_c)[raised_amount_usd].sum(\n",
    "    ).reset_index().sort_values(by=raised_amount_usd, ascending=False)[:top_n]\n",
    "\n",
    "\n",
    "def print_highest_invested_countries(top_n_data: pd.DataFrame) -> None:\n",
    "    avg_invested_amt_name = 'Average Invested Amount'\n",
    "    top_n_data.columns = ['Country Code', avg_invested_amt_name]\n",
    "    display_style = {avg_invested_amt_name: '${0:,.2f}'}\n",
    "    display(top_n_data.style.format(display_style).hide_index())\n",
    "\n"
   ]
  },
  {
   "cell_type": "markdown",
   "metadata": {},
   "source": [
    "**Spark Funds wants to see the **top nine** countries which have received the highest total funding (across ALL sectors for the chosen investment type)**"
   ]
  },
  {
   "cell_type": "code",
   "execution_count": 63,
   "metadata": {},
   "outputs": [
    {
     "data": {
      "text/html": [
       "<style  type=\"text/css\" >\n",
       "</style><table id=\"T_d0c2f5bf_eac4_11ea_9ccf_d4258b08dbe3\" ><thead>    <tr>        <th class=\"col_heading level0 col0\" >Country Code</th>        <th class=\"col_heading level0 col1\" >Average Invested Amount</th>    </tr></thead><tbody>\n",
       "                <tr>\n",
       "                                <td id=\"T_d0c2f5bf_eac4_11ea_9ccf_d4258b08dbe3row0_col0\" class=\"data row0 col0\" >USA</td>\n",
       "                        <td id=\"T_d0c2f5bf_eac4_11ea_9ccf_d4258b08dbe3row0_col1\" class=\"data row0 col1\" >$319,048,095,051.00</td>\n",
       "            </tr>\n",
       "            <tr>\n",
       "                                <td id=\"T_d0c2f5bf_eac4_11ea_9ccf_d4258b08dbe3row1_col0\" class=\"data row1 col0\" >GBR</td>\n",
       "                        <td id=\"T_d0c2f5bf_eac4_11ea_9ccf_d4258b08dbe3row1_col1\" class=\"data row1 col1\" >$15,131,586,388.00</td>\n",
       "            </tr>\n",
       "            <tr>\n",
       "                                <td id=\"T_d0c2f5bf_eac4_11ea_9ccf_d4258b08dbe3row2_col0\" class=\"data row2 col0\" >IND</td>\n",
       "                        <td id=\"T_d0c2f5bf_eac4_11ea_9ccf_d4258b08dbe3row2_col1\" class=\"data row2 col1\" >$13,325,776,192.00</td>\n",
       "            </tr>\n",
       "            <tr>\n",
       "                                <td id=\"T_d0c2f5bf_eac4_11ea_9ccf_d4258b08dbe3row3_col0\" class=\"data row3 col0\" >CAN</td>\n",
       "                        <td id=\"T_d0c2f5bf_eac4_11ea_9ccf_d4258b08dbe3row3_col1\" class=\"data row3 col1\" >$7,077,008,325.00</td>\n",
       "            </tr>\n",
       "            <tr>\n",
       "                                <td id=\"T_d0c2f5bf_eac4_11ea_9ccf_d4258b08dbe3row4_col0\" class=\"data row4 col0\" >ISR</td>\n",
       "                        <td id=\"T_d0c2f5bf_eac4_11ea_9ccf_d4258b08dbe3row4_col1\" class=\"data row4 col1\" >$5,614,348,319.00</td>\n",
       "            </tr>\n",
       "            <tr>\n",
       "                                <td id=\"T_d0c2f5bf_eac4_11ea_9ccf_d4258b08dbe3row5_col0\" class=\"data row5 col0\" >SGP</td>\n",
       "                        <td id=\"T_d0c2f5bf_eac4_11ea_9ccf_d4258b08dbe3row5_col1\" class=\"data row5 col1\" >$2,630,224,405.00</td>\n",
       "            </tr>\n",
       "            <tr>\n",
       "                                <td id=\"T_d0c2f5bf_eac4_11ea_9ccf_d4258b08dbe3row6_col0\" class=\"data row6 col0\" >IRL</td>\n",
       "                        <td id=\"T_d0c2f5bf_eac4_11ea_9ccf_d4258b08dbe3row6_col1\" class=\"data row6 col1\" >$1,358,509,133.00</td>\n",
       "            </tr>\n",
       "            <tr>\n",
       "                                <td id=\"T_d0c2f5bf_eac4_11ea_9ccf_d4258b08dbe3row7_col0\" class=\"data row7 col0\" >AUS</td>\n",
       "                        <td id=\"T_d0c2f5bf_eac4_11ea_9ccf_d4258b08dbe3row7_col1\" class=\"data row7 col1\" >$1,180,882,474.00</td>\n",
       "            </tr>\n",
       "            <tr>\n",
       "                                <td id=\"T_d0c2f5bf_eac4_11ea_9ccf_d4258b08dbe3row8_col0\" class=\"data row8 col0\" >MYS</td>\n",
       "                        <td id=\"T_d0c2f5bf_eac4_11ea_9ccf_d4258b08dbe3row8_col1\" class=\"data row8 col1\" >$802,567,240.00</td>\n",
       "            </tr>\n",
       "    </tbody></table>"
      ],
      "text/plain": [
       "<pandas.io.formats.style.Styler at 0x2a84e92adc0>"
      ]
     },
     "metadata": {},
     "output_type": "display_data"
    }
   ],
   "source": [
    "top9 = get_top_n_highest_invested_countries(9)\n",
    "print_highest_invested_countries(top9)"
   ]
  },
  {
   "cell_type": "markdown",
   "metadata": {},
   "source": [
    " Identify the top three English-speaking countries in the data frame top9."
   ]
  },
  {
   "cell_type": "code",
   "execution_count": 64,
   "metadata": {},
   "outputs": [
    {
     "data": {
      "text/html": [
       "<style  type=\"text/css\" >\n",
       "</style><table id=\"T_d0c4cd03_eac4_11ea_9e95_d4258b08dbe3\" ><thead>    <tr>        <th class=\"col_heading level0 col0\" >Country Code</th>        <th class=\"col_heading level0 col1\" >Average Invested Amount</th>    </tr></thead><tbody>\n",
       "                <tr>\n",
       "                                <td id=\"T_d0c4cd03_eac4_11ea_9e95_d4258b08dbe3row0_col0\" class=\"data row0 col0\" >USA</td>\n",
       "                        <td id=\"T_d0c4cd03_eac4_11ea_9e95_d4258b08dbe3row0_col1\" class=\"data row0 col1\" >$319,048,095,051.00</td>\n",
       "            </tr>\n",
       "            <tr>\n",
       "                                <td id=\"T_d0c4cd03_eac4_11ea_9e95_d4258b08dbe3row1_col0\" class=\"data row1 col0\" >GBR</td>\n",
       "                        <td id=\"T_d0c4cd03_eac4_11ea_9e95_d4258b08dbe3row1_col1\" class=\"data row1 col1\" >$15,131,586,388.00</td>\n",
       "            </tr>\n",
       "            <tr>\n",
       "                                <td id=\"T_d0c4cd03_eac4_11ea_9e95_d4258b08dbe3row2_col0\" class=\"data row2 col0\" >IND</td>\n",
       "                        <td id=\"T_d0c4cd03_eac4_11ea_9e95_d4258b08dbe3row2_col1\" class=\"data row2 col1\" >$13,325,776,192.00</td>\n",
       "            </tr>\n",
       "    </tbody></table>"
      ],
      "text/plain": [
       "<pandas.io.formats.style.Styler at 0x2a84e93efa0>"
      ]
     },
     "metadata": {},
     "output_type": "display_data"
    }
   ],
   "source": [
    "top3 = top9[:3]\n",
    "print_highest_invested_countries(top3)\n"
   ]
  },
  {
   "cell_type": "markdown",
   "metadata": {},
   "source": [
    " ## Checkpoint 4: Sector Analysis 1"
   ]
  },
  {
   "cell_type": "markdown",
   "metadata": {},
   "source": [
    "### Extracting the primary sector of each category list from the category_list column"
   ]
  },
  {
   "cell_type": "code",
   "execution_count": 65,
   "metadata": {},
   "outputs": [],
   "source": [
    "def extract_primary_sector() -> None:\n",
    "    master_frame[primary_sector] = master_frame[category_list].str.split(\"|\").apply(\n",
    "        lambda c: (c[0].strip()))\n"
   ]
  },
  {
   "cell_type": "code",
   "execution_count": 66,
   "metadata": {},
   "outputs": [],
   "source": [
    "extract_primary_sector()"
   ]
  },
  {
   "cell_type": "code",
   "execution_count": 67,
   "metadata": {},
   "outputs": [
    {
     "data": {
      "text/html": [
       "<div>\n",
       "<style scoped>\n",
       "    .dataframe tbody tr th:only-of-type {\n",
       "        vertical-align: middle;\n",
       "    }\n",
       "\n",
       "    .dataframe tbody tr th {\n",
       "        vertical-align: top;\n",
       "    }\n",
       "\n",
       "    .dataframe thead th {\n",
       "        text-align: right;\n",
       "    }\n",
       "</style>\n",
       "<table border=\"1\" class=\"dataframe\">\n",
       "  <thead>\n",
       "    <tr style=\"text-align: right;\">\n",
       "      <th></th>\n",
       "      <th>category_list</th>\n",
       "      <th>Automotive &amp; Sports</th>\n",
       "      <th>Blanks</th>\n",
       "      <th>Cleantech / Semiconductors</th>\n",
       "      <th>Entertainment</th>\n",
       "      <th>Health</th>\n",
       "      <th>Manufacturing</th>\n",
       "      <th>News, Search and Messaging</th>\n",
       "      <th>Others</th>\n",
       "      <th>Social, Finance, Analytics, Advertising</th>\n",
       "    </tr>\n",
       "  </thead>\n",
       "  <tbody>\n",
       "    <tr>\n",
       "      <th>0</th>\n",
       "      <td>NaN</td>\n",
       "      <td>0</td>\n",
       "      <td>1</td>\n",
       "      <td>0</td>\n",
       "      <td>0</td>\n",
       "      <td>0</td>\n",
       "      <td>0</td>\n",
       "      <td>0</td>\n",
       "      <td>0</td>\n",
       "      <td>0</td>\n",
       "    </tr>\n",
       "    <tr>\n",
       "      <th>1</th>\n",
       "      <td>3D</td>\n",
       "      <td>0</td>\n",
       "      <td>0</td>\n",
       "      <td>0</td>\n",
       "      <td>0</td>\n",
       "      <td>0</td>\n",
       "      <td>1</td>\n",
       "      <td>0</td>\n",
       "      <td>0</td>\n",
       "      <td>0</td>\n",
       "    </tr>\n",
       "    <tr>\n",
       "      <th>2</th>\n",
       "      <td>3D Printing</td>\n",
       "      <td>0</td>\n",
       "      <td>0</td>\n",
       "      <td>0</td>\n",
       "      <td>0</td>\n",
       "      <td>0</td>\n",
       "      <td>1</td>\n",
       "      <td>0</td>\n",
       "      <td>0</td>\n",
       "      <td>0</td>\n",
       "    </tr>\n",
       "    <tr>\n",
       "      <th>3</th>\n",
       "      <td>3D Technology</td>\n",
       "      <td>0</td>\n",
       "      <td>0</td>\n",
       "      <td>0</td>\n",
       "      <td>0</td>\n",
       "      <td>0</td>\n",
       "      <td>1</td>\n",
       "      <td>0</td>\n",
       "      <td>0</td>\n",
       "      <td>0</td>\n",
       "    </tr>\n",
       "    <tr>\n",
       "      <th>4</th>\n",
       "      <td>Accounting</td>\n",
       "      <td>0</td>\n",
       "      <td>0</td>\n",
       "      <td>0</td>\n",
       "      <td>0</td>\n",
       "      <td>0</td>\n",
       "      <td>0</td>\n",
       "      <td>0</td>\n",
       "      <td>0</td>\n",
       "      <td>1</td>\n",
       "    </tr>\n",
       "    <tr>\n",
       "      <th>5</th>\n",
       "      <td>Active Lifestyle</td>\n",
       "      <td>0</td>\n",
       "      <td>0</td>\n",
       "      <td>0</td>\n",
       "      <td>0</td>\n",
       "      <td>1</td>\n",
       "      <td>0</td>\n",
       "      <td>0</td>\n",
       "      <td>0</td>\n",
       "      <td>0</td>\n",
       "    </tr>\n",
       "    <tr>\n",
       "      <th>6</th>\n",
       "      <td>Ad Targeting</td>\n",
       "      <td>0</td>\n",
       "      <td>0</td>\n",
       "      <td>0</td>\n",
       "      <td>0</td>\n",
       "      <td>0</td>\n",
       "      <td>0</td>\n",
       "      <td>0</td>\n",
       "      <td>0</td>\n",
       "      <td>1</td>\n",
       "    </tr>\n",
       "    <tr>\n",
       "      <th>7</th>\n",
       "      <td>Advanced Materials</td>\n",
       "      <td>0</td>\n",
       "      <td>0</td>\n",
       "      <td>0</td>\n",
       "      <td>0</td>\n",
       "      <td>0</td>\n",
       "      <td>1</td>\n",
       "      <td>0</td>\n",
       "      <td>0</td>\n",
       "      <td>0</td>\n",
       "    </tr>\n",
       "    <tr>\n",
       "      <th>8</th>\n",
       "      <td>Adventure Travel</td>\n",
       "      <td>1</td>\n",
       "      <td>0</td>\n",
       "      <td>0</td>\n",
       "      <td>0</td>\n",
       "      <td>0</td>\n",
       "      <td>0</td>\n",
       "      <td>0</td>\n",
       "      <td>0</td>\n",
       "      <td>0</td>\n",
       "    </tr>\n",
       "    <tr>\n",
       "      <th>9</th>\n",
       "      <td>Advertising</td>\n",
       "      <td>0</td>\n",
       "      <td>0</td>\n",
       "      <td>0</td>\n",
       "      <td>0</td>\n",
       "      <td>0</td>\n",
       "      <td>0</td>\n",
       "      <td>0</td>\n",
       "      <td>0</td>\n",
       "      <td>1</td>\n",
       "    </tr>\n",
       "    <tr>\n",
       "      <th>10</th>\n",
       "      <td>Advertising Exchanges</td>\n",
       "      <td>0</td>\n",
       "      <td>0</td>\n",
       "      <td>0</td>\n",
       "      <td>0</td>\n",
       "      <td>0</td>\n",
       "      <td>0</td>\n",
       "      <td>0</td>\n",
       "      <td>0</td>\n",
       "      <td>1</td>\n",
       "    </tr>\n",
       "    <tr>\n",
       "      <th>11</th>\n",
       "      <td>Advertising Networks</td>\n",
       "      <td>0</td>\n",
       "      <td>0</td>\n",
       "      <td>0</td>\n",
       "      <td>0</td>\n",
       "      <td>0</td>\n",
       "      <td>0</td>\n",
       "      <td>0</td>\n",
       "      <td>0</td>\n",
       "      <td>1</td>\n",
       "    </tr>\n",
       "    <tr>\n",
       "      <th>12</th>\n",
       "      <td>Advertising Platforms</td>\n",
       "      <td>0</td>\n",
       "      <td>0</td>\n",
       "      <td>0</td>\n",
       "      <td>0</td>\n",
       "      <td>0</td>\n",
       "      <td>0</td>\n",
       "      <td>0</td>\n",
       "      <td>0</td>\n",
       "      <td>1</td>\n",
       "    </tr>\n",
       "    <tr>\n",
       "      <th>13</th>\n",
       "      <td>Advice</td>\n",
       "      <td>0</td>\n",
       "      <td>0</td>\n",
       "      <td>0</td>\n",
       "      <td>0</td>\n",
       "      <td>0</td>\n",
       "      <td>0</td>\n",
       "      <td>0</td>\n",
       "      <td>1</td>\n",
       "      <td>0</td>\n",
       "    </tr>\n",
       "    <tr>\n",
       "      <th>14</th>\n",
       "      <td>Aerospace</td>\n",
       "      <td>1</td>\n",
       "      <td>0</td>\n",
       "      <td>0</td>\n",
       "      <td>0</td>\n",
       "      <td>0</td>\n",
       "      <td>0</td>\n",
       "      <td>0</td>\n",
       "      <td>0</td>\n",
       "      <td>0</td>\n",
       "    </tr>\n",
       "    <tr>\n",
       "      <th>15</th>\n",
       "      <td>Agriculture</td>\n",
       "      <td>0</td>\n",
       "      <td>0</td>\n",
       "      <td>0</td>\n",
       "      <td>0</td>\n",
       "      <td>0</td>\n",
       "      <td>1</td>\n",
       "      <td>0</td>\n",
       "      <td>0</td>\n",
       "      <td>0</td>\n",
       "    </tr>\n",
       "    <tr>\n",
       "      <th>16</th>\n",
       "      <td>Air Pollution Control</td>\n",
       "      <td>0</td>\n",
       "      <td>0</td>\n",
       "      <td>1</td>\n",
       "      <td>0</td>\n",
       "      <td>0</td>\n",
       "      <td>0</td>\n",
       "      <td>0</td>\n",
       "      <td>0</td>\n",
       "      <td>0</td>\n",
       "    </tr>\n",
       "    <tr>\n",
       "      <th>17</th>\n",
       "      <td>Algorithms</td>\n",
       "      <td>0</td>\n",
       "      <td>0</td>\n",
       "      <td>0</td>\n",
       "      <td>0</td>\n",
       "      <td>0</td>\n",
       "      <td>0</td>\n",
       "      <td>0</td>\n",
       "      <td>1</td>\n",
       "      <td>0</td>\n",
       "    </tr>\n",
       "    <tr>\n",
       "      <th>18</th>\n",
       "      <td>All Markets</td>\n",
       "      <td>0</td>\n",
       "      <td>0</td>\n",
       "      <td>0</td>\n",
       "      <td>0</td>\n",
       "      <td>0</td>\n",
       "      <td>0</td>\n",
       "      <td>0</td>\n",
       "      <td>1</td>\n",
       "      <td>0</td>\n",
       "    </tr>\n",
       "    <tr>\n",
       "      <th>19</th>\n",
       "      <td>All Students</td>\n",
       "      <td>0</td>\n",
       "      <td>0</td>\n",
       "      <td>0</td>\n",
       "      <td>0</td>\n",
       "      <td>0</td>\n",
       "      <td>0</td>\n",
       "      <td>0</td>\n",
       "      <td>1</td>\n",
       "      <td>0</td>\n",
       "    </tr>\n",
       "    <tr>\n",
       "      <th>20</th>\n",
       "      <td>Alter0tive Medicine</td>\n",
       "      <td>0</td>\n",
       "      <td>0</td>\n",
       "      <td>0</td>\n",
       "      <td>0</td>\n",
       "      <td>1</td>\n",
       "      <td>0</td>\n",
       "      <td>0</td>\n",
       "      <td>0</td>\n",
       "      <td>0</td>\n",
       "    </tr>\n",
       "    <tr>\n",
       "      <th>21</th>\n",
       "      <td>Alumni</td>\n",
       "      <td>0</td>\n",
       "      <td>0</td>\n",
       "      <td>0</td>\n",
       "      <td>0</td>\n",
       "      <td>0</td>\n",
       "      <td>0</td>\n",
       "      <td>0</td>\n",
       "      <td>1</td>\n",
       "      <td>0</td>\n",
       "    </tr>\n",
       "    <tr>\n",
       "      <th>22</th>\n",
       "      <td>A0lytics</td>\n",
       "      <td>0</td>\n",
       "      <td>0</td>\n",
       "      <td>0</td>\n",
       "      <td>0</td>\n",
       "      <td>0</td>\n",
       "      <td>0</td>\n",
       "      <td>0</td>\n",
       "      <td>0</td>\n",
       "      <td>1</td>\n",
       "    </tr>\n",
       "    <tr>\n",
       "      <th>23</th>\n",
       "      <td>Android</td>\n",
       "      <td>0</td>\n",
       "      <td>0</td>\n",
       "      <td>0</td>\n",
       "      <td>0</td>\n",
       "      <td>0</td>\n",
       "      <td>0</td>\n",
       "      <td>0</td>\n",
       "      <td>0</td>\n",
       "      <td>1</td>\n",
       "    </tr>\n",
       "    <tr>\n",
       "      <th>24</th>\n",
       "      <td>Angels</td>\n",
       "      <td>0</td>\n",
       "      <td>0</td>\n",
       "      <td>0</td>\n",
       "      <td>0</td>\n",
       "      <td>0</td>\n",
       "      <td>0</td>\n",
       "      <td>0</td>\n",
       "      <td>1</td>\n",
       "      <td>0</td>\n",
       "    </tr>\n",
       "  </tbody>\n",
       "</table>\n",
       "</div>"
      ],
      "text/plain": [
       "            category_list  Automotive & Sports  Blanks  \\\n",
       "0                     NaN                    0       1   \n",
       "1                      3D                    0       0   \n",
       "2             3D Printing                    0       0   \n",
       "3           3D Technology                    0       0   \n",
       "4              Accounting                    0       0   \n",
       "5        Active Lifestyle                    0       0   \n",
       "6            Ad Targeting                    0       0   \n",
       "7      Advanced Materials                    0       0   \n",
       "8        Adventure Travel                    1       0   \n",
       "9             Advertising                    0       0   \n",
       "10  Advertising Exchanges                    0       0   \n",
       "11   Advertising Networks                    0       0   \n",
       "12  Advertising Platforms                    0       0   \n",
       "13                 Advice                    0       0   \n",
       "14              Aerospace                    1       0   \n",
       "15            Agriculture                    0       0   \n",
       "16  Air Pollution Control                    0       0   \n",
       "17             Algorithms                    0       0   \n",
       "18            All Markets                    0       0   \n",
       "19           All Students                    0       0   \n",
       "20    Alter0tive Medicine                    0       0   \n",
       "21                 Alumni                    0       0   \n",
       "22               A0lytics                    0       0   \n",
       "23                Android                    0       0   \n",
       "24                 Angels                    0       0   \n",
       "\n",
       "    Cleantech / Semiconductors  Entertainment  Health  Manufacturing  \\\n",
       "0                            0              0       0              0   \n",
       "1                            0              0       0              1   \n",
       "2                            0              0       0              1   \n",
       "3                            0              0       0              1   \n",
       "4                            0              0       0              0   \n",
       "5                            0              0       1              0   \n",
       "6                            0              0       0              0   \n",
       "7                            0              0       0              1   \n",
       "8                            0              0       0              0   \n",
       "9                            0              0       0              0   \n",
       "10                           0              0       0              0   \n",
       "11                           0              0       0              0   \n",
       "12                           0              0       0              0   \n",
       "13                           0              0       0              0   \n",
       "14                           0              0       0              0   \n",
       "15                           0              0       0              1   \n",
       "16                           1              0       0              0   \n",
       "17                           0              0       0              0   \n",
       "18                           0              0       0              0   \n",
       "19                           0              0       0              0   \n",
       "20                           0              0       1              0   \n",
       "21                           0              0       0              0   \n",
       "22                           0              0       0              0   \n",
       "23                           0              0       0              0   \n",
       "24                           0              0       0              0   \n",
       "\n",
       "    News, Search and Messaging  Others  \\\n",
       "0                            0       0   \n",
       "1                            0       0   \n",
       "2                            0       0   \n",
       "3                            0       0   \n",
       "4                            0       0   \n",
       "5                            0       0   \n",
       "6                            0       0   \n",
       "7                            0       0   \n",
       "8                            0       0   \n",
       "9                            0       0   \n",
       "10                           0       0   \n",
       "11                           0       0   \n",
       "12                           0       0   \n",
       "13                           0       1   \n",
       "14                           0       0   \n",
       "15                           0       0   \n",
       "16                           0       0   \n",
       "17                           0       1   \n",
       "18                           0       1   \n",
       "19                           0       1   \n",
       "20                           0       0   \n",
       "21                           0       1   \n",
       "22                           0       0   \n",
       "23                           0       0   \n",
       "24                           0       1   \n",
       "\n",
       "    Social, Finance, Analytics, Advertising  \n",
       "0                                         0  \n",
       "1                                         0  \n",
       "2                                         0  \n",
       "3                                         0  \n",
       "4                                         1  \n",
       "5                                         0  \n",
       "6                                         1  \n",
       "7                                         0  \n",
       "8                                         0  \n",
       "9                                         1  \n",
       "10                                        1  \n",
       "11                                        1  \n",
       "12                                        1  \n",
       "13                                        0  \n",
       "14                                        0  \n",
       "15                                        0  \n",
       "16                                        0  \n",
       "17                                        0  \n",
       "18                                        0  \n",
       "19                                        0  \n",
       "20                                        0  \n",
       "21                                        0  \n",
       "22                                        1  \n",
       "23                                        1  \n",
       "24                                        0  "
      ]
     },
     "execution_count": 67,
     "metadata": {},
     "output_type": "execute_result"
    }
   ],
   "source": [
    "mapping = read_nonutf8_encoded_file('mapping.csv')\n",
    "mapping.head(25)"
   ]
  },
  {
   "cell_type": "markdown",
   "metadata": {},
   "source": [
    "**We can see that there are Nulls and spelling mistakes in above data like Alter0tive should be Alternative, and A0lytics should be Analytics**\n",
    "**It seems someone replace na with 0, so lets run the spelling check on category_list column**"
   ]
  },
  {
   "cell_type": "code",
   "execution_count": 68,
   "metadata": {},
   "outputs": [],
   "source": [
    "def get_incorrect_words() -> None:\n",
    "    data = mapping[mapping[category_list].notna()][category_list]\n",
    "    allwords = set(flat_2d_list(data.str.split()))\n",
    "    d = enchant.Dict(\"en_US\")\n",
    "    invalid_words = set([w for w in allwords if not d.check(w)])\n",
    "    return invalid_words"
   ]
  },
  {
   "cell_type": "code",
   "execution_count": 69,
   "metadata": {},
   "outputs": [
    {
     "data": {
      "text/plain": [
       "{'&',\n",
       " '+',\n",
       " '0notechnology',\n",
       " '0tural',\n",
       " '0vigation',\n",
       " '3D',\n",
       " 'A0lytics',\n",
       " 'APIs',\n",
       " 'Alter0tive',\n",
       " 'Assisitive',\n",
       " 'Audiobooks',\n",
       " 'B2B',\n",
       " 'BPO',\n",
       " 'Bio-Pharm',\n",
       " 'Biofuels',\n",
       " 'Bioinformatics',\n",
       " 'CRM',\n",
       " 'Can0bis',\n",
       " 'Chi0',\n",
       " 'Coworking',\n",
       " 'Crowdsourcing',\n",
       " 'Cyber',\n",
       " 'Cybersecurity',\n",
       " 'DIY',\n",
       " 'DOD/Military',\n",
       " 'Demographies',\n",
       " 'EBooks',\n",
       " 'EDA',\n",
       " 'EdTech',\n",
       " 'Ediscovery',\n",
       " 'Educatio0l',\n",
       " 'Eyewear',\n",
       " 'Fi0nce',\n",
       " 'Fi0ncial',\n",
       " 'FinTech',\n",
       " 'Fmcg',\n",
       " 'Freemium',\n",
       " 'FreetoPlay',\n",
       " 'Gamification',\n",
       " 'Geospatial',\n",
       " 'Gover0nce',\n",
       " 'Gps',\n",
       " 'ICT',\n",
       " 'IaaS',\n",
       " 'Jour0lism',\n",
       " 'M2M',\n",
       " 'Ma0gement',\n",
       " 'Mens',\n",
       " 'MicroBlogging',\n",
       " 'P2P',\n",
       " 'PaaS',\n",
       " 'Perso0l',\n",
       " 'Perso0lization',\n",
       " 'Pre',\n",
       " 'Professio0l',\n",
       " 'Professio0ls',\n",
       " 'Promotio0l',\n",
       " 'Q&A',\n",
       " 'RFID',\n",
       " 'SEO',\n",
       " 'SMS',\n",
       " 'SNS',\n",
       " 'SaaS',\n",
       " 'SexTech',\n",
       " 'Sig0ge',\n",
       " 'Theatre',\n",
       " 'Veteri0ry',\n",
       " 'Wearables',\n",
       " 'iOS',\n",
       " 'mHealth'}"
      ]
     },
     "execution_count": 69,
     "metadata": {},
     "output_type": "execute_result"
    }
   ],
   "source": [
    "get_incorrect_words()"
   ]
  },
  {
   "cell_type": "markdown",
   "metadata": {},
   "source": [
    "**Now its confirmed that other than na->0 we don't have any other spelling mistakes, sor lets replace 0->na**\n"
   ]
  },
  {
   "cell_type": "code",
   "execution_count": 70,
   "metadata": {},
   "outputs": [],
   "source": [
    "def replace_na(str_value: str, ch: str = \"0\") -> str:\n",
    "    \"\"\"replaces \\\"0\\\" with na, specifically designed for category list, may not work for others need\n",
    "\n",
    "    Args:\n",
    "        str_value (str): category list\n",
    "        ch (str, optional): Replacemet char. Defaults to \"0\".\n",
    "\n",
    "    Returns:\n",
    "        str: clean cotegory name\n",
    "    \"\"\"\n",
    "    if str_value is not None:\n",
    "        len_str = len(str_value)\n",
    "        if len_str > 0:\n",
    "            if str_value == \"0\":\n",
    "                return \"na\"\n",
    "            all_indices = [i for i, ltr in enumerate(str_value) if ltr == ch]\n",
    "            if all_indices:\n",
    "                for i in all_indices:\n",
    "                    if i == 0 and str_value[1].isalpha():\n",
    "                        str_value = \"na\"+str_value[1:]\n",
    "                    elif i == (len_str - 1) and (str_value[len_str-2].isalpha() or str_value[len_str-2] != \".\"):\n",
    "                        str_value = str_value[:len_str] + \"na\"\n",
    "                    elif str_value[len_str-2] != \".\":\n",
    "                        str_value = str_value[:i] + \"na\" + str_value[(i+1):]\n",
    "    return str_value\n"
   ]
  },
  {
   "cell_type": "code",
   "execution_count": 71,
   "metadata": {},
   "outputs": [],
   "source": [
    "def clean_mappings(mapping: pd.DataFrame) -> pd.DataFrame:\n",
    "    mapping = mapping[mapping[category_list].notna()]\n",
    "    mapping[category_list] = mapping[category_list].apply(replace_na)\n",
    "    return mapping"
   ]
  },
  {
   "cell_type": "code",
   "execution_count": 72,
   "metadata": {},
   "outputs": [
    {
     "name": "stderr",
     "output_type": "stream",
     "text": [
      "<ipython-input-71-a5dda9e79502>:3: SettingWithCopyWarning: \n",
      "A value is trying to be set on a copy of a slice from a DataFrame.\n",
      "Try using .loc[row_indexer,col_indexer] = value instead\n",
      "\n",
      "See the caveats in the documentation: https://pandas.pydata.org/pandas-docs/stable/user_guide/indexing.html#returning-a-view-versus-a-copy\n",
      "  mapping[category_list] = mapping[category_list].apply(replace_na)\n"
     ]
    }
   ],
   "source": [
    "mapping = clean_mappings(mapping)"
   ]
  },
  {
   "cell_type": "code",
   "execution_count": 73,
   "metadata": {},
   "outputs": [
    {
     "data": {
      "text/plain": [
       "{'&',\n",
       " '+',\n",
       " '3D',\n",
       " 'APIs',\n",
       " 'Analytics',\n",
       " 'Assisitive',\n",
       " 'Audiobooks',\n",
       " 'B2B',\n",
       " 'BPO',\n",
       " 'Bio-Pharm',\n",
       " 'Biofuels',\n",
       " 'Bioinformatics',\n",
       " 'CRM',\n",
       " 'Coworking',\n",
       " 'Crowdsourcing',\n",
       " 'Cyber',\n",
       " 'Cybersecurity',\n",
       " 'DIY',\n",
       " 'DOD/Military',\n",
       " 'Demographies',\n",
       " 'EBooks',\n",
       " 'EDA',\n",
       " 'EdTech',\n",
       " 'Ediscovery',\n",
       " 'Eyewear',\n",
       " 'FinTech',\n",
       " 'Fmcg',\n",
       " 'Fna0nce',\n",
       " 'Freemium',\n",
       " 'FreetoPlay',\n",
       " 'Gamification',\n",
       " 'Geospatial',\n",
       " 'Gps',\n",
       " 'ICT',\n",
       " 'IaaS',\n",
       " 'M2M',\n",
       " 'Mens',\n",
       " 'MicroBlogging',\n",
       " 'P2P',\n",
       " 'PaaS',\n",
       " 'Pre',\n",
       " 'Q&A',\n",
       " 'RFID',\n",
       " 'SEO',\n",
       " 'SMS',\n",
       " 'SNS',\n",
       " 'SaaS',\n",
       " 'SexTech',\n",
       " 'Theatre',\n",
       " 'Wearables',\n",
       " 'iOS',\n",
       " 'mHealth'}"
      ]
     },
     "execution_count": 73,
     "metadata": {},
     "output_type": "execute_result"
    }
   ],
   "source": [
    "get_incorrect_words()"
   ]
  },
  {
   "cell_type": "code",
   "execution_count": 74,
   "metadata": {},
   "outputs": [],
   "source": [
    "# mapping.to_csv(\"mapping_frame.csv\", index=False, quoting=csv.QUOTE_ALL)"
   ]
  },
  {
   "cell_type": "markdown",
   "metadata": {},
   "source": [
    "**We don't have incorrect words in category list**"
   ]
  },
  {
   "cell_type": "code",
   "execution_count": 75,
   "metadata": {},
   "outputs": [],
   "source": [
    "def add_main_sector_to_master_frame(master_frame: pd.DataFrame, mapping: pd.DataFrame) -> pd.DataFrame:\n",
    "    melted_mapping = mapping.melt(id_vars=category_list)\n",
    "    melted_mapping = melted_mapping[melted_mapping['value'] == 1]\n",
    "    melted_mapping.drop('value', axis=1, inplace=True)\n",
    "    melted_mapping.columns = [category_list, main_sector]\n",
    "\n",
    "    master_frame = master_frame.merge(\n",
    "        melted_mapping, left_on=primary_sector, right_on=category_list, how='inner')\n",
    "    master_frame.drop('category_list_y', axis=1, inplace=True)\n",
    "    return master_frame"
   ]
  },
  {
   "cell_type": "code",
   "execution_count": 76,
   "metadata": {},
   "outputs": [],
   "source": [
    "master_frame = add_main_sector_to_master_frame(master_frame, mapping)"
   ]
  },
  {
   "cell_type": "markdown",
   "metadata": {},
   "source": [
    " ## Checkpoint 5: Sector Analysis 2"
   ]
  },
  {
   "cell_type": "code",
   "execution_count": 77,
   "metadata": {},
   "outputs": [
    {
     "data": {
      "text/html": [
       "<div>\n",
       "<style scoped>\n",
       "    .dataframe tbody tr th:only-of-type {\n",
       "        vertical-align: middle;\n",
       "    }\n",
       "\n",
       "    .dataframe tbody tr th {\n",
       "        vertical-align: top;\n",
       "    }\n",
       "\n",
       "    .dataframe thead th {\n",
       "        text-align: right;\n",
       "    }\n",
       "</style>\n",
       "<table border=\"1\" class=\"dataframe\">\n",
       "  <thead>\n",
       "    <tr style=\"text-align: right;\">\n",
       "      <th></th>\n",
       "      <th>permalink</th>\n",
       "      <th>name</th>\n",
       "      <th>category_list_x</th>\n",
       "      <th>status</th>\n",
       "      <th>country_code</th>\n",
       "      <th>permalink_clean</th>\n",
       "      <th>name_clean</th>\n",
       "      <th>category_list_clean</th>\n",
       "      <th>company_permalink</th>\n",
       "      <th>funding_round_type</th>\n",
       "      <th>raised_amount_usd</th>\n",
       "      <th>company_permalink_clean</th>\n",
       "      <th>IsEnglish</th>\n",
       "      <th>primary_sector</th>\n",
       "      <th>main_sector</th>\n",
       "    </tr>\n",
       "  </thead>\n",
       "  <tbody>\n",
       "    <tr>\n",
       "      <th>0</th>\n",
       "      <td>/Organization/-Fame</td>\n",
       "      <td>#fame</td>\n",
       "      <td>Media</td>\n",
       "      <td>operating</td>\n",
       "      <td>IND</td>\n",
       "      <td>/organization/-fame</td>\n",
       "      <td>#fame</td>\n",
       "      <td>[media]</td>\n",
       "      <td>/organization/-fame</td>\n",
       "      <td>venture</td>\n",
       "      <td>10000000.0</td>\n",
       "      <td>/organization/-fame</td>\n",
       "      <td>True</td>\n",
       "      <td>Media</td>\n",
       "      <td>Entertainment</td>\n",
       "    </tr>\n",
       "    <tr>\n",
       "      <th>1</th>\n",
       "      <td>/Organization/90Min</td>\n",
       "      <td>90min</td>\n",
       "      <td>Media|News|Publishing|Soccer|Sports</td>\n",
       "      <td>operating</td>\n",
       "      <td>GBR</td>\n",
       "      <td>/organization/90min</td>\n",
       "      <td>90min</td>\n",
       "      <td>[media, news, publishing, soccer, sports]</td>\n",
       "      <td>/organization/90min</td>\n",
       "      <td>venture</td>\n",
       "      <td>15000000.0</td>\n",
       "      <td>/organization/90min</td>\n",
       "      <td>True</td>\n",
       "      <td>Media</td>\n",
       "      <td>Entertainment</td>\n",
       "    </tr>\n",
       "    <tr>\n",
       "      <th>2</th>\n",
       "      <td>/Organization/90Min</td>\n",
       "      <td>90min</td>\n",
       "      <td>Media|News|Publishing|Soccer|Sports</td>\n",
       "      <td>operating</td>\n",
       "      <td>GBR</td>\n",
       "      <td>/organization/90min</td>\n",
       "      <td>90min</td>\n",
       "      <td>[media, news, publishing, soccer, sports]</td>\n",
       "      <td>/ORGANIZATION/90MIN</td>\n",
       "      <td>venture</td>\n",
       "      <td>5800000.0</td>\n",
       "      <td>/organization/90min</td>\n",
       "      <td>True</td>\n",
       "      <td>Media</td>\n",
       "      <td>Entertainment</td>\n",
       "    </tr>\n",
       "    <tr>\n",
       "      <th>3</th>\n",
       "      <td>/Organization/90Min</td>\n",
       "      <td>90min</td>\n",
       "      <td>Media|News|Publishing|Soccer|Sports</td>\n",
       "      <td>operating</td>\n",
       "      <td>GBR</td>\n",
       "      <td>/organization/90min</td>\n",
       "      <td>90min</td>\n",
       "      <td>[media, news, publishing, soccer, sports]</td>\n",
       "      <td>/organization/90min</td>\n",
       "      <td>venture</td>\n",
       "      <td>18000000.0</td>\n",
       "      <td>/organization/90min</td>\n",
       "      <td>True</td>\n",
       "      <td>Media</td>\n",
       "      <td>Entertainment</td>\n",
       "    </tr>\n",
       "    <tr>\n",
       "      <th>4</th>\n",
       "      <td>/Organization/All-Def-Digital</td>\n",
       "      <td>All Def Digital</td>\n",
       "      <td>Media</td>\n",
       "      <td>operating</td>\n",
       "      <td>USA</td>\n",
       "      <td>/organization/all-def-digital</td>\n",
       "      <td>all def digital</td>\n",
       "      <td>[media]</td>\n",
       "      <td>/organization/all-def-digital</td>\n",
       "      <td>venture</td>\n",
       "      <td>5000000.0</td>\n",
       "      <td>/organization/all-def-digital</td>\n",
       "      <td>True</td>\n",
       "      <td>Media</td>\n",
       "      <td>Entertainment</td>\n",
       "    </tr>\n",
       "  </tbody>\n",
       "</table>\n",
       "</div>"
      ],
      "text/plain": [
       "                       permalink             name  \\\n",
       "0            /Organization/-Fame            #fame   \n",
       "1            /Organization/90Min            90min   \n",
       "2            /Organization/90Min            90min   \n",
       "3            /Organization/90Min            90min   \n",
       "4  /Organization/All-Def-Digital  All Def Digital   \n",
       "\n",
       "                       category_list_x     status country_code  \\\n",
       "0                                Media  operating          IND   \n",
       "1  Media|News|Publishing|Soccer|Sports  operating          GBR   \n",
       "2  Media|News|Publishing|Soccer|Sports  operating          GBR   \n",
       "3  Media|News|Publishing|Soccer|Sports  operating          GBR   \n",
       "4                                Media  operating          USA   \n",
       "\n",
       "                 permalink_clean       name_clean  \\\n",
       "0            /organization/-fame            #fame   \n",
       "1            /organization/90min            90min   \n",
       "2            /organization/90min            90min   \n",
       "3            /organization/90min            90min   \n",
       "4  /organization/all-def-digital  all def digital   \n",
       "\n",
       "                         category_list_clean              company_permalink  \\\n",
       "0                                    [media]            /organization/-fame   \n",
       "1  [media, news, publishing, soccer, sports]            /organization/90min   \n",
       "2  [media, news, publishing, soccer, sports]            /ORGANIZATION/90MIN   \n",
       "3  [media, news, publishing, soccer, sports]            /organization/90min   \n",
       "4                                    [media]  /organization/all-def-digital   \n",
       "\n",
       "  funding_round_type  raised_amount_usd        company_permalink_clean  \\\n",
       "0            venture         10000000.0            /organization/-fame   \n",
       "1            venture         15000000.0            /organization/90min   \n",
       "2            venture          5800000.0            /organization/90min   \n",
       "3            venture         18000000.0            /organization/90min   \n",
       "4            venture          5000000.0  /organization/all-def-digital   \n",
       "\n",
       "   IsEnglish primary_sector    main_sector  \n",
       "0       True          Media  Entertainment  \n",
       "1       True          Media  Entertainment  \n",
       "2       True          Media  Entertainment  \n",
       "3       True          Media  Entertainment  \n",
       "4       True          Media  Entertainment  "
      ]
     },
     "execution_count": 77,
     "metadata": {},
     "output_type": "execute_result"
    }
   ],
   "source": [
    "master_frame.head()"
   ]
  },
  {
   "cell_type": "markdown",
   "metadata": {},
   "source": [
    " #### TOP 3 COUNTRIES"
   ]
  },
  {
   "cell_type": "code",
   "execution_count": 78,
   "metadata": {},
   "outputs": [],
   "source": [
    "USA = \"USA\"\n",
    "GBR = \"GBR\"\n",
    "IND = \"IND\""
   ]
  },
  {
   "cell_type": "code",
   "execution_count": 79,
   "metadata": {},
   "outputs": [],
   "source": [
    "def filter_data_for_c5(country):\n",
    "    return master_frame[\n",
    "        (\n",
    "            # TODO: Could be done by dict based filtering for nice looking code\n",
    "            (master_frame[country_code_c].notnull()) &\n",
    "            (master_frame[country_code_c].notna()) &\n",
    "            (master_frame[country_code_c] == country) &\n",
    "            (master_frame[funding_round_type].notnull()) &\n",
    "            (master_frame[funding_round_type].notna()) &\n",
    "            (master_frame[funding_round_type] == \"venture\") &\n",
    "            (master_frame[raised_amount_usd].notnull()) &\n",
    "            (master_frame[raised_amount_usd].notna()) &\n",
    "            (master_frame[raised_amount_usd] >= 5000000) &\n",
    "            (master_frame[raised_amount_usd] <= 15000000)\n",
    "        )]"
   ]
  },
  {
   "cell_type": "code",
   "execution_count": 80,
   "metadata": {},
   "outputs": [],
   "source": [
    "D1 = filter_data_for_c5(USA)\n",
    "D2 = filter_data_for_c5(GBR)\n",
    "D3 = filter_data_for_c5(IND)"
   ]
  },
  {
   "cell_type": "code",
   "execution_count": 81,
   "metadata": {},
   "outputs": [
    {
     "data": {
      "text/html": [
       "<div>\n",
       "<style scoped>\n",
       "    .dataframe tbody tr th:only-of-type {\n",
       "        vertical-align: middle;\n",
       "    }\n",
       "\n",
       "    .dataframe tbody tr th {\n",
       "        vertical-align: top;\n",
       "    }\n",
       "\n",
       "    .dataframe thead th {\n",
       "        text-align: right;\n",
       "    }\n",
       "</style>\n",
       "<table border=\"1\" class=\"dataframe\">\n",
       "  <thead>\n",
       "    <tr style=\"text-align: right;\">\n",
       "      <th></th>\n",
       "      <th>permalink</th>\n",
       "      <th>name</th>\n",
       "      <th>category_list_x</th>\n",
       "      <th>status</th>\n",
       "      <th>country_code</th>\n",
       "      <th>permalink_clean</th>\n",
       "      <th>name_clean</th>\n",
       "      <th>category_list_clean</th>\n",
       "      <th>company_permalink</th>\n",
       "      <th>funding_round_type</th>\n",
       "      <th>raised_amount_usd</th>\n",
       "      <th>company_permalink_clean</th>\n",
       "      <th>IsEnglish</th>\n",
       "      <th>primary_sector</th>\n",
       "      <th>main_sector</th>\n",
       "    </tr>\n",
       "  </thead>\n",
       "  <tbody>\n",
       "    <tr>\n",
       "      <th>4</th>\n",
       "      <td>/Organization/All-Def-Digital</td>\n",
       "      <td>All Def Digital</td>\n",
       "      <td>Media</td>\n",
       "      <td>operating</td>\n",
       "      <td>USA</td>\n",
       "      <td>/organization/all-def-digital</td>\n",
       "      <td>all def digital</td>\n",
       "      <td>[media]</td>\n",
       "      <td>/organization/all-def-digital</td>\n",
       "      <td>venture</td>\n",
       "      <td>5000000.0</td>\n",
       "      <td>/organization/all-def-digital</td>\n",
       "      <td>True</td>\n",
       "      <td>Media</td>\n",
       "      <td>Entertainment</td>\n",
       "    </tr>\n",
       "    <tr>\n",
       "      <th>11</th>\n",
       "      <td>/Organization/Chefs-Feed</td>\n",
       "      <td>ChefsFeed</td>\n",
       "      <td>Media|Mobile|Restaurants|Technology</td>\n",
       "      <td>operating</td>\n",
       "      <td>USA</td>\n",
       "      <td>/organization/chefs-feed</td>\n",
       "      <td>chefsfeed</td>\n",
       "      <td>[media, mobile, restaurants, technology]</td>\n",
       "      <td>/ORGANIZATION/CHEFS-FEED</td>\n",
       "      <td>venture</td>\n",
       "      <td>5000000.0</td>\n",
       "      <td>/organization/chefs-feed</td>\n",
       "      <td>True</td>\n",
       "      <td>Media</td>\n",
       "      <td>Entertainment</td>\n",
       "    </tr>\n",
       "    <tr>\n",
       "      <th>24</th>\n",
       "      <td>/Organization/Mediabong</td>\n",
       "      <td>MEDIABONG</td>\n",
       "      <td>Media|Semantic Search|Video</td>\n",
       "      <td>operating</td>\n",
       "      <td>USA</td>\n",
       "      <td>/organization/mediabong</td>\n",
       "      <td>mediabong</td>\n",
       "      <td>[media, semanticsearch, video]</td>\n",
       "      <td>/organization/mediabong</td>\n",
       "      <td>venture</td>\n",
       "      <td>5000000.0</td>\n",
       "      <td>/organization/mediabong</td>\n",
       "      <td>True</td>\n",
       "      <td>Media</td>\n",
       "      <td>Entertainment</td>\n",
       "    </tr>\n",
       "    <tr>\n",
       "      <th>27</th>\n",
       "      <td>/Organization/Newscorporation</td>\n",
       "      <td>News Corp</td>\n",
       "      <td>Media|News|Publishing</td>\n",
       "      <td>ipo</td>\n",
       "      <td>USA</td>\n",
       "      <td>/organization/newscorporation</td>\n",
       "      <td>news corp</td>\n",
       "      <td>[media, news, publishing]</td>\n",
       "      <td>/organization/newscorporation</td>\n",
       "      <td>venture</td>\n",
       "      <td>12500000.0</td>\n",
       "      <td>/organization/newscorporation</td>\n",
       "      <td>True</td>\n",
       "      <td>Media</td>\n",
       "      <td>Entertainment</td>\n",
       "    </tr>\n",
       "    <tr>\n",
       "      <th>38</th>\n",
       "      <td>/Organization/Vadio</td>\n",
       "      <td>Vadio</td>\n",
       "      <td>Media|Mobile|Video</td>\n",
       "      <td>operating</td>\n",
       "      <td>USA</td>\n",
       "      <td>/organization/vadio</td>\n",
       "      <td>vadio</td>\n",
       "      <td>[media, mobile, video]</td>\n",
       "      <td>/ORGANIZATION/VADIO</td>\n",
       "      <td>venture</td>\n",
       "      <td>7500000.0</td>\n",
       "      <td>/organization/vadio</td>\n",
       "      <td>True</td>\n",
       "      <td>Media</td>\n",
       "      <td>Entertainment</td>\n",
       "    </tr>\n",
       "  </tbody>\n",
       "</table>\n",
       "</div>"
      ],
      "text/plain": [
       "                        permalink             name  \\\n",
       "4   /Organization/All-Def-Digital  All Def Digital   \n",
       "11       /Organization/Chefs-Feed        ChefsFeed   \n",
       "24        /Organization/Mediabong        MEDIABONG   \n",
       "27  /Organization/Newscorporation        News Corp   \n",
       "38            /Organization/Vadio            Vadio   \n",
       "\n",
       "                        category_list_x     status country_code  \\\n",
       "4                                 Media  operating          USA   \n",
       "11  Media|Mobile|Restaurants|Technology  operating          USA   \n",
       "24          Media|Semantic Search|Video  operating          USA   \n",
       "27                Media|News|Publishing        ipo          USA   \n",
       "38                   Media|Mobile|Video  operating          USA   \n",
       "\n",
       "                  permalink_clean       name_clean  \\\n",
       "4   /organization/all-def-digital  all def digital   \n",
       "11       /organization/chefs-feed        chefsfeed   \n",
       "24        /organization/mediabong        mediabong   \n",
       "27  /organization/newscorporation        news corp   \n",
       "38            /organization/vadio            vadio   \n",
       "\n",
       "                         category_list_clean              company_permalink  \\\n",
       "4                                    [media]  /organization/all-def-digital   \n",
       "11  [media, mobile, restaurants, technology]       /ORGANIZATION/CHEFS-FEED   \n",
       "24            [media, semanticsearch, video]        /organization/mediabong   \n",
       "27                 [media, news, publishing]  /organization/newscorporation   \n",
       "38                    [media, mobile, video]            /ORGANIZATION/VADIO   \n",
       "\n",
       "   funding_round_type  raised_amount_usd        company_permalink_clean  \\\n",
       "4             venture          5000000.0  /organization/all-def-digital   \n",
       "11            venture          5000000.0       /organization/chefs-feed   \n",
       "24            venture          5000000.0        /organization/mediabong   \n",
       "27            venture         12500000.0  /organization/newscorporation   \n",
       "38            venture          7500000.0            /organization/vadio   \n",
       "\n",
       "    IsEnglish primary_sector    main_sector  \n",
       "4        True          Media  Entertainment  \n",
       "11       True          Media  Entertainment  \n",
       "24       True          Media  Entertainment  \n",
       "27       True          Media  Entertainment  \n",
       "38       True          Media  Entertainment  "
      ]
     },
     "execution_count": 81,
     "metadata": {},
     "output_type": "execute_result"
    }
   ],
   "source": [
    "D1.head()"
   ]
  },
  {
   "cell_type": "code",
   "execution_count": 82,
   "metadata": {},
   "outputs": [
    {
     "data": {
      "text/html": [
       "<div>\n",
       "<style scoped>\n",
       "    .dataframe tbody tr th:only-of-type {\n",
       "        vertical-align: middle;\n",
       "    }\n",
       "\n",
       "    .dataframe tbody tr th {\n",
       "        vertical-align: top;\n",
       "    }\n",
       "\n",
       "    .dataframe thead th {\n",
       "        text-align: right;\n",
       "    }\n",
       "</style>\n",
       "<table border=\"1\" class=\"dataframe\">\n",
       "  <thead>\n",
       "    <tr style=\"text-align: right;\">\n",
       "      <th></th>\n",
       "      <th>permalink</th>\n",
       "      <th>name</th>\n",
       "      <th>category_list_x</th>\n",
       "      <th>status</th>\n",
       "      <th>country_code</th>\n",
       "      <th>permalink_clean</th>\n",
       "      <th>name_clean</th>\n",
       "      <th>category_list_clean</th>\n",
       "      <th>company_permalink</th>\n",
       "      <th>funding_round_type</th>\n",
       "      <th>raised_amount_usd</th>\n",
       "      <th>company_permalink_clean</th>\n",
       "      <th>IsEnglish</th>\n",
       "      <th>primary_sector</th>\n",
       "      <th>main_sector</th>\n",
       "    </tr>\n",
       "  </thead>\n",
       "  <tbody>\n",
       "    <tr>\n",
       "      <th>1</th>\n",
       "      <td>/Organization/90Min</td>\n",
       "      <td>90min</td>\n",
       "      <td>Media|News|Publishing|Soccer|Sports</td>\n",
       "      <td>operating</td>\n",
       "      <td>GBR</td>\n",
       "      <td>/organization/90min</td>\n",
       "      <td>90min</td>\n",
       "      <td>[media, news, publishing, soccer, sports]</td>\n",
       "      <td>/organization/90min</td>\n",
       "      <td>venture</td>\n",
       "      <td>15000000.0</td>\n",
       "      <td>/organization/90min</td>\n",
       "      <td>True</td>\n",
       "      <td>Media</td>\n",
       "      <td>Entertainment</td>\n",
       "    </tr>\n",
       "    <tr>\n",
       "      <th>2</th>\n",
       "      <td>/Organization/90Min</td>\n",
       "      <td>90min</td>\n",
       "      <td>Media|News|Publishing|Soccer|Sports</td>\n",
       "      <td>operating</td>\n",
       "      <td>GBR</td>\n",
       "      <td>/organization/90min</td>\n",
       "      <td>90min</td>\n",
       "      <td>[media, news, publishing, soccer, sports]</td>\n",
       "      <td>/ORGANIZATION/90MIN</td>\n",
       "      <td>venture</td>\n",
       "      <td>5800000.0</td>\n",
       "      <td>/organization/90min</td>\n",
       "      <td>True</td>\n",
       "      <td>Media</td>\n",
       "      <td>Entertainment</td>\n",
       "    </tr>\n",
       "    <tr>\n",
       "      <th>87</th>\n",
       "      <td>/Organization/Azimo</td>\n",
       "      <td>Azimo</td>\n",
       "      <td>Curated Web|Finance Technology|Financial Servi...</td>\n",
       "      <td>operating</td>\n",
       "      <td>GBR</td>\n",
       "      <td>/organization/azimo</td>\n",
       "      <td>azimo</td>\n",
       "      <td>[curatedweb, financetechnology, financialservi...</td>\n",
       "      <td>/organization/azimo</td>\n",
       "      <td>venture</td>\n",
       "      <td>10000000.0</td>\n",
       "      <td>/organization/azimo</td>\n",
       "      <td>True</td>\n",
       "      <td>Curated Web</td>\n",
       "      <td>News, Search and Messaging</td>\n",
       "    </tr>\n",
       "    <tr>\n",
       "      <th>98</th>\n",
       "      <td>/Organization/Basekit-Platform</td>\n",
       "      <td>BaseKit</td>\n",
       "      <td>Curated Web|Internet|Web Design</td>\n",
       "      <td>operating</td>\n",
       "      <td>GBR</td>\n",
       "      <td>/organization/basekit-platform</td>\n",
       "      <td>basekit</td>\n",
       "      <td>[curatedweb, internet, webdesign]</td>\n",
       "      <td>/ORGANIZATION/BASEKIT-PLATFORM</td>\n",
       "      <td>venture</td>\n",
       "      <td>7000000.0</td>\n",
       "      <td>/organization/basekit-platform</td>\n",
       "      <td>True</td>\n",
       "      <td>Curated Web</td>\n",
       "      <td>News, Search and Messaging</td>\n",
       "    </tr>\n",
       "    <tr>\n",
       "      <th>99</th>\n",
       "      <td>/Organization/Basekit-Platform</td>\n",
       "      <td>BaseKit</td>\n",
       "      <td>Curated Web|Internet|Web Design</td>\n",
       "      <td>operating</td>\n",
       "      <td>GBR</td>\n",
       "      <td>/organization/basekit-platform</td>\n",
       "      <td>basekit</td>\n",
       "      <td>[curatedweb, internet, webdesign]</td>\n",
       "      <td>/organization/basekit-platform</td>\n",
       "      <td>venture</td>\n",
       "      <td>6818631.0</td>\n",
       "      <td>/organization/basekit-platform</td>\n",
       "      <td>True</td>\n",
       "      <td>Curated Web</td>\n",
       "      <td>News, Search and Messaging</td>\n",
       "    </tr>\n",
       "  </tbody>\n",
       "</table>\n",
       "</div>"
      ],
      "text/plain": [
       "                         permalink     name  \\\n",
       "1              /Organization/90Min    90min   \n",
       "2              /Organization/90Min    90min   \n",
       "87             /Organization/Azimo    Azimo   \n",
       "98  /Organization/Basekit-Platform  BaseKit   \n",
       "99  /Organization/Basekit-Platform  BaseKit   \n",
       "\n",
       "                                      category_list_x     status country_code  \\\n",
       "1                 Media|News|Publishing|Soccer|Sports  operating          GBR   \n",
       "2                 Media|News|Publishing|Soccer|Sports  operating          GBR   \n",
       "87  Curated Web|Finance Technology|Financial Servi...  operating          GBR   \n",
       "98                    Curated Web|Internet|Web Design  operating          GBR   \n",
       "99                    Curated Web|Internet|Web Design  operating          GBR   \n",
       "\n",
       "                   permalink_clean name_clean  \\\n",
       "1              /organization/90min      90min   \n",
       "2              /organization/90min      90min   \n",
       "87             /organization/azimo      azimo   \n",
       "98  /organization/basekit-platform    basekit   \n",
       "99  /organization/basekit-platform    basekit   \n",
       "\n",
       "                                  category_list_clean  \\\n",
       "1           [media, news, publishing, soccer, sports]   \n",
       "2           [media, news, publishing, soccer, sports]   \n",
       "87  [curatedweb, financetechnology, financialservi...   \n",
       "98                  [curatedweb, internet, webdesign]   \n",
       "99                  [curatedweb, internet, webdesign]   \n",
       "\n",
       "                 company_permalink funding_round_type  raised_amount_usd  \\\n",
       "1              /organization/90min            venture         15000000.0   \n",
       "2              /ORGANIZATION/90MIN            venture          5800000.0   \n",
       "87             /organization/azimo            venture         10000000.0   \n",
       "98  /ORGANIZATION/BASEKIT-PLATFORM            venture          7000000.0   \n",
       "99  /organization/basekit-platform            venture          6818631.0   \n",
       "\n",
       "           company_permalink_clean  IsEnglish primary_sector  \\\n",
       "1              /organization/90min       True          Media   \n",
       "2              /organization/90min       True          Media   \n",
       "87             /organization/azimo       True    Curated Web   \n",
       "98  /organization/basekit-platform       True    Curated Web   \n",
       "99  /organization/basekit-platform       True    Curated Web   \n",
       "\n",
       "                   main_sector  \n",
       "1                Entertainment  \n",
       "2                Entertainment  \n",
       "87  News, Search and Messaging  \n",
       "98  News, Search and Messaging  \n",
       "99  News, Search and Messaging  "
      ]
     },
     "execution_count": 82,
     "metadata": {},
     "output_type": "execute_result"
    }
   ],
   "source": [
    "D2.head()\n"
   ]
  },
  {
   "cell_type": "code",
   "execution_count": 83,
   "metadata": {},
   "outputs": [
    {
     "data": {
      "text/html": [
       "<div>\n",
       "<style scoped>\n",
       "    .dataframe tbody tr th:only-of-type {\n",
       "        vertical-align: middle;\n",
       "    }\n",
       "\n",
       "    .dataframe tbody tr th {\n",
       "        vertical-align: top;\n",
       "    }\n",
       "\n",
       "    .dataframe thead th {\n",
       "        text-align: right;\n",
       "    }\n",
       "</style>\n",
       "<table border=\"1\" class=\"dataframe\">\n",
       "  <thead>\n",
       "    <tr style=\"text-align: right;\">\n",
       "      <th></th>\n",
       "      <th>permalink</th>\n",
       "      <th>name</th>\n",
       "      <th>category_list_x</th>\n",
       "      <th>status</th>\n",
       "      <th>country_code</th>\n",
       "      <th>permalink_clean</th>\n",
       "      <th>name_clean</th>\n",
       "      <th>category_list_clean</th>\n",
       "      <th>company_permalink</th>\n",
       "      <th>funding_round_type</th>\n",
       "      <th>raised_amount_usd</th>\n",
       "      <th>company_permalink_clean</th>\n",
       "      <th>IsEnglish</th>\n",
       "      <th>primary_sector</th>\n",
       "      <th>main_sector</th>\n",
       "    </tr>\n",
       "  </thead>\n",
       "  <tbody>\n",
       "    <tr>\n",
       "      <th>0</th>\n",
       "      <td>/Organization/-Fame</td>\n",
       "      <td>#fame</td>\n",
       "      <td>Media</td>\n",
       "      <td>operating</td>\n",
       "      <td>IND</td>\n",
       "      <td>/organization/-fame</td>\n",
       "      <td>#fame</td>\n",
       "      <td>[media]</td>\n",
       "      <td>/organization/-fame</td>\n",
       "      <td>venture</td>\n",
       "      <td>10000000.0</td>\n",
       "      <td>/organization/-fame</td>\n",
       "      <td>True</td>\n",
       "      <td>Media</td>\n",
       "      <td>Entertainment</td>\n",
       "    </tr>\n",
       "    <tr>\n",
       "      <th>89</th>\n",
       "      <td>/Organization/Babajob</td>\n",
       "      <td>Babajob</td>\n",
       "      <td>Curated Web|Information Technology|Services|St...</td>\n",
       "      <td>operating</td>\n",
       "      <td>IND</td>\n",
       "      <td>/organization/babajob</td>\n",
       "      <td>babajob</td>\n",
       "      <td>[curatedweb, informationtechnology, services, ...</td>\n",
       "      <td>/organization/babajob</td>\n",
       "      <td>venture</td>\n",
       "      <td>10000000.0</td>\n",
       "      <td>/organization/babajob</td>\n",
       "      <td>True</td>\n",
       "      <td>Curated Web</td>\n",
       "      <td>News, Search and Messaging</td>\n",
       "    </tr>\n",
       "    <tr>\n",
       "      <th>109</th>\n",
       "      <td>/Organization/Bharat-Matrimony</td>\n",
       "      <td>Bharat Matrimony</td>\n",
       "      <td>Curated Web|Match-Making</td>\n",
       "      <td>operating</td>\n",
       "      <td>IND</td>\n",
       "      <td>/organization/bharat-matrimony</td>\n",
       "      <td>bharat matrimony</td>\n",
       "      <td>[curatedweb, matchmaking]</td>\n",
       "      <td>/ORGANIZATION/BHARAT-MATRIMONY</td>\n",
       "      <td>venture</td>\n",
       "      <td>11750000.0</td>\n",
       "      <td>/organization/bharat-matrimony</td>\n",
       "      <td>True</td>\n",
       "      <td>Curated Web</td>\n",
       "      <td>News, Search and Messaging</td>\n",
       "    </tr>\n",
       "    <tr>\n",
       "      <th>124</th>\n",
       "      <td>/Organization/Bluestone-Com</td>\n",
       "      <td>Bluestone.com</td>\n",
       "      <td>Curated Web</td>\n",
       "      <td>operating</td>\n",
       "      <td>IND</td>\n",
       "      <td>/organization/bluestone-com</td>\n",
       "      <td>bluestone.com</td>\n",
       "      <td>[curatedweb]</td>\n",
       "      <td>/ORGANIZATION/BLUESTONE-COM</td>\n",
       "      <td>venture</td>\n",
       "      <td>5000000.0</td>\n",
       "      <td>/organization/bluestone-com</td>\n",
       "      <td>True</td>\n",
       "      <td>Curated Web</td>\n",
       "      <td>News, Search and Messaging</td>\n",
       "    </tr>\n",
       "    <tr>\n",
       "      <th>126</th>\n",
       "      <td>/Organization/Bluestone-Com</td>\n",
       "      <td>Bluestone.com</td>\n",
       "      <td>Curated Web</td>\n",
       "      <td>operating</td>\n",
       "      <td>IND</td>\n",
       "      <td>/organization/bluestone-com</td>\n",
       "      <td>bluestone.com</td>\n",
       "      <td>[curatedweb]</td>\n",
       "      <td>/ORGANIZATION/BLUESTONE-COM</td>\n",
       "      <td>venture</td>\n",
       "      <td>10000000.0</td>\n",
       "      <td>/organization/bluestone-com</td>\n",
       "      <td>True</td>\n",
       "      <td>Curated Web</td>\n",
       "      <td>News, Search and Messaging</td>\n",
       "    </tr>\n",
       "  </tbody>\n",
       "</table>\n",
       "</div>"
      ],
      "text/plain": [
       "                          permalink              name  \\\n",
       "0               /Organization/-Fame             #fame   \n",
       "89            /Organization/Babajob           Babajob   \n",
       "109  /Organization/Bharat-Matrimony  Bharat Matrimony   \n",
       "124     /Organization/Bluestone-Com     Bluestone.com   \n",
       "126     /Organization/Bluestone-Com     Bluestone.com   \n",
       "\n",
       "                                       category_list_x     status  \\\n",
       "0                                                Media  operating   \n",
       "89   Curated Web|Information Technology|Services|St...  operating   \n",
       "109                           Curated Web|Match-Making  operating   \n",
       "124                                        Curated Web  operating   \n",
       "126                                        Curated Web  operating   \n",
       "\n",
       "    country_code                 permalink_clean        name_clean  \\\n",
       "0            IND             /organization/-fame             #fame   \n",
       "89           IND           /organization/babajob           babajob   \n",
       "109          IND  /organization/bharat-matrimony  bharat matrimony   \n",
       "124          IND     /organization/bluestone-com     bluestone.com   \n",
       "126          IND     /organization/bluestone-com     bluestone.com   \n",
       "\n",
       "                                   category_list_clean  \\\n",
       "0                                              [media]   \n",
       "89   [curatedweb, informationtechnology, services, ...   \n",
       "109                          [curatedweb, matchmaking]   \n",
       "124                                       [curatedweb]   \n",
       "126                                       [curatedweb]   \n",
       "\n",
       "                  company_permalink funding_round_type  raised_amount_usd  \\\n",
       "0               /organization/-fame            venture         10000000.0   \n",
       "89            /organization/babajob            venture         10000000.0   \n",
       "109  /ORGANIZATION/BHARAT-MATRIMONY            venture         11750000.0   \n",
       "124     /ORGANIZATION/BLUESTONE-COM            venture          5000000.0   \n",
       "126     /ORGANIZATION/BLUESTONE-COM            venture         10000000.0   \n",
       "\n",
       "            company_permalink_clean  IsEnglish primary_sector  \\\n",
       "0               /organization/-fame       True          Media   \n",
       "89            /organization/babajob       True    Curated Web   \n",
       "109  /organization/bharat-matrimony       True    Curated Web   \n",
       "124     /organization/bluestone-com       True    Curated Web   \n",
       "126     /organization/bluestone-com       True    Curated Web   \n",
       "\n",
       "                    main_sector  \n",
       "0                 Entertainment  \n",
       "89   News, Search and Messaging  \n",
       "109  News, Search and Messaging  \n",
       "124  News, Search and Messaging  \n",
       "126  News, Search and Messaging  "
      ]
     },
     "execution_count": 83,
     "metadata": {},
     "output_type": "execute_result"
    }
   ],
   "source": [
    "D3.head()"
   ]
  },
  {
   "cell_type": "markdown",
   "metadata": {},
   "source": [
    " Total number of investments (count)"
   ]
  },
  {
   "cell_type": "code",
   "execution_count": 84,
   "metadata": {
    "tags": []
   },
   "outputs": [
    {
     "name": "stdout",
     "output_type": "stream",
     "text": [
      "8391 479 298\n"
     ]
    }
   ],
   "source": [
    "print(D1.shape[0], D2.shape[0], D3.shape[0])"
   ]
  },
  {
   "cell_type": "markdown",
   "metadata": {},
   "source": [
    " **Total amount of investment (USD)**"
   ]
  },
  {
   "cell_type": "code",
   "execution_count": 85,
   "metadata": {
    "tags": []
   },
   "outputs": [
    {
     "name": "stdout",
     "output_type": "stream",
     "text": [
      "74757700237.0 4135861456.0 2664944832.0\n"
     ]
    }
   ],
   "source": [
    "print(D1[raised_amount_usd].sum(),\n",
    "      D2[raised_amount_usd].sum(), D3[raised_amount_usd].sum())\n"
   ]
  },
  {
   "cell_type": "code",
   "execution_count": 86,
   "metadata": {},
   "outputs": [],
   "source": [
    "def print_investment_status(curated_data):\n",
    "    temp_frame = pd.pivot_table(curated_data, values=raised_amount_usd,\n",
    "                                index=main_sector, aggfunc=['count', 'sum']).reset_index()\n",
    "    temp_frame.columns = [main_sector,\n",
    "                          'raised_amount_usd_count', 'raised_amount_usd_sum']\n",
    "    return temp_frame"
   ]
  },
  {
   "cell_type": "code",
   "execution_count": 87,
   "metadata": {},
   "outputs": [],
   "source": [
    "D11 = print_investment_status(D1)\n",
    "D22 = print_investment_status(D2)\n",
    "D33 = print_investment_status(D3)"
   ]
  },
  {
   "cell_type": "code",
   "execution_count": 88,
   "metadata": {},
   "outputs": [],
   "source": [
    "format_dict = {'raised_amount_usd_sum': '${0:,.2f}'}"
   ]
  },
  {
   "cell_type": "code",
   "execution_count": 89,
   "metadata": {},
   "outputs": [],
   "source": [
    "def print_main_sector_in_order() -> None:\n",
    "    # Ref: https://stackoverflow.com/questions/61363712/how-to-print-a-pandas-io-formats-style-styler-object\n",
    "    for rd in [(USA, D11), (GBR, D22), (IND, D33)]:\n",
    "        print(f\"Country: {rd[0]}\")\n",
    "        print(\"\\t Sorted by Investment Count\")\n",
    "        display(rd[1].sort_values(by='raised_amount_usd_count',\n",
    "                                  ascending=False).style.format(format_dict).hide_index())\n",
    "        # print(\"\\n\\t Sorted by Investment Sum\")\n",
    "        # display(rd[1].sort_values(by='raised_amount_usd_sum',\n",
    "        #                         ascending=False).style.format(format_dict).hide_index())\n"
   ]
  },
  {
   "cell_type": "code",
   "execution_count": 90,
   "metadata": {
    "tags": []
   },
   "outputs": [
    {
     "name": "stdout",
     "output_type": "stream",
     "text": [
      "Country: USA\n",
      "\t Sorted by Investment Count\n"
     ]
    },
    {
     "data": {
      "text/html": [
       "<style  type=\"text/css\" >\n",
       "</style><table id=\"T_d1a9fbc7_eac4_11ea_9189_d4258b08dbe3\" ><thead>    <tr>        <th class=\"col_heading level0 col0\" >main_sector</th>        <th class=\"col_heading level0 col1\" >raised_amount_usd_count</th>        <th class=\"col_heading level0 col2\" >raised_amount_usd_sum</th>    </tr></thead><tbody>\n",
       "                <tr>\n",
       "                                <td id=\"T_d1a9fbc7_eac4_11ea_9189_d4258b08dbe3row0_col0\" class=\"data row0 col0\" >Social, Finance, Analytics, Advertising</td>\n",
       "                        <td id=\"T_d1a9fbc7_eac4_11ea_9189_d4258b08dbe3row0_col1\" class=\"data row0 col1\" >1943</td>\n",
       "                        <td id=\"T_d1a9fbc7_eac4_11ea_9189_d4258b08dbe3row0_col2\" class=\"data row0 col2\" >$17,190,917,113.00</td>\n",
       "            </tr>\n",
       "            <tr>\n",
       "                                <td id=\"T_d1a9fbc7_eac4_11ea_9189_d4258b08dbe3row1_col0\" class=\"data row1 col0\" >Others</td>\n",
       "                        <td id=\"T_d1a9fbc7_eac4_11ea_9189_d4258b08dbe3row1_col1\" class=\"data row1 col1\" >1837</td>\n",
       "                        <td id=\"T_d1a9fbc7_eac4_11ea_9189_d4258b08dbe3row1_col2\" class=\"data row1 col2\" >$16,327,124,344.00</td>\n",
       "            </tr>\n",
       "            <tr>\n",
       "                                <td id=\"T_d1a9fbc7_eac4_11ea_9189_d4258b08dbe3row2_col0\" class=\"data row2 col0\" >Cleantech / Semiconductors</td>\n",
       "                        <td id=\"T_d1a9fbc7_eac4_11ea_9189_d4258b08dbe3row2_col1\" class=\"data row2 col1\" >1783</td>\n",
       "                        <td id=\"T_d1a9fbc7_eac4_11ea_9189_d4258b08dbe3row2_col2\" class=\"data row2 col2\" >$16,164,694,047.00</td>\n",
       "            </tr>\n",
       "            <tr>\n",
       "                                <td id=\"T_d1a9fbc7_eac4_11ea_9189_d4258b08dbe3row3_col0\" class=\"data row3 col0\" >News, Search and Messaging</td>\n",
       "                        <td id=\"T_d1a9fbc7_eac4_11ea_9189_d4258b08dbe3row3_col1\" class=\"data row3 col1\" >1046</td>\n",
       "                        <td id=\"T_d1a9fbc7_eac4_11ea_9189_d4258b08dbe3row3_col2\" class=\"data row3 col2\" >$9,222,060,082.00</td>\n",
       "            </tr>\n",
       "            <tr>\n",
       "                                <td id=\"T_d1a9fbc7_eac4_11ea_9189_d4258b08dbe3row4_col0\" class=\"data row4 col0\" >Health</td>\n",
       "                        <td id=\"T_d1a9fbc7_eac4_11ea_9189_d4258b08dbe3row4_col1\" class=\"data row4 col1\" >718</td>\n",
       "                        <td id=\"T_d1a9fbc7_eac4_11ea_9189_d4258b08dbe3row4_col2\" class=\"data row4 col2\" >$6,488,147,629.00</td>\n",
       "            </tr>\n",
       "            <tr>\n",
       "                                <td id=\"T_d1a9fbc7_eac4_11ea_9189_d4258b08dbe3row5_col0\" class=\"data row5 col0\" >Manufacturing</td>\n",
       "                        <td id=\"T_d1a9fbc7_eac4_11ea_9189_d4258b08dbe3row5_col1\" class=\"data row5 col1\" >565</td>\n",
       "                        <td id=\"T_d1a9fbc7_eac4_11ea_9189_d4258b08dbe3row5_col2\" class=\"data row5 col2\" >$5,047,527,656.00</td>\n",
       "            </tr>\n",
       "            <tr>\n",
       "                                <td id=\"T_d1a9fbc7_eac4_11ea_9189_d4258b08dbe3row6_col0\" class=\"data row6 col0\" >Entertainment</td>\n",
       "                        <td id=\"T_d1a9fbc7_eac4_11ea_9189_d4258b08dbe3row6_col1\" class=\"data row6 col1\" >373</td>\n",
       "                        <td id=\"T_d1a9fbc7_eac4_11ea_9189_d4258b08dbe3row6_col2\" class=\"data row6 col2\" >$3,224,067,271.00</td>\n",
       "            </tr>\n",
       "            <tr>\n",
       "                                <td id=\"T_d1a9fbc7_eac4_11ea_9189_d4258b08dbe3row7_col0\" class=\"data row7 col0\" >Automotive & Sports</td>\n",
       "                        <td id=\"T_d1a9fbc7_eac4_11ea_9189_d4258b08dbe3row7_col1\" class=\"data row7 col1\" >126</td>\n",
       "                        <td id=\"T_d1a9fbc7_eac4_11ea_9189_d4258b08dbe3row7_col2\" class=\"data row7 col2\" >$1,093,162,095.00</td>\n",
       "            </tr>\n",
       "    </tbody></table>"
      ],
      "text/plain": [
       "<pandas.io.formats.style.Styler at 0x2a84c351640>"
      ]
     },
     "metadata": {},
     "output_type": "display_data"
    },
    {
     "name": "stdout",
     "output_type": "stream",
     "text": [
      "Country: GBR\n",
      "\t Sorted by Investment Count\n"
     ]
    },
    {
     "data": {
      "text/html": [
       "<style  type=\"text/css\" >\n",
       "</style><table id=\"T_d1ab338d_eac4_11ea_8202_d4258b08dbe3\" ><thead>    <tr>        <th class=\"col_heading level0 col0\" >main_sector</th>        <th class=\"col_heading level0 col1\" >raised_amount_usd_count</th>        <th class=\"col_heading level0 col2\" >raised_amount_usd_sum</th>    </tr></thead><tbody>\n",
       "                <tr>\n",
       "                                <td id=\"T_d1ab338d_eac4_11ea_8202_d4258b08dbe3row0_col0\" class=\"data row0 col0\" >Others</td>\n",
       "                        <td id=\"T_d1ab338d_eac4_11ea_8202_d4258b08dbe3row0_col1\" class=\"data row0 col1\" >112</td>\n",
       "                        <td id=\"T_d1ab338d_eac4_11ea_8202_d4258b08dbe3row0_col2\" class=\"data row0 col2\" >$986,257,559.00</td>\n",
       "            </tr>\n",
       "            <tr>\n",
       "                                <td id=\"T_d1ab338d_eac4_11ea_8202_d4258b08dbe3row1_col0\" class=\"data row1 col0\" >Social, Finance, Analytics, Advertising</td>\n",
       "                        <td id=\"T_d1ab338d_eac4_11ea_8202_d4258b08dbe3row1_col1\" class=\"data row1 col1\" >107</td>\n",
       "                        <td id=\"T_d1ab338d_eac4_11ea_8202_d4258b08dbe3row1_col2\" class=\"data row1 col2\" >$878,908,102.00</td>\n",
       "            </tr>\n",
       "            <tr>\n",
       "                                <td id=\"T_d1ab338d_eac4_11ea_8202_d4258b08dbe3row2_col0\" class=\"data row2 col0\" >Cleantech / Semiconductors</td>\n",
       "                        <td id=\"T_d1ab338d_eac4_11ea_8202_d4258b08dbe3row2_col1\" class=\"data row2 col1\" >100</td>\n",
       "                        <td id=\"T_d1ab338d_eac4_11ea_8202_d4258b08dbe3row2_col2\" class=\"data row2 col2\" >$884,638,112.00</td>\n",
       "            </tr>\n",
       "            <tr>\n",
       "                                <td id=\"T_d1ab338d_eac4_11ea_8202_d4258b08dbe3row3_col0\" class=\"data row3 col0\" >Entertainment</td>\n",
       "                        <td id=\"T_d1ab338d_eac4_11ea_8202_d4258b08dbe3row3_col1\" class=\"data row3 col1\" >47</td>\n",
       "                        <td id=\"T_d1ab338d_eac4_11ea_8202_d4258b08dbe3row3_col2\" class=\"data row3 col2\" >$411,546,359.00</td>\n",
       "            </tr>\n",
       "            <tr>\n",
       "                                <td id=\"T_d1ab338d_eac4_11ea_8202_d4258b08dbe3row4_col0\" class=\"data row4 col0\" >News, Search and Messaging</td>\n",
       "                        <td id=\"T_d1ab338d_eac4_11ea_8202_d4258b08dbe3row4_col1\" class=\"data row4 col1\" >43</td>\n",
       "                        <td id=\"T_d1ab338d_eac4_11ea_8202_d4258b08dbe3row4_col2\" class=\"data row4 col2\" >$354,871,725.00</td>\n",
       "            </tr>\n",
       "            <tr>\n",
       "                                <td id=\"T_d1ab338d_eac4_11ea_8202_d4258b08dbe3row5_col0\" class=\"data row5 col0\" >Manufacturing</td>\n",
       "                        <td id=\"T_d1ab338d_eac4_11ea_8202_d4258b08dbe3row5_col1\" class=\"data row5 col1\" >38</td>\n",
       "                        <td id=\"T_d1ab338d_eac4_11ea_8202_d4258b08dbe3row5_col2\" class=\"data row5 col2\" >$320,755,095.00</td>\n",
       "            </tr>\n",
       "            <tr>\n",
       "                                <td id=\"T_d1ab338d_eac4_11ea_8202_d4258b08dbe3row6_col0\" class=\"data row6 col0\" >Health</td>\n",
       "                        <td id=\"T_d1ab338d_eac4_11ea_8202_d4258b08dbe3row6_col1\" class=\"data row6 col1\" >21</td>\n",
       "                        <td id=\"T_d1ab338d_eac4_11ea_8202_d4258b08dbe3row6_col2\" class=\"data row6 col2\" >$179,820,205.00</td>\n",
       "            </tr>\n",
       "            <tr>\n",
       "                                <td id=\"T_d1ab338d_eac4_11ea_8202_d4258b08dbe3row7_col0\" class=\"data row7 col0\" >Automotive & Sports</td>\n",
       "                        <td id=\"T_d1ab338d_eac4_11ea_8202_d4258b08dbe3row7_col1\" class=\"data row7 col1\" >11</td>\n",
       "                        <td id=\"T_d1ab338d_eac4_11ea_8202_d4258b08dbe3row7_col2\" class=\"data row7 col2\" >$119,064,299.00</td>\n",
       "            </tr>\n",
       "    </tbody></table>"
      ],
      "text/plain": [
       "<pandas.io.formats.style.Styler at 0x2a84e81dee0>"
      ]
     },
     "metadata": {},
     "output_type": "display_data"
    },
    {
     "name": "stdout",
     "output_type": "stream",
     "text": [
      "Country: IND\n",
      "\t Sorted by Investment Count\n"
     ]
    },
    {
     "data": {
      "text/html": [
       "<style  type=\"text/css\" >\n",
       "</style><table id=\"T_d1ac1d31_eac4_11ea_9b46_d4258b08dbe3\" ><thead>    <tr>        <th class=\"col_heading level0 col0\" >main_sector</th>        <th class=\"col_heading level0 col1\" >raised_amount_usd_count</th>        <th class=\"col_heading level0 col2\" >raised_amount_usd_sum</th>    </tr></thead><tbody>\n",
       "                <tr>\n",
       "                                <td id=\"T_d1ac1d31_eac4_11ea_9b46_d4258b08dbe3row0_col0\" class=\"data row0 col0\" >Others</td>\n",
       "                        <td id=\"T_d1ac1d31_eac4_11ea_9b46_d4258b08dbe3row0_col1\" class=\"data row0 col1\" >94</td>\n",
       "                        <td id=\"T_d1ac1d31_eac4_11ea_9b46_d4258b08dbe3row0_col2\" class=\"data row0 col2\" >$855,989,507.00</td>\n",
       "            </tr>\n",
       "            <tr>\n",
       "                                <td id=\"T_d1ac1d31_eac4_11ea_9b46_d4258b08dbe3row1_col0\" class=\"data row1 col0\" >Social, Finance, Analytics, Advertising</td>\n",
       "                        <td id=\"T_d1ac1d31_eac4_11ea_9b46_d4258b08dbe3row1_col1\" class=\"data row1 col1\" >55</td>\n",
       "                        <td id=\"T_d1ac1d31_eac4_11ea_9b46_d4258b08dbe3row1_col2\" class=\"data row1 col2\" >$496,549,550.00</td>\n",
       "            </tr>\n",
       "            <tr>\n",
       "                                <td id=\"T_d1ac1d31_eac4_11ea_9b46_d4258b08dbe3row2_col0\" class=\"data row2 col0\" >News, Search and Messaging</td>\n",
       "                        <td id=\"T_d1ac1d31_eac4_11ea_9b46_d4258b08dbe3row2_col1\" class=\"data row2 col1\" >47</td>\n",
       "                        <td id=\"T_d1ac1d31_eac4_11ea_9b46_d4258b08dbe3row2_col2\" class=\"data row2 col2\" >$392,405,775.00</td>\n",
       "            </tr>\n",
       "            <tr>\n",
       "                                <td id=\"T_d1ac1d31_eac4_11ea_9b46_d4258b08dbe3row3_col0\" class=\"data row3 col0\" >Entertainment</td>\n",
       "                        <td id=\"T_d1ac1d31_eac4_11ea_9b46_d4258b08dbe3row3_col1\" class=\"data row3 col1\" >32</td>\n",
       "                        <td id=\"T_d1ac1d31_eac4_11ea_9b46_d4258b08dbe3row3_col2\" class=\"data row3 col2\" >$272,080,000.00</td>\n",
       "            </tr>\n",
       "            <tr>\n",
       "                                <td id=\"T_d1ac1d31_eac4_11ea_9b46_d4258b08dbe3row4_col0\" class=\"data row4 col0\" >Cleantech / Semiconductors</td>\n",
       "                        <td id=\"T_d1ac1d31_eac4_11ea_9b46_d4258b08dbe3row4_col1\" class=\"data row4 col1\" >20</td>\n",
       "                        <td id=\"T_d1ac1d31_eac4_11ea_9b46_d4258b08dbe3row4_col2\" class=\"data row4 col2\" >$165,380,000.00</td>\n",
       "            </tr>\n",
       "            <tr>\n",
       "                                <td id=\"T_d1ac1d31_eac4_11ea_9b46_d4258b08dbe3row5_col0\" class=\"data row5 col0\" >Manufacturing</td>\n",
       "                        <td id=\"T_d1ac1d31_eac4_11ea_9b46_d4258b08dbe3row5_col1\" class=\"data row5 col1\" >20</td>\n",
       "                        <td id=\"T_d1ac1d31_eac4_11ea_9b46_d4258b08dbe3row5_col2\" class=\"data row5 col2\" >$194,900,000.00</td>\n",
       "            </tr>\n",
       "            <tr>\n",
       "                                <td id=\"T_d1ac1d31_eac4_11ea_9b46_d4258b08dbe3row6_col0\" class=\"data row6 col0\" >Health</td>\n",
       "                        <td id=\"T_d1ac1d31_eac4_11ea_9b46_d4258b08dbe3row6_col1\" class=\"data row6 col1\" >18</td>\n",
       "                        <td id=\"T_d1ac1d31_eac4_11ea_9b46_d4258b08dbe3row6_col2\" class=\"data row6 col2\" >$160,740,000.00</td>\n",
       "            </tr>\n",
       "            <tr>\n",
       "                                <td id=\"T_d1ac1d31_eac4_11ea_9b46_d4258b08dbe3row7_col0\" class=\"data row7 col0\" >Automotive & Sports</td>\n",
       "                        <td id=\"T_d1ac1d31_eac4_11ea_9b46_d4258b08dbe3row7_col1\" class=\"data row7 col1\" >12</td>\n",
       "                        <td id=\"T_d1ac1d31_eac4_11ea_9b46_d4258b08dbe3row7_col2\" class=\"data row7 col2\" >$126,900,000.00</td>\n",
       "            </tr>\n",
       "    </tbody></table>"
      ],
      "text/plain": [
       "<pandas.io.formats.style.Styler at 0x2a84e81d610>"
      ]
     },
     "metadata": {},
     "output_type": "display_data"
    }
   ],
   "source": [
    "print_main_sector_in_order()"
   ]
  },
  {
   "cell_type": "code",
   "execution_count": 91,
   "metadata": {},
   "outputs": [],
   "source": [
    "# Print complete frame\n",
    "# pd.set_option('display.max_rows', None)\n",
    "# pd.set_option('display.max_columns', None)\n",
    "# pd.set_option('display.width', None)\n",
    "# pd.set_option('display.max_colwidth', -1)"
   ]
  },
  {
   "cell_type": "code",
   "execution_count": 92,
   "metadata": {},
   "outputs": [],
   "source": [
    "def get_highest_invested_companies() -> List[Tuple[int, str, List[str], pd.DataFrame]]:\n",
    "    highest_invested_companies = []\n",
    "    for df, sectors, c in [(D1, ['Social, Finance, Analytics, Advertising', 'Others'], USA),\n",
    "                           (D2, [\n",
    "                            'Others', 'Social, Finance, Analytics, Advertising'], GBR),\n",
    "                           (D3, ['Others', 'Social, Finance, Analytics, Advertising'], IND)]:\n",
    "        for i, sector in enumerate(sectors):\n",
    "            sector_df = df[df[main_sector] == sector]\n",
    "            highest_invested_value = sector_df[raised_amount_usd].max()\n",
    "            sector_df = sector_df[sector_df[raised_amount_usd]\n",
    "                                  == highest_invested_value]\n",
    "            sector_df.drop_duplicates(subset=name_c, keep=False, inplace=True)\n",
    "            names = list(sector_df[name_c])\n",
    "            highest_invested_companies.append((i, c, names, sector_df))\n",
    "            sector_df = None\n",
    "            names = None\n",
    "    return highest_invested_companies"
   ]
  },
  {
   "cell_type": "code",
   "execution_count": 93,
   "metadata": {},
   "outputs": [],
   "source": [
    "highest_invested_companies = get_highest_invested_companies()"
   ]
  },
  {
   "cell_type": "code",
   "execution_count": 94,
   "metadata": {
    "tags": []
   },
   "outputs": [
    {
     "name": "stdout",
     "output_type": "stream",
     "text": [
      "USA : 134\n",
      "USA : 106\n",
      "GBR : 4\n",
      "GBR : 4\n",
      "IND : 14\n",
      "IND : 4\n"
     ]
    }
   ],
   "source": [
    "for _, c, companies, _ in highest_invested_companies:\n",
    "    print(f\"{c} : {len(companies)}\")"
   ]
  },
  {
   "cell_type": "code",
   "execution_count": 95,
   "metadata": {
    "tags": []
   },
   "outputs": [
    {
     "name": "stdout",
     "output_type": "stream",
     "text": [
      "USA\n"
     ]
    },
    {
     "data": {
      "text/html": [
       "<div>\n",
       "<style scoped>\n",
       "    .dataframe tbody tr th:only-of-type {\n",
       "        vertical-align: middle;\n",
       "    }\n",
       "\n",
       "    .dataframe tbody tr th {\n",
       "        vertical-align: top;\n",
       "    }\n",
       "\n",
       "    .dataframe thead th {\n",
       "        text-align: right;\n",
       "    }\n",
       "</style>\n",
       "<table border=\"1\" class=\"dataframe\">\n",
       "  <thead>\n",
       "    <tr style=\"text-align: right;\">\n",
       "      <th></th>\n",
       "      <th>permalink</th>\n",
       "      <th>name</th>\n",
       "      <th>category_list_x</th>\n",
       "      <th>status</th>\n",
       "      <th>country_code</th>\n",
       "      <th>permalink_clean</th>\n",
       "      <th>name_clean</th>\n",
       "      <th>category_list_clean</th>\n",
       "      <th>company_permalink</th>\n",
       "      <th>funding_round_type</th>\n",
       "      <th>raised_amount_usd</th>\n",
       "      <th>company_permalink_clean</th>\n",
       "      <th>IsEnglish</th>\n",
       "      <th>primary_sector</th>\n",
       "      <th>main_sector</th>\n",
       "    </tr>\n",
       "  </thead>\n",
       "  <tbody>\n",
       "    <tr>\n",
       "      <th>6736</th>\n",
       "      <td>/Organization/Alfalight</td>\n",
       "      <td>Alfalight</td>\n",
       "      <td>Analytics</td>\n",
       "      <td>operating</td>\n",
       "      <td>USA</td>\n",
       "      <td>/organization/alfalight</td>\n",
       "      <td>alfalight</td>\n",
       "      <td>[analytics]</td>\n",
       "      <td>/ORGANIZATION/ALFALIGHT</td>\n",
       "      <td>venture</td>\n",
       "      <td>15000000.0</td>\n",
       "      <td>/organization/alfalight</td>\n",
       "      <td>True</td>\n",
       "      <td>Analytics</td>\n",
       "      <td>Social, Finance, Analytics, Advertising</td>\n",
       "    </tr>\n",
       "    <tr>\n",
       "      <th>6750</th>\n",
       "      <td>/Organization/App-Annie</td>\n",
       "      <td>App Annie</td>\n",
       "      <td>Analytics|Big Data Analytics|Mobile</td>\n",
       "      <td>operating</td>\n",
       "      <td>USA</td>\n",
       "      <td>/organization/app-annie</td>\n",
       "      <td>app annie</td>\n",
       "      <td>[analytics, bigdataanalytics, mobile]</td>\n",
       "      <td>/ORGANIZATION/APP-ANNIE</td>\n",
       "      <td>venture</td>\n",
       "      <td>15000000.0</td>\n",
       "      <td>/organization/app-annie</td>\n",
       "      <td>True</td>\n",
       "      <td>Analytics</td>\n",
       "      <td>Social, Finance, Analytics, Advertising</td>\n",
       "    </tr>\n",
       "    <tr>\n",
       "      <th>6754</th>\n",
       "      <td>/Organization/Appboy</td>\n",
       "      <td>Appboy</td>\n",
       "      <td>Analytics|Android|Apps|CRM|iOS|Marketing Autom...</td>\n",
       "      <td>operating</td>\n",
       "      <td>USA</td>\n",
       "      <td>/organization/appboy</td>\n",
       "      <td>appboy</td>\n",
       "      <td>[analytics, android, apps, crm, ios, marketing...</td>\n",
       "      <td>/ORGANIZATION/APPBOY</td>\n",
       "      <td>venture</td>\n",
       "      <td>15000000.0</td>\n",
       "      <td>/organization/appboy</td>\n",
       "      <td>True</td>\n",
       "      <td>Analytics</td>\n",
       "      <td>Social, Finance, Analytics, Advertising</td>\n",
       "    </tr>\n",
       "    <tr>\n",
       "      <th>6830</th>\n",
       "      <td>/Organization/Bitly</td>\n",
       "      <td>Bitly</td>\n",
       "      <td>Analytics|Brand Marketing|Computers|Curated We...</td>\n",
       "      <td>operating</td>\n",
       "      <td>USA</td>\n",
       "      <td>/organization/bitly</td>\n",
       "      <td>bitly</td>\n",
       "      <td>[analytics, brandmarketing, computers, curated...</td>\n",
       "      <td>/ORGANIZATION/BITLY</td>\n",
       "      <td>venture</td>\n",
       "      <td>15000000.0</td>\n",
       "      <td>/organization/bitly</td>\n",
       "      <td>True</td>\n",
       "      <td>Analytics</td>\n",
       "      <td>Social, Finance, Analytics, Advertising</td>\n",
       "    </tr>\n",
       "    <tr>\n",
       "      <th>6846</th>\n",
       "      <td>/Organization/Bottlenose</td>\n",
       "      <td>Bottlenose</td>\n",
       "      <td>Analytics|Big Data|Ediscovery|Real Time|Search...</td>\n",
       "      <td>operating</td>\n",
       "      <td>USA</td>\n",
       "      <td>/organization/bottlenose</td>\n",
       "      <td>bottlenose</td>\n",
       "      <td>[analytics, bigdata, ediscovery, realtime, sea...</td>\n",
       "      <td>/ORGANIZATION/BOTTLENOSE</td>\n",
       "      <td>venture</td>\n",
       "      <td>15000000.0</td>\n",
       "      <td>/organization/bottlenose</td>\n",
       "      <td>True</td>\n",
       "      <td>Analytics</td>\n",
       "      <td>Social, Finance, Analytics, Advertising</td>\n",
       "    </tr>\n",
       "    <tr>\n",
       "      <th>...</th>\n",
       "      <td>...</td>\n",
       "      <td>...</td>\n",
       "      <td>...</td>\n",
       "      <td>...</td>\n",
       "      <td>...</td>\n",
       "      <td>...</td>\n",
       "      <td>...</td>\n",
       "      <td>...</td>\n",
       "      <td>...</td>\n",
       "      <td>...</td>\n",
       "      <td>...</td>\n",
       "      <td>...</td>\n",
       "      <td>...</td>\n",
       "      <td>...</td>\n",
       "      <td>...</td>\n",
       "    </tr>\n",
       "    <tr>\n",
       "      <th>36121</th>\n",
       "      <td>/Organization/Nsi-Software-2</td>\n",
       "      <td>NSI Software</td>\n",
       "      <td>Data Security|Market Research|Technology</td>\n",
       "      <td>operating</td>\n",
       "      <td>USA</td>\n",
       "      <td>/organization/nsi-software-2</td>\n",
       "      <td>nsi software</td>\n",
       "      <td>[datasecurity, marketresearch, technology]</td>\n",
       "      <td>/organization/nsi-software-2</td>\n",
       "      <td>venture</td>\n",
       "      <td>15000000.0</td>\n",
       "      <td>/organization/nsi-software-2</td>\n",
       "      <td>True</td>\n",
       "      <td>Data Security</td>\n",
       "      <td>Social, Finance, Analytics, Advertising</td>\n",
       "    </tr>\n",
       "    <tr>\n",
       "      <th>36174</th>\n",
       "      <td>/Organization/Centrify</td>\n",
       "      <td>Centrify</td>\n",
       "      <td>Identity Management|SaaS|Security</td>\n",
       "      <td>operating</td>\n",
       "      <td>USA</td>\n",
       "      <td>/organization/centrify</td>\n",
       "      <td>centrify</td>\n",
       "      <td>[identitymanagement, saas, security]</td>\n",
       "      <td>/ORGANIZATION/CENTRIFY</td>\n",
       "      <td>venture</td>\n",
       "      <td>15000000.0</td>\n",
       "      <td>/organization/centrify</td>\n",
       "      <td>True</td>\n",
       "      <td>Identity Management</td>\n",
       "      <td>Social, Finance, Analytics, Advertising</td>\n",
       "    </tr>\n",
       "    <tr>\n",
       "      <th>36208</th>\n",
       "      <td>/Organization/Instantly</td>\n",
       "      <td>Instantly</td>\n",
       "      <td>Market Research|Mobile|Surveys</td>\n",
       "      <td>operating</td>\n",
       "      <td>USA</td>\n",
       "      <td>/organization/instantly</td>\n",
       "      <td>instantly</td>\n",
       "      <td>[marketresearch, mobile, surveys]</td>\n",
       "      <td>/organization/instantly</td>\n",
       "      <td>venture</td>\n",
       "      <td>15000000.0</td>\n",
       "      <td>/organization/instantly</td>\n",
       "      <td>True</td>\n",
       "      <td>Market Research</td>\n",
       "      <td>Social, Finance, Analytics, Advertising</td>\n",
       "    </tr>\n",
       "    <tr>\n",
       "      <th>36848</th>\n",
       "      <td>/Organization/Retailnext</td>\n",
       "      <td>RetailNext</td>\n",
       "      <td>Data Visualization|Manufacturing|Retail</td>\n",
       "      <td>operating</td>\n",
       "      <td>USA</td>\n",
       "      <td>/organization/retailnext</td>\n",
       "      <td>retailnext</td>\n",
       "      <td>[datavisualization, manufacturing, retail]</td>\n",
       "      <td>/ORGANIZATION/RETAILNEXT</td>\n",
       "      <td>venture</td>\n",
       "      <td>15000000.0</td>\n",
       "      <td>/organization/retailnext</td>\n",
       "      <td>True</td>\n",
       "      <td>Data Visualization</td>\n",
       "      <td>Social, Finance, Analytics, Advertising</td>\n",
       "    </tr>\n",
       "    <tr>\n",
       "      <th>36988</th>\n",
       "      <td>/Organization/Reserve</td>\n",
       "      <td>Reserve</td>\n",
       "      <td>Mobile Payments|Online Reservations|Restaurant...</td>\n",
       "      <td>operating</td>\n",
       "      <td>USA</td>\n",
       "      <td>/organization/reserve</td>\n",
       "      <td>reserve</td>\n",
       "      <td>[mobilepayments, onlinereservations, restauran...</td>\n",
       "      <td>/ORGANIZATION/RESERVE</td>\n",
       "      <td>venture</td>\n",
       "      <td>15000000.0</td>\n",
       "      <td>/organization/reserve</td>\n",
       "      <td>True</td>\n",
       "      <td>Mobile Payments</td>\n",
       "      <td>Social, Finance, Analytics, Advertising</td>\n",
       "    </tr>\n",
       "  </tbody>\n",
       "</table>\n",
       "<p>134 rows × 15 columns</p>\n",
       "</div>"
      ],
      "text/plain": [
       "                          permalink          name  \\\n",
       "6736        /Organization/Alfalight     Alfalight   \n",
       "6750        /Organization/App-Annie     App Annie   \n",
       "6754           /Organization/Appboy        Appboy   \n",
       "6830            /Organization/Bitly         Bitly   \n",
       "6846       /Organization/Bottlenose    Bottlenose   \n",
       "...                             ...           ...   \n",
       "36121  /Organization/Nsi-Software-2  NSI Software   \n",
       "36174        /Organization/Centrify      Centrify   \n",
       "36208       /Organization/Instantly     Instantly   \n",
       "36848      /Organization/Retailnext    RetailNext   \n",
       "36988         /Organization/Reserve       Reserve   \n",
       "\n",
       "                                         category_list_x     status  \\\n",
       "6736                                           Analytics  operating   \n",
       "6750                 Analytics|Big Data Analytics|Mobile  operating   \n",
       "6754   Analytics|Android|Apps|CRM|iOS|Marketing Autom...  operating   \n",
       "6830   Analytics|Brand Marketing|Computers|Curated We...  operating   \n",
       "6846   Analytics|Big Data|Ediscovery|Real Time|Search...  operating   \n",
       "...                                                  ...        ...   \n",
       "36121           Data Security|Market Research|Technology  operating   \n",
       "36174                  Identity Management|SaaS|Security  operating   \n",
       "36208                     Market Research|Mobile|Surveys  operating   \n",
       "36848            Data Visualization|Manufacturing|Retail  operating   \n",
       "36988  Mobile Payments|Online Reservations|Restaurant...  operating   \n",
       "\n",
       "      country_code               permalink_clean    name_clean  \\\n",
       "6736           USA       /organization/alfalight     alfalight   \n",
       "6750           USA       /organization/app-annie     app annie   \n",
       "6754           USA          /organization/appboy        appboy   \n",
       "6830           USA           /organization/bitly         bitly   \n",
       "6846           USA      /organization/bottlenose    bottlenose   \n",
       "...            ...                           ...           ...   \n",
       "36121          USA  /organization/nsi-software-2  nsi software   \n",
       "36174          USA        /organization/centrify      centrify   \n",
       "36208          USA       /organization/instantly     instantly   \n",
       "36848          USA      /organization/retailnext    retailnext   \n",
       "36988          USA         /organization/reserve       reserve   \n",
       "\n",
       "                                     category_list_clean  \\\n",
       "6736                                         [analytics]   \n",
       "6750               [analytics, bigdataanalytics, mobile]   \n",
       "6754   [analytics, android, apps, crm, ios, marketing...   \n",
       "6830   [analytics, brandmarketing, computers, curated...   \n",
       "6846   [analytics, bigdata, ediscovery, realtime, sea...   \n",
       "...                                                  ...   \n",
       "36121         [datasecurity, marketresearch, technology]   \n",
       "36174               [identitymanagement, saas, security]   \n",
       "36208                  [marketresearch, mobile, surveys]   \n",
       "36848         [datavisualization, manufacturing, retail]   \n",
       "36988  [mobilepayments, onlinereservations, restauran...   \n",
       "\n",
       "                  company_permalink funding_round_type  raised_amount_usd  \\\n",
       "6736        /ORGANIZATION/ALFALIGHT            venture         15000000.0   \n",
       "6750        /ORGANIZATION/APP-ANNIE            venture         15000000.0   \n",
       "6754           /ORGANIZATION/APPBOY            venture         15000000.0   \n",
       "6830            /ORGANIZATION/BITLY            venture         15000000.0   \n",
       "6846       /ORGANIZATION/BOTTLENOSE            venture         15000000.0   \n",
       "...                             ...                ...                ...   \n",
       "36121  /organization/nsi-software-2            venture         15000000.0   \n",
       "36174        /ORGANIZATION/CENTRIFY            venture         15000000.0   \n",
       "36208       /organization/instantly            venture         15000000.0   \n",
       "36848      /ORGANIZATION/RETAILNEXT            venture         15000000.0   \n",
       "36988         /ORGANIZATION/RESERVE            venture         15000000.0   \n",
       "\n",
       "            company_permalink_clean  IsEnglish       primary_sector  \\\n",
       "6736        /organization/alfalight       True            Analytics   \n",
       "6750        /organization/app-annie       True            Analytics   \n",
       "6754           /organization/appboy       True            Analytics   \n",
       "6830            /organization/bitly       True            Analytics   \n",
       "6846       /organization/bottlenose       True            Analytics   \n",
       "...                             ...        ...                  ...   \n",
       "36121  /organization/nsi-software-2       True        Data Security   \n",
       "36174        /organization/centrify       True  Identity Management   \n",
       "36208       /organization/instantly       True      Market Research   \n",
       "36848      /organization/retailnext       True   Data Visualization   \n",
       "36988         /organization/reserve       True      Mobile Payments   \n",
       "\n",
       "                                   main_sector  \n",
       "6736   Social, Finance, Analytics, Advertising  \n",
       "6750   Social, Finance, Analytics, Advertising  \n",
       "6754   Social, Finance, Analytics, Advertising  \n",
       "6830   Social, Finance, Analytics, Advertising  \n",
       "6846   Social, Finance, Analytics, Advertising  \n",
       "...                                        ...  \n",
       "36121  Social, Finance, Analytics, Advertising  \n",
       "36174  Social, Finance, Analytics, Advertising  \n",
       "36208  Social, Finance, Analytics, Advertising  \n",
       "36848  Social, Finance, Analytics, Advertising  \n",
       "36988  Social, Finance, Analytics, Advertising  \n",
       "\n",
       "[134 rows x 15 columns]"
      ]
     },
     "metadata": {},
     "output_type": "display_data"
    },
    {
     "name": "stdout",
     "output_type": "stream",
     "text": [
      "USA\n"
     ]
    },
    {
     "data": {
      "text/html": [
       "<div>\n",
       "<style scoped>\n",
       "    .dataframe tbody tr th:only-of-type {\n",
       "        vertical-align: middle;\n",
       "    }\n",
       "\n",
       "    .dataframe tbody tr th {\n",
       "        vertical-align: top;\n",
       "    }\n",
       "\n",
       "    .dataframe thead th {\n",
       "        text-align: right;\n",
       "    }\n",
       "</style>\n",
       "<table border=\"1\" class=\"dataframe\">\n",
       "  <thead>\n",
       "    <tr style=\"text-align: right;\">\n",
       "      <th></th>\n",
       "      <th>permalink</th>\n",
       "      <th>name</th>\n",
       "      <th>category_list_x</th>\n",
       "      <th>status</th>\n",
       "      <th>country_code</th>\n",
       "      <th>permalink_clean</th>\n",
       "      <th>name_clean</th>\n",
       "      <th>category_list_clean</th>\n",
       "      <th>company_permalink</th>\n",
       "      <th>funding_round_type</th>\n",
       "      <th>raised_amount_usd</th>\n",
       "      <th>company_permalink_clean</th>\n",
       "      <th>IsEnglish</th>\n",
       "      <th>primary_sector</th>\n",
       "      <th>main_sector</th>\n",
       "    </tr>\n",
       "  </thead>\n",
       "  <tbody>\n",
       "    <tr>\n",
       "      <th>7954</th>\n",
       "      <td>/Organization/Education-Com</td>\n",
       "      <td>Education.com</td>\n",
       "      <td>Education|Parenting|Publishing</td>\n",
       "      <td>operating</td>\n",
       "      <td>USA</td>\n",
       "      <td>/organization/education-com</td>\n",
       "      <td>education.com</td>\n",
       "      <td>[education, parenting, publishing]</td>\n",
       "      <td>/organization/education-com</td>\n",
       "      <td>venture</td>\n",
       "      <td>15000000.0</td>\n",
       "      <td>/organization/education-com</td>\n",
       "      <td>True</td>\n",
       "      <td>Education</td>\n",
       "      <td>Others</td>\n",
       "    </tr>\n",
       "    <tr>\n",
       "      <th>8099</th>\n",
       "      <td>/Organization/Schoology</td>\n",
       "      <td>Schoology</td>\n",
       "      <td>Education|Software|Systems</td>\n",
       "      <td>operating</td>\n",
       "      <td>USA</td>\n",
       "      <td>/organization/schoology</td>\n",
       "      <td>schoology</td>\n",
       "      <td>[education, software, systems]</td>\n",
       "      <td>/ORGANIZATION/SCHOOLOGY</td>\n",
       "      <td>venture</td>\n",
       "      <td>15000000.0</td>\n",
       "      <td>/organization/schoology</td>\n",
       "      <td>True</td>\n",
       "      <td>Education</td>\n",
       "      <td>Others</td>\n",
       "    </tr>\n",
       "    <tr>\n",
       "      <th>8925</th>\n",
       "      <td>/Organization/Couchsurfing-International</td>\n",
       "      <td>Couchsurfing</td>\n",
       "      <td>Hospitality|Hotels|Social Media|Social Network...</td>\n",
       "      <td>operating</td>\n",
       "      <td>USA</td>\n",
       "      <td>/organization/couchsurfing-international</td>\n",
       "      <td>couchsurfing</td>\n",
       "      <td>[hospitality, hotels, socialmedia, socialnetwo...</td>\n",
       "      <td>/organization/couchsurfing-international</td>\n",
       "      <td>venture</td>\n",
       "      <td>15000000.0</td>\n",
       "      <td>/organization/couchsurfing-international</td>\n",
       "      <td>True</td>\n",
       "      <td>Hospitality</td>\n",
       "      <td>Others</td>\n",
       "    </tr>\n",
       "    <tr>\n",
       "      <th>8979</th>\n",
       "      <td>/Organization/Kitchensurfing</td>\n",
       "      <td>Kitchensurfing</td>\n",
       "      <td>Hospitality</td>\n",
       "      <td>operating</td>\n",
       "      <td>USA</td>\n",
       "      <td>/organization/kitchensurfing</td>\n",
       "      <td>kitchensurfing</td>\n",
       "      <td>[hospitality]</td>\n",
       "      <td>/organization/kitchensurfing</td>\n",
       "      <td>venture</td>\n",
       "      <td>15000000.0</td>\n",
       "      <td>/organization/kitchensurfing</td>\n",
       "      <td>True</td>\n",
       "      <td>Hospitality</td>\n",
       "      <td>Others</td>\n",
       "    </tr>\n",
       "    <tr>\n",
       "      <th>10551</th>\n",
       "      <td>/Organization/1Stdibs</td>\n",
       "      <td>1stdibs</td>\n",
       "      <td>E-Commerce</td>\n",
       "      <td>operating</td>\n",
       "      <td>USA</td>\n",
       "      <td>/organization/1stdibs</td>\n",
       "      <td>1stdibs</td>\n",
       "      <td>[ecommerce]</td>\n",
       "      <td>/ORGANIZATION/1STDIBS</td>\n",
       "      <td>venture</td>\n",
       "      <td>15000000.0</td>\n",
       "      <td>/organization/1stdibs</td>\n",
       "      <td>True</td>\n",
       "      <td>E-Commerce</td>\n",
       "      <td>Others</td>\n",
       "    </tr>\n",
       "    <tr>\n",
       "      <th>...</th>\n",
       "      <td>...</td>\n",
       "      <td>...</td>\n",
       "      <td>...</td>\n",
       "      <td>...</td>\n",
       "      <td>...</td>\n",
       "      <td>...</td>\n",
       "      <td>...</td>\n",
       "      <td>...</td>\n",
       "      <td>...</td>\n",
       "      <td>...</td>\n",
       "      <td>...</td>\n",
       "      <td>...</td>\n",
       "      <td>...</td>\n",
       "      <td>...</td>\n",
       "      <td>...</td>\n",
       "    </tr>\n",
       "    <tr>\n",
       "      <th>35457</th>\n",
       "      <td>/Organization/Remind101</td>\n",
       "      <td>Remind</td>\n",
       "      <td>All Students|Collaboration|Mobile</td>\n",
       "      <td>operating</td>\n",
       "      <td>USA</td>\n",
       "      <td>/organization/remind101</td>\n",
       "      <td>remind</td>\n",
       "      <td>[allstudents, collaboration, mobile]</td>\n",
       "      <td>/ORGANIZATION/REMIND101</td>\n",
       "      <td>venture</td>\n",
       "      <td>15000000.0</td>\n",
       "      <td>/organization/remind101</td>\n",
       "      <td>True</td>\n",
       "      <td>All Students</td>\n",
       "      <td>Others</td>\n",
       "    </tr>\n",
       "    <tr>\n",
       "      <th>36686</th>\n",
       "      <td>/Organization/Doubledutch</td>\n",
       "      <td>DoubleDutch</td>\n",
       "      <td>Enterprise Application|Enterprise Software|Mar...</td>\n",
       "      <td>operating</td>\n",
       "      <td>USA</td>\n",
       "      <td>/organization/doubledutch</td>\n",
       "      <td>doubledutch</td>\n",
       "      <td>[enterpriseapplication, enterprisesoftware, ma...</td>\n",
       "      <td>/ORGANIZATION/DOUBLEDUTCH</td>\n",
       "      <td>venture</td>\n",
       "      <td>15000000.0</td>\n",
       "      <td>/organization/doubledutch</td>\n",
       "      <td>True</td>\n",
       "      <td>Enterprise Application</td>\n",
       "      <td>Others</td>\n",
       "    </tr>\n",
       "    <tr>\n",
       "      <th>36889</th>\n",
       "      <td>/Organization/Identec-Solutions</td>\n",
       "      <td>Identec Solutions</td>\n",
       "      <td>RFID|Software|Tracking|Wireless</td>\n",
       "      <td>operating</td>\n",
       "      <td>USA</td>\n",
       "      <td>/organization/identec-solutions</td>\n",
       "      <td>identec solutions</td>\n",
       "      <td>[rfid, software, tracking, wireless]</td>\n",
       "      <td>/organization/identec-solutions</td>\n",
       "      <td>venture</td>\n",
       "      <td>15000000.0</td>\n",
       "      <td>/organization/identec-solutions</td>\n",
       "      <td>True</td>\n",
       "      <td>RFID</td>\n",
       "      <td>Others</td>\n",
       "    </tr>\n",
       "    <tr>\n",
       "      <th>37163</th>\n",
       "      <td>/Organization/Predictix</td>\n",
       "      <td>Predictix</td>\n",
       "      <td>Enterprise Resource Planning|Predictive Analyt...</td>\n",
       "      <td>operating</td>\n",
       "      <td>USA</td>\n",
       "      <td>/organization/predictix</td>\n",
       "      <td>predictix</td>\n",
       "      <td>[enterpriseresourceplanning, predictiveanalyti...</td>\n",
       "      <td>/organization/predictix</td>\n",
       "      <td>venture</td>\n",
       "      <td>15000000.0</td>\n",
       "      <td>/organization/predictix</td>\n",
       "      <td>True</td>\n",
       "      <td>Enterprise Resource Planning</td>\n",
       "      <td>Others</td>\n",
       "    </tr>\n",
       "    <tr>\n",
       "      <th>37236</th>\n",
       "      <td>/Organization/Topix</td>\n",
       "      <td>Topix</td>\n",
       "      <td>Local Based Services|News</td>\n",
       "      <td>operating</td>\n",
       "      <td>USA</td>\n",
       "      <td>/organization/topix</td>\n",
       "      <td>topix</td>\n",
       "      <td>[localbasedservices, news]</td>\n",
       "      <td>/ORGANIZATION/TOPIX</td>\n",
       "      <td>venture</td>\n",
       "      <td>15000000.0</td>\n",
       "      <td>/organization/topix</td>\n",
       "      <td>True</td>\n",
       "      <td>Local Based Services</td>\n",
       "      <td>Others</td>\n",
       "    </tr>\n",
       "  </tbody>\n",
       "</table>\n",
       "<p>106 rows × 15 columns</p>\n",
       "</div>"
      ],
      "text/plain": [
       "                                      permalink               name  \\\n",
       "7954                /Organization/Education-Com      Education.com   \n",
       "8099                    /Organization/Schoology          Schoology   \n",
       "8925   /Organization/Couchsurfing-International       Couchsurfing   \n",
       "8979               /Organization/Kitchensurfing     Kitchensurfing   \n",
       "10551                     /Organization/1Stdibs            1stdibs   \n",
       "...                                         ...                ...   \n",
       "35457                   /Organization/Remind101             Remind   \n",
       "36686                 /Organization/Doubledutch        DoubleDutch   \n",
       "36889           /Organization/Identec-Solutions  Identec Solutions   \n",
       "37163                   /Organization/Predictix          Predictix   \n",
       "37236                       /Organization/Topix              Topix   \n",
       "\n",
       "                                         category_list_x     status  \\\n",
       "7954                      Education|Parenting|Publishing  operating   \n",
       "8099                          Education|Software|Systems  operating   \n",
       "8925   Hospitality|Hotels|Social Media|Social Network...  operating   \n",
       "8979                                         Hospitality  operating   \n",
       "10551                                         E-Commerce  operating   \n",
       "...                                                  ...        ...   \n",
       "35457                  All Students|Collaboration|Mobile  operating   \n",
       "36686  Enterprise Application|Enterprise Software|Mar...  operating   \n",
       "36889                    RFID|Software|Tracking|Wireless  operating   \n",
       "37163  Enterprise Resource Planning|Predictive Analyt...  operating   \n",
       "37236                          Local Based Services|News  operating   \n",
       "\n",
       "      country_code                           permalink_clean  \\\n",
       "7954           USA               /organization/education-com   \n",
       "8099           USA                   /organization/schoology   \n",
       "8925           USA  /organization/couchsurfing-international   \n",
       "8979           USA              /organization/kitchensurfing   \n",
       "10551          USA                     /organization/1stdibs   \n",
       "...            ...                                       ...   \n",
       "35457          USA                   /organization/remind101   \n",
       "36686          USA                 /organization/doubledutch   \n",
       "36889          USA           /organization/identec-solutions   \n",
       "37163          USA                   /organization/predictix   \n",
       "37236          USA                       /organization/topix   \n",
       "\n",
       "              name_clean                                category_list_clean  \\\n",
       "7954       education.com                 [education, parenting, publishing]   \n",
       "8099           schoology                     [education, software, systems]   \n",
       "8925        couchsurfing  [hospitality, hotels, socialmedia, socialnetwo...   \n",
       "8979      kitchensurfing                                      [hospitality]   \n",
       "10551            1stdibs                                        [ecommerce]   \n",
       "...                  ...                                                ...   \n",
       "35457             remind               [allstudents, collaboration, mobile]   \n",
       "36686        doubledutch  [enterpriseapplication, enterprisesoftware, ma...   \n",
       "36889  identec solutions               [rfid, software, tracking, wireless]   \n",
       "37163          predictix  [enterpriseresourceplanning, predictiveanalyti...   \n",
       "37236              topix                         [localbasedservices, news]   \n",
       "\n",
       "                              company_permalink funding_round_type  \\\n",
       "7954                /organization/education-com            venture   \n",
       "8099                    /ORGANIZATION/SCHOOLOGY            venture   \n",
       "8925   /organization/couchsurfing-international            venture   \n",
       "8979               /organization/kitchensurfing            venture   \n",
       "10551                     /ORGANIZATION/1STDIBS            venture   \n",
       "...                                         ...                ...   \n",
       "35457                   /ORGANIZATION/REMIND101            venture   \n",
       "36686                 /ORGANIZATION/DOUBLEDUTCH            venture   \n",
       "36889           /organization/identec-solutions            venture   \n",
       "37163                   /organization/predictix            venture   \n",
       "37236                       /ORGANIZATION/TOPIX            venture   \n",
       "\n",
       "       raised_amount_usd                   company_permalink_clean  IsEnglish  \\\n",
       "7954          15000000.0               /organization/education-com       True   \n",
       "8099          15000000.0                   /organization/schoology       True   \n",
       "8925          15000000.0  /organization/couchsurfing-international       True   \n",
       "8979          15000000.0              /organization/kitchensurfing       True   \n",
       "10551         15000000.0                     /organization/1stdibs       True   \n",
       "...                  ...                                       ...        ...   \n",
       "35457         15000000.0                   /organization/remind101       True   \n",
       "36686         15000000.0                 /organization/doubledutch       True   \n",
       "36889         15000000.0           /organization/identec-solutions       True   \n",
       "37163         15000000.0                   /organization/predictix       True   \n",
       "37236         15000000.0                       /organization/topix       True   \n",
       "\n",
       "                     primary_sector main_sector  \n",
       "7954                      Education      Others  \n",
       "8099                      Education      Others  \n",
       "8925                    Hospitality      Others  \n",
       "8979                    Hospitality      Others  \n",
       "10551                    E-Commerce      Others  \n",
       "...                             ...         ...  \n",
       "35457                  All Students      Others  \n",
       "36686        Enterprise Application      Others  \n",
       "36889                          RFID      Others  \n",
       "37163  Enterprise Resource Planning      Others  \n",
       "37236          Local Based Services      Others  \n",
       "\n",
       "[106 rows x 15 columns]"
      ]
     },
     "metadata": {},
     "output_type": "display_data"
    },
    {
     "name": "stdout",
     "output_type": "stream",
     "text": [
      "GBR\n"
     ]
    },
    {
     "data": {
      "text/html": [
       "<div>\n",
       "<style scoped>\n",
       "    .dataframe tbody tr th:only-of-type {\n",
       "        vertical-align: middle;\n",
       "    }\n",
       "\n",
       "    .dataframe tbody tr th {\n",
       "        vertical-align: top;\n",
       "    }\n",
       "\n",
       "    .dataframe thead th {\n",
       "        text-align: right;\n",
       "    }\n",
       "</style>\n",
       "<table border=\"1\" class=\"dataframe\">\n",
       "  <thead>\n",
       "    <tr style=\"text-align: right;\">\n",
       "      <th></th>\n",
       "      <th>permalink</th>\n",
       "      <th>name</th>\n",
       "      <th>category_list_x</th>\n",
       "      <th>status</th>\n",
       "      <th>country_code</th>\n",
       "      <th>permalink_clean</th>\n",
       "      <th>name_clean</th>\n",
       "      <th>category_list_clean</th>\n",
       "      <th>company_permalink</th>\n",
       "      <th>funding_round_type</th>\n",
       "      <th>raised_amount_usd</th>\n",
       "      <th>company_permalink_clean</th>\n",
       "      <th>IsEnglish</th>\n",
       "      <th>primary_sector</th>\n",
       "      <th>main_sector</th>\n",
       "    </tr>\n",
       "  </thead>\n",
       "  <tbody>\n",
       "    <tr>\n",
       "      <th>11384</th>\n",
       "      <td>/Organization/Notonthehighstreet</td>\n",
       "      <td>Notonthehighstreet</td>\n",
       "      <td>E-Commerce</td>\n",
       "      <td>operating</td>\n",
       "      <td>GBR</td>\n",
       "      <td>/organization/notonthehighstreet</td>\n",
       "      <td>notonthehighstreet</td>\n",
       "      <td>[ecommerce]</td>\n",
       "      <td>/organization/notonthehighstreet</td>\n",
       "      <td>venture</td>\n",
       "      <td>15000000.0</td>\n",
       "      <td>/organization/notonthehighstreet</td>\n",
       "      <td>True</td>\n",
       "      <td>E-Commerce</td>\n",
       "      <td>Others</td>\n",
       "    </tr>\n",
       "    <tr>\n",
       "      <th>16198</th>\n",
       "      <td>/Organization/Environmentiq</td>\n",
       "      <td>EnvironmentIQ</td>\n",
       "      <td>Software</td>\n",
       "      <td>operating</td>\n",
       "      <td>GBR</td>\n",
       "      <td>/organization/environmentiq</td>\n",
       "      <td>environmentiq</td>\n",
       "      <td>[software]</td>\n",
       "      <td>/organization/environmentiq</td>\n",
       "      <td>venture</td>\n",
       "      <td>15000000.0</td>\n",
       "      <td>/organization/environmentiq</td>\n",
       "      <td>True</td>\n",
       "      <td>Software</td>\n",
       "      <td>Others</td>\n",
       "    </tr>\n",
       "    <tr>\n",
       "      <th>16613</th>\n",
       "      <td>/Organization/Ip-Access</td>\n",
       "      <td>ip.access</td>\n",
       "      <td>Software</td>\n",
       "      <td>operating</td>\n",
       "      <td>GBR</td>\n",
       "      <td>/organization/ip-access</td>\n",
       "      <td>ip.access</td>\n",
       "      <td>[software]</td>\n",
       "      <td>/ORGANIZATION/IP-ACCESS</td>\n",
       "      <td>venture</td>\n",
       "      <td>15000000.0</td>\n",
       "      <td>/organization/ip-access</td>\n",
       "      <td>True</td>\n",
       "      <td>Software</td>\n",
       "      <td>Others</td>\n",
       "    </tr>\n",
       "    <tr>\n",
       "      <th>33849</th>\n",
       "      <td>/Organization/Silverrail-Technologies</td>\n",
       "      <td>SilverRail Technologies</td>\n",
       "      <td>Technology|Transportation|Travel</td>\n",
       "      <td>operating</td>\n",
       "      <td>GBR</td>\n",
       "      <td>/organization/silverrail-technologies</td>\n",
       "      <td>silverrail technologies</td>\n",
       "      <td>[technology, transportation, travel]</td>\n",
       "      <td>/organization/silverrail-technologies</td>\n",
       "      <td>venture</td>\n",
       "      <td>15000000.0</td>\n",
       "      <td>/organization/silverrail-technologies</td>\n",
       "      <td>True</td>\n",
       "      <td>Technology</td>\n",
       "      <td>Others</td>\n",
       "    </tr>\n",
       "  </tbody>\n",
       "</table>\n",
       "</div>"
      ],
      "text/plain": [
       "                                   permalink                     name  \\\n",
       "11384       /Organization/Notonthehighstreet       Notonthehighstreet   \n",
       "16198            /Organization/Environmentiq            EnvironmentIQ   \n",
       "16613                /Organization/Ip-Access                ip.access   \n",
       "33849  /Organization/Silverrail-Technologies  SilverRail Technologies   \n",
       "\n",
       "                        category_list_x     status country_code  \\\n",
       "11384                        E-Commerce  operating          GBR   \n",
       "16198                          Software  operating          GBR   \n",
       "16613                          Software  operating          GBR   \n",
       "33849  Technology|Transportation|Travel  operating          GBR   \n",
       "\n",
       "                             permalink_clean               name_clean  \\\n",
       "11384       /organization/notonthehighstreet       notonthehighstreet   \n",
       "16198            /organization/environmentiq            environmentiq   \n",
       "16613                /organization/ip-access                ip.access   \n",
       "33849  /organization/silverrail-technologies  silverrail technologies   \n",
       "\n",
       "                        category_list_clean  \\\n",
       "11384                           [ecommerce]   \n",
       "16198                            [software]   \n",
       "16613                            [software]   \n",
       "33849  [technology, transportation, travel]   \n",
       "\n",
       "                           company_permalink funding_round_type  \\\n",
       "11384       /organization/notonthehighstreet            venture   \n",
       "16198            /organization/environmentiq            venture   \n",
       "16613                /ORGANIZATION/IP-ACCESS            venture   \n",
       "33849  /organization/silverrail-technologies            venture   \n",
       "\n",
       "       raised_amount_usd                company_permalink_clean  IsEnglish  \\\n",
       "11384         15000000.0       /organization/notonthehighstreet       True   \n",
       "16198         15000000.0            /organization/environmentiq       True   \n",
       "16613         15000000.0                /organization/ip-access       True   \n",
       "33849         15000000.0  /organization/silverrail-technologies       True   \n",
       "\n",
       "      primary_sector main_sector  \n",
       "11384     E-Commerce      Others  \n",
       "16198       Software      Others  \n",
       "16613       Software      Others  \n",
       "33849     Technology      Others  "
      ]
     },
     "metadata": {},
     "output_type": "display_data"
    },
    {
     "name": "stdout",
     "output_type": "stream",
     "text": [
      "GBR\n"
     ]
    },
    {
     "data": {
      "text/html": [
       "<div>\n",
       "<style scoped>\n",
       "    .dataframe tbody tr th:only-of-type {\n",
       "        vertical-align: middle;\n",
       "    }\n",
       "\n",
       "    .dataframe tbody tr th {\n",
       "        vertical-align: top;\n",
       "    }\n",
       "\n",
       "    .dataframe thead th {\n",
       "        text-align: right;\n",
       "    }\n",
       "</style>\n",
       "<table border=\"1\" class=\"dataframe\">\n",
       "  <thead>\n",
       "    <tr style=\"text-align: right;\">\n",
       "      <th></th>\n",
       "      <th>permalink</th>\n",
       "      <th>name</th>\n",
       "      <th>category_list_x</th>\n",
       "      <th>status</th>\n",
       "      <th>country_code</th>\n",
       "      <th>permalink_clean</th>\n",
       "      <th>name_clean</th>\n",
       "      <th>category_list_clean</th>\n",
       "      <th>company_permalink</th>\n",
       "      <th>funding_round_type</th>\n",
       "      <th>raised_amount_usd</th>\n",
       "      <th>company_permalink_clean</th>\n",
       "      <th>IsEnglish</th>\n",
       "      <th>primary_sector</th>\n",
       "      <th>main_sector</th>\n",
       "    </tr>\n",
       "  </thead>\n",
       "  <tbody>\n",
       "    <tr>\n",
       "      <th>14884</th>\n",
       "      <td>/Organization/Similarweb</td>\n",
       "      <td>SimilarWeb</td>\n",
       "      <td>Advertising|Analytics|Business Intelligence|Bu...</td>\n",
       "      <td>operating</td>\n",
       "      <td>GBR</td>\n",
       "      <td>/organization/similarweb</td>\n",
       "      <td>similarweb</td>\n",
       "      <td>[advertising, analytics, businessintelligence,...</td>\n",
       "      <td>/ORGANIZATION/SIMILARWEB</td>\n",
       "      <td>venture</td>\n",
       "      <td>15000000.0</td>\n",
       "      <td>/organization/similarweb</td>\n",
       "      <td>True</td>\n",
       "      <td>Advertising</td>\n",
       "      <td>Social, Finance, Analytics, Advertising</td>\n",
       "    </tr>\n",
       "    <tr>\n",
       "      <th>19286</th>\n",
       "      <td>/Organization/Zopa</td>\n",
       "      <td>Zopa</td>\n",
       "      <td>Finance|FinTech</td>\n",
       "      <td>operating</td>\n",
       "      <td>GBR</td>\n",
       "      <td>/organization/zopa</td>\n",
       "      <td>zopa</td>\n",
       "      <td>[finance, fintech]</td>\n",
       "      <td>/ORGANIZATION/ZOPA</td>\n",
       "      <td>venture</td>\n",
       "      <td>15000000.0</td>\n",
       "      <td>/organization/zopa</td>\n",
       "      <td>True</td>\n",
       "      <td>Finance</td>\n",
       "      <td>Social, Finance, Analytics, Advertising</td>\n",
       "    </tr>\n",
       "    <tr>\n",
       "      <th>28895</th>\n",
       "      <td>/Organization/Opengamma</td>\n",
       "      <td>OpenGamma</td>\n",
       "      <td>Financial Services|FinTech|Open Source|Software</td>\n",
       "      <td>operating</td>\n",
       "      <td>GBR</td>\n",
       "      <td>/organization/opengamma</td>\n",
       "      <td>opengamma</td>\n",
       "      <td>[financialservices, fintech, opensource, softw...</td>\n",
       "      <td>/ORGANIZATION/OPENGAMMA</td>\n",
       "      <td>venture</td>\n",
       "      <td>15000000.0</td>\n",
       "      <td>/organization/opengamma</td>\n",
       "      <td>True</td>\n",
       "      <td>Financial Services</td>\n",
       "      <td>Social, Finance, Analytics, Advertising</td>\n",
       "    </tr>\n",
       "    <tr>\n",
       "      <th>30906</th>\n",
       "      <td>/Organization/Mythings</td>\n",
       "      <td>myThings</td>\n",
       "      <td>Accounting|Advertising|Performance Marketing</td>\n",
       "      <td>operating</td>\n",
       "      <td>GBR</td>\n",
       "      <td>/organization/mythings</td>\n",
       "      <td>mythings</td>\n",
       "      <td>[accounting, advertising, performancemarketing]</td>\n",
       "      <td>/organization/mythings</td>\n",
       "      <td>venture</td>\n",
       "      <td>15000000.0</td>\n",
       "      <td>/organization/mythings</td>\n",
       "      <td>True</td>\n",
       "      <td>Accounting</td>\n",
       "      <td>Social, Finance, Analytics, Advertising</td>\n",
       "    </tr>\n",
       "  </tbody>\n",
       "</table>\n",
       "</div>"
      ],
      "text/plain": [
       "                      permalink        name  \\\n",
       "14884  /Organization/Similarweb  SimilarWeb   \n",
       "19286        /Organization/Zopa        Zopa   \n",
       "28895   /Organization/Opengamma   OpenGamma   \n",
       "30906    /Organization/Mythings    myThings   \n",
       "\n",
       "                                         category_list_x     status  \\\n",
       "14884  Advertising|Analytics|Business Intelligence|Bu...  operating   \n",
       "19286                                    Finance|FinTech  operating   \n",
       "28895    Financial Services|FinTech|Open Source|Software  operating   \n",
       "30906       Accounting|Advertising|Performance Marketing  operating   \n",
       "\n",
       "      country_code           permalink_clean  name_clean  \\\n",
       "14884          GBR  /organization/similarweb  similarweb   \n",
       "19286          GBR        /organization/zopa        zopa   \n",
       "28895          GBR   /organization/opengamma   opengamma   \n",
       "30906          GBR    /organization/mythings    mythings   \n",
       "\n",
       "                                     category_list_clean  \\\n",
       "14884  [advertising, analytics, businessintelligence,...   \n",
       "19286                                 [finance, fintech]   \n",
       "28895  [financialservices, fintech, opensource, softw...   \n",
       "30906    [accounting, advertising, performancemarketing]   \n",
       "\n",
       "              company_permalink funding_round_type  raised_amount_usd  \\\n",
       "14884  /ORGANIZATION/SIMILARWEB            venture         15000000.0   \n",
       "19286        /ORGANIZATION/ZOPA            venture         15000000.0   \n",
       "28895   /ORGANIZATION/OPENGAMMA            venture         15000000.0   \n",
       "30906    /organization/mythings            venture         15000000.0   \n",
       "\n",
       "        company_permalink_clean  IsEnglish      primary_sector  \\\n",
       "14884  /organization/similarweb       True         Advertising   \n",
       "19286        /organization/zopa       True             Finance   \n",
       "28895   /organization/opengamma       True  Financial Services   \n",
       "30906    /organization/mythings       True          Accounting   \n",
       "\n",
       "                                   main_sector  \n",
       "14884  Social, Finance, Analytics, Advertising  \n",
       "19286  Social, Finance, Analytics, Advertising  \n",
       "28895  Social, Finance, Analytics, Advertising  \n",
       "30906  Social, Finance, Analytics, Advertising  "
      ]
     },
     "metadata": {},
     "output_type": "display_data"
    },
    {
     "name": "stdout",
     "output_type": "stream",
     "text": [
      "IND\n"
     ]
    },
    {
     "data": {
      "text/html": [
       "<div>\n",
       "<style scoped>\n",
       "    .dataframe tbody tr th:only-of-type {\n",
       "        vertical-align: middle;\n",
       "    }\n",
       "\n",
       "    .dataframe tbody tr th {\n",
       "        vertical-align: top;\n",
       "    }\n",
       "\n",
       "    .dataframe thead th {\n",
       "        text-align: right;\n",
       "    }\n",
       "</style>\n",
       "<table border=\"1\" class=\"dataframe\">\n",
       "  <thead>\n",
       "    <tr style=\"text-align: right;\">\n",
       "      <th></th>\n",
       "      <th>permalink</th>\n",
       "      <th>name</th>\n",
       "      <th>category_list_x</th>\n",
       "      <th>status</th>\n",
       "      <th>country_code</th>\n",
       "      <th>permalink_clean</th>\n",
       "      <th>name_clean</th>\n",
       "      <th>category_list_clean</th>\n",
       "      <th>company_permalink</th>\n",
       "      <th>funding_round_type</th>\n",
       "      <th>raised_amount_usd</th>\n",
       "      <th>company_permalink_clean</th>\n",
       "      <th>IsEnglish</th>\n",
       "      <th>primary_sector</th>\n",
       "      <th>main_sector</th>\n",
       "    </tr>\n",
       "  </thead>\n",
       "  <tbody>\n",
       "    <tr>\n",
       "      <th>9083</th>\n",
       "      <td>/Organization/Zo-Rooms</td>\n",
       "      <td>ZO Rooms</td>\n",
       "      <td>Hospitality|Hotels</td>\n",
       "      <td>operating</td>\n",
       "      <td>IND</td>\n",
       "      <td>/organization/zo-rooms</td>\n",
       "      <td>zo rooms</td>\n",
       "      <td>[hospitality, hotels]</td>\n",
       "      <td>/ORGANIZATION/ZO-ROOMS</td>\n",
       "      <td>venture</td>\n",
       "      <td>15000000.0</td>\n",
       "      <td>/organization/zo-rooms</td>\n",
       "      <td>True</td>\n",
       "      <td>Hospitality</td>\n",
       "      <td>Others</td>\n",
       "    </tr>\n",
       "    <tr>\n",
       "      <th>10749</th>\n",
       "      <td>/Organization/Caratlane</td>\n",
       "      <td>CaratLane</td>\n",
       "      <td>E-Commerce|Jewelry</td>\n",
       "      <td>operating</td>\n",
       "      <td>IND</td>\n",
       "      <td>/organization/caratlane</td>\n",
       "      <td>caratlane</td>\n",
       "      <td>[ecommerce, jewelry]</td>\n",
       "      <td>/organization/caratlane</td>\n",
       "      <td>venture</td>\n",
       "      <td>15000000.0</td>\n",
       "      <td>/organization/caratlane</td>\n",
       "      <td>True</td>\n",
       "      <td>E-Commerce</td>\n",
       "      <td>Others</td>\n",
       "    </tr>\n",
       "    <tr>\n",
       "      <th>10951</th>\n",
       "      <td>/Organization/Firstcry-Com</td>\n",
       "      <td>FirstCry.com</td>\n",
       "      <td>E-Commerce</td>\n",
       "      <td>operating</td>\n",
       "      <td>IND</td>\n",
       "      <td>/organization/firstcry-com</td>\n",
       "      <td>firstcry.com</td>\n",
       "      <td>[ecommerce]</td>\n",
       "      <td>/ORGANIZATION/FIRSTCRY-COM</td>\n",
       "      <td>venture</td>\n",
       "      <td>15000000.0</td>\n",
       "      <td>/organization/firstcry-com</td>\n",
       "      <td>True</td>\n",
       "      <td>E-Commerce</td>\n",
       "      <td>Others</td>\n",
       "    </tr>\n",
       "    <tr>\n",
       "      <th>11235</th>\n",
       "      <td>/Organization/Limeroad</td>\n",
       "      <td>LimeRoad</td>\n",
       "      <td>E-Commerce|Social Media</td>\n",
       "      <td>operating</td>\n",
       "      <td>IND</td>\n",
       "      <td>/organization/limeroad</td>\n",
       "      <td>limeroad</td>\n",
       "      <td>[ecommerce, socialmedia]</td>\n",
       "      <td>/ORGANIZATION/LIMEROAD</td>\n",
       "      <td>venture</td>\n",
       "      <td>15000000.0</td>\n",
       "      <td>/organization/limeroad</td>\n",
       "      <td>True</td>\n",
       "      <td>E-Commerce</td>\n",
       "      <td>Others</td>\n",
       "    </tr>\n",
       "    <tr>\n",
       "      <th>11494</th>\n",
       "      <td>/Organization/Pepperfry-Com</td>\n",
       "      <td>Pepperfry.com</td>\n",
       "      <td>E-Commerce</td>\n",
       "      <td>operating</td>\n",
       "      <td>IND</td>\n",
       "      <td>/organization/pepperfry-com</td>\n",
       "      <td>pepperfry.com</td>\n",
       "      <td>[ecommerce]</td>\n",
       "      <td>/organization/pepperfry-com</td>\n",
       "      <td>venture</td>\n",
       "      <td>15000000.0</td>\n",
       "      <td>/organization/pepperfry-com</td>\n",
       "      <td>True</td>\n",
       "      <td>E-Commerce</td>\n",
       "      <td>Others</td>\n",
       "    </tr>\n",
       "    <tr>\n",
       "      <th>11590</th>\n",
       "      <td>/Organization/Roposo</td>\n",
       "      <td>Roposo</td>\n",
       "      <td>E-Commerce|Fashion</td>\n",
       "      <td>operating</td>\n",
       "      <td>IND</td>\n",
       "      <td>/organization/roposo</td>\n",
       "      <td>roposo</td>\n",
       "      <td>[ecommerce, fashion]</td>\n",
       "      <td>/organization/roposo</td>\n",
       "      <td>venture</td>\n",
       "      <td>15000000.0</td>\n",
       "      <td>/organization/roposo</td>\n",
       "      <td>True</td>\n",
       "      <td>E-Commerce</td>\n",
       "      <td>Others</td>\n",
       "    </tr>\n",
       "    <tr>\n",
       "      <th>11878</th>\n",
       "      <td>/Organization/Voylla-Retail-Pvt-Ltd</td>\n",
       "      <td>Voylla Retail Pvt. Ltd.</td>\n",
       "      <td>E-Commerce</td>\n",
       "      <td>operating</td>\n",
       "      <td>IND</td>\n",
       "      <td>/organization/voylla-retail-pvt-ltd</td>\n",
       "      <td>voylla retail pvt. ltd.</td>\n",
       "      <td>[ecommerce]</td>\n",
       "      <td>/ORGANIZATION/VOYLLA-RETAIL-PVT-LTD</td>\n",
       "      <td>venture</td>\n",
       "      <td>15000000.0</td>\n",
       "      <td>/organization/voylla-retail-pvt-ltd</td>\n",
       "      <td>True</td>\n",
       "      <td>E-Commerce</td>\n",
       "      <td>Others</td>\n",
       "    </tr>\n",
       "    <tr>\n",
       "      <th>20634</th>\n",
       "      <td>/Organization/Classteacher-Learning-Systems</td>\n",
       "      <td>Classteacher Learning Systems</td>\n",
       "      <td>EdTech|Education</td>\n",
       "      <td>operating</td>\n",
       "      <td>IND</td>\n",
       "      <td>/organization/classteacher-learning-systems</td>\n",
       "      <td>classteacher learning systems</td>\n",
       "      <td>[edtech, education]</td>\n",
       "      <td>/ORGANIZATION/CLASSTEACHER-LEARNING-SYSTEMS</td>\n",
       "      <td>venture</td>\n",
       "      <td>15000000.0</td>\n",
       "      <td>/organization/classteacher-learning-systems</td>\n",
       "      <td>True</td>\n",
       "      <td>EdTech</td>\n",
       "      <td>Others</td>\n",
       "    </tr>\n",
       "    <tr>\n",
       "      <th>20700</th>\n",
       "      <td>/Organization/K-12-Techno-Services</td>\n",
       "      <td>K-12 Techno Services</td>\n",
       "      <td>EdTech|Education</td>\n",
       "      <td>operating</td>\n",
       "      <td>IND</td>\n",
       "      <td>/organization/k-12-techno-services</td>\n",
       "      <td>k-12 techno services</td>\n",
       "      <td>[edtech, education]</td>\n",
       "      <td>/ORGANIZATION/K-12-TECHNO-SERVICES</td>\n",
       "      <td>venture</td>\n",
       "      <td>15000000.0</td>\n",
       "      <td>/organization/k-12-techno-services</td>\n",
       "      <td>True</td>\n",
       "      <td>EdTech</td>\n",
       "      <td>Others</td>\n",
       "    </tr>\n",
       "    <tr>\n",
       "      <th>24476</th>\n",
       "      <td>/Organization/Girnarsoft</td>\n",
       "      <td>GirnarSoft</td>\n",
       "      <td>Enterprise Software|Mobile Software Tools|Mobi...</td>\n",
       "      <td>operating</td>\n",
       "      <td>IND</td>\n",
       "      <td>/organization/girnarsoft</td>\n",
       "      <td>girnarsoft</td>\n",
       "      <td>[enterprisesoftware, mobilesoftwaretools, mobi...</td>\n",
       "      <td>/organization/girnarsoft</td>\n",
       "      <td>venture</td>\n",
       "      <td>15000000.0</td>\n",
       "      <td>/organization/girnarsoft</td>\n",
       "      <td>True</td>\n",
       "      <td>Enterprise Software</td>\n",
       "      <td>Others</td>\n",
       "    </tr>\n",
       "    <tr>\n",
       "      <th>26446</th>\n",
       "      <td>/Organization/Ipolicy-Networks</td>\n",
       "      <td>iPolicy Networks</td>\n",
       "      <td>Security</td>\n",
       "      <td>operating</td>\n",
       "      <td>IND</td>\n",
       "      <td>/organization/ipolicy-networks</td>\n",
       "      <td>ipolicy networks</td>\n",
       "      <td>[security]</td>\n",
       "      <td>/ORGANIZATION/IPOLICY-NETWORKS</td>\n",
       "      <td>venture</td>\n",
       "      <td>15000000.0</td>\n",
       "      <td>/organization/ipolicy-networks</td>\n",
       "      <td>True</td>\n",
       "      <td>Security</td>\n",
       "      <td>Others</td>\n",
       "    </tr>\n",
       "    <tr>\n",
       "      <th>27501</th>\n",
       "      <td>/Organization/Tejas-Networks-India</td>\n",
       "      <td>Tejas Networks India</td>\n",
       "      <td>Web Hosting</td>\n",
       "      <td>operating</td>\n",
       "      <td>IND</td>\n",
       "      <td>/organization/tejas-networks-india</td>\n",
       "      <td>tejas networks india</td>\n",
       "      <td>[webhosting]</td>\n",
       "      <td>/organization/tejas-networks-india</td>\n",
       "      <td>venture</td>\n",
       "      <td>15000000.0</td>\n",
       "      <td>/organization/tejas-networks-india</td>\n",
       "      <td>True</td>\n",
       "      <td>Web Hosting</td>\n",
       "      <td>Others</td>\n",
       "    </tr>\n",
       "    <tr>\n",
       "      <th>28689</th>\n",
       "      <td>/Organization/Commonfloor</td>\n",
       "      <td>CommonFloor</td>\n",
       "      <td>Real Estate</td>\n",
       "      <td>operating</td>\n",
       "      <td>IND</td>\n",
       "      <td>/organization/commonfloor</td>\n",
       "      <td>commonfloor</td>\n",
       "      <td>[realestate]</td>\n",
       "      <td>/organization/commonfloor</td>\n",
       "      <td>venture</td>\n",
       "      <td>15000000.0</td>\n",
       "      <td>/organization/commonfloor</td>\n",
       "      <td>True</td>\n",
       "      <td>Real Estate</td>\n",
       "      <td>Others</td>\n",
       "    </tr>\n",
       "    <tr>\n",
       "      <th>36036</th>\n",
       "      <td>/Organization/Itzcash-Card-Ltd</td>\n",
       "      <td>ItzCash Card Ltd.</td>\n",
       "      <td>Gift Card</td>\n",
       "      <td>operating</td>\n",
       "      <td>IND</td>\n",
       "      <td>/organization/itzcash-card-ltd</td>\n",
       "      <td>itzcash card ltd.</td>\n",
       "      <td>[giftcard]</td>\n",
       "      <td>/organization/itzcash-card-ltd</td>\n",
       "      <td>venture</td>\n",
       "      <td>15000000.0</td>\n",
       "      <td>/organization/itzcash-card-ltd</td>\n",
       "      <td>True</td>\n",
       "      <td>Gift Card</td>\n",
       "      <td>Others</td>\n",
       "    </tr>\n",
       "  </tbody>\n",
       "</table>\n",
       "</div>"
      ],
      "text/plain": [
       "                                         permalink  \\\n",
       "9083                        /Organization/Zo-Rooms   \n",
       "10749                      /Organization/Caratlane   \n",
       "10951                   /Organization/Firstcry-Com   \n",
       "11235                       /Organization/Limeroad   \n",
       "11494                  /Organization/Pepperfry-Com   \n",
       "11590                         /Organization/Roposo   \n",
       "11878          /Organization/Voylla-Retail-Pvt-Ltd   \n",
       "20634  /Organization/Classteacher-Learning-Systems   \n",
       "20700           /Organization/K-12-Techno-Services   \n",
       "24476                     /Organization/Girnarsoft   \n",
       "26446               /Organization/Ipolicy-Networks   \n",
       "27501           /Organization/Tejas-Networks-India   \n",
       "28689                    /Organization/Commonfloor   \n",
       "36036               /Organization/Itzcash-Card-Ltd   \n",
       "\n",
       "                                name  \\\n",
       "9083                        ZO Rooms   \n",
       "10749                      CaratLane   \n",
       "10951                   FirstCry.com   \n",
       "11235                       LimeRoad   \n",
       "11494                  Pepperfry.com   \n",
       "11590                         Roposo   \n",
       "11878        Voylla Retail Pvt. Ltd.   \n",
       "20634  Classteacher Learning Systems   \n",
       "20700           K-12 Techno Services   \n",
       "24476                     GirnarSoft   \n",
       "26446               iPolicy Networks   \n",
       "27501           Tejas Networks India   \n",
       "28689                    CommonFloor   \n",
       "36036              ItzCash Card Ltd.   \n",
       "\n",
       "                                         category_list_x     status  \\\n",
       "9083                                  Hospitality|Hotels  operating   \n",
       "10749                                 E-Commerce|Jewelry  operating   \n",
       "10951                                         E-Commerce  operating   \n",
       "11235                            E-Commerce|Social Media  operating   \n",
       "11494                                         E-Commerce  operating   \n",
       "11590                                 E-Commerce|Fashion  operating   \n",
       "11878                                         E-Commerce  operating   \n",
       "20634                                   EdTech|Education  operating   \n",
       "20700                                   EdTech|Education  operating   \n",
       "24476  Enterprise Software|Mobile Software Tools|Mobi...  operating   \n",
       "26446                                           Security  operating   \n",
       "27501                                        Web Hosting  operating   \n",
       "28689                                        Real Estate  operating   \n",
       "36036                                          Gift Card  operating   \n",
       "\n",
       "      country_code                              permalink_clean  \\\n",
       "9083           IND                       /organization/zo-rooms   \n",
       "10749          IND                      /organization/caratlane   \n",
       "10951          IND                   /organization/firstcry-com   \n",
       "11235          IND                       /organization/limeroad   \n",
       "11494          IND                  /organization/pepperfry-com   \n",
       "11590          IND                         /organization/roposo   \n",
       "11878          IND          /organization/voylla-retail-pvt-ltd   \n",
       "20634          IND  /organization/classteacher-learning-systems   \n",
       "20700          IND           /organization/k-12-techno-services   \n",
       "24476          IND                     /organization/girnarsoft   \n",
       "26446          IND               /organization/ipolicy-networks   \n",
       "27501          IND           /organization/tejas-networks-india   \n",
       "28689          IND                    /organization/commonfloor   \n",
       "36036          IND               /organization/itzcash-card-ltd   \n",
       "\n",
       "                          name_clean  \\\n",
       "9083                        zo rooms   \n",
       "10749                      caratlane   \n",
       "10951                   firstcry.com   \n",
       "11235                       limeroad   \n",
       "11494                  pepperfry.com   \n",
       "11590                         roposo   \n",
       "11878        voylla retail pvt. ltd.   \n",
       "20634  classteacher learning systems   \n",
       "20700           k-12 techno services   \n",
       "24476                     girnarsoft   \n",
       "26446               ipolicy networks   \n",
       "27501           tejas networks india   \n",
       "28689                    commonfloor   \n",
       "36036              itzcash card ltd.   \n",
       "\n",
       "                                     category_list_clean  \\\n",
       "9083                               [hospitality, hotels]   \n",
       "10749                               [ecommerce, jewelry]   \n",
       "10951                                        [ecommerce]   \n",
       "11235                           [ecommerce, socialmedia]   \n",
       "11494                                        [ecommerce]   \n",
       "11590                               [ecommerce, fashion]   \n",
       "11878                                        [ecommerce]   \n",
       "20634                                [edtech, education]   \n",
       "20700                                [edtech, education]   \n",
       "24476  [enterprisesoftware, mobilesoftwaretools, mobi...   \n",
       "26446                                         [security]   \n",
       "27501                                       [webhosting]   \n",
       "28689                                       [realestate]   \n",
       "36036                                         [giftcard]   \n",
       "\n",
       "                                 company_permalink funding_round_type  \\\n",
       "9083                        /ORGANIZATION/ZO-ROOMS            venture   \n",
       "10749                      /organization/caratlane            venture   \n",
       "10951                   /ORGANIZATION/FIRSTCRY-COM            venture   \n",
       "11235                       /ORGANIZATION/LIMEROAD            venture   \n",
       "11494                  /organization/pepperfry-com            venture   \n",
       "11590                         /organization/roposo            venture   \n",
       "11878          /ORGANIZATION/VOYLLA-RETAIL-PVT-LTD            venture   \n",
       "20634  /ORGANIZATION/CLASSTEACHER-LEARNING-SYSTEMS            venture   \n",
       "20700           /ORGANIZATION/K-12-TECHNO-SERVICES            venture   \n",
       "24476                     /organization/girnarsoft            venture   \n",
       "26446               /ORGANIZATION/IPOLICY-NETWORKS            venture   \n",
       "27501           /organization/tejas-networks-india            venture   \n",
       "28689                    /organization/commonfloor            venture   \n",
       "36036               /organization/itzcash-card-ltd            venture   \n",
       "\n",
       "       raised_amount_usd                      company_permalink_clean  \\\n",
       "9083          15000000.0                       /organization/zo-rooms   \n",
       "10749         15000000.0                      /organization/caratlane   \n",
       "10951         15000000.0                   /organization/firstcry-com   \n",
       "11235         15000000.0                       /organization/limeroad   \n",
       "11494         15000000.0                  /organization/pepperfry-com   \n",
       "11590         15000000.0                         /organization/roposo   \n",
       "11878         15000000.0          /organization/voylla-retail-pvt-ltd   \n",
       "20634         15000000.0  /organization/classteacher-learning-systems   \n",
       "20700         15000000.0           /organization/k-12-techno-services   \n",
       "24476         15000000.0                     /organization/girnarsoft   \n",
       "26446         15000000.0               /organization/ipolicy-networks   \n",
       "27501         15000000.0           /organization/tejas-networks-india   \n",
       "28689         15000000.0                    /organization/commonfloor   \n",
       "36036         15000000.0               /organization/itzcash-card-ltd   \n",
       "\n",
       "       IsEnglish       primary_sector main_sector  \n",
       "9083        True          Hospitality      Others  \n",
       "10749       True           E-Commerce      Others  \n",
       "10951       True           E-Commerce      Others  \n",
       "11235       True           E-Commerce      Others  \n",
       "11494       True           E-Commerce      Others  \n",
       "11590       True           E-Commerce      Others  \n",
       "11878       True           E-Commerce      Others  \n",
       "20634       True               EdTech      Others  \n",
       "20700       True               EdTech      Others  \n",
       "24476       True  Enterprise Software      Others  \n",
       "26446       True             Security      Others  \n",
       "27501       True          Web Hosting      Others  \n",
       "28689       True          Real Estate      Others  \n",
       "36036       True            Gift Card      Others  "
      ]
     },
     "metadata": {},
     "output_type": "display_data"
    },
    {
     "name": "stdout",
     "output_type": "stream",
     "text": [
      "IND\n"
     ]
    },
    {
     "data": {
      "text/html": [
       "<div>\n",
       "<style scoped>\n",
       "    .dataframe tbody tr th:only-of-type {\n",
       "        vertical-align: middle;\n",
       "    }\n",
       "\n",
       "    .dataframe tbody tr th {\n",
       "        vertical-align: top;\n",
       "    }\n",
       "\n",
       "    .dataframe thead th {\n",
       "        text-align: right;\n",
       "    }\n",
       "</style>\n",
       "<table border=\"1\" class=\"dataframe\">\n",
       "  <thead>\n",
       "    <tr style=\"text-align: right;\">\n",
       "      <th></th>\n",
       "      <th>permalink</th>\n",
       "      <th>name</th>\n",
       "      <th>category_list_x</th>\n",
       "      <th>status</th>\n",
       "      <th>country_code</th>\n",
       "      <th>permalink_clean</th>\n",
       "      <th>name_clean</th>\n",
       "      <th>category_list_clean</th>\n",
       "      <th>company_permalink</th>\n",
       "      <th>funding_round_type</th>\n",
       "      <th>raised_amount_usd</th>\n",
       "      <th>company_permalink_clean</th>\n",
       "      <th>IsEnglish</th>\n",
       "      <th>primary_sector</th>\n",
       "      <th>main_sector</th>\n",
       "    </tr>\n",
       "  </thead>\n",
       "  <tbody>\n",
       "    <tr>\n",
       "      <th>14431</th>\n",
       "      <td>/Organization/Komli-Media</td>\n",
       "      <td>Komli Media</td>\n",
       "      <td>Advertising|Analytics|Media</td>\n",
       "      <td>operating</td>\n",
       "      <td>IND</td>\n",
       "      <td>/organization/komli-media</td>\n",
       "      <td>komli media</td>\n",
       "      <td>[advertising, analytics, media]</td>\n",
       "      <td>/organization/komli-media</td>\n",
       "      <td>venture</td>\n",
       "      <td>15000000.0</td>\n",
       "      <td>/organization/komli-media</td>\n",
       "      <td>True</td>\n",
       "      <td>Advertising</td>\n",
       "      <td>Social, Finance, Analytics, Advertising</td>\n",
       "    </tr>\n",
       "    <tr>\n",
       "      <th>19163</th>\n",
       "      <td>/Organization/Shiram-Credit</td>\n",
       "      <td>Shiram Credit</td>\n",
       "      <td>Finance</td>\n",
       "      <td>operating</td>\n",
       "      <td>IND</td>\n",
       "      <td>/organization/shiram-credit</td>\n",
       "      <td>shiram credit</td>\n",
       "      <td>[finance]</td>\n",
       "      <td>/ORGANIZATION/SHIRAM-CREDIT</td>\n",
       "      <td>venture</td>\n",
       "      <td>15000000.0</td>\n",
       "      <td>/organization/shiram-credit</td>\n",
       "      <td>True</td>\n",
       "      <td>Finance</td>\n",
       "      <td>Social, Finance, Analytics, Advertising</td>\n",
       "    </tr>\n",
       "    <tr>\n",
       "      <th>30119</th>\n",
       "      <td>/Organization/Apnaloan</td>\n",
       "      <td>ApnaPaisa</td>\n",
       "      <td>Credit|Finance|Marketplaces</td>\n",
       "      <td>operating</td>\n",
       "      <td>IND</td>\n",
       "      <td>/organization/apnaloan</td>\n",
       "      <td>apnapaisa</td>\n",
       "      <td>[credit, finance, marketplaces]</td>\n",
       "      <td>/ORGANIZATION/APNALOAN</td>\n",
       "      <td>venture</td>\n",
       "      <td>15000000.0</td>\n",
       "      <td>/organization/apnaloan</td>\n",
       "      <td>True</td>\n",
       "      <td>Credit</td>\n",
       "      <td>Social, Finance, Analytics, Advertising</td>\n",
       "    </tr>\n",
       "    <tr>\n",
       "      <th>32863</th>\n",
       "      <td>/Organization/Shopclues-Com</td>\n",
       "      <td>ShopClues.com</td>\n",
       "      <td>Consumer Internet|E-Commerce|Shopping</td>\n",
       "      <td>operating</td>\n",
       "      <td>IND</td>\n",
       "      <td>/organization/shopclues-com</td>\n",
       "      <td>shopclues.com</td>\n",
       "      <td>[consumerinternet, ecommerce, shopping]</td>\n",
       "      <td>/ORGANIZATION/SHOPCLUES-COM</td>\n",
       "      <td>venture</td>\n",
       "      <td>15000000.0</td>\n",
       "      <td>/organization/shopclues-com</td>\n",
       "      <td>True</td>\n",
       "      <td>Consumer Internet</td>\n",
       "      <td>Social, Finance, Analytics, Advertising</td>\n",
       "    </tr>\n",
       "  </tbody>\n",
       "</table>\n",
       "</div>"
      ],
      "text/plain": [
       "                         permalink           name  \\\n",
       "14431    /Organization/Komli-Media    Komli Media   \n",
       "19163  /Organization/Shiram-Credit  Shiram Credit   \n",
       "30119       /Organization/Apnaloan      ApnaPaisa   \n",
       "32863  /Organization/Shopclues-Com  ShopClues.com   \n",
       "\n",
       "                             category_list_x     status country_code  \\\n",
       "14431            Advertising|Analytics|Media  operating          IND   \n",
       "19163                                Finance  operating          IND   \n",
       "30119            Credit|Finance|Marketplaces  operating          IND   \n",
       "32863  Consumer Internet|E-Commerce|Shopping  operating          IND   \n",
       "\n",
       "                   permalink_clean     name_clean  \\\n",
       "14431    /organization/komli-media    komli media   \n",
       "19163  /organization/shiram-credit  shiram credit   \n",
       "30119       /organization/apnaloan      apnapaisa   \n",
       "32863  /organization/shopclues-com  shopclues.com   \n",
       "\n",
       "                           category_list_clean            company_permalink  \\\n",
       "14431          [advertising, analytics, media]    /organization/komli-media   \n",
       "19163                                [finance]  /ORGANIZATION/SHIRAM-CREDIT   \n",
       "30119          [credit, finance, marketplaces]       /ORGANIZATION/APNALOAN   \n",
       "32863  [consumerinternet, ecommerce, shopping]  /ORGANIZATION/SHOPCLUES-COM   \n",
       "\n",
       "      funding_round_type  raised_amount_usd      company_permalink_clean  \\\n",
       "14431            venture         15000000.0    /organization/komli-media   \n",
       "19163            venture         15000000.0  /organization/shiram-credit   \n",
       "30119            venture         15000000.0       /organization/apnaloan   \n",
       "32863            venture         15000000.0  /organization/shopclues-com   \n",
       "\n",
       "       IsEnglish     primary_sector                              main_sector  \n",
       "14431       True        Advertising  Social, Finance, Analytics, Advertising  \n",
       "19163       True            Finance  Social, Finance, Analytics, Advertising  \n",
       "30119       True             Credit  Social, Finance, Analytics, Advertising  \n",
       "32863       True  Consumer Internet  Social, Finance, Analytics, Advertising  "
      ]
     },
     "metadata": {},
     "output_type": "display_data"
    }
   ],
   "source": [
    "for _, c, _, df in highest_invested_companies:\n",
    "    print(c)\n",
    "    display(df)"
   ]
  },
  {
   "cell_type": "code",
   "execution_count": 96,
   "metadata": {
    "tags": []
   },
   "outputs": [
    {
     "name": "stdout",
     "output_type": "stream",
     "text": [
      "USA : 134\n",
      "USA : 106\n",
      "GBR : 4\n",
      "GBR : 4\n",
      "IND : 14\n",
      "IND : 4\n"
     ]
    }
   ],
   "source": [
    "for _, c, companies, _ in highest_invested_companies:\n",
    "    print(f\"{c} : {len(companies)}\")"
   ]
  },
  {
   "cell_type": "code",
   "execution_count": 97,
   "metadata": {
    "scrolled": true,
    "tags": []
   },
   "outputs": [
    {
     "name": "stdout",
     "output_type": "stream",
     "text": [
      "\n",
      "Company(ies) for \"USA\" top sector count-wise\n",
      "\n",
      "Alfalight, App Annie, Appboy, Bitly, Bottlenose, BrightBytes, Cirba, CloudPhysics, DataSift, DataTorrent, Forter, GoodData, Indix, INRIX, Lattice Engines, New Relic, Numerify, Offerpop, OpenGov, OpinionLab, Origami Logic, Planalytics (B2B), Prism Skylabs, Quanterix, RAMP Holdings, RapidMiner, Segment, Splice Machine, Sumo Logic, Valence Health, Xactly Corp, AdRoll, Ampush, Three Stage Media, Compumatrix, Datorama, Definition 6, edo Interactive, Eyeview, Host Analytics, July Systems, Persado, PlaceIQ, Placester, BuyerLink, rewardStyle, Rubicon Project, SAY Media, ShareThis, Sprinklr, Taboola, Tapjoy, Taykey, Tongal, Vibrant Media, VideoAmp, xAd, DApps Fund, Cash4Gold, FastPay, Indiegogo, Kroll Bond Rating Agency, Personal Capital, SigFig, BlueData Software, Inc., Redis Labs, Rocana, True Fit, Zignal Labs, WePay, Univa, Inkling Systems, Kiwi, Inc., textPlus, Yummly, Dig Inn, Talkdesk, Travel Holdings, Yelp, Signal, Lotame, Videology, Aviso, Inc., Velocify, Xenon Arc, Artivest, Course Hero, Duolingo, Stitch Labs, Jive Software, if(we), UrbanSitter, Hightail, Nitro, Quip, Wrike, YellowPepper, comScore, DBL Acquisition, Driftt, TechTarget, Base CRM, RockYou, Zynga, Intacct, Medivo, Robin Systems, Varonis Systems, Zephyr Health, Sidewalk, Flat World Education, Workday, Motiva, Next Jump, Twitter, Envoy, TaskUs, G5, MTI Technology Corporation, Peaxy, Inc., Area 1 Security, Cylance, Damballa, Zuora, Managed by Q, castAR by Technical Illusions, Docker, Mocana, iovation, NSI Software, Centrify, Instantly, RetailNext, Reserve\n",
      "\n",
      "Company(ies) for \"USA\" second best sector count-wise\n",
      "\n",
      "Education.com, Schoology, Couchsurfing, Kitchensurfing, 1stdibs, Bag Borrow or Steal, Betabrand, Bigcommerce, Bluefly, CashStar, Chloe + Isabel, Colorescience, e-Rewards, Gemvara, JustFab, LE TOTE, Naartjie, Pets.com, Ritani, Sambazon, Branch Metrics, Broadcast International, BTI Systems, Clinicient, CrossChx, WorkFusion, Dataupia, Decisyon, Efreightsolutions Holdings, Enablon, FiftyThree, Formation Data Systems, FusionStorm, Lecorpio, NeoSystems, Panzura, Qwilt, SRC Computers, Tendril, ToutApp, TSheets, vArmour, Vicarious, VIEO, XenSource, Curious.com, Newsela, Craftsy, Udacity, Appcelerator, Aryaka Networks, Astute Networks, BetterWorks, Celergo, Cloud Engines, Digital Signal, ForgeRock, GuideSpark, Incipient, IntelePeer, Loggly, LogRhythm, Monetate, MuleSoft, OneSource Virtual, Rage Frameworks, Recommind, Sauce Labs, sliceX, Smartvue, SMS Assist, SpiderCloud Wireless, Stem, Talari Networks, Taulia, Total Attorneys, TRUSTe, Zenefits, Zerto, Authentix, Dtex Systems, Imprivata, Nok Nok Labs, Tempered Networks, Jobvite, Avere Systems, Capella Photonics, Overture Networks, ReefEdge, SmartLink Radio Networks, Switch Communications, Inc., Agari, Arena Solutions, Carbonite, Datadog, Keyssa, Pepperdata, Sentilla, Foursquare, Edmodo, Facebook, Remind, DoubleDutch, Identec Solutions, Predictix, Topix\n",
      "\n",
      "Company(ies) for \"GBR\" top sector count-wise\n",
      "\n",
      "Notonthehighstreet, EnvironmentIQ, ip.access, SilverRail Technologies\n",
      "\n",
      "Company(ies) for \"GBR\" second best sector count-wise\n",
      "\n",
      "SimilarWeb, Zopa, OpenGamma, myThings\n",
      "\n",
      "Company(ies) for \"IND\" top sector count-wise\n",
      "\n",
      "ZO Rooms, CaratLane, FirstCry.com, LimeRoad, Pepperfry.com, Roposo, Voylla Retail Pvt. Ltd., Classteacher Learning Systems, K-12 Techno Services, GirnarSoft, iPolicy Networks, Tejas Networks India, CommonFloor, ItzCash Card Ltd.\n",
      "\n",
      "Company(ies) for \"IND\" second best sector count-wise\n",
      "\n",
      "Komli Media, Shiram Credit, ApnaPaisa, ShopClues.com\n"
     ]
    }
   ],
   "source": [
    "for i, c, companies, _ in highest_invested_companies:\n",
    "    print(\n",
    "        f\"\\nCompany(ies) for \\\"{c}\\\" {'top sector count-wise' if i==0 else 'second best sector count-wise'}\\n\")\n",
    "    print(', '.join(companies))\n"
   ]
  },
  {
   "cell_type": "code",
   "execution_count": 98,
   "metadata": {},
   "outputs": [],
   "source": [
    "def get_top_invested_companies_by_main_sector(country_sector_map: List[Tuple[str, List[str]]], n: int) -> pd.DataFrame:\n",
    "    def get_country_data(country_code: str, sector: str) -> pd.DataFrame:\n",
    "        return master_frame[\n",
    "            ((master_frame[country_code_c] == country_code) &\n",
    "             (master_frame[funding_round_type] == 'venture') &\n",
    "                (master_frame[main_sector] == sector)\n",
    "             )].nlargest(n, raised_amount_usd)\n",
    "\n",
    "    cols = [name_c, main_sector, raised_amount_usd, country_code_c]\n",
    "    res_df = pd.DataFrame(columns=cols)\n",
    "    for country, sectors in country_sector_map:\n",
    "        for sector in sectors:\n",
    "            res_df = res_df.append(get_country_data(country, sector)[cols])\n",
    "    return res_df\n"
   ]
  },
  {
   "cell_type": "code",
   "execution_count": 99,
   "metadata": {},
   "outputs": [
    {
     "data": {
      "text/html": [
       "<div>\n",
       "<style scoped>\n",
       "    .dataframe tbody tr th:only-of-type {\n",
       "        vertical-align: middle;\n",
       "    }\n",
       "\n",
       "    .dataframe tbody tr th {\n",
       "        vertical-align: top;\n",
       "    }\n",
       "\n",
       "    .dataframe thead th {\n",
       "        text-align: right;\n",
       "    }\n",
       "</style>\n",
       "<table border=\"1\" class=\"dataframe\">\n",
       "  <thead>\n",
       "    <tr style=\"text-align: right;\">\n",
       "      <th></th>\n",
       "      <th>name</th>\n",
       "      <th>main_sector</th>\n",
       "      <th>raised_amount_usd</th>\n",
       "      <th>country_code</th>\n",
       "    </tr>\n",
       "  </thead>\n",
       "  <tbody>\n",
       "    <tr>\n",
       "      <th>14260</th>\n",
       "      <td>Groupon</td>\n",
       "      <td>Social, Finance, Analytics, Advertising</td>\n",
       "      <td>9.500000e+08</td>\n",
       "      <td>USA</td>\n",
       "    </tr>\n",
       "    <tr>\n",
       "      <th>8120</th>\n",
       "      <td>SoFi</td>\n",
       "      <td>Others</td>\n",
       "      <td>1.000000e+09</td>\n",
       "      <td>USA</td>\n",
       "    </tr>\n",
       "    <tr>\n",
       "      <th>33819</th>\n",
       "      <td>OneWeb</td>\n",
       "      <td>Others</td>\n",
       "      <td>5.000000e+08</td>\n",
       "      <td>GBR</td>\n",
       "    </tr>\n",
       "    <tr>\n",
       "      <th>26096</th>\n",
       "      <td>Mereo</td>\n",
       "      <td>Social, Finance, Analytics, Advertising</td>\n",
       "      <td>1.190000e+08</td>\n",
       "      <td>GBR</td>\n",
       "    </tr>\n",
       "    <tr>\n",
       "      <th>10964</th>\n",
       "      <td>Flipkart</td>\n",
       "      <td>Others</td>\n",
       "      <td>1.000000e+09</td>\n",
       "      <td>IND</td>\n",
       "    </tr>\n",
       "    <tr>\n",
       "      <th>32862</th>\n",
       "      <td>ShopClues.com</td>\n",
       "      <td>Social, Finance, Analytics, Advertising</td>\n",
       "      <td>1.000000e+08</td>\n",
       "      <td>IND</td>\n",
       "    </tr>\n",
       "  </tbody>\n",
       "</table>\n",
       "</div>"
      ],
      "text/plain": [
       "                name                              main_sector  \\\n",
       "14260        Groupon  Social, Finance, Analytics, Advertising   \n",
       "8120            SoFi                                   Others   \n",
       "33819         OneWeb                                   Others   \n",
       "26096          Mereo  Social, Finance, Analytics, Advertising   \n",
       "10964       Flipkart                                   Others   \n",
       "32862  ShopClues.com  Social, Finance, Analytics, Advertising   \n",
       "\n",
       "       raised_amount_usd country_code  \n",
       "14260       9.500000e+08          USA  \n",
       "8120        1.000000e+09          USA  \n",
       "33819       5.000000e+08          GBR  \n",
       "26096       1.190000e+08          GBR  \n",
       "10964       1.000000e+09          IND  \n",
       "32862       1.000000e+08          IND  "
      ]
     },
     "execution_count": 99,
     "metadata": {},
     "output_type": "execute_result"
    }
   ],
   "source": [
    "get_top_invested_companies_by_main_sector([(USA, ['Social, Finance, Analytics, Advertising', 'Others']),\n",
    "                                           (GBR, [\n",
    "                                            'Others', 'Social, Finance, Analytics, Advertising']),\n",
    "                                           (IND, ['Others', 'Social, Finance, Analytics, Advertising'])], 1)\n"
   ]
  },
  {
   "cell_type": "markdown",
   "metadata": {},
   "source": [
    "### Checkpoint 6: Plots"
   ]
  },
  {
   "cell_type": "markdown",
   "metadata": {},
   "source": [
    "A plot showing the fraction of total investments (globally) in angel, venture, seed, and private equity, and the average amount of investment in each funding type. This chart should make it clear that a certain funding type (FT) is best suited for Spark Funds."
   ]
  },
  {
   "cell_type": "code",
   "execution_count": 100,
   "metadata": {},
   "outputs": [],
   "source": [
    "def get_global_grouped_data() -> pd.DataFrame:\n",
    "    global_total_fund = unfiltered_master_frame[raised_amount_usd].sum()\n",
    "    global_grouped_data = unfiltered_master_frame[[funding_round_type, raised_amount_usd]].groupby(funding_round_type).agg(\n",
    "        {raised_amount_usd: ['sum', 'mean']}\n",
    "    ).reset_index()\n",
    "\n",
    "    global_grouped_data.columns = [funding_round_type,\n",
    "                                   'raised_amount_usd_sum', 'raised_amount_usd_mean']\n",
    "    global_grouped_data['raised_amount_ratio'] = global_grouped_data['raised_amount_usd_sum']/global_total_fund\n",
    "    global_grouped_data.sort_values(\n",
    "        'raised_amount_ratio', ascending=False, inplace=True)\n",
    "    return global_grouped_data\n",
    "\n"
   ]
  },
  {
   "cell_type": "code",
   "execution_count": 101,
   "metadata": {},
   "outputs": [],
   "source": [
    "global_grouped_data = get_global_grouped_data()"
   ]
  },
  {
   "cell_type": "code",
   "execution_count": 102,
   "metadata": {},
   "outputs": [
    {
     "data": {
      "text/html": [
       "<style  type=\"text/css\" >\n",
       "</style><table id=\"T_d1fc6470_eac4_11ea_8318_d4258b08dbe3\" ><thead>    <tr>        <th class=\"col_heading level0 col0\" >funding_round_type</th>        <th class=\"col_heading level0 col1\" >raised_amount_usd_sum</th>        <th class=\"col_heading level0 col2\" >raised_amount_usd_mean</th>        <th class=\"col_heading level0 col3\" >raised_amount_ratio</th>    </tr></thead><tbody>\n",
       "                <tr>\n",
       "                                <td id=\"T_d1fc6470_eac4_11ea_8318_d4258b08dbe3row0_col0\" class=\"data row0 col0\" >venture</td>\n",
       "                        <td id=\"T_d1fc6470_eac4_11ea_8318_d4258b08dbe3row0_col1\" class=\"data row0 col1\" >$439,999,714,032.00</td>\n",
       "                        <td id=\"T_d1fc6470_eac4_11ea_8318_d4258b08dbe3row0_col2\" class=\"data row0 col2\" >$11,758,410.32</td>\n",
       "                        <td id=\"T_d1fc6470_eac4_11ea_8318_d4258b08dbe3row0_col3\" class=\"data row0 col3\" >0.58</td>\n",
       "            </tr>\n",
       "            <tr>\n",
       "                                <td id=\"T_d1fc6470_eac4_11ea_8318_d4258b08dbe3row1_col0\" class=\"data row1 col0\" >private_equity</td>\n",
       "                        <td id=\"T_d1fc6470_eac4_11ea_8318_d4258b08dbe3row1_col1\" class=\"data row1 col1\" >$115,562,794,564.00</td>\n",
       "                        <td id=\"T_d1fc6470_eac4_11ea_8318_d4258b08dbe3row1_col2\" class=\"data row1 col2\" >$75,828,605.36</td>\n",
       "                        <td id=\"T_d1fc6470_eac4_11ea_8318_d4258b08dbe3row1_col3\" class=\"data row1 col3\" >0.15</td>\n",
       "            </tr>\n",
       "            <tr>\n",
       "                                <td id=\"T_d1fc6470_eac4_11ea_8318_d4258b08dbe3row2_col0\" class=\"data row2 col0\" >debt_financing</td>\n",
       "                        <td id=\"T_d1fc6470_eac4_11ea_8318_d4258b08dbe3row2_col1\" class=\"data row2 col1\" >$98,595,915,927.00</td>\n",
       "                        <td id=\"T_d1fc6470_eac4_11ea_8318_d4258b08dbe3row2_col2\" class=\"data row2 col2\" >$18,312,762.99</td>\n",
       "                        <td id=\"T_d1fc6470_eac4_11ea_8318_d4258b08dbe3row2_col3\" class=\"data row2 col3\" >0.13</td>\n",
       "            </tr>\n",
       "            <tr>\n",
       "                                <td id=\"T_d1fc6470_eac4_11ea_8318_d4258b08dbe3row3_col0\" class=\"data row3 col0\" >post_ipo_equity</td>\n",
       "                        <td id=\"T_d1fc6470_eac4_11ea_8318_d4258b08dbe3row3_col1\" class=\"data row3 col1\" >$27,223,783,508.00</td>\n",
       "                        <td id=\"T_d1fc6470_eac4_11ea_8318_d4258b08dbe3row3_col2\" class=\"data row3 col2\" >$52,657,221.49</td>\n",
       "                        <td id=\"T_d1fc6470_eac4_11ea_8318_d4258b08dbe3row3_col3\" class=\"data row3 col3\" >0.04</td>\n",
       "            </tr>\n",
       "            <tr>\n",
       "                                <td id=\"T_d1fc6470_eac4_11ea_8318_d4258b08dbe3row4_col0\" class=\"data row4 col0\" >post_ipo_debt</td>\n",
       "                        <td id=\"T_d1fc6470_eac4_11ea_8318_d4258b08dbe3row4_col1\" class=\"data row4 col1\" >$22,955,371,907.00</td>\n",
       "                        <td id=\"T_d1fc6470_eac4_11ea_8318_d4258b08dbe3row4_col2\" class=\"data row4 col2\" >$176,579,783.90</td>\n",
       "                        <td id=\"T_d1fc6470_eac4_11ea_8318_d4258b08dbe3row4_col3\" class=\"data row4 col3\" >0.03</td>\n",
       "            </tr>\n",
       "            <tr>\n",
       "                                <td id=\"T_d1fc6470_eac4_11ea_8318_d4258b08dbe3row5_col0\" class=\"data row5 col0\" >undisclosed</td>\n",
       "                        <td id=\"T_d1fc6470_eac4_11ea_8318_d4258b08dbe3row5_col1\" class=\"data row5 col1\" >$18,759,687,119.00</td>\n",
       "                        <td id=\"T_d1fc6470_eac4_11ea_8318_d4258b08dbe3row5_col2\" class=\"data row5 col2\" >$15,857,723.68</td>\n",
       "                        <td id=\"T_d1fc6470_eac4_11ea_8318_d4258b08dbe3row5_col3\" class=\"data row5 col3\" >0.02</td>\n",
       "            </tr>\n",
       "            <tr>\n",
       "                                <td id=\"T_d1fc6470_eac4_11ea_8318_d4258b08dbe3row6_col0\" class=\"data row6 col0\" >seed</td>\n",
       "                        <td id=\"T_d1fc6470_eac4_11ea_8318_d4258b08dbe3row6_col1\" class=\"data row6 col1\" >$14,097,602,330.00</td>\n",
       "                        <td id=\"T_d1fc6470_eac4_11ea_8318_d4258b08dbe3row6_col2\" class=\"data row6 col2\" >$753,560.10</td>\n",
       "                        <td id=\"T_d1fc6470_eac4_11ea_8318_d4258b08dbe3row6_col3\" class=\"data row6 col3\" >0.02</td>\n",
       "            </tr>\n",
       "            <tr>\n",
       "                                <td id=\"T_d1fc6470_eac4_11ea_8318_d4258b08dbe3row7_col0\" class=\"data row7 col0\" >grant</td>\n",
       "                        <td id=\"T_d1fc6470_eac4_11ea_8318_d4258b08dbe3row7_col1\" class=\"data row7 col1\" >$7,633,359,049.00</td>\n",
       "                        <td id=\"T_d1fc6470_eac4_11ea_8318_d4258b08dbe3row7_col2\" class=\"data row7 col2\" >$4,347,015.40</td>\n",
       "                        <td id=\"T_d1fc6470_eac4_11ea_8318_d4258b08dbe3row7_col3\" class=\"data row7 col3\" >0.01</td>\n",
       "            </tr>\n",
       "            <tr>\n",
       "                                <td id=\"T_d1fc6470_eac4_11ea_8318_d4258b08dbe3row8_col0\" class=\"data row8 col0\" >angel</td>\n",
       "                        <td id=\"T_d1fc6470_eac4_11ea_8318_d4258b08dbe3row8_col1\" class=\"data row8 col1\" >$3,658,443,230.00</td>\n",
       "                        <td id=\"T_d1fc6470_eac4_11ea_8318_d4258b08dbe3row8_col2\" class=\"data row8 col2\" >$991,179.42</td>\n",
       "                        <td id=\"T_d1fc6470_eac4_11ea_8318_d4258b08dbe3row8_col3\" class=\"data row8 col3\" >0.00</td>\n",
       "            </tr>\n",
       "            <tr>\n",
       "                                <td id=\"T_d1fc6470_eac4_11ea_8318_d4258b08dbe3row9_col0\" class=\"data row9 col0\" >secondary_market</td>\n",
       "                        <td id=\"T_d1fc6470_eac4_11ea_8318_d4258b08dbe3row9_col1\" class=\"data row9 col1\" >$2,343,603,924.00</td>\n",
       "                        <td id=\"T_d1fc6470_eac4_11ea_8318_d4258b08dbe3row9_col2\" class=\"data row9 col2\" >$111,600,186.86</td>\n",
       "                        <td id=\"T_d1fc6470_eac4_11ea_8318_d4258b08dbe3row9_col3\" class=\"data row9 col3\" >0.00</td>\n",
       "            </tr>\n",
       "            <tr>\n",
       "                                <td id=\"T_d1fc6470_eac4_11ea_8318_d4258b08dbe3row10_col0\" class=\"data row10 col0\" >convertible_note</td>\n",
       "                        <td id=\"T_d1fc6470_eac4_11ea_8318_d4258b08dbe3row10_col1\" class=\"data row10 col1\" >$1,647,989,100.00</td>\n",
       "                        <td id=\"T_d1fc6470_eac4_11ea_8318_d4258b08dbe3row10_col2\" class=\"data row10 col2\" >$1,355,254.19</td>\n",
       "                        <td id=\"T_d1fc6470_eac4_11ea_8318_d4258b08dbe3row10_col3\" class=\"data row10 col3\" >0.00</td>\n",
       "            </tr>\n",
       "            <tr>\n",
       "                                <td id=\"T_d1fc6470_eac4_11ea_8318_d4258b08dbe3row11_col0\" class=\"data row11 col0\" >equity_crowdfunding</td>\n",
       "                        <td id=\"T_d1fc6470_eac4_11ea_8318_d4258b08dbe3row11_col1\" class=\"data row11 col1\" >$560,634,796.00</td>\n",
       "                        <td id=\"T_d1fc6470_eac4_11ea_8318_d4258b08dbe3row11_col2\" class=\"data row11 col2\" >$503,715.00</td>\n",
       "                        <td id=\"T_d1fc6470_eac4_11ea_8318_d4258b08dbe3row11_col3\" class=\"data row11 col3\" >0.00</td>\n",
       "            </tr>\n",
       "            <tr>\n",
       "                                <td id=\"T_d1fc6470_eac4_11ea_8318_d4258b08dbe3row12_col0\" class=\"data row12 col0\" >product_crowdfunding</td>\n",
       "                        <td id=\"T_d1fc6470_eac4_11ea_8318_d4258b08dbe3row12_col1\" class=\"data row12 col1\" >$428,976,810.00</td>\n",
       "                        <td id=\"T_d1fc6470_eac4_11ea_8318_d4258b08dbe3row12_col2\" class=\"data row12 col2\" >$1,357,521.55</td>\n",
       "                        <td id=\"T_d1fc6470_eac4_11ea_8318_d4258b08dbe3row12_col3\" class=\"data row12 col3\" >0.00</td>\n",
       "            </tr>\n",
       "            <tr>\n",
       "                                <td id=\"T_d1fc6470_eac4_11ea_8318_d4258b08dbe3row13_col0\" class=\"data row13 col0\" >non_equity_assistance</td>\n",
       "                        <td id=\"T_d1fc6470_eac4_11ea_8318_d4258b08dbe3row13_col1\" class=\"data row13 col1\" >$26,318,866.00</td>\n",
       "                        <td id=\"T_d1fc6470_eac4_11ea_8318_d4258b08dbe3row13_col2\" class=\"data row13 col2\" >$469,979.75</td>\n",
       "                        <td id=\"T_d1fc6470_eac4_11ea_8318_d4258b08dbe3row13_col3\" class=\"data row13 col3\" >0.00</td>\n",
       "            </tr>\n",
       "    </tbody></table>"
      ],
      "text/plain": [
       "<pandas.io.formats.style.Styler at 0x2a84c70d160>"
      ]
     },
     "metadata": {},
     "output_type": "display_data"
    }
   ],
   "source": [
    "\n",
    "k = global_grouped_data.style.format({'raised_amount_usd_mean': '${0:,.2f}',\n",
    "                                      'raised_amount_usd_sum': '${0:,.2f}',\n",
    "                                      'raised_amount_ratio': '{0:.2f}'\n",
    "                                      }).hide_index()\n",
    "display(k)"
   ]
  },
  {
   "cell_type": "code",
   "execution_count": 103,
   "metadata": {},
   "outputs": [],
   "source": [
    "def plot_average_fund_type_share() -> None:\n",
    "    graph_data = global_grouped_data[global_grouped_data[funding_round_type].isin(\n",
    "        ['angel', 'venture', 'private_equity'])]\n",
    "\n",
    "    g = sns.barplot(x=\"funding_round_type\",\n",
    "                    y='raised_amount_ratio', data=graph_data)\n",
    "    g.set(xlabel='Funding Round Type',\n",
    "          ylabel='Investment Proportion', title='Fund Type Share with Average Global Investment')\n",
    "    # Ref: https://github.com/mwaskom/seaborn/issues/1582\n",
    "    for i, p in enumerate(g.patches):\n",
    "        g.annotate('${0:,.2f}'.format(graph_data.iloc[i]['raised_amount_usd_mean']), (p.get_x(\n",
    "        ) + p.get_width() / 2., p.get_height()), ha='center', va='center', xytext=(0, 4), textcoords='offset points')\n",
    "    plt.show()"
   ]
  },
  {
   "cell_type": "code",
   "execution_count": 104,
   "metadata": {},
   "outputs": [
    {
     "data": {
      "image/png": "[encoded data removed]",
      "text/plain": [
       "<Figure size 432x288 with 1 Axes>"
      ]
     },
     "metadata": {
      "needs_background": "light"
     },
     "output_type": "display_data"
    }
   ],
   "source": [
    "plot_average_fund_type_share()"
   ]
  },
  {
   "cell_type": "markdown",
   "metadata": {},
   "source": [
    "A plot showing the top 9 countries against the total amount of investments of funding type FT. This should make the top 3 countries (Country 1, Country 2, and Country 3) very clear."
   ]
  },
  {
   "cell_type": "code",
   "execution_count": 105,
   "metadata": {},
   "outputs": [],
   "source": [
    "avg_invested_amt = \"Average Invested Amount\"\n",
    "country_code_col_name = \"Country Code\"\n",
    "graph_data = top9.sort_values(by=avg_invested_amt, ascending=False)"
   ]
  },
  {
   "cell_type": "code",
   "execution_count": 106,
   "metadata": {},
   "outputs": [],
   "source": [
    "\n",
    "\n",
    "def plot_top_9_inested_countries(graph_data: pd.DataFrame) -> None:\n",
    "    plt.figure(figsize=(15, 7))\n",
    "    g = sns.barplot(x=country_code_col_name,\n",
    "                    y=avg_invested_amt, data=graph_data)\n",
    "    g.set(xlabel='Country',\n",
    "          ylabel='Total Investment', title='Top 9 Countries with highest investments')\n",
    "    for i, p in enumerate(g.patches):\n",
    "        g.annotate('${0:,.2f}'.format(graph_data.iloc[i][avg_invested_amt]), (p.get_x(\n",
    "        ) + p.get_width() / 2., p.get_height()), ha='center', va='center', xytext=(0, 4), textcoords='offset points')\n",
    "    plt.show()\n",
    "\n"
   ]
  },
  {
   "cell_type": "code",
   "execution_count": 107,
   "metadata": {},
   "outputs": [
    {
     "data": {
      "image/png": "[encoded data removed]",
      "text/plain": [
       "<Figure size 1080x504 with 1 Axes>"
      ]
     },
     "metadata": {
      "needs_background": "light"
     },
     "output_type": "display_data"
    }
   ],
   "source": [
    "plot_top_9_inested_countries(graph_data)"
   ]
  },
  {
   "cell_type": "code",
   "execution_count": 108,
   "metadata": {},
   "outputs": [],
   "source": [
    "def plot_top_9_inested_countries_on_log_scale() -> None:\n",
    "\n",
    "    graph_data['raised_amount_usd_log'] = np.log(graph_data[avg_invested_amt])\n",
    "    g = sns.barplot(x=country_code_col_name,\n",
    "                    y=\"raised_amount_usd_log\", data=graph_data)\n",
    "    g.set(xlabel='Country',\n",
    "          ylabel='Total Investment (Log Scale)', title='Top 9 Countries with highest investments')\n",
    "    plt.show()"
   ]
  },
  {
   "cell_type": "code",
   "execution_count": 109,
   "metadata": {},
   "outputs": [
    {
     "data": {
      "image/png": "[encoded data removed]",
      "text/plain": [
       "<Figure size 432x288 with 1 Axes>"
      ]
     },
     "metadata": {
      "needs_background": "light"
     },
     "output_type": "display_data"
    }
   ],
   "source": [
    "plot_top_9_inested_countries_on_log_scale()"
   ]
  },
  {
   "cell_type": "markdown",
   "metadata": {},
   "source": [
    "**A plot showing the number of investments in the top 3 sectors of the top 3 countries on one chart (for the chosen investment type FT).**"
   ]
  },
  {
   "cell_type": "code",
   "execution_count": 110,
   "metadata": {},
   "outputs": [],
   "source": [
    "\n",
    "\n",
    "def plot_sector_wise_investment_comparision() -> None:\n",
    "    usa_data = D1[main_sector].value_counts()[:3]\n",
    "    gbr_data = D2[main_sector].value_counts()[:3]\n",
    "    ind_data = D3[main_sector].value_counts()[:3]\n",
    "\n",
    "    graph_data = pd.DataFrame(\n",
    "        {\"Sector\": usa_data.index, \"Count\": usa_data.values,\n",
    "            \"Country\": [USA for _ in range(len(usa_data))]}\n",
    "    ).append(pd.DataFrame({\"Sector\": gbr_data.index, \"Count\": gbr_data.values, \"Country\": [GBR for _ in range(len(gbr_data))]})) \\\n",
    "        .append(pd.DataFrame({\"Sector\": ind_data.index, \"Count\": ind_data.values, \"Country\": [IND for _ in range(len(ind_data))]}))\n",
    "\n",
    "    plt.figure(figsize=(15, 12))\n",
    "    g = sns.catplot(y=\"Count\", x=\"Country\", hue=\"Sector\",\n",
    "                    data=graph_data, kind=\"bar\", palette=\"muted\", orient='v', legend_out=True)\n",
    "    # for i, p in enumerate(g.patches):\n",
    "    #     g.annotate('${0:,.2f}'.format(graph_data.iloc[i]['Count']), (p.get_x(\n",
    "    #     ) + p.get_width() / 2., p.get_height()), ha='center', va='center', xytext=(0, 4), textcoords='offset points')\n",
    "\n",
    "    g.set(xlabel='Country',\n",
    "          ylabel='Investment Count', title='Country wise Investment count')\n",
    "    plt.show()\n",
    "\n"
   ]
  },
  {
   "cell_type": "code",
   "execution_count": 111,
   "metadata": {
    "scrolled": false
   },
   "outputs": [
    {
     "data": {
      "text/plain": [
       "<Figure size 1080x864 with 0 Axes>"
      ]
     },
     "metadata": {},
     "output_type": "display_data"
    },
    {
     "data": {
      "image/png": "[encoded data removed]",
      "text/plain": [
       "<Figure size 584.725x360 with 1 Axes>"
      ]
     },
     "metadata": {
      "needs_background": "light"
     },
     "output_type": "display_data"
    }
   ],
   "source": [
    "plot_sector_wise_investment_comparision()"
   ]
  }
 ],
 "metadata": {
  "kernelspec": {
   "display_name": "Python [conda env:e38]",
   "language": "python",
   "name": "conda-env-e38-py"
  },
  "language_info": {
   "codemirror_mode": {
    "name": "ipython",
    "version": 3
   },
   "file_extension": ".py",
   "mimetype": "text/x-python",
   "name": "python",
   "nbconvert_exporter": "python",
   "pygments_lexer": "ipython3",
   "version": "3.8.3"
  }
 },
 "nbformat": 4,
 "nbformat_minor": 2
}
