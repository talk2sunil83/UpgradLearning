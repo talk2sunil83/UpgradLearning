{
 "cells": [
  {
   "cell_type": "markdown",
   "metadata": {},
   "source": [
    "# Session 4. Working with Data in Python - Reading & Writing Files\n",
    "## File Handling\n",
    "### Directories"
   ]
  },
  {
   "cell_type": "code",
   "execution_count": null,
   "metadata": {},
   "outputs": [],
   "source": [
    "import os \n",
    "os.getcwd() "
   ]
  },
  {
   "cell_type": "code",
   "execution_count": null,
   "metadata": {},
   "outputs": [],
   "source": [
    "os.listdir() "
   ]
  },
  {
   "cell_type": "code",
   "execution_count": null,
   "metadata": {},
   "outputs": [],
   "source": [
    "os.mkdir(\"my_dir\")"
   ]
  },
  {
   "cell_type": "code",
   "execution_count": null,
   "metadata": {},
   "outputs": [],
   "source": [
    "os.chdir('my_dir') \n",
    "os.getcwd()"
   ]
  },
  {
   "cell_type": "code",
   "execution_count": null,
   "metadata": {},
   "outputs": [],
   "source": [
    "os.chdir('..') \n",
    "os.getcwd()"
   ]
  },
  {
   "cell_type": "code",
   "execution_count": null,
   "metadata": {},
   "outputs": [],
   "source": [
    "os.rmdir(\"my_dir\" ) "
   ]
  },
  {
   "cell_type": "markdown",
   "metadata": {},
   "source": [
    "### Open, Read and Close a file\n",
    "\n",
    "Pretend you have a file named example.txt in the current directory. If you don't, just create one, and then fill it with these lines and save it:\n",
    "\n",
    "hello world<br>\n",
    "and now<br>\n",
    "I say<br>\n",
    "goodbye"
   ]
  },
  {
   "cell_type": "code",
   "execution_count": null,
   "metadata": {},
   "outputs": [],
   "source": [
    "myfile = open(\"example.txt\") "
   ]
  },
  {
   "cell_type": "code",
   "execution_count": null,
   "metadata": {},
   "outputs": [],
   "source": [
    "type(myfile)"
   ]
  },
  {
   "cell_type": "code",
   "execution_count": null,
   "metadata": {},
   "outputs": [],
   "source": [
    "print(\"Name of the file: \", myfile.name)\n",
    "print(\"Closed or not : \", myfile.closed)\n",
    "print(\"Opening mode : \", myfile.mode)"
   ]
  },
  {
   "cell_type": "code",
   "execution_count": null,
   "metadata": {},
   "outputs": [],
   "source": [
    "myfile.close()"
   ]
  },
  {
   "cell_type": "code",
   "execution_count": null,
   "metadata": {},
   "outputs": [],
   "source": [
    "print(\"Name of the file: \", myfile.name)"
   ]
  },
  {
   "cell_type": "markdown",
   "metadata": {},
   "source": [
    "**Read 5 bytes**"
   ]
  },
  {
   "cell_type": "code",
   "execution_count": null,
   "metadata": {},
   "outputs": [],
   "source": [
    "myfile = open(\"example.txt\") \n",
    "print(myfile.read(5))\n",
    "myfile.close()"
   ]
  },
  {
   "cell_type": "markdown",
   "metadata": {},
   "source": [
    "**Reading the entire file at once**"
   ]
  },
  {
   "cell_type": "code",
   "execution_count": null,
   "metadata": {},
   "outputs": [],
   "source": [
    "myfile = open(\"example.txt\") \n",
    "print(myfile.read())\n",
    "myfile.close()"
   ]
  },
  {
   "cell_type": "markdown",
   "metadata": {},
   "source": [
    "**Read one line**"
   ]
  },
  {
   "cell_type": "code",
   "execution_count": null,
   "metadata": {},
   "outputs": [],
   "source": [
    "myfile = open(\"example.txt\") \n",
    "print(myfile.readline())\n",
    "myfile.close()"
   ]
  },
  {
   "cell_type": "markdown",
   "metadata": {},
   "source": [
    "#### Readlines()\n",
    "**it reads all the lines present inside the text file including the newline characters and store these in a list**"
   ]
  },
  {
   "cell_type": "code",
   "execution_count": null,
   "metadata": {},
   "outputs": [],
   "source": [
    "myfile = open(\"example.txt\") \n",
    "print(myfile.readlines())\n",
    "myfile.close()"
   ]
  },
  {
   "cell_type": "markdown",
   "metadata": {},
   "source": [
    "**Reading a specific line from a File**"
   ]
  },
  {
   "cell_type": "code",
   "execution_count": null,
   "metadata": {},
   "outputs": [],
   "source": [
    "line_number = 3\n",
    "myfile = open(\"example.txt\") \n",
    "currentline = 1\n",
    "for line in myfile:\n",
    "    if(currentline == line_number):\n",
    "        print(line)\n",
    "        break\n",
    "    currentline = currentline +1\n",
    "myfile.close()"
   ]
  },
  {
   "cell_type": "markdown",
   "metadata": {},
   "source": [
    "### Write to a file"
   ]
  },
  {
   "cell_type": "code",
   "execution_count": null,
   "metadata": {},
   "outputs": [],
   "source": [
    "f1 = open('test.txt', 'w')\n",
    "f1.write('Hello World')\n",
    "f1.close()"
   ]
  },
  {
   "cell_type": "code",
   "execution_count": null,
   "metadata": {},
   "outputs": [],
   "source": [
    "f1 = open('test.txt', 'w')\n",
    "f1.write('Hello World\\n')\n",
    "f1.write('Hello Python')\n",
    "f1.close()"
   ]
  },
  {
   "cell_type": "code",
   "execution_count": null,
   "metadata": {},
   "outputs": [],
   "source": [
    "fruits = ['Apple\\n', 'Orange\\n', 'Grapes\\n', 'Watermelon']\n",
    "f1 = open('test.txt', 'w')\n",
    "f1.writelines(fruits)\n",
    "f1.close()"
   ]
  },
  {
   "cell_type": "markdown",
   "metadata": {},
   "source": [
    "### Append to File\n",
    "**To append data into a file we must open the file in ‘a+’ mode so that we will have access to both the append as well as write modes.**"
   ]
  },
  {
   "cell_type": "code",
   "execution_count": null,
   "metadata": {},
   "outputs": [],
   "source": [
    "f1 = open('test.txt', 'a+')\n",
    "f1.write('Strawberry')\n",
    "#f1.write('\\nGuava')\n",
    "f1.close()"
   ]
  },
  {
   "cell_type": "markdown",
   "metadata": {},
   "source": [
    "### seek() and tell()"
   ]
  },
  {
   "cell_type": "code",
   "execution_count": null,
   "metadata": {},
   "outputs": [],
   "source": [
    "text = [\"\\nHello\",\"\\nHi\",\"\\nPython\"]\n",
    "my_file = open(\"test.txt\",mode=\"a+\")\n",
    "my_file.writelines(text)\n",
    "print(\"where the file cursor is:\", my_file.tell())\n",
    "my_file.seek(0)\n",
    "for line in my_file:\n",
    "      print(line)\n",
    "my_file.close()"
   ]
  },
  {
   "cell_type": "markdown",
   "metadata": {},
   "source": [
    "### Note:\n",
    "**tell()** method tells where the cursor is currently at.<br>\n",
    "**seek(offset)** The offset takes three types of arguments namely 0,1 and 2.\n",
    "+ When the offset is 0: Reference will be pointed at the beginning of the file.\n",
    "+ When the offset is 1: Reference will be pointed at the current cursor position.\n",
    "+ When the offset is 2: Reference will be pointed at the end of the file."
   ]
  },
  {
   "cell_type": "markdown",
   "metadata": {},
   "source": [
    "### Rename File"
   ]
  },
  {
   "cell_type": "code",
   "execution_count": null,
   "metadata": {},
   "outputs": [],
   "source": [
    "import os \n",
    "os.rename( \"test.txt\", \"test1.txt\" )"
   ]
  },
  {
   "cell_type": "markdown",
   "metadata": {},
   "source": [
    "### Delete File"
   ]
  },
  {
   "cell_type": "code",
   "execution_count": null,
   "metadata": {},
   "outputs": [],
   "source": [
    "os.remove(\"test1.txt\")"
   ]
  },
  {
   "cell_type": "markdown",
   "metadata": {},
   "source": [
    "### 1. Write a function that accepts a file name as a parameter and that reports the longest line in the file.\n",
    "#### example input file, carroll.txt"
   ]
  },
  {
   "cell_type": "code",
   "execution_count": null,
   "metadata": {},
   "outputs": [],
   "source": [
    "def longest_line(filename):\n",
    "    input = open(filename)\n",
    "    longest = \"\"\n",
    "    for line in input:\n",
    "        if len(line) > len(longest):\n",
    "            longest = line\n",
    "    \n",
    "    print(\"Longest line =\", len(longest))\n",
    "    print(longest)\n",
    "longest_line(\"carroll.txt\")"
   ]
  },
  {
   "cell_type": "markdown",
   "metadata": {},
   "source": [
    "### 2. Suppose we have this hours.txt data:<br>\n",
    "\n",
    "123 Suzy 9.5 8.1 7.6 3.1 3.2<br>\n",
    "456 Brad 7.0 9.6 6.5 4.9 8.8<br>\n",
    "789 Jenn 8.0 8.0 8.0 8.0 7.5<br>\n",
    "\n",
    "#### Compute each worker's total hours and hours/day.\n",
    "#### Assume each worker works exactly five days.\n",
    "<br>\n",
    "Suzy ID 123 worked 31.5 hours: 6.3 / day<br>\n",
    "Brad ID 456 worked 36.8 hours: 7.36 / day<br>\n",
    "Jenn ID 789 worked 39.5 hours: 7.9 / day<br>\n"
   ]
  },
  {
   "cell_type": "code",
   "execution_count": null,
   "metadata": {},
   "outputs": [],
   "source": [
    "input = open(\"hours.txt\")\n",
    "for line in input:\n",
    "    id, name, mon, tue, wed, thu, fri = line.split()\n",
    "\n",
    "    # cumulative sum of this employee's hours\n",
    "    hours = float(mon) + float(tue) + float(wed) + float(thu) + float(fri)\n",
    "    \n",
    "    print(name, \"ID\", id, \"worked\", round(hours,1), \"hours: \", round(hours/5,2), \"/ day\")"
   ]
  },
  {
   "cell_type": "code",
   "execution_count": null,
   "metadata": {},
   "outputs": [],
   "source": []
  }
 ],
 "metadata": {
  "kernelspec": {
   "display_name": "Python 3",
   "language": "python",
   "name": "python3"
  },
  "language_info": {
   "codemirror_mode": {
    "name": "ipython",
    "version": 3
   },
   "file_extension": ".py",
   "mimetype": "text/x-python",
   "name": "python",
   "nbconvert_exporter": "python",
   "pygments_lexer": "ipython3",
   "version": "3.7.3"
  }
 },
 "nbformat": 4,
 "nbformat_minor": 2
}
