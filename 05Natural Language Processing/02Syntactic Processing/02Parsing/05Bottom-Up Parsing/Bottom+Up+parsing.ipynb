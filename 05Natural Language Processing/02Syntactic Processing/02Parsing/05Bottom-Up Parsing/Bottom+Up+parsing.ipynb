{
 "cells": [
  {
   "cell_type": "code",
   "execution_count": 1,
   "metadata": {},
   "outputs": [],
   "source": [
    "import nltk \n",
    "\n",
    "grammar=nltk.CFG.fromstring(\"\"\"\n",
    "S -> NP VP\n",
    "VP -> V NP\n",
    "V -> \"saw\" | \"ate\"\n",
    "NP -> \"John\" | \"Mary\" | \"Bob\" | Det N | Det N PP\n",
    "Det -> \"a\" | \"an\" | \" the\" | \"my\"\n",
    "N -> \"dog\"| \"cat\" | \"cookie\" | \"park\" \n",
    "PP -> P NP \n",
    "P -> \"in\" | \"on\" \n",
    "\"\"\")"
   ]
  },
  {
   "cell_type": "code",
   "execution_count": 2,
   "metadata": {},
   "outputs": [
    {
     "name": "stdout",
     "output_type": "stream",
     "text": [
      "(S (NP Mary) (VP (V saw) (NP (Det a) (N cat))))\n"
     ]
    }
   ],
   "source": [
    "str = \"Mary saw a cat\"\n",
    "\n",
    "# ShiftReduce Parser is a bottom up parser\n",
    "from nltk.parse import ShiftReduceParser\n",
    "srp = ShiftReduceParser(grammar)\n",
    "\n",
    "for t in srp.parse(str.split()):\n",
    "    print(t)\n",
    "\n",
    "# Shift Reduce parser tries to aggregate the string to the start symbol, since it's a bottom-up parser\n",
    "# It is not able to find the parse tree even if it exists "
   ]
  },
  {
   "cell_type": "code",
   "execution_count": null,
   "metadata": {},
   "outputs": [],
   "source": [
    "nltk.app.srparser()\n",
    "# once the shift reduce parser application opens, \n",
    "# you can edit the 'Text' and 'Grammar' according to your requirements"
   ]
  },
  {
   "cell_type": "code",
   "execution_count": 3,
   "metadata": {},
   "outputs": [
    {
     "name": "stdout",
     "output_type": "stream",
     "text": [
      "Warning: VP -> V NP will never be used\n"
     ]
    }
   ],
   "source": [
    "grammar = nltk.CFG.fromstring(\"\"\"\n",
    "S -> NP VP\n",
    "PP -> P NP\n",
    "VP -> V NP| VP PP | V\n",
    "NP -> DT N  | N | NP PP\n",
    "P ->  'with'\n",
    "V -> 'caught'\n",
    "N -> 'man'| 'fish' | 'net'\n",
    "DT -> 'the' | 'a'\n",
    "    \"\"\")\n",
    "\n",
    "str_val = list(\"the man caught fish with a net\".lower().split())\n",
    "from nltk.parse import ShiftReduceParser\n",
    "srp = ShiftReduceParser(grammar)\n",
    "\n",
    "for t in srp.parse(str_val):\n",
    "    print(t)"
   ]
  }
 ],
 "metadata": {
  "kernelspec": {
   "display_name": "Python 3",
   "language": "python",
   "name": "python3"
  },
  "language_info": {
   "codemirror_mode": {
    "name": "ipython",
    "version": 3
   },
   "file_extension": ".py",
   "mimetype": "text/x-python",
   "name": "python",
   "nbconvert_exporter": "python",
   "pygments_lexer": "ipython3",
   "version": "3.7.3"
  }
 },
 "nbformat": 4,
 "nbformat_minor": 2
}