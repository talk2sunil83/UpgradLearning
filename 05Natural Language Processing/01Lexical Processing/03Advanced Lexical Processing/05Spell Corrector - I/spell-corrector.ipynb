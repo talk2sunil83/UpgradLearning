{
 "cells": [
  {
   "cell_type": "code",
   "execution_count": 1,
   "metadata": {
    "collapsed": true
   },
   "outputs": [],
   "source": [
    "import re\n",
    "from collections import Counter"
   ]
  },
  {
   "cell_type": "code",
   "execution_count": 2,
   "metadata": {
    "collapsed": true
   },
   "outputs": [],
   "source": [
    "# function to tokenise words\n",
    "def words(document):\n",
    "    \"Convert text to lower case and tokenise the document\"\n",
    "    return re.findall(r'\\w+', document.lower())"
   ]
  },
  {
   "cell_type": "code",
   "execution_count": 3,
   "metadata": {
    "collapsed": true
   },
   "outputs": [],
   "source": [
    "# create a frequency table of all the words of the document\n",
    "all_words = Counter(words(open('big.txt').read()))"
   ]
  },
  {
   "cell_type": "code",
   "execution_count": 4,
   "metadata": {},
   "outputs": [
    {
     "data": {
      "text/plain": "135"
     },
     "execution_count": 4,
     "metadata": {},
     "output_type": "execute_result"
    }
   ],
   "source": [
    "# check frequency of a random word, say, 'chair'\n",
    "all_words['chair']"
   ]
  },
  {
   "cell_type": "code",
   "execution_count": 5,
   "metadata": {},
   "outputs": [
    {
     "data": {
      "text/plain": "[('the', 79809),\n ('of', 40024),\n ('and', 38312),\n ('to', 28765),\n ('in', 22023),\n ('a', 21124),\n ('that', 12512),\n ('he', 12401),\n ('was', 11410),\n ('it', 10681)]"
     },
     "execution_count": 5,
     "metadata": {},
     "output_type": "execute_result"
    }
   ],
   "source": [
    "# look at top 10 frequent words\n",
    "all_words.most_common(10)"
   ]
  },
  {
   "cell_type": "code",
   "execution_count": 6,
   "metadata": {
    "collapsed": true
   },
   "outputs": [],
   "source": [
    "def edits_one(word):\n",
    "    \"Create all edits that are one edit away from `word`.\"\n",
    "    alphabets    = 'abcdefghijklmnopqrstuvwxyz'\n",
    "    splits     = [(word[:i], word[i:])                   for i in range(len(word) + 1)]\n",
    "    deletes    = [left + right[1:]                       for left, right in splits if right]\n",
    "    inserts    = [left + c + right                       for left, right in splits for c in alphabets]\n",
    "    replaces   = [left + c + right[1:]                   for left, right in splits if right for c in alphabets]\n",
    "    transposes = [left + right[1] + right[0] + right[2:] for left, right in splits if len(right)>1]\n",
    "    return set(deletes + inserts + replaces + transposes)"
   ]
  },
  {
   "cell_type": "code",
   "execution_count": 7,
   "metadata": {
    "collapsed": true
   },
   "outputs": [],
   "source": [
    "def edits_two(word):\n",
    "    \"Create all edits that are two edits away from `word`.\"\n",
    "    return (e2 for e1 in edits_one(word) for e2 in edits_one(e1))"
   ]
  },
  {
   "cell_type": "code",
   "execution_count": 8,
   "metadata": {
    "collapsed": true
   },
   "outputs": [],
   "source": [
    "def known(words):\n",
    "    \"The subset of `words` that appear in the `all_words`.\"\n",
    "    return set(word for word in words if word in all_words)"
   ]
  },
  {
   "cell_type": "code",
   "execution_count": 9,
   "metadata": {
    "collapsed": true
   },
   "outputs": [],
   "source": [
    "def possible_corrections(word):\n",
    "    \"Generate possible spelling corrections for word.\"\n",
    "    return (known([word]) or known(edits_one(word)) or known(edits_two(word)) or [word])"
   ]
  },
  {
   "cell_type": "code",
   "execution_count": 10,
   "metadata": {
    "collapsed": true
   },
   "outputs": [],
   "source": [
    "def prob(word, N=sum(all_words.values())): \n",
    "    \"Probability of `word`: Number of appearances of 'word' / total number of tokens\"\n",
    "    return all_words[word] / N"
   ]
  },
  {
   "cell_type": "code",
   "execution_count": 11,
   "metadata": {},
   "outputs": [
    {
     "name": "stdout",
     "output_type": "stream",
     "text": [
      "336\n",
      "{'monniy', 'moneny', 'mbnney', 'mofnney', 'movney', 'monneyr', 'jonney', 'gonney', 'monuney', 'money', 'monnez', 'mohnney', 'montney', 'mosnney', 'mdnney', 'monnee', 'monnzey', 'mpnney', 'monnes', 'monfney', 'monneh', 'monpney', 'monnoy', 'xmonney', 'monnry', 'monnery', 'monnmy', 'monneiy', 'hmonney', 'monneby', 'monnpy', 'monfey', 'mjonney', 'motnney', 'monntey', 'monvey', 'monngey', 'monneya', 'monuey', 'mojney', 'monneo', 'monneyg', 'mondey', 'monndy', 'monwey', 'donney', 'mxonney', 'oonney', 'mmnney', 'mfonney', 'moznney', 'monnej', 'monhey', 'mohney', 'monmney', 'monnexy', 'fmonney', 'mobnney', 'mponney', 'monnqey', 'mbonney', 'monneyp', 'minney', 'molnney', 'mqnney', 'moonney', 'meonney', 'msonney', 'tmonney', 'nmonney', 'monnehy', 'monneyl', 'monneyz', 'moiney', 'monnuy', 'eonney', 'menney', 'monneyc', 'monneyi', 'monneyw', 'monnejy', 'monnegy', 'ionney', 'mwnney', 'mvnney', 'monneay', 'mnonney', 'monnpey', 'monneey', 'mznney', 'xonney', 'monneyf', 'monneyu', 'moncey', 'monnevy', 'monneb', 'monneyb', 'monnesy', 'ymonney', 'monneyy', 'bmonney', 'monneyh', 'monhney', 'monneuy', 'mondney', 'mmonney', 'aonney', 'monneoy', 'mronney', 'monnky', 'msnney', 'monnye', 'monzney', 'monnxy', 'monnly', 'monnmey', 'smonney', 'monsney', 'monne', 'mofney', 'monbney', 'monnyey', 'mononey', 'monncey', 'monneyj', 'mokney', 'monnem', 'wmonney', 'monnzy', 'cmonney', 'monnewy', 'monnvey', 'monpey', 'monnef', 'mynney', 'vmonney', 'monneyt', 'monnwey', 'monley', 'monnemy', 'monnedy', 'mownney', 'monjney', 'monneyx', 'monaey', 'monnex', 'umonney', 'momney', 'monnen', 'monneky', 'monneny', 'monneyn', 'modney', 'mwonney', 'mongey', 'mionney', 'monmey', 'moxney', 'mhonney', 'monxney', 'lmonney', 'monnoey', 'kmonney', 'monnek', 'monzey', 'monnjey', 'monkney', 'molney', 'moqney', 'movnney', 'moenney', 'mooney', 'gmonney', 'jmonney', 'rmonney', 'mjnney', 'monnely', 'montey', 'monnet', 'qonney', 'monndey', 'momnney', 'zonney', 'monner', 'qmonney', 'munney', 'emonney', 'mkonney', 'morney', 'mdonney', 'mozney', 'monneu', 'motney', 'monaney', 'monnev', 'mcnney', 'imonney', 'monneyd', 'monkey', 'omnney', 'monnea', 'monnsey', 'mogney', 'monqney', 'monxey', 'monrney', 'monnei', 'monnuey', 'mzonney', 'moniey', 'mconney', 'mtonney', 'monneyk', 'monrey', 'monnew', 'monnbey', 'mnnney', 'monnel', 'monsey', 'monneqy', 'monyey', 'monnhey', 'tonney', 'monneym', 'moeney', 'monnjy', 'monnaey', 'monlney', 'vonney', 'sonney', 'moniney', 'onney', 'monneyo', 'mounney', 'monneyq', 'mlnney', 'mongney', 'mosney', 'mobney', 'pmonney', 'mgnney', 'moynney', 'conney', 'monnkey', 'monyney', 'monnvy', 'mouney', 'monqey', 'monnfey', 'monnney', 'monjey', 'monnefy', 'moncney', 'yonney', 'moneey', 'mognney', 'muonney', 'ponney', 'maonney', 'uonney', 'nonney', 'modnney', 'omonney', 'monnyy', 'monnqy', 'mxnney', 'monnby', 'mlonney', 'moanney', 'monnwy', 'monny', 'mopney', 'monnep', 'monneye', 'monnsy', 'monned', 'bonney', 'moyney', 'mgonney', 'mowney', 'monnrey', 'mopnney', 'monnezy', 'monvney', 'moqnney', 'mnoney', 'moinney', 'monnepy', 'mnney', 'konney', 'monney', 'monngy', 'dmonney', 'monnty', 'moknney', 'honney', 'mqonney', 'monnhy', 'zmonney', 'mtnney', 'monbey', 'mvonney', 'monnety', 'mrnney', 'fonney', 'monwney', 'monniey', 'monneg', 'monnfy', 'mknney', 'monncy', 'monnay', 'moaney', 'moxnney', 'mojnney', 'manney', 'mocnney', 'mornney', 'ronney', 'monnley', 'mfnney', 'monnecy', 'monnxey', 'myonney', 'monneys', 'moneney', 'mocney', 'mhnney', 'amonney', 'monneyv', 'monnny', 'monnec', 'wonney', 'lonney', 'monneq', 'monoey'}\n"
     ]
    }
   ],
   "source": [
    "print(len(set(edits_one(\"monney\"))))\n",
    "print(edits_one(\"monney\"))"
   ]
  },
  {
   "cell_type": "code",
   "execution_count": 12,
   "metadata": {},
   "outputs": [
    {
     "name": "stdout",
     "output_type": "stream",
     "text": [
      "{'money', 'monkey'}\n"
     ]
    }
   ],
   "source": [
    "print(known(edits_one(\"monney\")))"
   ]
  },
  {
   "cell_type": "code",
   "execution_count": 13,
   "metadata": {},
   "outputs": [
    {
     "name": "stdout",
     "output_type": "stream",
     "text": [
      "51013\n",
      "{'money', 'monkey'}\n"
     ]
    }
   ],
   "source": [
    "# Let's look at words that are two edits away\n",
    "print(len(set(edits_two(\"monney\"))))\n",
    "print(known(edits_one(\"monney\")))"
   ]
  },
  {
   "cell_type": "code",
   "execution_count": 14,
   "metadata": {},
   "outputs": [
    {
     "name": "stdout",
     "output_type": "stream",
     "text": [
      "{'money', 'monkey'}\n"
     ]
    }
   ],
   "source": [
    "# Let's look at possible corrections of a word\n",
    "print(possible_corrections(\"monney\"))"
   ]
  },
  {
   "cell_type": "code",
   "execution_count": 15,
   "metadata": {},
   "outputs": [
    {
     "name": "stdout",
     "output_type": "stream",
     "text": [
      "0.0002922233626303688\n",
      "5.378344097491451e-06\n"
     ]
    }
   ],
   "source": [
    "# Let's look at probability of a word\n",
    "print(prob(\"money\"))\n",
    "print(prob(\"monkey\"))"
   ]
  },
  {
   "cell_type": "code",
   "execution_count": 16,
   "metadata": {},
   "outputs": [],
   "source": [
    "def spell_check(word):\n",
    "    \"Print the most probable spelling correction for `word` out of all the `possible_corrections`\"\n",
    "    correct_word = max(possible_corrections(word), key=prob)\n",
    "    if correct_word != word:\n",
    "        return \"Did you mean \" + correct_word + \"?\"\n",
    "    else:\n",
    "        return \"Correct spelling.\""
   ]
  },
  {
   "cell_type": "code",
   "execution_count": 17,
   "metadata": {},
   "outputs": [
    {
     "name": "stdout",
     "output_type": "stream",
     "text": [
      "Did you mean money?\n"
     ]
    }
   ],
   "source": [
    "# test spell check\n",
    "print(spell_check(\"monney\"))"
   ]
  },
  {
   "cell_type": "code",
   "execution_count": 19,
   "metadata": {},
   "outputs": [
    {
     "data": {
      "text/plain": "442"
     },
     "execution_count": 19,
     "metadata": {},
     "output_type": "execute_result"
    }
   ],
   "source": [
    "len(edits_one('emfasize'))"
   ]
  },
  {
   "cell_type": "code",
   "execution_count": 22,
   "metadata": {},
   "outputs": [
    {
     "data": {
      "text/plain": "206656"
     },
     "execution_count": 22,
     "metadata": {},
     "output_type": "execute_result"
    }
   ],
   "source": [
    "len(list(edits_two('emfasize')))"
   ]
  },
  {
   "cell_type": "code",
   "execution_count": 23,
   "metadata": {},
   "outputs": [
    {
     "data": {
      "text/plain": "1"
     },
     "execution_count": 23,
     "metadata": {},
     "output_type": "execute_result"
    }
   ],
   "source": [
    "len(list(possible_corrections('emfasize')))"
   ]
  }
 ],
 "metadata": {
  "kernelspec": {
   "display_name": "Python 3",
   "language": "python",
   "name": "python3"
  },
  "language_info": {
   "codemirror_mode": {
    "name": "ipython",
    "version": 3
   },
   "file_extension": ".py",
   "mimetype": "text/x-python",
   "name": "python",
   "nbconvert_exporter": "python",
   "pygments_lexer": "ipython3",
   "version": "3.6.4"
  }
 },
 "nbformat": 4,
 "nbformat_minor": 2
}