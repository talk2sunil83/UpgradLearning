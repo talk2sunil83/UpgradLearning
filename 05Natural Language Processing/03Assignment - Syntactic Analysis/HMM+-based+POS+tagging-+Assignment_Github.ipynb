{
 "cells": [
  {
   "cell_type": "markdown",
   "metadata": {},
   "source": [
    "## POS tagging using modified Viterbi"
   ]
  },
  {
   "cell_type": "markdown",
   "metadata": {},
   "source": [
    "### Data Preparation"
   ]
  },
  {
   "cell_type": "code",
   "execution_count": 110,
   "metadata": {
    "scrolled": true
   },
   "outputs": [
    {
     "name": "stderr",
     "output_type": "stream",
     "text": [
      "[nltk_data] Downloading package treebank to\n",
      "[nltk_data]     C:\\Users\\akcanup\\AppData\\Roaming\\nltk_data...\n",
      "[nltk_data]   Package treebank is already up-to-date!\n",
      "[nltk_data] Downloading package universal_tagset to\n",
      "[nltk_data]     C:\\Users\\akcanup\\AppData\\Roaming\\nltk_data...\n",
      "[nltk_data]   Package universal_tagset is already up-to-date!\n"
     ]
    },
    {
     "data": {
      "text/plain": [
       "True"
      ]
     },
     "execution_count": 110,
     "metadata": {},
     "output_type": "execute_result"
    }
   ],
   "source": [
    "#Importing libraries\n",
    "import nltk\n",
    "nltk.download('treebank')\n",
    "nltk.download('universal_tagset')"
   ]
  },
  {
   "cell_type": "code",
   "execution_count": 111,
   "metadata": {},
   "outputs": [],
   "source": [
    "# Reading the Treebank tagged sentences\n",
    "bank_data = list(nltk.corpus.treebank.tagged_sents(tagset='universal'))"
   ]
  },
  {
   "cell_type": "code",
   "execution_count": 112,
   "metadata": {},
   "outputs": [
    {
     "data": {
      "text/plain": [
       "[[('Pierre', 'NOUN'),\n",
       "  ('Vinken', 'NOUN'),\n",
       "  (',', '.'),\n",
       "  ('61', 'NUM'),\n",
       "  ('years', 'NOUN'),\n",
       "  ('old', 'ADJ'),\n",
       "  (',', '.'),\n",
       "  ('will', 'VERB'),\n",
       "  ('join', 'VERB'),\n",
       "  ('the', 'DET'),\n",
       "  ('board', 'NOUN'),\n",
       "  ('as', 'ADP'),\n",
       "  ('a', 'DET'),\n",
       "  ('nonexecutive', 'ADJ'),\n",
       "  ('director', 'NOUN'),\n",
       "  ('Nov.', 'NOUN'),\n",
       "  ('29', 'NUM'),\n",
       "  ('.', '.')],\n",
       " [('Mr.', 'NOUN'),\n",
       "  ('Vinken', 'NOUN'),\n",
       "  ('is', 'VERB'),\n",
       "  ('chairman', 'NOUN'),\n",
       "  ('of', 'ADP'),\n",
       "  ('Elsevier', 'NOUN'),\n",
       "  ('N.V.', 'NOUN'),\n",
       "  (',', '.'),\n",
       "  ('the', 'DET'),\n",
       "  ('Dutch', 'NOUN'),\n",
       "  ('publishing', 'VERB'),\n",
       "  ('group', 'NOUN'),\n",
       "  ('.', '.')],\n",
       " [('Rudolph', 'NOUN'),\n",
       "  ('Agnew', 'NOUN'),\n",
       "  (',', '.'),\n",
       "  ('55', 'NUM'),\n",
       "  ('years', 'NOUN'),\n",
       "  ('old', 'ADJ'),\n",
       "  ('and', 'CONJ'),\n",
       "  ('former', 'ADJ'),\n",
       "  ('chairman', 'NOUN'),\n",
       "  ('of', 'ADP'),\n",
       "  ('Consolidated', 'NOUN'),\n",
       "  ('Gold', 'NOUN'),\n",
       "  ('Fields', 'NOUN'),\n",
       "  ('PLC', 'NOUN'),\n",
       "  (',', '.'),\n",
       "  ('was', 'VERB'),\n",
       "  ('named', 'VERB'),\n",
       "  ('*-1', 'X'),\n",
       "  ('a', 'DET'),\n",
       "  ('nonexecutive', 'ADJ'),\n",
       "  ('director', 'NOUN'),\n",
       "  ('of', 'ADP'),\n",
       "  ('this', 'DET'),\n",
       "  ('British', 'ADJ'),\n",
       "  ('industrial', 'ADJ'),\n",
       "  ('conglomerate', 'NOUN'),\n",
       "  ('.', '.')],\n",
       " [('A', 'DET'),\n",
       "  ('form', 'NOUN'),\n",
       "  ('of', 'ADP'),\n",
       "  ('asbestos', 'NOUN'),\n",
       "  ('once', 'ADV'),\n",
       "  ('used', 'VERB'),\n",
       "  ('*', 'X'),\n",
       "  ('*', 'X'),\n",
       "  ('to', 'PRT'),\n",
       "  ('make', 'VERB'),\n",
       "  ('Kent', 'NOUN'),\n",
       "  ('cigarette', 'NOUN'),\n",
       "  ('filters', 'NOUN'),\n",
       "  ('has', 'VERB'),\n",
       "  ('caused', 'VERB'),\n",
       "  ('a', 'DET'),\n",
       "  ('high', 'ADJ'),\n",
       "  ('percentage', 'NOUN'),\n",
       "  ('of', 'ADP'),\n",
       "  ('cancer', 'NOUN'),\n",
       "  ('deaths', 'NOUN'),\n",
       "  ('among', 'ADP'),\n",
       "  ('a', 'DET'),\n",
       "  ('group', 'NOUN'),\n",
       "  ('of', 'ADP'),\n",
       "  ('workers', 'NOUN'),\n",
       "  ('exposed', 'VERB'),\n",
       "  ('*', 'X'),\n",
       "  ('to', 'PRT'),\n",
       "  ('it', 'PRON'),\n",
       "  ('more', 'ADV'),\n",
       "  ('than', 'ADP'),\n",
       "  ('30', 'NUM'),\n",
       "  ('years', 'NOUN'),\n",
       "  ('ago', 'ADP'),\n",
       "  (',', '.'),\n",
       "  ('researchers', 'NOUN'),\n",
       "  ('reported', 'VERB'),\n",
       "  ('0', 'X'),\n",
       "  ('*T*-1', 'X'),\n",
       "  ('.', '.')]]"
      ]
     },
     "execution_count": 112,
     "metadata": {},
     "output_type": "execute_result"
    }
   ],
   "source": [
    "bank_data[:4]"
   ]
  },
  {
   "cell_type": "code",
   "execution_count": 113,
   "metadata": {},
   "outputs": [],
   "source": [
    "import random\n",
    "from sklearn.model_selection import train_test_split\n",
    "from nltk.tokenize import word_tokenize"
   ]
  },
  {
   "cell_type": "code",
   "execution_count": 114,
   "metadata": {},
   "outputs": [
    {
     "name": "stdout",
     "output_type": "stream",
     "text": [
      "3718\n",
      "196\n"
     ]
    }
   ],
   "source": [
    "#setting the random seed\n",
    "random.seed(1234)\n",
    "\n",
    "#Dividing the data into train and test sets\n",
    "train_set, test_set = train_test_split(bank_data,train_size=0.95)\n",
    "\n",
    "#Fetching the length of training and test sets\n",
    "print(len(train_set))\n",
    "print(len(test_set))"
   ]
  },
  {
   "cell_type": "code",
   "execution_count": 115,
   "metadata": {},
   "outputs": [
    {
     "data": {
      "text/plain": [
       "95495"
      ]
     },
     "execution_count": 115,
     "metadata": {},
     "output_type": "execute_result"
    }
   ],
   "source": [
    "# Getting list of tagged words in train set\n",
    "train_tagged_words = [word for sent in train_set for word in sent]\n",
    "#Getting the length of the total tagged words in train set\n",
    "len(train_tagged_words)"
   ]
  },
  {
   "cell_type": "code",
   "execution_count": 116,
   "metadata": {},
   "outputs": [
    {
     "data": {
      "text/plain": [
       "['Mr.',\n",
       " 'Rowe',\n",
       " 'also',\n",
       " 'noted',\n",
       " 'that',\n",
       " 'political',\n",
       " 'concerns',\n",
       " 'also',\n",
       " 'worried',\n",
       " 'New',\n",
       " 'England',\n",
       " 'Electric']"
      ]
     },
     "execution_count": 116,
     "metadata": {},
     "output_type": "execute_result"
    }
   ],
   "source": [
    "# Viewing the first 12 tokens in the train set\n",
    "tokens = [pair[0] for pair in train_tagged_words]\n",
    "tokens[:12]"
   ]
  },
  {
   "cell_type": "code",
   "execution_count": 117,
   "metadata": {},
   "outputs": [
    {
     "name": "stdout",
     "output_type": "stream",
     "text": [
      "12048\n"
     ]
    }
   ],
   "source": [
    "# Getting the total unique words in the train set\n",
    "V = set(tokens)\n",
    "print(len(V))"
   ]
  },
  {
   "cell_type": "code",
   "execution_count": 118,
   "metadata": {},
   "outputs": [
    {
     "name": "stdout",
     "output_type": "stream",
     "text": [
      "12\n",
      "{'ADP', 'NOUN', 'PRT', 'X', 'DET', 'ADV', 'NUM', 'ADJ', 'CONJ', '.', 'PRON', 'VERB'}\n"
     ]
    }
   ],
   "source": [
    "# Number of POS tags in the train-corpus\n",
    "T = set([pair[1] for pair in train_tagged_words])\n",
    "print(len(T))\n",
    "print(T)"
   ]
  },
  {
   "cell_type": "markdown",
   "metadata": {},
   "source": [
    "### Build the vanilla Viterbi based POS tagger"
   ]
  },
  {
   "cell_type": "code",
   "execution_count": 119,
   "metadata": {},
   "outputs": [],
   "source": [
    "#Importing Libraries\n",
    "import numpy as np\n",
    "import pandas as pd\n",
    "import matplotlib.pyplot as plt\n",
    "import seaborn as sns\n",
    "import time"
   ]
  },
  {
   "cell_type": "code",
   "execution_count": 120,
   "metadata": {},
   "outputs": [],
   "source": [
    "# Creating numpy array of no of POS tags\n",
    "t = len(T)\n",
    "v = len(V)\n",
    "w_given_t = np.zeros((t, v))"
   ]
  },
  {
   "cell_type": "code",
   "execution_count": 121,
   "metadata": {},
   "outputs": [],
   "source": [
    "# Emission Probability\n",
    "def word_given_tag(word, tag, train_bag = train_tagged_words):\n",
    "    tag_list = [pair for pair in train_bag if pair[1]==tag]\n",
    "    count_tag = len(tag_list)\n",
    "    w_given_tag_list = [pair[0] for pair in tag_list if pair[0]==word]\n",
    "    count_w_given_tag = len(w_given_tag_list)\n",
    "    \n",
    "    return (count_w_given_tag, count_tag)"
   ]
  },
  {
   "cell_type": "code",
   "execution_count": 122,
   "metadata": {},
   "outputs": [],
   "source": [
    "#Transition Probability\n",
    "\n",
    "def t2_given_t1(t2, t1, train_bag = train_tagged_words):\n",
    "    tags = [pair[1] for pair in train_bag]\n",
    "    count_t1 = len([t for t in tags if t==t1])\n",
    "    count_t2_t1 = 0\n",
    "    for index in range(len(tags)-1):\n",
    "        if tags[index]==t1 and tags[index+1] == t2:\n",
    "            count_t2_t1 += 1\n",
    "    return (count_t2_t1, count_t1)"
   ]
  },
  {
   "cell_type": "code",
   "execution_count": 123,
   "metadata": {},
   "outputs": [],
   "source": [
    "# Creating t x t (pos tags x pos tags)transition matrix of tags\n",
    "# Each column is t2, each row is t1\n",
    "# Thus M(i, j) represents P(tj given ti)\n",
    "\n",
    "tags_matrix = np.zeros((len(T), len(T)), dtype='float32')\n",
    "for i, t1 in enumerate(list(T)):\n",
    "    for j, t2 in enumerate(list(T)): \n",
    "        tags_matrix[i, j] = t2_given_t1(t2, t1)[0]/t2_given_t1(t2, t1)[1]"
   ]
  },
  {
   "cell_type": "code",
   "execution_count": 124,
   "metadata": {},
   "outputs": [
    {
     "data": {
      "text/html": [
       "<div>\n",
       "<style scoped>\n",
       "    .dataframe tbody tr th:only-of-type {\n",
       "        vertical-align: middle;\n",
       "    }\n",
       "\n",
       "    .dataframe tbody tr th {\n",
       "        vertical-align: top;\n",
       "    }\n",
       "\n",
       "    .dataframe thead th {\n",
       "        text-align: right;\n",
       "    }\n",
       "</style>\n",
       "<table border=\"1\" class=\"dataframe\">\n",
       "  <thead>\n",
       "    <tr style=\"text-align: right;\">\n",
       "      <th></th>\n",
       "      <th>ADP</th>\n",
       "      <th>NOUN</th>\n",
       "      <th>PRT</th>\n",
       "      <th>X</th>\n",
       "      <th>DET</th>\n",
       "      <th>ADV</th>\n",
       "      <th>NUM</th>\n",
       "      <th>ADJ</th>\n",
       "      <th>CONJ</th>\n",
       "      <th>.</th>\n",
       "      <th>PRON</th>\n",
       "      <th>VERB</th>\n",
       "    </tr>\n",
       "  </thead>\n",
       "  <tbody>\n",
       "    <tr>\n",
       "      <th>ADP</th>\n",
       "      <td>0.017334</td>\n",
       "      <td>0.323133</td>\n",
       "      <td>0.001498</td>\n",
       "      <td>0.035309</td>\n",
       "      <td>0.322277</td>\n",
       "      <td>0.013268</td>\n",
       "      <td>0.063236</td>\n",
       "      <td>0.106570</td>\n",
       "      <td>0.000856</td>\n",
       "      <td>0.039910</td>\n",
       "      <td>0.068264</td>\n",
       "      <td>0.008346</td>\n",
       "    </tr>\n",
       "    <tr>\n",
       "      <th>NOUN</th>\n",
       "      <td>0.176481</td>\n",
       "      <td>0.264028</td>\n",
       "      <td>0.043226</td>\n",
       "      <td>0.029426</td>\n",
       "      <td>0.013654</td>\n",
       "      <td>0.017049</td>\n",
       "      <td>0.009529</td>\n",
       "      <td>0.012413</td>\n",
       "      <td>0.042715</td>\n",
       "      <td>0.240261</td>\n",
       "      <td>0.004783</td>\n",
       "      <td>0.146435</td>\n",
       "    </tr>\n",
       "    <tr>\n",
       "      <th>PRT</th>\n",
       "      <td>0.019136</td>\n",
       "      <td>0.245464</td>\n",
       "      <td>0.001980</td>\n",
       "      <td>0.013197</td>\n",
       "      <td>0.102606</td>\n",
       "      <td>0.010558</td>\n",
       "      <td>0.057077</td>\n",
       "      <td>0.084790</td>\n",
       "      <td>0.002309</td>\n",
       "      <td>0.044540</td>\n",
       "      <td>0.016826</td>\n",
       "      <td>0.401518</td>\n",
       "    </tr>\n",
       "    <tr>\n",
       "      <th>X</th>\n",
       "      <td>0.144808</td>\n",
       "      <td>0.062083</td>\n",
       "      <td>0.183074</td>\n",
       "      <td>0.075580</td>\n",
       "      <td>0.053985</td>\n",
       "      <td>0.026199</td>\n",
       "      <td>0.002699</td>\n",
       "      <td>0.016354</td>\n",
       "      <td>0.010162</td>\n",
       "      <td>0.164179</td>\n",
       "      <td>0.055573</td>\n",
       "      <td>0.205303</td>\n",
       "    </tr>\n",
       "    <tr>\n",
       "      <th>DET</th>\n",
       "      <td>0.009310</td>\n",
       "      <td>0.638980</td>\n",
       "      <td>0.000242</td>\n",
       "      <td>0.045702</td>\n",
       "      <td>0.005803</td>\n",
       "      <td>0.012574</td>\n",
       "      <td>0.021521</td>\n",
       "      <td>0.204570</td>\n",
       "      <td>0.000484</td>\n",
       "      <td>0.017410</td>\n",
       "      <td>0.003748</td>\n",
       "      <td>0.039657</td>\n",
       "    </tr>\n",
       "    <tr>\n",
       "      <th>ADV</th>\n",
       "      <td>0.121644</td>\n",
       "      <td>0.031820</td>\n",
       "      <td>0.014253</td>\n",
       "      <td>0.022870</td>\n",
       "      <td>0.068280</td>\n",
       "      <td>0.080875</td>\n",
       "      <td>0.031820</td>\n",
       "      <td>0.129267</td>\n",
       "      <td>0.007292</td>\n",
       "      <td>0.136228</td>\n",
       "      <td>0.015247</td>\n",
       "      <td>0.340404</td>\n",
       "    </tr>\n",
       "    <tr>\n",
       "      <th>NUM</th>\n",
       "      <td>0.034513</td>\n",
       "      <td>0.352507</td>\n",
       "      <td>0.027434</td>\n",
       "      <td>0.212094</td>\n",
       "      <td>0.002655</td>\n",
       "      <td>0.002950</td>\n",
       "      <td>0.186726</td>\n",
       "      <td>0.032448</td>\n",
       "      <td>0.013274</td>\n",
       "      <td>0.115929</td>\n",
       "      <td>0.001475</td>\n",
       "      <td>0.017994</td>\n",
       "    </tr>\n",
       "    <tr>\n",
       "      <th>ADJ</th>\n",
       "      <td>0.078464</td>\n",
       "      <td>0.700050</td>\n",
       "      <td>0.010429</td>\n",
       "      <td>0.020857</td>\n",
       "      <td>0.004966</td>\n",
       "      <td>0.004966</td>\n",
       "      <td>0.021023</td>\n",
       "      <td>0.065387</td>\n",
       "      <td>0.016222</td>\n",
       "      <td>0.065221</td>\n",
       "      <td>0.000662</td>\n",
       "      <td>0.011753</td>\n",
       "    </tr>\n",
       "    <tr>\n",
       "      <th>CONJ</th>\n",
       "      <td>0.054858</td>\n",
       "      <td>0.351000</td>\n",
       "      <td>0.003719</td>\n",
       "      <td>0.008368</td>\n",
       "      <td>0.119014</td>\n",
       "      <td>0.054858</td>\n",
       "      <td>0.040911</td>\n",
       "      <td>0.116690</td>\n",
       "      <td>0.000465</td>\n",
       "      <td>0.035797</td>\n",
       "      <td>0.058113</td>\n",
       "      <td>0.156206</td>\n",
       "    </tr>\n",
       "    <tr>\n",
       "      <th>.</th>\n",
       "      <td>0.089946</td>\n",
       "      <td>0.223070</td>\n",
       "      <td>0.002424</td>\n",
       "      <td>0.027020</td>\n",
       "      <td>0.172801</td>\n",
       "      <td>0.052603</td>\n",
       "      <td>0.081777</td>\n",
       "      <td>0.043716</td>\n",
       "      <td>0.058169</td>\n",
       "      <td>0.093716</td>\n",
       "      <td>0.066158</td>\n",
       "      <td>0.088510</td>\n",
       "    </tr>\n",
       "    <tr>\n",
       "      <th>PRON</th>\n",
       "      <td>0.021948</td>\n",
       "      <td>0.209472</td>\n",
       "      <td>0.012707</td>\n",
       "      <td>0.093955</td>\n",
       "      <td>0.009626</td>\n",
       "      <td>0.033500</td>\n",
       "      <td>0.006546</td>\n",
       "      <td>0.072776</td>\n",
       "      <td>0.005006</td>\n",
       "      <td>0.041201</td>\n",
       "      <td>0.007701</td>\n",
       "      <td>0.485560</td>\n",
       "    </tr>\n",
       "    <tr>\n",
       "      <th>VERB</th>\n",
       "      <td>0.091093</td>\n",
       "      <td>0.110279</td>\n",
       "      <td>0.031586</td>\n",
       "      <td>0.217673</td>\n",
       "      <td>0.135314</td>\n",
       "      <td>0.081891</td>\n",
       "      <td>0.023241</td>\n",
       "      <td>0.064810</td>\n",
       "      <td>0.005537</td>\n",
       "      <td>0.034862</td>\n",
       "      <td>0.035798</td>\n",
       "      <td>0.167915</td>\n",
       "    </tr>\n",
       "  </tbody>\n",
       "</table>\n",
       "</div>"
      ],
      "text/plain": [
       "           ADP      NOUN       PRT         X       DET       ADV       NUM  \\\n",
       "ADP   0.017334  0.323133  0.001498  0.035309  0.322277  0.013268  0.063236   \n",
       "NOUN  0.176481  0.264028  0.043226  0.029426  0.013654  0.017049  0.009529   \n",
       "PRT   0.019136  0.245464  0.001980  0.013197  0.102606  0.010558  0.057077   \n",
       "X     0.144808  0.062083  0.183074  0.075580  0.053985  0.026199  0.002699   \n",
       "DET   0.009310  0.638980  0.000242  0.045702  0.005803  0.012574  0.021521   \n",
       "ADV   0.121644  0.031820  0.014253  0.022870  0.068280  0.080875  0.031820   \n",
       "NUM   0.034513  0.352507  0.027434  0.212094  0.002655  0.002950  0.186726   \n",
       "ADJ   0.078464  0.700050  0.010429  0.020857  0.004966  0.004966  0.021023   \n",
       "CONJ  0.054858  0.351000  0.003719  0.008368  0.119014  0.054858  0.040911   \n",
       ".     0.089946  0.223070  0.002424  0.027020  0.172801  0.052603  0.081777   \n",
       "PRON  0.021948  0.209472  0.012707  0.093955  0.009626  0.033500  0.006546   \n",
       "VERB  0.091093  0.110279  0.031586  0.217673  0.135314  0.081891  0.023241   \n",
       "\n",
       "           ADJ      CONJ         .      PRON      VERB  \n",
       "ADP   0.106570  0.000856  0.039910  0.068264  0.008346  \n",
       "NOUN  0.012413  0.042715  0.240261  0.004783  0.146435  \n",
       "PRT   0.084790  0.002309  0.044540  0.016826  0.401518  \n",
       "X     0.016354  0.010162  0.164179  0.055573  0.205303  \n",
       "DET   0.204570  0.000484  0.017410  0.003748  0.039657  \n",
       "ADV   0.129267  0.007292  0.136228  0.015247  0.340404  \n",
       "NUM   0.032448  0.013274  0.115929  0.001475  0.017994  \n",
       "ADJ   0.065387  0.016222  0.065221  0.000662  0.011753  \n",
       "CONJ  0.116690  0.000465  0.035797  0.058113  0.156206  \n",
       ".     0.043716  0.058169  0.093716  0.066158  0.088510  \n",
       "PRON  0.072776  0.005006  0.041201  0.007701  0.485560  \n",
       "VERB  0.064810  0.005537  0.034862  0.035798  0.167915  "
      ]
     },
     "execution_count": 124,
     "metadata": {},
     "output_type": "execute_result"
    }
   ],
   "source": [
    "# Converting the matrix to a df for better readability\n",
    "tags_df = pd.DataFrame(tags_matrix, columns = list(T), index=list(T))\n",
    "tags_df"
   ]
  },
  {
   "cell_type": "code",
   "execution_count": 125,
   "metadata": {},
   "outputs": [
    {
     "data": {
      "image/png": "[encoded data removed]",
      "text/plain": [
       "<Figure size 1152x720 with 2 Axes>"
      ]
     },
     "metadata": {
      "needs_background": "light"
     },
     "output_type": "display_data"
    }
   ],
   "source": [
    "# Heatmap of tags matrix\n",
    "# T(i, j) indicates P(tag j given tag i)\n",
    "plt.figure(figsize=(16, 10))\n",
    "sns.heatmap(tags_df)\n",
    "plt.show()"
   ]
  },
  {
   "cell_type": "code",
   "execution_count": 126,
   "metadata": {
    "scrolled": true
   },
   "outputs": [
    {
     "data": {
      "image/png": "[encoded data removed]",
      "text/plain": [
       "<Figure size 1152x720 with 2 Axes>"
      ]
     },
     "metadata": {
      "needs_background": "light"
     },
     "output_type": "display_data"
    }
   ],
   "source": [
    "# Frequent tags\n",
    "# Filter the df to get P(t2, t1) > 0.5\n",
    "tags_frequent = tags_df[tags_df>0.5]\n",
    "plt.figure(figsize=(16, 10))\n",
    "sns.heatmap(tags_frequent)\n",
    "plt.show()"
   ]
  },
  {
   "cell_type": "code",
   "execution_count": 127,
   "metadata": {},
   "outputs": [
    {
     "data": {
      "text/plain": [
       "95495"
      ]
     },
     "execution_count": 127,
     "metadata": {},
     "output_type": "execute_result"
    }
   ],
   "source": [
    "#Getting the total length of tagged words in training corpus\n",
    "len(train_tagged_words)"
   ]
  },
  {
   "cell_type": "code",
   "execution_count": 128,
   "metadata": {},
   "outputs": [],
   "source": [
    "# Viterbi Heuristic\n",
    "def Viterbi(words, train_bag = train_tagged_words):\n",
    "    state = []\n",
    "    T = list(set([pair[1] for pair in train_bag]))\n",
    "    \n",
    "    for key, word in enumerate(words):\n",
    "        #Initialising the list of probability column for a given observation\n",
    "        p = [] \n",
    "        for tag in T:\n",
    "            if key == 0:\n",
    "                transition_p = tags_df.loc['.', tag]\n",
    "            else:\n",
    "                transition_p = tags_df.loc[state[-1], tag]\n",
    "                \n",
    "            # compute emission and state probabilities\n",
    "            emission_p = word_given_tag(words[key], tag)[0]/word_given_tag(words[key], tag)[1]\n",
    "            state_probability = emission_p * transition_p    \n",
    "            p.append(state_probability)\n",
    "            \n",
    "        pmax = max(p)\n",
    "        # getting state for which probability is maximum\n",
    "        state_max = T[p.index(pmax)] \n",
    "        state.append(state_max)\n",
    "    return list(zip(words, state))"
   ]
  },
  {
   "cell_type": "code",
   "execution_count": 129,
   "metadata": {},
   "outputs": [],
   "source": [
    "# Let's test our Viterbi algorithm on a few sample sentences of test dataset\n",
    "# list of tagged words in test set\n",
    "test_run_base = [tup for sent in test_set for tup in sent]\n",
    "\n",
    "# list of  words which are untagged in test set\n",
    "test_tagged_words = [tup[0] for sent in test_set for tup in sent]"
   ]
  },
  {
   "cell_type": "code",
   "execution_count": 130,
   "metadata": {},
   "outputs": [],
   "source": [
    "# Tagging the test sentences\n",
    "start = time.time()\n",
    "tagged_seq = Viterbi(test_tagged_words)\n",
    "end = time.time()\n",
    "difference = end-start"
   ]
  },
  {
   "cell_type": "code",
   "execution_count": 131,
   "metadata": {},
   "outputs": [
    {
     "name": "stdout",
     "output_type": "stream",
     "text": [
      "846.4171085357666\n"
     ]
    }
   ],
   "source": [
    "#Printing total time taken to train the algorithm\n",
    "print(difference)"
   ]
  },
  {
   "cell_type": "code",
   "execution_count": 132,
   "metadata": {},
   "outputs": [
    {
     "name": "stdout",
     "output_type": "stream",
     "text": [
      "0.9044585987261147\n"
     ]
    }
   ],
   "source": [
    "# Getting accuracy of model\n",
    "check = [i for i, j in zip(tagged_seq, test_run_base) if i == j] \n",
    "accuracy = len(check)/len(tagged_seq)\n",
    "print(accuracy)"
   ]
  },
  {
   "cell_type": "code",
   "execution_count": 133,
   "metadata": {},
   "outputs": [],
   "source": [
    "import codecs"
   ]
  },
  {
   "cell_type": "code",
   "execution_count": 134,
   "metadata": {},
   "outputs": [
    {
     "name": "stdout",
     "output_type": "stream",
     "text": [
      "Android is a mobile operating system developed by Google.\r\n",
      "\n",
      "Android has been the best-selling OS worldwide on smartphones since 2011 and on tablets since 2013.\r\n",
      "\n",
      "Google and Twitter made a deal in 2015 that gave Google access to Twitter's firehose.\r\n",
      "\n",
      "Twitter is an online news and social networking service on which users post and interact with messages known as tweets.\r\n",
      "\n",
      "Before entering politics, Donald Trump was a domineering businessman and a television personality.\r\n",
      "\n",
      "The 2018 FIFA World Cup is the 21st FIFA World Cup, an international football tournament contested once every four years.\r\n",
      "\n",
      "This is the first World Cup to be held in Eastern Europe and the 11th time that it has been held in Europe.\r\n",
      "\n",
      "Show me the cheapest round trips from Dallas to Atlanta\r\n",
      "\n",
      "I would like to see flights from Denver to Philadelphia.\r\n",
      "\n",
      "Show me the price of the flights leaving Atlanta at about 3 in the afternoon and arriving in San Francisco.\r\n",
      "\n",
      "NASA invited social media users to experience the launch of ICESAT-2 Satellite.\r\n",
      "\n",
      "\r\n",
      "\n",
      "\r\n",
      "\n",
      "\r\n",
      "\n"
     ]
    }
   ],
   "source": [
    "#Reading the text file\n",
    "lines=[]\n",
    "f = codecs.open(\"Test_sentences.txt\", encoding='utf-8')\n",
    "for line in f:\n",
    "    print(line)\n",
    "    lines.append(line)"
   ]
  },
  {
   "cell_type": "markdown",
   "metadata": {},
   "source": [
    "### Solve the problem of unknown words"
   ]
  },
  {
   "cell_type": "code",
   "execution_count": 135,
   "metadata": {},
   "outputs": [
    {
     "data": {
      "text/plain": [
       "['Android is a mobile operating system developed by Google.\\r\\n',\n",
       " 'Android has been the best-selling OS worldwide on smartphones since 2011 and on tablets since 2013.\\r\\n',\n",
       " \"Google and Twitter made a deal in 2015 that gave Google access to Twitter's firehose.\\r\\n\",\n",
       " 'Twitter is an online news and social networking service on which users post and interact with messages known as tweets.\\r\\n',\n",
       " 'Before entering politics, Donald Trump was a domineering businessman and a television personality.\\r\\n',\n",
       " 'The 2018 FIFA World Cup is the 21st FIFA World Cup, an international football tournament contested once every four years.\\r\\n',\n",
       " 'This is the first World Cup to be held in Eastern Europe and the 11th time that it has been held in Europe.\\r\\n',\n",
       " 'Show me the cheapest round trips from Dallas to Atlanta\\r\\n',\n",
       " 'I would like to see flights from Denver to Philadelphia.\\r\\n',\n",
       " 'Show me the price of the flights leaving Atlanta at about 3 in the afternoon and arriving in San Francisco.\\r\\n',\n",
       " 'NASA invited social media users to experience the launch of ICESAT-2 Satellite.\\r\\n',\n",
       " '\\r\\n',\n",
       " '\\r\\n',\n",
       " '\\r\\n']"
      ]
     },
     "execution_count": 135,
     "metadata": {},
     "output_type": "execute_result"
    }
   ],
   "source": [
    "lines"
   ]
  },
  {
   "cell_type": "code",
   "execution_count": 136,
   "metadata": {},
   "outputs": [
    {
     "data": {
      "text/plain": [
       "['Android is a mobile operating system developed by Google.',\n",
       " 'Android has been the best-selling OS worldwide on smartphones since 2011 and on tablets since 2013.',\n",
       " \"Google and Twitter made a deal in 2015 that gave Google access to Twitter's firehose.\",\n",
       " 'Twitter is an online news and social networking service on which users post and interact with messages known as tweets.',\n",
       " 'Before entering politics, Donald Trump was a domineering businessman and a television personality.',\n",
       " 'The 2018 FIFA World Cup is the 21st FIFA World Cup, an international football tournament contested once every four years.',\n",
       " 'This is the first World Cup to be held in Eastern Europe and the 11th time that it has been held in Europe.',\n",
       " 'Show me the cheapest round trips from Dallas to Atlanta',\n",
       " 'I would like to see flights from Denver to Philadelphia.',\n",
       " 'Show me the price of the flights leaving Atlanta at about 3 in the afternoon and arriving in San Francisco.',\n",
       " 'NASA invited social media users to experience the launch of ICESAT-2 Satellite.']"
      ]
     },
     "execution_count": 136,
     "metadata": {},
     "output_type": "execute_result"
    }
   ],
   "source": [
    "#Stripping the special characters and empty strings in the list file\n",
    "test_lines =[sent.rstrip() for sent in lines if sent.rstrip()!='']\n",
    "test_lines"
   ]
  },
  {
   "cell_type": "code",
   "execution_count": 137,
   "metadata": {},
   "outputs": [
    {
     "data": {
      "text/plain": [
       "[[('and', 'CONJ'), (('prosecuted', 'ADP'), ('prosecuted', 'VERB'))],\n",
       " [('law', 'NOUN'), (('that', 'ADP'), ('that', 'DET'))],\n",
       " [('The', 'DET'), (('Contra', 'ADP'), ('Contra', 'NOUN'))],\n",
       " [('military', 'ADJ'), (('command', 'VERB'), ('command', 'NOUN'))],\n",
       " [('from', 'ADP'), (('Honduras', 'ADP'), ('Honduras', 'NOUN'))],\n",
       " [('0', 'X'), (('Sandinista', 'ADP'), ('Sandinista', 'NOUN'))],\n",
       " [('major', 'ADJ'), (('offensive', 'ADP'), ('offensive', 'NOUN'))],\n",
       " [('the', 'DET'), (('rebel', 'ADP'), ('rebel', 'NOUN'))],\n",
       " [('was', 'VERB'), (('untrained', 'ADP'), ('untrained', 'ADJ'))],\n",
       " [('one', 'NUM'), (('botched', 'ADP'), ('botched', 'ADJ'))],\n",
       " [('a', 'DET'), (('wheel-loader', 'ADP'), ('wheel-loader', 'ADJ'))],\n",
       " [('in', 'ADP'), (('Heidelberg', 'ADP'), ('Heidelberg', 'NOUN'))],\n",
       " [('``', '.'), (('vague', 'ADP'), ('vague', 'ADJ'))],\n",
       " [('and', 'CONJ'), (('mushy', 'ADP'), ('mushy', 'ADJ'))],\n",
       " [(\"''\", '.'), (('that', 'DET'), ('that', 'ADP'))],\n",
       " [('all', 'DET'), (('viewpoints', 'ADP'), ('viewpoints', 'NOUN'))],\n",
       " [('come', 'VERB'), (('out', 'PRT'), ('out', 'ADV'))],\n",
       " [('from', 'ADP'), (('unfounded', 'ADP'), ('unfounded', 'ADJ'))],\n",
       " [('unfounded', 'ADJ'), (('interrogation', 'ADP'), ('interrogation', 'NOUN'))],\n",
       " [('see', 'VERB'), (('little', 'ADV'), ('little', 'ADJ'))],\n",
       " [('.', '.'), (('FAMILY', 'ADP'), ('FAMILY', 'NOUN'))],\n",
       " [('FAMILY', 'NOUN'), (('PETS', 'ADP'), ('PETS', 'NOUN'))],\n",
       " [('improving', 'VERB'), (('recovery', 'ADP'), ('recovery', 'NOUN'))],\n",
       " [('Columbia', 'NOUN'), (('Hospital', 'ADP'), ('Hospital', 'NOUN'))],\n",
       " [(',', '.'), (('Milwaukee', 'ADP'), ('Milwaukee', 'NOUN'))],\n",
       " [('shareholders', 'NOUN'), (('cleared', 'ADP'), ('cleared', 'VERB'))],\n",
       " [('tight', 'ADJ'), (('facial', 'ADP'), ('facial', 'ADJ'))],\n",
       " [('Hahn', 'NOUN'), (('attributes', 'ADP'), ('attributes', 'VERB'))],\n",
       " [('the', 'DET'), (('philosophy', 'ADP'), ('philosophy', 'NOUN'))],\n",
       " [('*', 'X'), (('concentrating', 'ADP'), ('concentrating', 'VERB'))],\n",
       " [('also', 'ADV'), (('attacking', 'ADP'), ('attacking', 'VERB'))],\n",
       " [('and', 'CONJ'), (('automated', 'ADP'), ('automated', 'VERB'))],\n",
       " [('trading', 'NOUN'), (('threatens', 'ADP'), ('threatens', 'VERB'))],\n",
       " [('make', 'VERB'), (('dinosaurs', 'ADP'), ('dinosaurs', 'NOUN'))],\n",
       " [('Board', 'NOUN'),\n",
       "  (('stock-specialist', 'ADP'), ('stock-specialist', 'ADJ'))],\n",
       " [(',', '.'), (('that', 'DET'), ('that', 'ADP'))],\n",
       " [('who', 'PRON'), (('*T*-127', 'ADP'), ('*T*-127', 'X'))],\n",
       " [('their', 'PRON'), (('identities', 'ADP'), ('identities', 'NOUN'))],\n",
       " [('face', 'VERB'), (('accelerated', 'VERB'), ('accelerated', 'ADJ'))],\n",
       " [('accelerated', 'ADJ'), (('unfair-trade', 'ADP'), ('unfair-trade', 'ADJ'))],\n",
       " [('unfair-trade', 'ADJ'),\n",
       "  (('investigations', 'ADP'), ('investigations', 'NOUN'))],\n",
       " [('to', 'PRT'), (('own', 'ADJ'), ('own', 'VERB'))],\n",
       " [('the', 'DET'), (('cheapest', 'ADP'), ('cheapest', 'ADJ'))],\n",
       " [(',', '.'), (('index-arbitrage', 'NOUN'), ('index-arbitrage', 'ADJ'))],\n",
       " [('traders', 'NOUN'), (('hope', 'NOUN'), ('hope', 'VERB'))],\n",
       " [('the', 'DET'), (('twindam', 'ADP'), ('twindam', 'NOUN'))],\n",
       " [('.', '.'), (('Personal', 'ADP'), ('Personal', 'ADJ'))],\n",
       " [('Intel', 'NOUN'), (('286', 'ADP'), ('286', 'NUM'))],\n",
       " [('386', 'NUM'), (('microprocessors', 'ADP'), ('microprocessors', 'NOUN'))],\n",
       " [('coming', 'VERB'), (('down', 'ADV'), ('down', 'ADP'))],\n",
       " [('.', '.'), (('Policies', 'ADP'), ('Policies', 'NOUN'))],\n",
       " [('are', 'VERB'), (('akin', 'ADP'), ('akin', 'ADJ'))],\n",
       " [('``', '.'), (('Buyers', 'ADP'), ('Buyers', 'NOUN'))],\n",
       " [('sellers', 'NOUN'), (('please', 'ADP'), ('please', 'VERB'))],\n",
       " [('In', 'ADP'), (('contrast', 'VERB'), ('contrast', 'NOUN'))],\n",
       " [('the', 'DET'), (('vacancy', 'ADP'), ('vacancy', 'NOUN'))],\n",
       " [('financial', 'ADJ'), (('settlements', 'ADP'), ('settlements', 'NOUN'))],\n",
       " [('guilty', 'ADJ'), (('plea', 'ADP'), ('plea', 'NOUN'))],\n",
       " [('six', 'NUM'), (('felonies', 'ADP'), ('felonies', 'NOUN'))],\n",
       " [('felonies', 'NOUN'), (('related', 'ADJ'), ('related', 'VERB'))],\n",
       " [('big', 'ADJ'), (('insider-trading', 'ADP'), ('insider-trading', 'ADJ'))],\n",
       " [('.', '.'), (('Criticism', 'ADP'), ('Criticism', 'NOUN'))],\n",
       " [('auctioned', 'VERB'), (('*-110', 'ADP'), ('*-110', 'X'))],\n",
       " [('AT&T', 'NOUN'), (('FAX', 'ADP'), ('FAX', 'NOUN'))],\n",
       " [('could', 'VERB'), (('drop', 'NOUN'), ('drop', 'VERB'))],\n",
       " [('is', 'VERB'), (('slowed', 'ADP'), ('slowed', 'VERB'))],\n",
       " [('breaks', 'VERB'), (('down', 'ADV'), ('down', 'PRT'))],\n",
       " [('prolonged', 'VERB'), (('sunlight', 'ADP'), ('sunlight', 'NOUN'))],\n",
       " [(\"n't\", 'ADV'), (('recyclable', 'ADP'), ('recyclable', 'ADJ'))],\n",
       " [('had', 'VERB'), (('inaccurately', 'ADP'), ('inaccurately', 'ADV'))],\n",
       " [(\"'s\", 'PRT'), (('net', 'ADJ'), ('net', 'NOUN'))],\n",
       " [('to', 'PRT'), (('total', 'ADJ'), ('total', 'VERB'))],\n",
       " [('in', 'ADP'), (('contrast', 'VERB'), ('contrast', 'NOUN'))],\n",
       " [('a', 'DET'), (('corrupt', 'ADP'), ('corrupt', 'ADJ'))],\n",
       " [('corrupt', 'ADJ'), (('scheme', 'ADP'), ('scheme', 'NOUN'))],\n",
       " [('a', 'DET'), (('bag', 'ADP'), ('bag', 'NOUN'))],\n",
       " [('finished', 'VERB'), (('moderately', 'ADP'), ('moderately', 'ADV'))],\n",
       " [('*-2', 'X'), (('noticing', 'ADP'), ('noticing', 'VERB'))],\n",
       " [('another', 'DET'), (('only', 'ADJ'), ('only', 'ADV'))],\n",
       " [('they', 'PRON'), (('jostle', 'ADP'), ('jostle', 'VERB'))],\n",
       " [('for', 'ADP'), (('cabs', 'ADP'), ('cabs', 'NOUN'))],\n",
       " [('of', 'ADP'), (('excesses', 'ADP'), ('excesses', 'NOUN'))],\n",
       " [('*ICH*-1', 'X'), (('out', 'PRT'), ('out', 'ADP'))],\n",
       " [('out', 'ADP'), (('there', 'DET'), ('there', 'ADV'))],\n",
       " [('there', 'ADV'), (('that', 'ADP'), ('that', 'DET'))],\n",
       " [('would', 'VERB'), (('tilt', 'ADP'), ('tilt', 'VERB'))],\n",
       " [('on', 'ADP'), (('50.1', 'ADP'), ('50.1', 'NUM'))],\n",
       " [('times', 'NOUN'), (('lengthen', 'ADP'), ('lengthen', 'VERB'))],\n",
       " [('.', '.'), (('Guerrilla', 'ADP'), ('Guerrilla', 'NOUN'))],\n",
       " [('to', 'PRT'), (('sabotage', 'ADP'), ('sabotage', 'VERB'))],\n",
       " [('in', 'ADP'), (('Namibia', 'ADP'), ('Namibia', 'NOUN'))],\n",
       " [('and', 'CONJ'), (('Japanese', 'ADJ'), ('Japanese', 'NOUN'))],\n",
       " [('a', 'DET'), (('disproportionate', 'ADP'), ('disproportionate', 'ADJ'))],\n",
       " [('the', 'DET'), (('public', 'ADJ'), ('public', 'NOUN'))],\n",
       " [('the', 'DET'), (('table', 'ADP'), ('table', 'NOUN'))],\n",
       " [('magazine', 'NOUN'), (('combines', 'NOUN'), ('combines', 'VERB'))],\n",
       " [('combines', 'VERB'), (('how-to', 'ADP'), ('how-to', 'ADJ'))],\n",
       " [('how-to', 'ADJ'), (('pieces', 'ADP'), ('pieces', 'NOUN'))],\n",
       " [('like', 'ADP'), (('backyard', 'ADP'), ('backyard', 'NOUN'))],\n",
       " [('backyard', 'NOUN'), (('composting', 'ADP'), ('composting', 'NOUN'))],\n",
       " [(',', '.'), (('explanatory', 'ADP'), ('explanatory', 'ADJ'))],\n",
       " [('explanatory', 'ADJ'), (('essays', 'ADP'), ('essays', 'NOUN'))],\n",
       " [('*T*-1', 'X'), (('happens', 'ADP'), ('happens', 'VERB'))],\n",
       " [('you', 'PRON'), (('flush', 'ADP'), ('flush', 'VERB'))],\n",
       " [('your', 'PRON'), (('toilet', 'ADP'), ('toilet', 'NOUN'))],\n",
       " [('and', 'CONJ'), (('hard-hitting', 'ADP'), ('hard-hitting', 'ADJ'))],\n",
       " [('hard-hitting', 'ADJ'), (('pieces', 'ADP'), ('pieces', 'NOUN'))],\n",
       " [('Jay', 'NOUN'), (('Goldinger', 'ADP'), ('Goldinger', 'NOUN'))],\n",
       " [('Capital', 'NOUN'), (('Insight', 'ADP'), ('Insight', 'NOUN'))],\n",
       " [(',', '.'), (('reasons', 'NOUN'), ('reasons', 'VERB'))],\n",
       " [('yen', 'NOUN'), (('as', 'ADP'), ('as', 'ADV'))],\n",
       " [('--', '.'), (('the', 'DET'), ('the', 'ADJ'))],\n",
       " [('to', 'PRT'), (('77.70', 'ADP'), ('77.70', 'NUM'))],\n",
       " [('from', 'ADP'), (('77.56', 'ADP'), ('77.56', 'NUM'))],\n",
       " [('--', '.'), (('the', 'DET'), ('the', 'ADJ'))],\n",
       " [('*-1', 'X'), (('lure', 'VERB'), ('lure', 'NOUN'))],\n",
       " [('harvest', 'NOUN'), (('winding', 'ADP'), ('winding', 'VERB'))],\n",
       " [('winding', 'VERB'), (('down', 'ADV'), ('down', 'ADP'))],\n",
       " [('are', 'VERB'), (('speculating', 'ADP'), ('speculating', 'VERB'))],\n",
       " [('speculating', 'VERB'), (('that', 'DET'), ('that', 'ADP'))],\n",
       " [('to', 'PRT'), (('gather', 'ADP'), ('gather', 'VERB'))],\n",
       " [('Robert', 'NOUN'), (('Shrum', 'ADP'), ('Shrum', 'NOUN'))],\n",
       " [('David', 'NOUN'), (('Doak', 'ADP'), ('Doak', 'NOUN'))],\n",
       " [('finally', 'ADV'), (('unleashed', 'ADP'), ('unleashed', 'VERB'))],\n",
       " [('The', 'DET'), (('radio-station', 'ADP'), ('radio-station', 'NOUN'))],\n",
       " [('and', 'CONJ'), (('programmer', 'ADP'), ('programmer', 'NOUN'))],\n",
       " [('additional', 'ADJ'), (('working', 'NOUN'), ('working', 'ADJ'))],\n",
       " [('secured', 'VERB'), (('lenders', 'ADP'), ('lenders', 'NOUN'))],\n",
       " [('fact', 'NOUN'), (('that', 'ADP'), ('that', 'DET'))],\n",
       " [('that', 'DET'), (('besuboru', 'ADP'), ('besuboru', 'X'))],\n",
       " [('a', 'DET'), (('ball', 'ADP'), ('ball', 'NOUN'))],\n",
       " [('a', 'DET'), (('bat', 'ADP'), ('bat', 'NOUN'))],\n",
       " [(':', '.'), (('Fans', 'ADP'), ('Fans', 'NOUN'))],\n",
       " [('Fans', 'NOUN'), (('politely', 'ADP'), ('politely', 'ADV'))],\n",
       " [('politely', 'ADV'), (('return', 'NOUN'), ('return', 'VERB'))],\n",
       " [('foul', 'ADJ'), (('balls', 'ADP'), ('balls', 'NOUN'))],\n",
       " [('stadium', 'NOUN'), (('ushers', 'ADP'), ('ushers', 'NOUN'))],\n",
       " [('zone', 'NOUN'), (('expands', 'ADP'), ('expands', 'VERB'))],\n",
       " [('expands', 'VERB'), (('depending', 'ADP'), ('depending', 'VERB'))],\n",
       " [('the', 'DET'), (('hitter', 'ADP'), ('hitter', 'NOUN'))],\n",
       " [('--', '.'), (('even', 'ADV'), ('even', 'ADJ'))],\n",
       " [('they', 'PRON'), (('honorably', 'ADP'), ('honorably', 'ADV'))],\n",
       " [('of', 'ADP'), (('defeat', 'ADP'), ('defeat', 'NOUN'))],\n",
       " [('must', 'VERB'), (('abide', 'ADP'), ('abide', 'VERB'))],\n",
       " [('of', 'ADP'), (('conduct', 'VERB'), ('conduct', 'NOUN'))],\n",
       " [('always', 'ADV'), (('wear', 'ADP'), ('wear', 'VERB'))],\n",
       " [('auctioned', 'VERB'), (('*-109', 'ADP'), ('*-109', 'X'))],\n",
       " [('simply', 'ADV'), (('nullified', 'ADP'), ('nullified', 'VERB'))],\n",
       " [('an', 'DET'), (('opposite', 'ADP'), ('opposite', 'ADJ'))],\n",
       " [('tune', 'VERB'), (('in', 'ADP'), ('in', 'PRT'))],\n",
       " [('my', 'PRON'), (('short-wave', 'ADP'), ('short-wave', 'ADJ'))],\n",
       " [(',', '.'), (('transcribe', 'ADP'), ('transcribe', 'VERB'))],\n",
       " [('Nixon', 'NOUN'), (('reminded', 'ADP'), ('reminded', 'VERB'))],\n",
       " [(',', '.'), (('Chinese', 'ADJ'), ('Chinese', 'NOUN'))],\n",
       " [('Yang', 'NOUN'), (('Shangkun', 'ADP'), ('Shangkun', 'NOUN'))],\n",
       " [(',', '.'), (('that', 'DET'), ('that', 'ADP'))],\n",
       " [('June', 'NOUN'), (('3-4', 'ADP'), ('3-4', 'NUM'))],\n",
       " [('that', 'DET'), (('*T*-241', 'ADP'), ('*T*-241', 'X'))],\n",
       " [('``', '.'), (('two-time-losers', 'ADP'), ('two-time-losers', 'ADJ'))],\n",
       " [('aimed', 'VERB'), (('*-29', 'ADP'), ('*-29', 'X'))],\n",
       " [('Frank', 'NOUN'), (('Lorenzo', 'ADP'), ('Lorenzo', 'NOUN'))],\n",
       " [('take', 'VERB'), (('over', 'ADP'), ('over', 'PRT'))],\n",
       " [('bought', 'VERB'), (('up', 'ADV'), ('up', 'PRT'))],\n",
       " [('mortgage', 'NOUN'),\n",
       "  (('securities-based', 'ADP'), ('securities-based', 'ADJ'))],\n",
       " [('$', '.'), (('701', 'ADP'), ('701', 'NUM'))],\n",
       " [('expected', 'VERB'), (('that', 'ADP'), ('that', 'DET'))],\n",
       " [('is', 'VERB'), (('vitally', 'ADP'), ('vitally', 'ADV'))],\n",
       " [('the', 'DET'), (('emotions', 'ADP'), ('emotions', 'NOUN'))],\n",
       " [(',', '.'), (('Taizo', 'ADP'), ('Taizo', 'NOUN'))],\n",
       " [('Taizo', 'NOUN'), (('Watanabe', 'ADP'), ('Watanabe', 'NOUN'))],\n",
       " [('.', '.'), (('ECONOMIC', 'ADP'), ('ECONOMIC', 'ADJ'))],\n",
       " [('ECONOMIC', 'ADJ'), (('GROWTH', 'ADP'), ('GROWTH', 'NOUN'))],\n",
       " [('GROWTH', 'NOUN'), (('APPEARS', 'ADP'), ('APPEARS', 'VERB'))],\n",
       " [('leveling', 'VERB'), (('off', 'PRT'), ('off', 'ADP'))],\n",
       " [('.', '.'), (('Political', 'ADP'), ('Political', 'ADJ'))],\n",
       " [('can', 'VERB'), (('whipsaw', 'ADP'), ('whipsaw', 'VERB'))],\n",
       " [(\"'s\", 'PRT'), (('rulers', 'ADP'), ('rulers', 'NOUN'))],\n",
       " [('thing', 'NOUN'), (('happened', 'ADP'), ('happened', 'VERB'))],\n",
       " [('potential', 'ADJ'), (('acquirer', 'ADP'), ('acquirer', 'NOUN'))],\n",
       " [('must', 'VERB'), (('attempt', 'NOUN'), ('attempt', 'VERB'))],\n",
       " [('its', 'PRON'), (('pilots', 'ADP'), ('pilots', 'NOUN'))],\n",
       " [('powerful', 'ADJ'), (('machinists', 'ADP'), ('machinists', 'NOUN'))],\n",
       " [('machinists', 'NOUN'), ((\"'\", '.'), (\"'\", 'PRT'))],\n",
       " [('in', 'ADP'), (('2000', 'ADP'), ('2000', 'NUM'))],\n",
       " [('$', '.'), (('4.75', 'ADP'), ('4.75', 'NUM'))],\n",
       " [('as', 'ADP'), (('athletic', 'ADP'), ('athletic', 'ADJ'))],\n",
       " [('*-2', 'X'), (('to', 'PRT'), ('to', 'ADJ'))],\n",
       " [('to', 'ADJ'), (('appeal', 'VERB'), ('appeal', 'NOUN'))],\n",
       " [('simply', 'ADV'), (('transfers', 'NOUN'), ('transfers', 'VERB'))],\n",
       " [('his', 'PRON'), (('selling', 'VERB'), ('selling', 'NOUN'))],\n",
       " [('*-1', 'X'), (('functioning', 'ADP'), ('functioning', 'VERB'))],\n",
       " [('of', 'ADP'), (('nonfat', 'ADP'), ('nonfat', 'ADJ'))],\n",
       " [('been', 'VERB'), (('setting', 'ADP'), ('setting', 'VERB'))],\n",
       " [('are', 'VERB'), (('implemented', 'ADP'), ('implemented', 'VERB'))],\n",
       " [(':', '.'), (('1', 'NUM'), ('1', 'X'))],\n",
       " [(',', '.'), (('2', 'NUM'), ('2', 'X'))],\n",
       " [('investment', 'NOUN'), (('focus', 'VERB'), ('focus', 'NOUN'))],\n",
       " [('and', 'CONJ'), (('3', 'NUM'), ('3', 'X'))],\n",
       " [('level', 'NOUN'), (('playing', 'VERB'), ('playing', 'NOUN'))],\n",
       " [('followed', 'VERB'), (('year-to-year', 'ADP'), ('year-to-year', 'ADJ'))],\n",
       " [('the', 'DET'), (('risk-free', 'ADP'), ('risk-free', 'ADJ'))],\n",
       " [('easily', 'ADV'), (('outdistanced', 'ADP'), ('outdistanced', 'VERB'))],\n",
       " [('John', 'NOUN'), (('Lonski', 'ADP'), ('Lonski', 'NOUN'))],\n",
       " [('with', 'ADP'), (('overcapacity', 'ADP'), ('overcapacity', 'NOUN'))],\n",
       " [('be', 'VERB'), (('spun', 'ADP'), ('spun', 'VERB'))],\n",
       " [('spun', 'VERB'), (('off', 'ADP'), ('off', 'PRT'))],\n",
       " [('even', 'ADV'), (('steeper', 'ADP'), ('steeper', 'ADJ'))],\n",
       " [('.', '.'), (('Scientists', 'ADP'), ('Scientists', 'NOUN'))],\n",
       " [('of', 'ADP'), (('current', 'ADJ'), ('current', 'NOUN'))],\n",
       " [(',', '.'), (('30.6', 'ADP'), ('30.6', 'NUM'))],\n",
       " [('with', 'ADP'), (('27.4', 'ADP'), ('27.4', 'NUM'))],\n",
       " [('and', 'CONJ'), (('26.5', 'ADP'), ('26.5', 'NUM'))],\n",
       " [('.', '.'), (('Corporate', 'NOUN'), ('Corporate', 'ADJ'))],\n",
       " [(\"n't\", 'ADV'), (('inhibit', 'ADP'), ('inhibit', 'VERB'))],\n",
       " [('Also', 'ADV'), (('spurring', 'ADP'), ('spurring', 'VERB'))],\n",
       " [('diaper', 'NOUN'), (('covers', 'VERB'), ('covers', 'NOUN'))],\n",
       " [('with', 'ADP'), (('Velcro', 'ADP'), ('Velcro', 'NOUN'))],\n",
       " [('fasteners', 'NOUN'), (('that', 'ADP'), ('that', 'DET'))],\n",
       " [('safety', 'NOUN'), (('pins', 'VERB'), ('pins', 'NOUN'))],\n",
       " [('to', 'PRT'), (('colder', 'ADP'), ('colder', 'ADJ'))],\n",
       " [('the', 'DET'), (('American', 'ADJ'), ('American', 'NOUN'))],\n",
       " [(\"n't\", 'ADV'), (('endorse', 'ADP'), ('endorse', 'VERB'))],\n",
       " [('by', 'ADP'), (('Blackstone', 'ADP'), ('Blackstone', 'NOUN'))],\n",
       " [('usual', 'ADJ'), (('seasonal', 'ADP'), ('seasonal', 'ADJ'))],\n",
       " [('to', 'PRT'), (('duck', 'ADP'), ('duck', 'VERB'))],\n",
       " [('which', 'DET'), (('identical', 'ADP'), ('identical', 'ADJ'))],\n",
       " [('$', '.'), (('12.52', 'ADP'), ('12.52', 'NUM'))],\n",
       " [('$', '.'), (('11.95', 'ADP'), ('11.95', 'NUM'))],\n",
       " [('was', 'VERB'), (('kind', 'NOUN'), ('kind', 'ADJ'))],\n",
       " [('and', 'CONJ'), (('playful', 'ADP'), ('playful', 'ADJ'))],\n",
       " [('was', 'VERB'), (('dreadful', 'ADP'), ('dreadful', 'ADJ'))],\n",
       " [('her', 'PRON'), (('war-damaged', 'ADP'), ('war-damaged', 'ADJ'))],\n",
       " [('her', 'PRON'), (('lover', 'ADP'), ('lover', 'NOUN'))],\n",
       " [('the', 'DET'), (('Antitrust', 'ADP'), ('Antitrust', 'NOUN'))],\n",
       " [('Antitrust', 'NOUN'), (('Division', 'ADP'), ('Division', 'NOUN'))],\n",
       " [('rear-seat', 'NOUN'), (('lap', 'ADP'), ('lap', 'NOUN'))],\n",
       " [('them', 'PRON'), (('in', 'ADP'), ('in', 'PRT'))],\n",
       " [('First', 'NOUN'), (('Hospital', 'ADP'), ('Hospital', 'NOUN'))],\n",
       " [('of', 'ADP'), (('Norfolk', 'ADP'), ('Norfolk', 'NOUN'))],\n",
       " [('sale', 'NOUN'), (('sputtered', 'ADP'), ('sputtered', 'VERB'))],\n",
       " [('has', 'VERB'), (('minted', 'ADP'), ('minted', 'VERB'))],\n",
       " [('of', 'ADP'), (('millionaires', 'ADP'), ('millionaires', 'NOUN'))],\n",
       " [('their', 'PRON'), (('20s', 'ADP'), ('20s', 'NUM'))],\n",
       " [('and', 'CONJ'), (('30s', 'ADP'), ('30s', 'NUM'))],\n",
       " [('*-1', 'X'), (('Standing', 'ADP'), ('Standing', 'VERB'))],\n",
       " [('a', 'DET'), (('shaded', 'ADP'), ('shaded', 'ADJ'))],\n",
       " [('shaded', 'ADJ'), (('hill', 'ADP'), ('hill', 'NOUN'))],\n",
       " [('has', 'VERB'), (('educated', 'ADP'), ('educated', 'VERB'))],\n",
       " [('and', 'CONJ'), (('brightest', 'ADP'), ('brightest', 'ADJ'))],\n",
       " [(',', '.'), (('Nobel', 'ADP'), ('Nobel', 'NOUN'))],\n",
       " [('Nobel', 'NOUN'), (('Prize', 'ADP'), ('Prize', 'NOUN'))],\n",
       " [('Prize', 'NOUN'), (('winning', 'VERB'), ('winning', 'ADJ'))],\n",
       " [('Charles', 'NOUN'), (('Townes', 'ADP'), ('Townes', 'NOUN'))],\n",
       " [('and', 'CONJ'), (('actress', 'ADP'), ('actress', 'NOUN'))],\n",
       " [('actress', 'NOUN'), (('Joanne', 'ADP'), ('Joanne', 'NOUN'))],\n",
       " [('Joanne', 'NOUN'), (('Woodward', 'ADP'), ('Woodward', 'NOUN'))],\n",
       " [(',', '.'), (('as', 'ADP'), ('as', 'ADV'))],\n",
       " [('possible', 'ADJ'), (('white', 'NOUN'), ('white', 'ADJ'))],\n",
       " [('white', 'ADJ'), (('knight', 'ADP'), ('knight', 'NOUN'))],\n",
       " [('an', 'DET'), (('undisclosed', 'ADP'), ('undisclosed', 'ADJ'))],\n",
       " [('for', 'ADP'), (('Great', 'NOUN'), ('Great', 'ADJ'))],\n",
       " [(\"'s\", 'PRT'), (('Campaign', 'ADP'), ('Campaign', 'NOUN'))],\n",
       " [('$', '.'), (('95,142', 'ADP'), ('95,142', 'NUM'))],\n",
       " [('in', 'ADP'), (('matching', 'ADP'), ('matching', 'ADJ'))],\n",
       " [('Parliament', 'NOUN'), (('authorized', 'ADP'), ('authorized', 'VERB'))],\n",
       " [('Minister', 'NOUN'), (('Miklos', 'ADP'), ('Miklos', 'NOUN'))],\n",
       " [('.', '.'), (('Spending', 'ADP'), ('Spending', 'NOUN'))],\n",
       " [(',', '.'), (('nonresidential', 'ADP'), ('nonresidential', 'ADJ'))],\n",
       " [('was', 'VERB'), (('off', 'PRT'), ('off', 'ADJ'))],\n",
       " [('$', '.'), (('99.1', 'ADP'), ('99.1', 'NUM'))],\n",
       " [('have', 'VERB'), (('difficulty', 'ADP'), ('difficulty', 'NOUN'))],\n",
       " [('*-2', 'X'), (('shoring', 'ADP'), ('shoring', 'VERB'))],\n",
       " [('shoring', 'VERB'), (('up', 'ADV'), ('up', 'PRT'))],\n",
       " [('a', 'DET'), (('put', 'VERB'), ('put', 'NOUN'))],\n",
       " [('an', 'DET'), (('underlying', 'ADJ'), ('underlying', 'VERB'))],\n",
       " [('a', 'DET'), (('certin', 'ADP'), ('certin', 'NOUN'))],\n",
       " [('*', 'X'), (('Legislating', 'ADP'), ('Legislating', 'VERB'))],\n",
       " [('maker', 'NOUN'), (('Claude', 'ADP'), ('Claude', 'NOUN'))],\n",
       " [('of', 'ADP'), (('weird', 'ADP'), ('weird', 'ADJ'))],\n",
       " [('``', '.'), (('Story', 'ADP'), ('Story', 'NOUN'))],\n",
       " [('of', 'ADP'), (('Women', 'ADP'), ('Women', 'NOUN'))],\n",
       " [('could', 'VERB'), (('compel', 'ADP'), ('compel', 'VERB'))],\n",
       " [('small', 'ADJ'), (('video-viewing', 'ADP'), ('video-viewing', 'ADJ'))],\n",
       " [('video-viewing', 'ADJ'), (('parlors', 'ADP'), ('parlors', 'NOUN'))],\n",
       " [('a', 'DET'), (('newsstand', 'ADP'), ('newsstand', 'NOUN'))],\n",
       " [('a', 'DET'), (('freeway', 'ADP'), ('freeway', 'NOUN'))],\n",
       " [('perhaps', 'ADV'), (('inevitable', 'ADP'), ('inevitable', 'ADJ'))],\n",
       " [('The', 'DET'), (('PLO', 'ADP'), ('PLO', 'NOUN'))],\n",
       " [('failed', 'VERB'), (('earlier', 'ADJ'), ('earlier', 'ADV'))],\n",
       " [('World', 'NOUN'), (('Tourism', 'ADP'), ('Tourism', 'NOUN'))],\n",
       " [(',', '.'), (('W.D.', 'ADP'), ('W.D.', 'NOUN'))],\n",
       " [(',', '.'), (('refuses', 'ADP'), ('refuses', 'VERB'))],\n",
       " [('the', 'DET'), (('wound', 'VERB'), ('wound', 'NOUN'))],\n",
       " [('to', 'PRT'), (('mend', 'ADP'), ('mend', 'VERB'))],\n",
       " [('which', 'DET'), (('*T*-244', 'ADP'), ('*T*-244', 'X'))],\n",
       " [('have', 'VERB'), (('deteriorated', 'ADP'), ('deteriorated', 'VERB'))],\n",
       " [('in', 'ADP'), (('Chinese-American', 'ADP'), ('Chinese-American', 'NOUN'))],\n",
       " [('owns', 'VERB'), (('about', 'ADP'), ('about', 'ADV'))],\n",
       " [(',', '.'), (('most', 'ADV'), ('most', 'ADJ'))],\n",
       " [('at', 'ADP'), (('nominal', 'ADP'), ('nominal', 'ADJ'))],\n",
       " [('to', 'PRT'), (('gain', 'NOUN'), ('gain', 'VERB'))],\n",
       " [('sold', 'VERB'), (('*-115', 'ADP'), ('*-115', 'X'))],\n",
       " [('prices', 'NOUN'), (('soaring', 'ADP'), ('soaring', 'VERB'))],\n",
       " [('the', 'DET'), (('reclaimed', 'ADP'), ('reclaimed', 'VERB'))],\n",
       " [(\"'s\", 'PRT'), (('240-page', 'ADP'), ('240-page', 'ADJ'))],\n",
       " [('edged', 'VERB'), (('up', 'ADV'), ('up', 'ADP'))],\n",
       " [('precisely', 'ADV'), (('what', 'PRON'), ('what', 'DET'))],\n",
       " [('S.', 'NOUN'), (('Jenkins', 'ADP'), ('Jenkins', 'NOUN'))],\n",
       " [('to', 'PRT'), (('397', 'ADP'), ('397', 'NUM'))],\n",
       " [('The', 'DET'), (('purchasing', 'NOUN'), ('purchasing', 'VERB'))],\n",
       " [('.', '.'), (('Much', 'ADV'), ('Much', 'ADJ'))],\n",
       " [('``', '.'), (('migrate', 'ADP'), ('migrate', 'VERB'))],\n",
       " [(\"''\", '.'), (('predicts', 'ADP'), ('predicts', 'VERB'))],\n",
       " [('Jack', 'NOUN'), (('Lawless', 'ADP'), ('Lawless', 'NOUN'))],\n",
       " [('of', 'ADP'), (('US', 'ADP'), ('US', 'NOUN'))],\n",
       " [('US', 'NOUN'), (('Sprint', 'ADP'), ('Sprint', 'NOUN'))],\n",
       " [(\"'s\", 'PRT'),\n",
       "  (('school-improvement', 'ADP'), ('school-improvement', 'ADJ'))],\n",
       " [('was', 'VERB'), (('stripped', 'ADP'), ('stripped', 'VERB'))],\n",
       " [('the', 'DET'), (('Noriega', 'ADP'), ('Noriega', 'NOUN'))],\n",
       " [('Noriega', 'NOUN'), (('regime', 'ADP'), ('regime', 'NOUN'))],\n",
       " [('of', 'ADP'), (('30,537', 'ADP'), ('30,537', 'NUM'))],\n",
       " [('a', 'DET'), (('21-month', 'ADP'), ('21-month', 'ADJ'))],\n",
       " [('the', 'DET'), (('crystal-lattice', 'NOUN'), ('crystal-lattice', 'ADJ'))],\n",
       " [('of', 'ADP'), (('current', 'ADJ'), ('current', 'NOUN'))],\n",
       " [('600,000', 'NUM'), (('amps', 'ADP'), ('amps', 'NOUN'))],\n",
       " [('square', 'ADJ'), (('centimeter', 'ADP'), ('centimeter', 'NOUN'))],\n",
       " [('a', 'DET'), (('moderately', 'ADP'), ('moderately', 'ADV'))],\n",
       " [('acquired', 'VERB'), (('850', 'ADP'), ('850', 'NUM'))],\n",
       " [('market', 'NOUN'), (('crises', 'ADP'), ('crises', 'NOUN'))],\n",
       " [('the', 'DET'), (('future', 'ADJ'), ('future', 'NOUN'))],\n",
       " [('to', 'PRT'), (('discussion', 'ADP'), ('discussion', 'NOUN'))],\n",
       " [('had', 'VERB'), (('no', 'DET'), ('no', 'ADV'))],\n",
       " [('a', 'DET'), (('minimal', 'ADP'), ('minimal', 'ADJ'))],\n",
       " [('.', '.'), (('New', 'NOUN'), ('New', 'ADJ'))],\n",
       " [('rules', 'NOUN'), (('force', 'NOUN'), ('force', 'VERB'))],\n",
       " [('write', 'VERB'), (('down', 'ADV'), ('down', 'PRT'))],\n",
       " [('.', '.'), (('J.P.', 'ADP'), ('J.P.', 'NOUN'))],\n",
       " [('J.P.', 'NOUN'), (('Bolduc', 'ADP'), ('Bolduc', 'NOUN'))],\n",
       " [('a', 'DET'), (('83.4', 'ADP'), ('83.4', 'NUM'))],\n",
       " [('this', 'DET'), (('energy-services', 'ADP'), ('energy-services', 'ADJ'))],\n",
       " [('by', 'ADP'), (('about', 'ADP'), ('about', 'ADV'))],\n",
       " [('to', 'PRT'), (('8.75', 'ADP'), ('8.75', 'NUM'))],\n",
       " [('has', 'VERB'), (('shown', 'ADP'), ('shown', 'VERB'))],\n",
       " [('year', 'NOUN'), (('2000', 'ADP'), ('2000', 'NUM'))],\n",
       " [('a', 'DET'), (('post-hearing', 'ADP'), ('post-hearing', 'ADJ'))],\n",
       " [('who', 'PRON'), (('*T*-214', 'ADP'), ('*T*-214', 'X'))],\n",
       " [('be', 'VERB'), (('comfortable', 'ADP'), ('comfortable', 'ADJ'))],\n",
       " [('it', 'PRON'), (('existed', 'ADP'), ('existed', 'VERB'))],\n",
       " [('$', '.'), (('20.5', 'ADP'), ('20.5', 'NUM'))],\n",
       " [('the', 'DET'), (('Palestinian', 'ADJ'), ('Palestinian', 'NOUN'))],\n",
       " [('committee', 'NOUN'), (('first', 'ADJ'), ('first', 'ADV'))],\n",
       " [('in', 'ADP'), (('INS', 'ADP'), ('INS', 'NOUN'))],\n",
       " [('v.', 'CONJ'), (('Chadha', 'ADP'), ('Chadha', 'NOUN'))],\n",
       " [('legislative', 'ADJ'), (('vetoes', 'ADP'), ('vetoes', 'NOUN'))],\n",
       " [(',', '.'), (('Mo', 'ADP'), ('Mo', 'NOUN'))],\n",
       " [('that', 'ADP'), (('rollover', 'ADP'), ('rollover', 'NOUN'))],\n",
       " [('rollover', 'NOUN'), (('crashes', 'ADP'), ('crashes', 'NOUN'))],\n",
       " [('crashes', 'NOUN'), (('account', 'NOUN'), ('account', 'VERB'))],\n",
       " [('leading', 'VERB'), (('Sauternes', 'ADP'), ('Sauternes', 'NOUN'))],\n",
       " [('well', 'ADV'), (('over', 'ADP'), ('over', 'ADV'))],\n",
       " [('a', 'DET'), (('lighter', 'ADP'), ('lighter', 'ADJ'))],\n",
       " [('the', 'DET'), (('spectacularly', 'ADP'), ('spectacularly', 'ADV'))],\n",
       " [('.', '.'), (('Lead', 'ADP'), ('Lead', 'ADJ'))],\n",
       " [('are', 'VERB'), (('Scotia', 'ADP'), ('Scotia', 'NOUN'))],\n",
       " [('Scotia', 'NOUN'), (('McLeod', 'ADP'), ('McLeod', 'NOUN'))],\n",
       " [('and', 'CONJ'), (('RBC', 'ADP'), ('RBC', 'NOUN'))],\n",
       " [('RBC', 'NOUN'), (('Dominion', 'ADP'), ('Dominion', 'NOUN'))],\n",
       " [('*-1', 'X'), (('anticipating', 'ADP'), ('anticipating', 'VERB'))],\n",
       " [('anticipating', 'VERB'), (('that', 'DET'), ('that', 'ADP'))],\n",
       " [('law', 'NOUN'), (('permitting', 'ADP'), ('permitting', 'VERB'))],\n",
       " [('bid', 'VERB'), (('up', 'ADV'), ('up', 'PRT'))],\n",
       " [('specialized', 'VERB'), (('boilers', 'ADP'), ('boilers', 'NOUN'))],\n",
       " [('and', 'CONJ'), (('pipes', 'ADP'), ('pipes', 'NOUN'))],\n",
       " [('own', 'ADJ'), (('Lurgi', 'ADP'), ('Lurgi', 'NOUN'))],\n",
       " [('Lurgi', 'NOUN'), (('G.m.b', 'ADP'), ('G.m.b', 'NOUN'))],\n",
       " [('plant', 'NOUN'), (('engineering', 'NOUN'), ('engineering', 'VERB'))],\n",
       " [('public', 'ADJ'), (('cold', 'NOUN'), ('cold', 'ADJ'))],\n",
       " [('are', 'VERB'), (('*T*-160', 'ADP'), ('*T*-160', 'X'))],\n",
       " [('the', 'DET'), (('future', 'ADJ'), ('future', 'NOUN'))],\n",
       " [('the', 'DET'), (('PhacoFlex', 'ADP'), ('PhacoFlex', 'NOUN'))],\n",
       " [('PhacoFlex', 'NOUN'), (('intraocular', 'ADP'), ('intraocular', 'ADJ'))],\n",
       " [('first', 'ADJ'), (('foldable', 'ADP'), ('foldable', 'ADJ'))],\n",
       " [('foldable', 'ADJ'), (('silicone', 'ADP'), ('silicone', 'NOUN'))],\n",
       " [('two', 'NUM'), (('octogenarians', 'ADP'), ('octogenarians', 'NOUN'))],\n",
       " [('four', 'NUM'), (('youngsters', 'ADP'), ('youngsters', 'NOUN'))],\n",
       " [('who', 'PRON'), (('*T*-222', 'ADP'), ('*T*-222', 'X'))],\n",
       " [('a', 'DET'),\n",
       "  (('sometimes-exhausting', 'ADP'), ('sometimes-exhausting', 'ADJ'))],\n",
       " [('bells', 'NOUN'), (('sounding', 'ADP'), ('sounding', 'VERB'))],\n",
       " [('many', 'ADJ'), (('belfries', 'ADP'), ('belfries', 'NOUN'))],\n",
       " [('East', 'NOUN'), (('Anglia', 'ADP'), ('Anglia', 'NOUN'))],\n",
       " [('``', '.'), (('Survey', 'ADP'), ('Survey', 'NOUN'))],\n",
       " [('Rudolph', 'NOUN'), (('Agnew', 'ADP'), ('Agnew', 'NOUN'))],\n",
       " [('Gold', 'NOUN'), (('Fields', 'ADP'), ('Fields', 'NOUN'))],\n",
       " [('to', 'PRT'), (('waive', 'ADP'), ('waive', 'VERB'))],\n",
       " [('its', 'PRON'), (('protective', 'ADP'), ('protective', 'ADJ'))],\n",
       " [('``', '.'), (('golden', 'ADP'), ('golden', 'ADJ'))],\n",
       " [('``', '.'), (('Funny', 'ADJ'), ('Funny', 'NOUN'))],\n",
       " [('-LRB-', '.'), (('Soho', 'ADP'), ('Soho', 'NOUN'))],\n",
       " [('anything', 'NOUN'), (('but', 'CONJ'), ('but', 'ADV'))],\n",
       " [('and', 'CONJ'), (('Soviet', 'ADJ'), ('Soviet', 'NOUN'))],\n",
       " [('possible', 'ADJ'), (('repayment', 'ADP'), ('repayment', 'NOUN'))],\n",
       " [('in', 'ADP'), (('pre-Communist', 'ADP'), ('pre-Communist', 'ADJ'))],\n",
       " [('pre-Communist', 'ADJ'), (('Russian', 'ADP'), ('Russian', 'ADJ'))],\n",
       " [('coaching', 'NOUN'), (('aids', 'ADP'), ('aids', 'NOUN'))],\n",
       " [('can', 'VERB'), (('defeat', 'ADP'), ('defeat', 'VERB'))],\n",
       " [('which', 'DET'), (('*T*-104', 'ADP'), ('*T*-104', 'X'))],\n",
       " [('gauge', 'VERB'), (('learning', 'ADP'), ('learning', 'NOUN'))],\n",
       " [('more', 'ADV'), (('leery', 'ADP'), ('leery', 'ADJ'))],\n",
       " [('*U*', 'X'), (('gain', 'VERB'), ('gain', 'NOUN'))],\n",
       " [('been', 'VERB'), (('spending', 'NOUN'), ('spending', 'VERB'))],\n",
       " [('their', 'PRON'), (('images', 'ADP'), ('images', 'NOUN'))],\n",
       " [('the', 'DET'), (('most', 'ADJ'), ('most', 'ADV'))],\n",
       " [(\"'s\", 'PRT'), (('perceptions', 'ADP'), ('perceptions', 'NOUN'))],\n",
       " [('be', 'VERB'), (('delisted', 'ADP'), ('delisted', 'VERB'))],\n",
       " [('the', 'DET'), (('close', 'ADJ'), ('close', 'NOUN'))],\n",
       " [('$', '.'), (('23.25', 'ADP'), ('23.25', 'NUM'))],\n",
       " [(',', '.'), (('off', 'ADP'), ('off', 'ADV'))],\n",
       " [('point', 'NOUN'), (('higher', 'ADJ'), ('higher', 'ADV'))],\n",
       " [('moderate', 'ADJ'), (('trading', 'NOUN'), ('trading', 'VERB'))],\n",
       " [('.', '.'), (('IT', 'ADP'), ('IT', 'PRON'))],\n",
       " [('IT', 'PRON'), ((\"'S\", 'ADP'), (\"'S\", 'VERB'))],\n",
       " [('A', 'DET'), (('TWO', 'ADP'), ('TWO', 'NUM'))],\n",
       " [('TWO', 'NUM'), (('BIRDS', 'ADP'), ('BIRDS', 'NOUN'))],\n",
       " [('Group', 'NOUN'), (('architects', 'ADP'), ('architects', 'NOUN'))],\n",
       " [('architects', 'NOUN'), (('propose', 'ADP'), ('propose', 'VERB'))],\n",
       " [('to', 'PRT'), (('house', 'NOUN'), ('house', 'VERB'))],\n",
       " [('house', 'VERB'), (('prisoners', 'ADP'), ('prisoners', 'NOUN'))],\n",
       " [('Italy', 'NOUN'), (('there', 'DET'), ('there', 'ADV'))],\n",
       " [('is', 'VERB'), (('Angelo', 'ADP'), ('Angelo', 'NOUN'))],\n",
       " [('Angelo', 'NOUN'), (('Gaja', 'ADP'), ('Gaja', 'NOUN'))],\n",
       " [('Gaja', 'NOUN'), (('Barbaresco', 'ADP'), ('Barbaresco', 'NOUN'))],\n",
       " [(',', '.'), (('Piero', 'ADP'), ('Piero', 'NOUN'))],\n",
       " [('Piero', 'NOUN'), (('Antinori', 'ADP'), ('Antinori', 'NOUN'))],\n",
       " [('La', 'NOUN'), (('Solaia', 'ADP'), ('Solaia', 'NOUN'))],\n",
       " [('Lorillard', 'NOUN'), (('spokewoman', 'ADP'), ('spokewoman', 'NOUN'))],\n",
       " [('yield', 'VERB'), (('3.43', 'ADP'), ('3.43', 'NUM'))],\n",
       " [('P.', 'NOUN'), (('Tassinari', 'ADP'), ('Tassinari', 'NOUN'))],\n",
       " [('named', 'VERB'), (('*-29', 'ADP'), ('*-29', 'X'))],\n",
       " [('Jones', 'NOUN'), (('Professional', 'ADJ'), ('Professional', 'NOUN'))],\n",
       " [('``', '.'), (('Certainly', 'ADP'), ('Certainly', 'ADV'))],\n",
       " [('those', 'DET'), (('outside', 'ADJ'), ('outside', 'ADP'))],\n",
       " [('who', 'PRON'), (('*T*-159', 'ADP'), ('*T*-159', 'X'))],\n",
       " [('us', 'PRON'), (('prospectively', 'ADP'), ('prospectively', 'ADV'))],\n",
       " [('was', 'VERB'), (('awfully', 'ADP'), ('awfully', 'ADV'))],\n",
       " [('at', 'ADP'), (('Schaefer', 'ADP'), ('Schaefer', 'NOUN'))],\n",
       " [('in', 'ADP'), (('Skokie', 'ADP'), ('Skokie', 'NOUN'))],\n",
       " [('in', 'ADP'), (('suburban', 'ADP'), ('suburban', 'ADJ'))],\n",
       " [('people', 'NOUN'), (('out', 'PRT'), ('out', 'ADP'))],\n",
       " [('out', 'ADP'), (('there', 'DET'), ('there', 'ADV'))],\n",
       " [('different', 'ADJ'), (('opinions', 'ADP'), ('opinions', 'NOUN'))],\n",
       " [('Leo', 'NOUN'), (('Fields', 'ADP'), ('Fields', 'NOUN'))],\n",
       " [('the', 'DET'), (('youngsters', 'ADP'), ('youngsters', 'NOUN'))],\n",
       " [('their', 'PRON'), (('discos', 'ADP'), ('discos', 'NOUN'))],\n",
       " [('their', 'PRON'), (('dances', 'ADP'), ('dances', 'NOUN'))],\n",
       " [('just', 'ADV'), (('drift', 'ADP'), ('drift', 'VERB'))],\n",
       " [('0', 'X'), (('steeper', 'ADP'), ('steeper', 'ADJ'))],\n",
       " [('come', 'VERB'), (('about', 'ADP'), ('about', 'PRT'))],\n",
       " [(\"n't\", 'ADV'), (('like', 'ADP'), ('like', 'VERB'))],\n",
       " [('a', 'DET'), (('hit', 'VERB'), ('hit', 'NOUN'))],\n",
       " [('later', 'ADJ'), (('on', 'ADP'), ('on', 'PRT'))],\n",
       " [('London', 'NOUN'), (('borough', 'ADP'), ('borough', 'NOUN'))],\n",
       " [('Bush', 'NOUN'), (('mode', 'ADP'), ('mode', 'NOUN'))],\n",
       " [(':', '.'), (('kind', 'NOUN'), ('kind', 'ADJ'))],\n",
       " [('and', 'CONJ'), (('gentle', 'ADP'), ('gentle', 'ADJ'))],\n",
       " [('.', '.'), (('Already', 'ADP'), ('Already', 'ADV'))],\n",
       " [('its', 'PRON'), (('liabilities', 'ADP'), ('liabilities', 'NOUN'))],\n",
       " [('.', '.'), (('Four', 'ADP'), ('Four', 'NUM'))],\n",
       " [('recently', 'ADV'), (('diagnosed', 'ADP'), ('diagnosed', 'VERB'))],\n",
       " [('prospective', 'ADJ'), (('acquirers', 'ADP'), ('acquirers', 'NOUN'))],\n",
       " [(\"n't\", 'ADV'), (('noticed', 'ADP'), ('noticed', 'VERB'))],\n",
       " [('*T*-1', 'X'), ((\"'s\", 'PRT'), (\"'s\", 'VERB'))],\n",
       " [(\"'s\", 'VERB'), (('more', 'ADJ'), ('more', 'ADV'))],\n",
       " [('off', 'PRT'), (('down', 'ADV'), ('down', 'ADP'))],\n",
       " [(',', '.'), (('change', 'NOUN'), ('change', 'VERB'))],\n",
       " [('from', 'ADP'), (('borrowers', 'ADP'), ('borrowers', 'NOUN'))],\n",
       " [('to', 'PRT'),\n",
       "  (('savers\\\\/investors', 'ADP'), ('savers\\\\/investors', 'NOUN'))],\n",
       " [('the', 'DET'), (('Civil', 'ADP'), ('Civil', 'NOUN'))],\n",
       " [('have', 'VERB'), (('shared', 'ADP'), ('shared', 'VERB'))],\n",
       " [('such', 'ADJ'), (('lawmaking', 'ADP'), ('lawmaking', 'ADJ'))],\n",
       " [('no', 'DET'), (('discussion', 'ADP'), ('discussion', 'NOUN'))],\n",
       " [('the', 'DET'), (('1990s', 'NUM'), ('1990s', 'NOUN'))],\n",
       " [('into', 'ADP'), (('multinationals', 'ADP'), ('multinationals', 'NOUN'))],\n",
       " [('would', 'VERB'), (('destroy', 'ADP'), ('destroy', 'VERB'))],\n",
       " [('pricing', 'NOUN'), (('efficiency', 'ADP'), ('efficiency', 'NOUN'))],\n",
       " [('are', 'VERB'), (('structured', 'ADP'), ('structured', 'VERB'))],\n",
       " [('new', 'ADJ'), (('penchant', 'ADP'), ('penchant', 'NOUN'))],\n",
       " [('commitments', 'NOUN'), (('that', 'ADP'), ('that', 'DET'))],\n",
       " [('*T*-2', 'X'), (('stretch', 'ADP'), ('stretch', 'VERB'))],\n",
       " [('stretch', 'VERB'), (('out', 'ADP'), ('out', 'PRT'))],\n",
       " [('make', 'VERB'), (('up', 'ADV'), ('up', 'PRT'))],\n",
       " [('the', 'DET'), (('resumption', 'ADP'), ('resumption', 'NOUN'))],\n",
       " [('space', 'NOUN'), (('shuttle', 'ADP'), ('shuttle', 'NOUN'))],\n",
       " [('for', 'ADP'), (('expendable', 'ADP'), ('expendable', 'ADJ'))],\n",
       " [('expendable', 'ADJ'),\n",
       "  (('launch-vehicle', 'ADP'), ('launch-vehicle', 'NOUN'))],\n",
       " [('launch-vehicle', 'NOUN'), (('engines', 'ADP'), ('engines', 'NOUN'))]]"
      ]
     },
     "execution_count": 137,
     "metadata": {},
     "output_type": "execute_result"
    }
   ],
   "source": [
    "#Getting the words in the test set which are incorrectly classified\n",
    "incorrect_tagged_cases = [[test_run_base[i-1],j] for i, j in enumerate(zip(tagged_seq, test_run_base)) if j[0]!=j[1]]\n",
    "incorrect_tagged_cases"
   ]
  },
  {
   "cell_type": "code",
   "execution_count": 138,
   "metadata": {},
   "outputs": [
    {
     "name": "stderr",
     "output_type": "stream",
     "text": [
      "[nltk_data] Downloading package punkt to\n",
      "[nltk_data]     C:\\Users\\akcanup\\AppData\\Roaming\\nltk_data...\n",
      "[nltk_data]   Package punkt is already up-to-date!\n"
     ]
    },
    {
     "data": {
      "text/plain": [
       "True"
      ]
     },
     "execution_count": 138,
     "metadata": {},
     "output_type": "execute_result"
    }
   ],
   "source": [
    "#Importing Libraries\n",
    "import requests\n",
    "nltk.download('punkt')"
   ]
  },
  {
   "cell_type": "code",
   "execution_count": 139,
   "metadata": {},
   "outputs": [
    {
     "data": {
      "text/plain": [
       "[('Android', 'ADP'),\n",
       " ('is', 'VERB'),\n",
       " ('a', 'DET'),\n",
       " ('mobile', 'ADJ'),\n",
       " ('operating', 'NOUN'),\n",
       " ('system', 'NOUN'),\n",
       " ('developed', 'VERB'),\n",
       " ('by', 'ADP'),\n",
       " ('Google', 'ADP'),\n",
       " ('.', '.'),\n",
       " ('Android', 'ADP'),\n",
       " ('has', 'VERB'),\n",
       " ('been', 'VERB'),\n",
       " ('the', 'DET'),\n",
       " ('best-selling', 'ADJ'),\n",
       " ('OS', 'ADP'),\n",
       " ('worldwide', 'ADP'),\n",
       " ('on', 'ADP'),\n",
       " ('smartphones', 'ADP'),\n",
       " ('since', 'ADP'),\n",
       " ('2011', 'ADP'),\n",
       " ('and', 'CONJ'),\n",
       " ('on', 'ADP'),\n",
       " ('tablets', 'NOUN'),\n",
       " ('since', 'ADP'),\n",
       " ('2013', 'ADP'),\n",
       " ('.', '.'),\n",
       " ('Google', 'ADP'),\n",
       " ('and', 'CONJ'),\n",
       " ('Twitter', 'ADP'),\n",
       " ('made', 'VERB'),\n",
       " ('a', 'DET'),\n",
       " ('deal', 'NOUN'),\n",
       " ('in', 'ADP'),\n",
       " ('2015', 'ADP'),\n",
       " ('that', 'DET'),\n",
       " ('gave', 'VERB'),\n",
       " ('Google', 'ADP'),\n",
       " ('access', 'NOUN'),\n",
       " ('to', 'PRT'),\n",
       " ('Twitter', 'ADP'),\n",
       " (\"'s\", 'PRT'),\n",
       " ('firehose', 'ADP'),\n",
       " ('.', '.'),\n",
       " ('Twitter', 'ADP'),\n",
       " ('is', 'VERB'),\n",
       " ('an', 'DET'),\n",
       " ('online', 'ADP'),\n",
       " ('news', 'NOUN'),\n",
       " ('and', 'CONJ'),\n",
       " ('social', 'ADJ'),\n",
       " ('networking', 'NOUN'),\n",
       " ('service', 'NOUN'),\n",
       " ('on', 'ADP'),\n",
       " ('which', 'DET'),\n",
       " ('users', 'NOUN'),\n",
       " ('post', 'NOUN'),\n",
       " ('and', 'CONJ'),\n",
       " ('interact', 'ADP'),\n",
       " ('with', 'ADP'),\n",
       " ('messages', 'ADP'),\n",
       " ('known', 'ADJ'),\n",
       " ('as', 'ADP'),\n",
       " ('tweets', 'ADP'),\n",
       " ('.', '.'),\n",
       " ('Before', 'ADP'),\n",
       " ('entering', 'VERB'),\n",
       " ('politics', 'NOUN'),\n",
       " (',', '.'),\n",
       " ('Donald', 'NOUN'),\n",
       " ('Trump', 'NOUN'),\n",
       " ('was', 'VERB'),\n",
       " ('a', 'DET'),\n",
       " ('domineering', 'ADP'),\n",
       " ('businessman', 'NOUN'),\n",
       " ('and', 'CONJ'),\n",
       " ('a', 'DET'),\n",
       " ('television', 'NOUN'),\n",
       " ('personality', 'ADP'),\n",
       " ('.', '.'),\n",
       " ('The', 'DET'),\n",
       " ('2018', 'ADP'),\n",
       " ('FIFA', 'ADP'),\n",
       " ('World', 'NOUN'),\n",
       " ('Cup', 'ADP'),\n",
       " ('is', 'VERB'),\n",
       " ('the', 'DET'),\n",
       " ('21st', 'ADP'),\n",
       " ('FIFA', 'ADP'),\n",
       " ('World', 'NOUN'),\n",
       " ('Cup', 'ADP'),\n",
       " (',', '.'),\n",
       " ('an', 'DET'),\n",
       " ('international', 'ADJ'),\n",
       " ('football', 'NOUN'),\n",
       " ('tournament', 'ADP'),\n",
       " ('contested', 'ADP'),\n",
       " ('once', 'ADV'),\n",
       " ('every', 'DET'),\n",
       " ('four', 'NUM'),\n",
       " ('years', 'NOUN'),\n",
       " ('.', '.'),\n",
       " ('This', 'DET'),\n",
       " ('is', 'VERB'),\n",
       " ('the', 'DET'),\n",
       " ('first', 'ADJ'),\n",
       " ('World', 'NOUN'),\n",
       " ('Cup', 'ADP'),\n",
       " ('to', 'PRT'),\n",
       " ('be', 'VERB'),\n",
       " ('held', 'VERB'),\n",
       " ('in', 'ADP'),\n",
       " ('Eastern', 'NOUN'),\n",
       " ('Europe', 'NOUN'),\n",
       " ('and', 'CONJ'),\n",
       " ('the', 'DET'),\n",
       " ('11th', 'ADJ'),\n",
       " ('time', 'NOUN'),\n",
       " ('that', 'ADP'),\n",
       " ('it', 'PRON'),\n",
       " ('has', 'VERB'),\n",
       " ('been', 'VERB'),\n",
       " ('held', 'VERB'),\n",
       " ('in', 'ADP'),\n",
       " ('Europe', 'NOUN'),\n",
       " ('.', '.'),\n",
       " ('Show', 'NOUN'),\n",
       " ('me', 'PRON'),\n",
       " ('the', 'DET'),\n",
       " ('cheapest', 'ADP'),\n",
       " ('round', 'NOUN'),\n",
       " ('trips', 'ADP'),\n",
       " ('from', 'ADP'),\n",
       " ('Dallas', 'NOUN'),\n",
       " ('to', 'PRT'),\n",
       " ('Atlanta', 'NOUN'),\n",
       " ('I', 'PRON'),\n",
       " ('would', 'VERB'),\n",
       " ('like', 'ADP'),\n",
       " ('to', 'PRT'),\n",
       " ('see', 'VERB'),\n",
       " ('flights', 'NOUN'),\n",
       " ('from', 'ADP'),\n",
       " ('Denver', 'NOUN'),\n",
       " ('to', 'PRT'),\n",
       " ('Philadelphia', 'NOUN'),\n",
       " ('.', '.'),\n",
       " ('Show', 'NOUN'),\n",
       " ('me', 'PRON'),\n",
       " ('the', 'DET'),\n",
       " ('price', 'NOUN'),\n",
       " ('of', 'ADP'),\n",
       " ('the', 'DET'),\n",
       " ('flights', 'NOUN'),\n",
       " ('leaving', 'VERB'),\n",
       " ('Atlanta', 'NOUN'),\n",
       " ('at', 'ADP'),\n",
       " ('about', 'ADP'),\n",
       " ('3', 'NUM'),\n",
       " ('in', 'ADP'),\n",
       " ('the', 'DET'),\n",
       " ('afternoon', 'NOUN'),\n",
       " ('and', 'CONJ'),\n",
       " ('arriving', 'ADP'),\n",
       " ('in', 'ADP'),\n",
       " ('San', 'NOUN'),\n",
       " ('Francisco', 'NOUN'),\n",
       " ('.', '.'),\n",
       " ('NASA', 'ADP'),\n",
       " ('invited', 'ADP'),\n",
       " ('social', 'ADJ'),\n",
       " ('media', 'NOUN'),\n",
       " ('users', 'NOUN'),\n",
       " ('to', 'PRT'),\n",
       " ('experience', 'NOUN'),\n",
       " ('the', 'DET'),\n",
       " ('launch', 'NOUN'),\n",
       " ('of', 'ADP'),\n",
       " ('ICESAT-2', 'ADP'),\n",
       " ('Satellite', 'ADP'),\n",
       " ('.', '.')]"
      ]
     },
     "execution_count": 139,
     "metadata": {},
     "output_type": "execute_result"
    }
   ],
   "source": [
    "#Getting the predictions on the test sentences\n",
    "sample_pred_list =[]\n",
    "for line in test_lines:\n",
    "    sample_pred_list=sample_pred_list+list(Viterbi(word_tokenize(line)))\n",
    "sample_pred_list"
   ]
  },
  {
   "cell_type": "code",
   "execution_count": 140,
   "metadata": {},
   "outputs": [],
   "source": [
    "#Getting the tokens in the test file\n",
    "sample_words=[tokens for line in test_lines for tokens in word_tokenize(line)]"
   ]
  },
  {
   "cell_type": "code",
   "execution_count": 141,
   "metadata": {},
   "outputs": [
    {
     "data": {
      "text/plain": [
       "['Cup',\n",
       " 'tweets',\n",
       " 'tournament',\n",
       " 'worldwide',\n",
       " 'contested',\n",
       " 'invited',\n",
       " 'interact',\n",
       " 'arriving',\n",
       " '2013',\n",
       " 'domineering',\n",
       " '2011',\n",
       " '21st',\n",
       " '2015',\n",
       " 'firehose',\n",
       " 'online',\n",
       " 'NASA',\n",
       " 'smartphones',\n",
       " 'FIFA',\n",
       " '2018',\n",
       " 'Satellite',\n",
       " 'OS',\n",
       " 'cheapest',\n",
       " 'Android',\n",
       " 'messages',\n",
       " 'Twitter',\n",
       " 'Google',\n",
       " 'ICESAT-2',\n",
       " 'personality',\n",
       " 'trips']"
      ]
     },
     "execution_count": 141,
     "metadata": {},
     "output_type": "execute_result"
    }
   ],
   "source": [
    "#Getting the list of words which are present in test lines but not in the training corpus\n",
    "words_not_in_corpus = list(set(sample_words) - set(tokens))\n",
    "words_not_in_corpus"
   ]
  },
  {
   "cell_type": "code",
   "execution_count": 142,
   "metadata": {},
   "outputs": [
    {
     "data": {
      "text/plain": [
       "[('Android', 'ADP'),\n",
       " ('Google', 'ADP'),\n",
       " ('Android', 'ADP'),\n",
       " ('OS', 'ADP'),\n",
       " ('worldwide', 'ADP'),\n",
       " ('smartphones', 'ADP'),\n",
       " ('2011', 'ADP'),\n",
       " ('2013', 'ADP'),\n",
       " ('Google', 'ADP'),\n",
       " ('Twitter', 'ADP'),\n",
       " ('2015', 'ADP'),\n",
       " ('Google', 'ADP'),\n",
       " ('Twitter', 'ADP'),\n",
       " ('firehose', 'ADP'),\n",
       " ('Twitter', 'ADP'),\n",
       " ('online', 'ADP'),\n",
       " ('interact', 'ADP'),\n",
       " ('messages', 'ADP'),\n",
       " ('tweets', 'ADP'),\n",
       " ('domineering', 'ADP'),\n",
       " ('personality', 'ADP'),\n",
       " ('2018', 'ADP'),\n",
       " ('FIFA', 'ADP'),\n",
       " ('Cup', 'ADP'),\n",
       " ('21st', 'ADP'),\n",
       " ('FIFA', 'ADP'),\n",
       " ('Cup', 'ADP'),\n",
       " ('tournament', 'ADP'),\n",
       " ('contested', 'ADP'),\n",
       " ('Cup', 'ADP'),\n",
       " ('cheapest', 'ADP'),\n",
       " ('trips', 'ADP'),\n",
       " ('arriving', 'ADP'),\n",
       " ('NASA', 'ADP'),\n",
       " ('invited', 'ADP'),\n",
       " ('ICESAT-2', 'ADP'),\n",
       " ('Satellite', 'ADP')]"
      ]
     },
     "execution_count": 142,
     "metadata": {},
     "output_type": "execute_result"
    }
   ],
   "source": [
    "#Getting the tags predicted for unknown words\n",
    "[tup for tup in sample_pred_list for word in words_not_in_corpus if tup[0]==word ]"
   ]
  },
  {
   "cell_type": "code",
   "execution_count": 143,
   "metadata": {},
   "outputs": [
    {
     "data": {
      "text/plain": [
       "Counter({'NOUN': 27391,\n",
       "         'ADV': 3017,\n",
       "         'VERB': 12822,\n",
       "         'ADP': 9346,\n",
       "         'ADJ': 6041,\n",
       "         '.': 11140,\n",
       "         'DET': 8271,\n",
       "         'X': 6298,\n",
       "         'PRT': 3031,\n",
       "         'PRON': 2597,\n",
       "         'CONJ': 2151,\n",
       "         'NUM': 3390})"
      ]
     },
     "execution_count": 143,
     "metadata": {},
     "output_type": "execute_result"
    }
   ],
   "source": [
    "#seeing the count of all tags in the training set\n",
    "from collections import Counter\n",
    "tag_counts = Counter(pair[1] for pair in train_tagged_words)\n",
    "tag_counts"
   ]
  },
  {
   "cell_type": "code",
   "execution_count": 144,
   "metadata": {},
   "outputs": [
    {
     "data": {
      "text/plain": [
       "[('NOUN', 27391), ('VERB', 12822), ('.', 11140), ('ADP', 9346), ('DET', 8271)]"
      ]
     },
     "execution_count": 144,
     "metadata": {},
     "output_type": "execute_result"
    }
   ],
   "source": [
    "#seeing most common tags can in the training corpus\n",
    "tag_counts.most_common(5)"
   ]
  },
  {
   "cell_type": "code",
   "execution_count": 145,
   "metadata": {},
   "outputs": [
    {
     "data": {
      "text/plain": [
       "Counter({'ADP': 388,\n",
       "         'VERB': 17,\n",
       "         'DET': 11,\n",
       "         'PRT': 7,\n",
       "         'ADV': 14,\n",
       "         'ADJ': 25,\n",
       "         'NOUN': 26,\n",
       "         '.': 1,\n",
       "         'NUM': 4,\n",
       "         'PRON': 1,\n",
       "         'CONJ': 1})"
      ]
     },
     "execution_count": 145,
     "metadata": {},
     "output_type": "execute_result"
    }
   ],
   "source": [
    "#seeing the count of incorrectly classfied words for each tag\n",
    "wrong_tag_counts = Counter(pair[1][0][1] for pair in incorrect_tagged_cases)\n",
    "wrong_tag_counts"
   ]
  },
  {
   "cell_type": "code",
   "execution_count": 146,
   "metadata": {},
   "outputs": [
    {
     "name": "stdout",
     "output_type": "stream",
     "text": [
      "0.20620807986273593\n"
     ]
    },
    {
     "data": {
      "text/plain": [
       "[('noted', 'VERB'),\n",
       " ('worried', 'VERB'),\n",
       " ('received', 'VERB'),\n",
       " ('amounted', 'VERB'),\n",
       " ('consented', 'VERB'),\n",
       " ('discovered', 'VERB'),\n",
       " ('bolstered', 'VERB'),\n",
       " ('continued', 'VERB'),\n",
       " ('feed', 'VERB'),\n",
       " ('announced', 'VERB'),\n",
       " ('sweetened', 'VERB'),\n",
       " ('rusted', 'VERB'),\n",
       " ('showed', 'VERB'),\n",
       " ('dropped', 'VERB'),\n",
       " ('need', 'VERB'),\n",
       " ('based', 'VERB'),\n",
       " ('helped', 'VERB'),\n",
       " ('cited', 'VERB'),\n",
       " ('proposed', 'VERB'),\n",
       " ('proposed', 'VERB')]"
      ]
     },
     "execution_count": 146,
     "metadata": {},
     "output_type": "execute_result"
    }
   ],
   "source": [
    "# seeing the percentage of verbs which are classifed as 'verb which end with 'ed'\n",
    "verbs = [pair for pair in train_tagged_words if pair[1]=='VERB']\n",
    "ed_verbs = [pair for pair in verbs if pair[0].endswith('ed')]\n",
    "print(len(ed_verbs) / len(verbs))\n",
    "ed_verbs[:20]"
   ]
  },
  {
   "cell_type": "code",
   "execution_count": 147,
   "metadata": {},
   "outputs": [
    {
     "name": "stdout",
     "output_type": "stream",
     "text": [
      "0.10895336141007643\n"
     ]
    },
    {
     "data": {
      "text/plain": [
       "[('admitting', 'VERB'),\n",
       " ('denying', 'VERB'),\n",
       " ('including', 'VERB'),\n",
       " ('trying', 'VERB'),\n",
       " ('affecting', 'VERB'),\n",
       " ('cutting', 'VERB'),\n",
       " ('suing', 'VERB'),\n",
       " ('falling', 'VERB'),\n",
       " ('exchanging', 'VERB'),\n",
       " ('slowing', 'VERB'),\n",
       " ('signaling', 'VERB'),\n",
       " ('stressing', 'VERB'),\n",
       " ('lying', 'VERB'),\n",
       " ('turning', 'VERB'),\n",
       " ('moving', 'VERB'),\n",
       " ('according', 'VERB'),\n",
       " ('increasing', 'VERB'),\n",
       " ('bring', 'VERB'),\n",
       " ('bring', 'VERB'),\n",
       " ('discontinuing', 'VERB')]"
      ]
     },
     "execution_count": 147,
     "metadata": {},
     "output_type": "execute_result"
    }
   ],
   "source": [
    "# seeing the percentage of verbs which are classifed as 'verb which end with 'ing'\n",
    "verbs = [pair for pair in train_tagged_words if pair[1]=='VERB']\n",
    "ing_verbs = [pair for pair in verbs if pair[0].endswith('ing')]\n",
    "print(len(ing_verbs) / len(verbs))\n",
    "ing_verbs[:20]"
   ]
  },
  {
   "cell_type": "code",
   "execution_count": 148,
   "metadata": {},
   "outputs": [
    {
     "name": "stdout",
     "output_type": "stream",
     "text": [
      "6041\n",
      "4229\n",
      "0.7000496606522099\n"
     ]
    }
   ],
   "source": [
    "#seeing percentage of Adjective tags followed by nouns\n",
    "# create a list of all tags (without the words)\n",
    "tags = [pair[1] for pair in train_tagged_words]\n",
    "\n",
    "# create a list of Adj tags\n",
    "adj_tags = [t for t in tags if t == 'ADJ']\n",
    "\n",
    "# create a list of (ADJ, Noun) tags\n",
    "adj_noun_tags = [(t, tags[index+1]) for index, t in enumerate(tags) \n",
    "              if t=='ADJ' and tags[index+1]=='NOUN']\n",
    "\n",
    "print(len(adj_tags))\n",
    "print(len(adj_noun_tags))\n",
    "print(len(adj_noun_tags) / len(adj_tags))"
   ]
  },
  {
   "cell_type": "code",
   "execution_count": 149,
   "metadata": {},
   "outputs": [
    {
     "name": "stdout",
     "output_type": "stream",
     "text": [
      "8271\n",
      "5285\n",
      "0.6389795671623746\n"
     ]
    }
   ],
   "source": [
    "#seeing the percentage of Determinent tags followed by nouns\n",
    "dt_tags = [t for t in tags if t == 'DET']\n",
    "dt_noun_tags = [(t, tags[index+1]) for index, t in enumerate(tags) \n",
    "              if t=='DET' and tags[index+1]=='NOUN']\n",
    "\n",
    "print(len(dt_tags))\n",
    "print(len(dt_noun_tags))\n",
    "print(len(dt_noun_tags) / len(dt_tags))"
   ]
  },
  {
   "cell_type": "code",
   "execution_count": 150,
   "metadata": {},
   "outputs": [
    {
     "name": "stdout",
     "output_type": "stream",
     "text": [
      "3017\n",
      "1027\n",
      "0.34040437520715944\n"
     ]
    }
   ],
   "source": [
    "#percentage of Adverbs tags followed by Verbs\n",
    "adv_tags = [t for t in tags if t == 'ADV']\n",
    "adv_vb_tags = [(t, tags[index+1]) for index, t in enumerate(tags) \n",
    "              if t=='ADV' and tags[index+1]=='VERB']\n",
    "\n",
    "print(len(adv_tags))\n",
    "print(len(adv_vb_tags))\n",
    "print(len(adv_vb_tags) / len(adv_tags))"
   ]
  },
  {
   "cell_type": "code",
   "execution_count": 151,
   "metadata": {},
   "outputs": [],
   "source": [
    "# specifying patterns for tagging\n",
    "patterns = [\n",
    "    (r'.*ing$', 'VERB'),              # gerund\n",
    "    (r'.*ed$', 'VERB'),               # past tense verbs\n",
    "    (r'.*es$', 'VERB'),               # singular present verbs\n",
    "    (r'.*ould$', 'VERB'),              # modal verbs\n",
    "    (r'.*\\'s$', 'NOUN'),              # possessive nouns\n",
    "    (r'.*s$', 'NOUN'),                # plural nouns\n",
    "    (r'^-?[0-9]+(.[0-9]+)?$', 'NUM'), # cardinal numbers\n",
    "    (r'(The|the|A|a|An|an)$', 'DET'),   # articles or determinants\n",
    "    (r'.*able$', 'ADJ'),                # adjectives\n",
    "    (r'.*ness$', 'NOUN'),                # nouns formed from adjectives\n",
    "    (r'.*ly$', 'ADV'),                  # adverbs\n",
    "    (r'.*', 'NOUN')                    # nouns\n",
    "]"
   ]
  },
  {
   "cell_type": "code",
   "execution_count": 152,
   "metadata": {},
   "outputs": [
    {
     "data": {
      "text/plain": [
       "0.9471144566685968"
      ]
     },
     "execution_count": 152,
     "metadata": {},
     "output_type": "execute_result"
    }
   ],
   "source": [
    "# rule based tagger\n",
    "rule_based_tagger = nltk.RegexpTagger(patterns)\n",
    "\n",
    "# lexicon backed up by the rule-based tagger\n",
    "lexicon_tagger = nltk.UnigramTagger(train_set, backoff=rule_based_tagger)\n",
    "\n",
    "lexicon_tagger.evaluate(test_set)"
   ]
  },
  {
   "cell_type": "markdown",
   "metadata": {},
   "source": [
    "#### Evaluating tagging accuracy"
   ]
  },
  {
   "cell_type": "code",
   "execution_count": 153,
   "metadata": {},
   "outputs": [],
   "source": [
    "#Trigram tagger backed by Bigram backed by Unigram which is backed by rule based tagger\n",
    "t0 = nltk.RegexpTagger(patterns)\n",
    "t1 = nltk.UnigramTagger(train_set, backoff=t0)\n",
    "t2 = nltk.BigramTagger(train_set, backoff=t1)\n",
    "t3 = nltk.TrigramTagger(train_set, backoff=t2)"
   ]
  },
  {
   "cell_type": "code",
   "execution_count": 154,
   "metadata": {},
   "outputs": [],
   "source": [
    "#Importing libraries for brill\n",
    "import nltk.tag\n",
    "from nltk.tag import brill\n",
    "from nltk.tag.brill import *\n",
    "from nltk.tbl.template import Template\n",
    "from nltk.tag import BrillTaggerTrainer\n",
    "\n",
    "#Clear existing templates if any\n",
    "Template._cleartemplates()\n",
    "\n",
    "#Load the fntbl37 template\n",
    "templates = fntbl37()\n",
    " \n",
    "#Train the Brill model\n",
    "trainer = BrillTaggerTrainer(t3, templates)\n",
    "brill_tagger = trainer.train(train_set, max_rules=100, min_score=3)"
   ]
  },
  {
   "cell_type": "code",
   "execution_count": 155,
   "metadata": {},
   "outputs": [],
   "source": [
    "# Viterbi Heuristic\n",
    "def Viterbi_updated(words, train_bag = train_tagged_words):\n",
    "    state = []\n",
    "    T = list(set([pair[1] for pair in train_bag]))\n",
    "    \n",
    "    for key, word in enumerate(words):\n",
    "        #initialise list of probability column for a given observation\n",
    "        p = [] \n",
    "        for tag in T:\n",
    "            if key == 0:\n",
    "                transition_p = tags_df.loc['.', tag]\n",
    "            else:\n",
    "                transition_p = tags_df.loc[state[-1], tag]\n",
    "                \n",
    "            # compute emission and state probabilities\n",
    "            emission_p = word_given_tag(words[key], tag)[0]/word_given_tag(words[key], tag)[1]\n",
    "            state_probability = emission_p * transition_p    \n",
    "            p.append(state_probability)\n",
    "            \n",
    "        pmax = max(p)\n",
    "       \n",
    "        #Check if state probability is zero\n",
    "        if(pmax==0.0):\n",
    "            #If state probability is zero i.e if the word is unknown if updates the tag based on the brill tagger\n",
    "            state_max = brill_tagger.tag([word])[0][1]\n",
    "        else:\n",
    "            # getting state for which probability is maximum\n",
    "            state_max = T[p.index(pmax)] \n",
    "        state.append(state_max)\n",
    "    return list(zip(words, state))"
   ]
  },
  {
   "cell_type": "markdown",
   "metadata": {},
   "source": [
    "### Compare the tagging accuracies of the modifications with the vanilla Viterbi algorithm"
   ]
  },
  {
   "cell_type": "code",
   "execution_count": 156,
   "metadata": {},
   "outputs": [
    {
     "name": "stdout",
     "output_type": "stream",
     "text": [
      "830.9402914047241\n"
     ]
    }
   ],
   "source": [
    "# Tagging the test sentences with the updated Viterbi algorithm\n",
    "start = time.time()\n",
    "updated_tagged_seq = Viterbi_updated(test_tagged_words)\n",
    "end = time.time()\n",
    "difference = end-start\n",
    "#Print total time taken to train the algorithm\n",
    "print(difference)"
   ]
  },
  {
   "cell_type": "code",
   "execution_count": 157,
   "metadata": {},
   "outputs": [
    {
     "data": {
      "text/plain": [
       "0.9498166377147269"
      ]
     },
     "execution_count": 157,
     "metadata": {},
     "output_type": "execute_result"
    }
   ],
   "source": [
    "# Calculating the accuracy for the updated Viterbi algorithm\n",
    "check = [i for i, j in zip(updated_tagged_seq, test_run_base) if i == j] \n",
    "accuracy = len(check)/len(updated_tagged_seq)\n",
    "accuracy"
   ]
  },
  {
   "cell_type": "markdown",
   "metadata": {},
   "source": [
    "### The accuracy has come out to be 95.1%"
   ]
  },
  {
   "cell_type": "markdown",
   "metadata": {},
   "source": [
    "### Listing down cases which were incorrectly tagged by original POS tagger and which got corrected by our modifications"
   ]
  },
  {
   "cell_type": "code",
   "execution_count": 158,
   "metadata": {},
   "outputs": [
    {
     "name": "stdout",
     "output_type": "stream",
     "text": [
      "[('Android', 'ADP'), ('is', 'VERB'), ('a', 'DET'), ('mobile', 'ADJ'), ('operating', 'NOUN'), ('system', 'NOUN'), ('developed', 'VERB'), ('by', 'ADP'), ('Google', 'ADP'), ('.', '.')]\n",
      "[('Android', 'ADP'), ('has', 'VERB'), ('been', 'VERB'), ('the', 'DET'), ('best-selling', 'ADJ'), ('OS', 'ADP'), ('worldwide', 'ADP'), ('on', 'ADP'), ('smartphones', 'ADP'), ('since', 'ADP'), ('2011', 'ADP'), ('and', 'CONJ'), ('on', 'ADP'), ('tablets', 'NOUN'), ('since', 'ADP'), ('2013', 'ADP'), ('.', '.')]\n",
      "[('Google', 'ADP'), ('and', 'CONJ'), ('Twitter', 'ADP'), ('made', 'VERB'), ('a', 'DET'), ('deal', 'NOUN'), ('in', 'ADP'), ('2015', 'ADP'), ('that', 'DET'), ('gave', 'VERB'), ('Google', 'ADP'), ('access', 'NOUN'), ('to', 'PRT'), ('Twitter', 'ADP'), (\"'s\", 'PRT'), ('firehose', 'ADP'), ('.', '.')]\n",
      "[('Twitter', 'ADP'), ('is', 'VERB'), ('an', 'DET'), ('online', 'ADP'), ('news', 'NOUN'), ('and', 'CONJ'), ('social', 'ADJ'), ('networking', 'NOUN'), ('service', 'NOUN'), ('on', 'ADP'), ('which', 'DET'), ('users', 'NOUN'), ('post', 'NOUN'), ('and', 'CONJ'), ('interact', 'ADP'), ('with', 'ADP'), ('messages', 'ADP'), ('known', 'ADJ'), ('as', 'ADP'), ('tweets', 'ADP'), ('.', '.')]\n",
      "[('Before', 'ADP'), ('entering', 'VERB'), ('politics', 'NOUN'), (',', '.'), ('Donald', 'NOUN'), ('Trump', 'NOUN'), ('was', 'VERB'), ('a', 'DET'), ('domineering', 'ADP'), ('businessman', 'NOUN'), ('and', 'CONJ'), ('a', 'DET'), ('television', 'NOUN'), ('personality', 'ADP'), ('.', '.')]\n",
      "[('The', 'DET'), ('2018', 'ADP'), ('FIFA', 'ADP'), ('World', 'NOUN'), ('Cup', 'ADP'), ('is', 'VERB'), ('the', 'DET'), ('21st', 'ADP'), ('FIFA', 'ADP'), ('World', 'NOUN'), ('Cup', 'ADP'), (',', '.'), ('an', 'DET'), ('international', 'ADJ'), ('football', 'NOUN'), ('tournament', 'ADP'), ('contested', 'ADP'), ('once', 'ADV'), ('every', 'DET'), ('four', 'NUM'), ('years', 'NOUN'), ('.', '.')]\n",
      "[('This', 'DET'), ('is', 'VERB'), ('the', 'DET'), ('first', 'ADJ'), ('World', 'NOUN'), ('Cup', 'ADP'), ('to', 'PRT'), ('be', 'VERB'), ('held', 'VERB'), ('in', 'ADP'), ('Eastern', 'NOUN'), ('Europe', 'NOUN'), ('and', 'CONJ'), ('the', 'DET'), ('11th', 'ADJ'), ('time', 'NOUN'), ('that', 'ADP'), ('it', 'PRON'), ('has', 'VERB'), ('been', 'VERB'), ('held', 'VERB'), ('in', 'ADP'), ('Europe', 'NOUN'), ('.', '.')]\n",
      "[('Show', 'NOUN'), ('me', 'PRON'), ('the', 'DET'), ('cheapest', 'ADP'), ('round', 'NOUN'), ('trips', 'ADP'), ('from', 'ADP'), ('Dallas', 'NOUN'), ('to', 'PRT'), ('Atlanta', 'NOUN')]\n",
      "[('I', 'PRON'), ('would', 'VERB'), ('like', 'ADP'), ('to', 'PRT'), ('see', 'VERB'), ('flights', 'NOUN'), ('from', 'ADP'), ('Denver', 'NOUN'), ('to', 'PRT'), ('Philadelphia', 'NOUN'), ('.', '.')]\n",
      "[('Show', 'NOUN'), ('me', 'PRON'), ('the', 'DET'), ('price', 'NOUN'), ('of', 'ADP'), ('the', 'DET'), ('flights', 'NOUN'), ('leaving', 'VERB'), ('Atlanta', 'NOUN'), ('at', 'ADP'), ('about', 'ADP'), ('3', 'NUM'), ('in', 'ADP'), ('the', 'DET'), ('afternoon', 'NOUN'), ('and', 'CONJ'), ('arriving', 'ADP'), ('in', 'ADP'), ('San', 'NOUN'), ('Francisco', 'NOUN'), ('.', '.')]\n",
      "[('NASA', 'ADP'), ('invited', 'ADP'), ('social', 'ADJ'), ('media', 'NOUN'), ('users', 'NOUN'), ('to', 'PRT'), ('experience', 'NOUN'), ('the', 'DET'), ('launch', 'NOUN'), ('of', 'ADP'), ('ICESAT-2', 'ADP'), ('Satellite', 'ADP'), ('.', '.')]\n"
     ]
    }
   ],
   "source": [
    "#Printing the test lines with the initial Viterbi algorithm\n",
    "for line in test_lines:\n",
    "    print(list(Viterbi(word_tokenize(line))))"
   ]
  },
  {
   "cell_type": "code",
   "execution_count": 159,
   "metadata": {},
   "outputs": [
    {
     "name": "stdout",
     "output_type": "stream",
     "text": [
      "[('Android', 'NOUN'), ('is', 'VERB'), ('a', 'DET'), ('mobile', 'ADJ'), ('operating', 'NOUN'), ('system', 'NOUN'), ('developed', 'VERB'), ('by', 'ADP'), ('Google', 'NOUN'), ('.', '.')]\n",
      "[('Android', 'NOUN'), ('has', 'VERB'), ('been', 'VERB'), ('the', 'DET'), ('best-selling', 'ADJ'), ('OS', 'NOUN'), ('worldwide', 'NOUN'), ('on', 'ADP'), ('smartphones', 'VERB'), ('since', 'ADP'), ('2011', 'NUM'), ('and', 'CONJ'), ('on', 'ADP'), ('tablets', 'NOUN'), ('since', 'ADP'), ('2013', 'NUM'), ('.', '.')]\n",
      "[('Google', 'NOUN'), ('and', 'CONJ'), ('Twitter', 'NOUN'), ('made', 'VERB'), ('a', 'DET'), ('deal', 'NOUN'), ('in', 'ADP'), ('2015', 'NUM'), ('that', 'ADP'), ('gave', 'VERB'), ('Google', 'NOUN'), ('access', 'NOUN'), ('to', 'PRT'), ('Twitter', 'NOUN'), (\"'s\", 'PRT'), ('firehose', 'NOUN'), ('.', '.')]\n",
      "[('Twitter', 'NOUN'), ('is', 'VERB'), ('an', 'DET'), ('online', 'NOUN'), ('news', 'NOUN'), ('and', 'CONJ'), ('social', 'ADJ'), ('networking', 'NOUN'), ('service', 'NOUN'), ('on', 'ADP'), ('which', 'DET'), ('users', 'NOUN'), ('post', 'NOUN'), ('and', 'CONJ'), ('interact', 'NOUN'), ('with', 'ADP'), ('messages', 'VERB'), ('known', 'VERB'), ('as', 'ADP'), ('tweets', 'NOUN'), ('.', '.')]\n",
      "[('Before', 'ADP'), ('entering', 'VERB'), ('politics', 'NOUN'), (',', '.'), ('Donald', 'NOUN'), ('Trump', 'NOUN'), ('was', 'VERB'), ('a', 'DET'), ('domineering', 'VERB'), ('businessman', 'NOUN'), ('and', 'CONJ'), ('a', 'DET'), ('television', 'NOUN'), ('personality', 'NOUN'), ('.', '.')]\n",
      "[('The', 'DET'), ('2018', 'NUM'), ('FIFA', 'NOUN'), ('World', 'NOUN'), ('Cup', 'NOUN'), ('is', 'VERB'), ('the', 'DET'), ('21st', 'NOUN'), ('FIFA', 'NOUN'), ('World', 'NOUN'), ('Cup', 'NOUN'), (',', '.'), ('an', 'DET'), ('international', 'ADJ'), ('football', 'NOUN'), ('tournament', 'NOUN'), ('contested', 'VERB'), ('once', 'ADV'), ('every', 'DET'), ('four', 'NUM'), ('years', 'NOUN'), ('.', '.')]\n",
      "[('This', 'DET'), ('is', 'VERB'), ('the', 'DET'), ('first', 'ADJ'), ('World', 'NOUN'), ('Cup', 'NOUN'), ('to', 'PRT'), ('be', 'VERB'), ('held', 'VERB'), ('in', 'ADP'), ('Eastern', 'NOUN'), ('Europe', 'NOUN'), ('and', 'CONJ'), ('the', 'DET'), ('11th', 'ADJ'), ('time', 'NOUN'), ('that', 'ADP'), ('it', 'PRON'), ('has', 'VERB'), ('been', 'VERB'), ('held', 'VERB'), ('in', 'ADP'), ('Europe', 'NOUN'), ('.', '.')]\n",
      "[('Show', 'NOUN'), ('me', 'PRON'), ('the', 'DET'), ('cheapest', 'NOUN'), ('round', 'NOUN'), ('trips', 'NOUN'), ('from', 'ADP'), ('Dallas', 'NOUN'), ('to', 'PRT'), ('Atlanta', 'NOUN')]\n",
      "[('I', 'PRON'), ('would', 'VERB'), ('like', 'ADP'), ('to', 'PRT'), ('see', 'VERB'), ('flights', 'NOUN'), ('from', 'ADP'), ('Denver', 'NOUN'), ('to', 'PRT'), ('Philadelphia', 'NOUN'), ('.', '.')]\n",
      "[('Show', 'NOUN'), ('me', 'PRON'), ('the', 'DET'), ('price', 'NOUN'), ('of', 'ADP'), ('the', 'DET'), ('flights', 'NOUN'), ('leaving', 'VERB'), ('Atlanta', 'NOUN'), ('at', 'ADP'), ('about', 'ADP'), ('3', 'NUM'), ('in', 'ADP'), ('the', 'DET'), ('afternoon', 'NOUN'), ('and', 'CONJ'), ('arriving', 'VERB'), ('in', 'ADP'), ('San', 'NOUN'), ('Francisco', 'NOUN'), ('.', '.')]\n",
      "[('NASA', 'NOUN'), ('invited', 'VERB'), ('social', 'ADJ'), ('media', 'NOUN'), ('users', 'NOUN'), ('to', 'PRT'), ('experience', 'NOUN'), ('the', 'DET'), ('launch', 'NOUN'), ('of', 'ADP'), ('ICESAT-2', 'NOUN'), ('Satellite', 'NOUN'), ('.', '.')]\n"
     ]
    }
   ],
   "source": [
    "#Printing the test lines with the updated Viterbi algorithm\n",
    "for line in test_lines:\n",
    "    print(list(Viterbi_updated(word_tokenize(line))))"
   ]
  },
  {
   "cell_type": "code",
   "execution_count": 160,
   "metadata": {},
   "outputs": [],
   "source": [
    "# Viterbi Heuristic\n",
    "def Viterbi_updated2(words, train_bag = train_tagged_words):\n",
    "    state = []\n",
    "    T = list(set([pair[1] for pair in train_bag]))\n",
    "    \n",
    "    for key, word in enumerate(words):\n",
    "        #initialise list of probability column for a given observation\n",
    "        p = [] \n",
    "        for tag in T:\n",
    "            if key == 0:\n",
    "                transition_p = tags_df.loc['.', tag]\n",
    "            else:\n",
    "                transition_p = tags_df.loc[state[-1], tag]\n",
    "                \n",
    "            # compute emission and state probabilities\n",
    "            emission_p = word_given_tag(words[key], tag)[0]/word_given_tag(words[key], tag)[1]\n",
    "            state_probability = emission_p * transition_p    \n",
    "            p.append(state_probability)\n",
    "            \n",
    "        pmax = max(p)\n",
    "       \n",
    "        #Check if state probability is zero\n",
    "        if(pmax<0.001):\n",
    "            #If state probability is zero i.e if the word is unknown if updates the tag based on the brill tagger\n",
    "            state_max = brill_tagger.tag([word])[0][1]\n",
    "        else:\n",
    "            # getting state for which probability is maximum\n",
    "            state_max = T[p.index(pmax)] \n",
    "        state.append(state_max)\n",
    "    return list(zip(words, state))"
   ]
  },
  {
   "cell_type": "code",
   "execution_count": 161,
   "metadata": {},
   "outputs": [
    {
     "name": "stdout",
     "output_type": "stream",
     "text": [
      "813.2899222373962\n"
     ]
    }
   ],
   "source": [
    "# Tagging the test sentences with the updated Viterbi algorithm\n",
    "start = time.time()\n",
    "updated_tagged_seq = Viterbi_updated2(test_tagged_words)\n",
    "end = time.time()\n",
    "difference = end-start\n",
    "#Print total time taken to train the algorithm\n",
    "print(difference)"
   ]
  },
  {
   "cell_type": "code",
   "execution_count": 162,
   "metadata": {},
   "outputs": [
    {
     "data": {
      "text/plain": [
       "0.9457633661455318"
      ]
     },
     "execution_count": 162,
     "metadata": {},
     "output_type": "execute_result"
    }
   ],
   "source": [
    "# Calculating the accuracy for the updated Viterbi algorithm\n",
    "check = [i for i, j in zip(updated_tagged_seq, test_run_base) if i == j] \n",
    "accuracy = len(check)/len(updated_tagged_seq)\n",
    "accuracy"
   ]
  },
  {
   "cell_type": "markdown",
   "metadata": {},
   "source": [
    "### The accuracy has come out to be 94.6% i.e it's increased"
   ]
  },
  {
   "cell_type": "code",
   "execution_count": null,
   "metadata": {},
   "outputs": [],
   "source": []
  }
 ],
 "metadata": {
  "kernelspec": {
   "display_name": "Python 3",
   "language": "python",
   "name": "python3"
  },
  "language_info": {
   "codemirror_mode": {
    "name": "ipython",
    "version": 3
   },
   "file_extension": ".py",
   "mimetype": "text/x-python",
   "name": "python",
   "nbconvert_exporter": "python",
   "pygments_lexer": "ipython3",
   "version": "3.7.6"
  }
 },
 "nbformat": 4,
 "nbformat_minor": 2
}
