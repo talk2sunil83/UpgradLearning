{
  "nbformat": 4,
  "nbformat_minor": 0,
  "metadata": {
    "colab": {
      "name": "TicTacToe_Agent.ipynb",
      "version": "0.3.2",
      "provenance": [],
      "collapsed_sections": []
    },
    "kernelspec": {
      "display_name": "Python 3",
      "language": "python",
      "name": "python3"
    }
  },
  "cells": [
    {
      "metadata": {
        "id": "rznSDgbvGggG",
        "colab_type": "text"
      },
      "cell_type": "markdown",
      "source": [
        "## Tic-Tac-Toe Agent\n",
        "​\n",
        "In this notebook, you will learn to build an RL agent (using Q-learning) that learns to play Numerical Tic-Tac-Toe with odd numbers. The environment is playing randomly with the agent, i.e. its strategy is to put an even number randomly in an empty cell. The following is the layout of the notebook:\n",
        "        - Defining epsilon-greedy strategy\n",
        "        - Tracking state-action pairs for convergence\n",
        "        - Define hyperparameters for the Q-learning algorithm\n",
        "        - Generating episode and applying Q-update equation\n",
        "        - Checking convergence in Q-values"
      ]
    },
    {
      "metadata": {
        "id": "8eDb8PxBGggH",
        "colab_type": "text"
      },
      "cell_type": "markdown",
      "source": [
        "#### Importing libraries\n",
        "Write the code to import Tic-Tac-Toe class from the environment file"
      ]
    },
    {
      "metadata": {
        "id": "6SFNYceFGggJ",
        "colab_type": "code",
        "colab": {}
      },
      "cell_type": "code",
      "source": [
        "# from <TC_Env> import <TicTacToe> - import your class from environment file\n",
        "import collections\n",
        "import numpy as np\n",
        "import random\n",
        "import pickle\n",
        "import time\n",
        "from matplotlib import pyplot as plt"
      ],
      "execution_count": 0,
      "outputs": []
    },
    {
      "metadata": {
        "id": "wYLQyopEG8nz",
        "colab_type": "code",
        "colab": {}
      },
      "cell_type": "code",
      "source": [
        "# Function to convert state array into a string to store it as keys in the dictionary\n",
        "# states in Q-dictionary will be of form: x-4-5-3-8-x-x-x-x\n",
        "#   x | 4 | 5\n",
        "#   ----------\n",
        "#   3 | 8 | x\n",
        "#   ----------\n",
        "#   x | x | x\n",
        "\n",
        "def Q_state(state):\n",
        "\n",
        "    return ('-'.join(str(e) for e in state)).replace('nan','x')"
      ],
      "execution_count": 0,
      "outputs": []
    },
    {
      "metadata": {
        "id": "ZebMOoiVHBBr",
        "colab_type": "code",
        "colab": {}
      },
      "cell_type": "code",
      "source": [
        "# Defining a function which will return valid (all possible actions) actions corresponding to a state\n",
        "# Important to avoid errors during deployment.\n",
        "\n",
        "def valid_actions(state):\n",
        "\n",
        "    valid_Actions = []\n",
        "    \n",
        "    valid_Actions = [i for i in env.action_space(state)[0]] ###### -------please call your environment as env\n",
        "    return valid_Actions"
      ],
      "execution_count": 0,
      "outputs": []
    },
    {
      "metadata": {
        "id": "IRciPUkYHDWf",
        "colab_type": "code",
        "colab": {}
      },
      "cell_type": "code",
      "source": [
        "# Defining a function which will add new Q-values to the Q-dictionary. \n",
        "def add_to_dict(state):\n",
        "    state1 = Q_state(state)\n",
        "    \n",
        "    valid_act = valid_actions(state)\n",
        "    if state1 not in Q_dict.keys():\n",
        "        for action in valid_act:\n",
        "            Q_dict[state1][action]=0"
      ],
      "execution_count": 0,
      "outputs": []
    },
    {
      "metadata": {
        "id": "fNNi_EfHGggM",
        "colab_type": "text"
      },
      "cell_type": "markdown",
      "source": [
        "#### Epsilon-greedy strategy - Write your code here\n",
        "\n",
        "(you can build your epsilon-decay function similar to the one given at the end of the notebook)"
      ]
    },
    {
      "metadata": {
        "id": "m0lMfqiJGggN",
        "colab_type": "code",
        "colab": {}
      },
      "cell_type": "code",
      "source": [
        "# Defining epsilon-greedy policy. You can choose any function epsilon-decay strategy\n",
        "\n",
        "\n",
        "\n"
      ],
      "execution_count": 0,
      "outputs": []
    },
    {
      "metadata": {
        "id": "H2kyQHOMGggR",
        "colab_type": "text"
      },
      "cell_type": "markdown",
      "source": [
        "#### Tracking the state-action pairs for checking convergence - write your code here"
      ]
    },
    {
      "metadata": {
        "id": "qcxZ29vdGggS",
        "colab_type": "code",
        "colab": {}
      },
      "cell_type": "code",
      "source": [
        "# Initialise Q_dictionary as 'Q_dict' and States_tracked as 'States_track' (for convergence)\n"
      ],
      "execution_count": 0,
      "outputs": []
    },
    {
      "metadata": {
        "id": "vs73iv8fHOxV",
        "colab_type": "code",
        "colab": {}
      },
      "cell_type": "code",
      "source": [
        "# Initialise states to be tracked\n",
        "def initialise_tracking_states():\n",
        "  \n",
        "  \n",
        "  \n",
        "  "
      ],
      "execution_count": 0,
      "outputs": []
    },
    {
      "metadata": {
        "id": "dAbwJDMVHpwl",
        "colab_type": "code",
        "colab": {}
      },
      "cell_type": "code",
      "source": [
        "#Defining a function to save the Q-dictionary as a pickle file\n",
        "\n",
        "def save_obj(obj, name ):\n",
        "    with open(name + '.pkl', 'wb') as f:\n",
        "        pickle.dump(obj, f, pickle.HIGHEST_PROTOCOL)"
      ],
      "execution_count": 0,
      "outputs": []
    },
    {
      "metadata": {
        "id": "6Pyj7nMVHsBi",
        "colab_type": "code",
        "colab": {}
      },
      "cell_type": "code",
      "source": [
        "def save_tracking_states():\n",
        "    for state in States_track.keys():\n",
        "        for action in States_track[state].keys():\n",
        "            if state in Q_dict and action in Q_dict[state]:\n",
        "                States_track[state][action].append(Q_dict[state][action])"
      ],
      "execution_count": 0,
      "outputs": []
    },
    {
      "metadata": {
        "id": "B_8xSluUHvew",
        "colab_type": "code",
        "colab": {}
      },
      "cell_type": "code",
      "source": [
        "initialise_tracking_states()"
      ],
      "execution_count": 0,
      "outputs": []
    },
    {
      "metadata": {
        "id": "-iPt--E9GggV",
        "colab_type": "text"
      },
      "cell_type": "markdown",
      "source": [
        "#### Define hyperparameters  ---write your code here"
      ]
    },
    {
      "metadata": {
        "id": "G0_f5czFGggW",
        "colab_type": "code",
        "colab": {}
      },
      "cell_type": "code",
      "source": [
        ""
      ],
      "execution_count": 0,
      "outputs": []
    },
    {
      "metadata": {
        "id": "Md6twJ7wGggh",
        "colab_type": "text"
      },
      "cell_type": "markdown",
      "source": [
        "### Q-update loop ---write your code here"
      ]
    },
    {
      "metadata": {
        "id": "ldCgQuDNGggj",
        "colab_type": "code",
        "colab": {}
      },
      "cell_type": "code",
      "source": [
        "start_time = time.time()\n",
        "\n",
        "for episode in range(EPISODES):\n",
        "    ##### Start writing your code from the next line\n",
        "    \n",
        "    \n",
        "    \n",
        "    \n",
        "    \n",
        "    \n",
        "    \n",
        "    \n",
        "    \n",
        "    \n",
        "elapsed_time = time.time() - start_time\n",
        "save_obj(States_track,'States_tracked')   \n",
        "save_obj(Q_dict,'Policy')"
      ],
      "execution_count": 0,
      "outputs": []
    },
    {
      "metadata": {
        "id": "hhdWewc4Gggo",
        "colab_type": "code",
        "colab": {}
      },
      "cell_type": "code",
      "source": [
        ""
      ],
      "execution_count": 0,
      "outputs": []
    },
    {
      "metadata": {
        "id": "8LfSgVuHGggu",
        "colab_type": "code",
        "colab": {}
      },
      "cell_type": "code",
      "source": [
        ""
      ],
      "execution_count": 0,
      "outputs": []
    },
    {
      "metadata": {
        "id": "t6eMFbb8Ggg2",
        "colab_type": "text"
      },
      "cell_type": "markdown",
      "source": [
        "#### Check the Q-dictionary"
      ]
    },
    {
      "metadata": {
        "id": "fr9d2fcVGgg4",
        "colab_type": "code",
        "colab": {}
      },
      "cell_type": "code",
      "source": [
        "Q_dict"
      ],
      "execution_count": 0,
      "outputs": []
    },
    {
      "metadata": {
        "id": "F1tnDJWkGgg9",
        "colab_type": "code",
        "colab": {}
      },
      "cell_type": "code",
      "source": [
        "len(Q_dict)"
      ],
      "execution_count": 0,
      "outputs": []
    },
    {
      "metadata": {
        "id": "cFgUqfcQGghB",
        "colab_type": "code",
        "colab": {}
      },
      "cell_type": "code",
      "source": [
        "# try checking for one of the states - that which action your agent thinks is the best  -----This will not be evaluated"
      ],
      "execution_count": 0,
      "outputs": []
    },
    {
      "metadata": {
        "id": "KGPZEQDFGghG",
        "colab_type": "text"
      },
      "cell_type": "markdown",
      "source": [
        "#### Check the states tracked for Q-values convergence\n",
        "(non-evaluative)"
      ]
    },
    {
      "metadata": {
        "id": "9s1Tvz8HGghH",
        "colab_type": "code",
        "colab": {}
      },
      "cell_type": "code",
      "source": [
        "# Write the code for plotting the graphs for state-action pairs tracked"
      ],
      "execution_count": 0,
      "outputs": []
    },
    {
      "metadata": {
        "id": "pVQInsg7GghL",
        "colab_type": "code",
        "colab": {}
      },
      "cell_type": "code",
      "source": [
        ""
      ],
      "execution_count": 0,
      "outputs": []
    },
    {
      "metadata": {
        "id": "b2Opp8_NITkC",
        "colab_type": "text"
      },
      "cell_type": "markdown",
      "source": [
        "### Epsilon - decay check"
      ]
    },
    {
      "metadata": {
        "id": "gQ_D_JsuGghR",
        "colab_type": "code",
        "colab": {}
      },
      "cell_type": "code",
      "source": [
        "max_epsilon = 1.0\n",
        "min_epsilon = 0.001\n",
        "time = np.arange(0,5000000)\n",
        "epsilon = []\n",
        "for i in range(0,5000000):\n",
        "    epsilon.append(min_epsilon + (max_epsilon - min_epsilon) * np.exp(-0.000001*i))"
      ],
      "execution_count": 0,
      "outputs": []
    },
    {
      "metadata": {
        "id": "J7c2xADQGghV",
        "colab_type": "code",
        "outputId": "cb60fce3-570b-45fb-bd83-abde3d13b273",
        "colab": {
          "base_uri": "https://localhost:8080/",
          "height": 347
        }
      },
      "cell_type": "code",
      "source": [
        "plt.plot(time, epsilon)\n",
        "plt.show()"
      ],
      "execution_count": 0,
      "outputs": [
        {
          "output_type": "display_data",
          "data": {
            "image/png": "[encoded data removed]",
            "text/plain": [
              "<Figure size 576x396 with 1 Axes>"
            ]
          },
          "metadata": {
            "tags": []
          }
        }
      ]
    },
    {
      "metadata": {
        "id": "59BRf43IJiQ1",
        "colab_type": "code",
        "colab": {}
      },
      "cell_type": "code",
      "source": [
        ""
      ],
      "execution_count": 0,
      "outputs": []
    }
  ]
}